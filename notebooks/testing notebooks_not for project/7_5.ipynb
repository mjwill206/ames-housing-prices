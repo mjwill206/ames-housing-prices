{
 "cells": [
  {
   "cell_type": "code",
   "execution_count": 1,
   "metadata": {},
   "outputs": [],
   "source": [
    "import numpy as np\n",
    "import pandas as pd\n",
    "import matplotlib.pyplot as plt\n",
    "import seaborn as sns\n",
    "\n",
    "from sklearn.model_selection import train_test_split, cross_val_score\n",
    "from sklearn.linear_model import LinearRegression\n",
    "from sklearn.preprocessing import StandardScaler, PolynomialFeatures\n",
    "from sklearn.metrics import r2_score, mean_squared_error\n",
    "train = pd.read_csv('../datasets/train.csv')\n",
    "test = pd.read_csv('../datasets/test.csv')"
   ]
  },
  {
   "cell_type": "markdown",
   "metadata": {},
   "source": [
    "# 5"
   ]
  },
  {
   "cell_type": "code",
   "execution_count": 2,
   "metadata": {},
   "outputs": [],
   "source": [
    "train['age at sale'] = train['Yr Sold'] - train['Year Built']\n",
    "train = train[train['Garage Area'].notna()]\n",
    "train = train[train['Total Bsmt SF'].notna()]\n",
    "train = train[train['Mas Vnr Area'].notna()]"
   ]
  },
  {
   "cell_type": "code",
   "execution_count": 36,
   "metadata": {},
   "outputs": [],
   "source": [
    "X = train[['1st Flr SF', 'age at sale', 'Gr Liv Area','Full Bath', \n",
    "           'TotRms AbvGrd',\n",
    "          'Garage Area', 'Total Bsmt SF', 'Mas Vnr Area', \n",
    "          'Open Porch SF', 'Wood Deck SF', 'Lot Area']]\n",
    "y = train['SalePrice']\n",
    "\n",
    "X_train, X_test, y_train, y_test = train_test_split(X, y, random_state = 42)\n",
    "\n",
    "ols = LinearRegression()\n",
    "ols.fit(X_train, y_train)\n",
    "\n",
    "def evaluate_model(model, X, y): \n",
    "    \n",
    "    y_train_hat = ols.predict(X)\n",
    "\n",
    "    mse = mean_squared_error(y, y_train_hat)\n",
    "    rmse = mse ** .5\n",
    "    r2 = r2_score(y, y_train_hat)\n",
    "\n",
    "    print(f'R^2: {r2}')\n",
    "    print(f'MSE: {mse}')\n",
    "    print(f'RMSE: {rmse}')"
   ]
  },
  {
   "cell_type": "code",
   "execution_count": 37,
   "metadata": {},
   "outputs": [
    {
     "name": "stdout",
     "output_type": "stream",
     "text": [
      "R^2: 0.7264535329200601\n",
      "MSE: 1697410478.9252114\n",
      "RMSE: 41199.641732971555\n"
     ]
    }
   ],
   "source": [
    "evaluate_model(ols, X_train, y_train)"
   ]
  },
  {
   "cell_type": "code",
   "execution_count": 38,
   "metadata": {},
   "outputs": [
    {
     "name": "stdout",
     "output_type": "stream",
     "text": [
      "R^2: 0.7723387923129732\n",
      "MSE: 1460017125.0868757\n",
      "RMSE: 38210.170440432164\n"
     ]
    }
   ],
   "source": [
    "evaluate_model(ols, X_test, y_test)"
   ]
  },
  {
   "cell_type": "code",
   "execution_count": null,
   "metadata": {},
   "outputs": [],
   "source": []
  },
  {
   "cell_type": "code",
   "execution_count": null,
   "metadata": {},
   "outputs": [],
   "source": [
    "test = test.fillna(0)"
   ]
  },
  {
   "cell_type": "code",
   "execution_count": 2,
   "metadata": {},
   "outputs": [
    {
     "data": {
      "text/plain": [
       "['Id',\n",
       " 'PID',\n",
       " 'MS SubClass',\n",
       " 'MS Zoning',\n",
       " 'Lot Frontage',\n",
       " 'Lot Area',\n",
       " 'Street',\n",
       " 'Alley',\n",
       " 'Lot Shape',\n",
       " 'Land Contour',\n",
       " 'Utilities',\n",
       " 'Lot Config',\n",
       " 'Land Slope',\n",
       " 'Neighborhood',\n",
       " 'Condition 1',\n",
       " 'Condition 2',\n",
       " 'Bldg Type',\n",
       " 'House Style',\n",
       " 'Overall Qual',\n",
       " 'Overall Cond',\n",
       " 'Year Built',\n",
       " 'Year Remod/Add',\n",
       " 'Roof Style',\n",
       " 'Roof Matl',\n",
       " 'Exterior 1st',\n",
       " 'Exterior 2nd',\n",
       " 'Mas Vnr Type',\n",
       " 'Mas Vnr Area',\n",
       " 'Exter Qual',\n",
       " 'Exter Cond',\n",
       " 'Foundation',\n",
       " 'Bsmt Qual',\n",
       " 'Bsmt Cond',\n",
       " 'Bsmt Exposure',\n",
       " 'BsmtFin Type 1',\n",
       " 'BsmtFin SF 1',\n",
       " 'BsmtFin Type 2',\n",
       " 'BsmtFin SF 2',\n",
       " 'Bsmt Unf SF',\n",
       " 'Total Bsmt SF',\n",
       " 'Heating',\n",
       " 'Heating QC',\n",
       " 'Central Air',\n",
       " 'Electrical',\n",
       " '1st Flr SF',\n",
       " '2nd Flr SF',\n",
       " 'Low Qual Fin SF',\n",
       " 'Gr Liv Area',\n",
       " 'Bsmt Full Bath',\n",
       " 'Bsmt Half Bath',\n",
       " 'Full Bath',\n",
       " 'Half Bath',\n",
       " 'Bedroom AbvGr',\n",
       " 'Kitchen AbvGr',\n",
       " 'Kitchen Qual',\n",
       " 'TotRms AbvGrd',\n",
       " 'Functional',\n",
       " 'Fireplaces',\n",
       " 'Fireplace Qu',\n",
       " 'Garage Type',\n",
       " 'Garage Yr Blt',\n",
       " 'Garage Finish',\n",
       " 'Garage Cars',\n",
       " 'Garage Area',\n",
       " 'Garage Qual',\n",
       " 'Garage Cond',\n",
       " 'Paved Drive',\n",
       " 'Wood Deck SF',\n",
       " 'Open Porch SF',\n",
       " 'Enclosed Porch',\n",
       " '3Ssn Porch',\n",
       " 'Screen Porch',\n",
       " 'Pool Area',\n",
       " 'Pool QC',\n",
       " 'Fence',\n",
       " 'Misc Feature',\n",
       " 'Misc Val',\n",
       " 'Mo Sold',\n",
       " 'Yr Sold',\n",
       " 'Sale Type',\n",
       " 'SalePrice']"
      ]
     },
     "execution_count": 2,
     "metadata": {},
     "output_type": "execute_result"
    }
   ],
   "source": [
    "list(train.columns)"
   ]
  },
  {
   "cell_type": "markdown",
   "metadata": {},
   "source": [
    "## 6"
   ]
  },
  {
   "cell_type": "markdown",
   "metadata": {},
   "source": [
    "individual models"
   ]
  },
  {
   "cell_type": "markdown",
   "metadata": {},
   "source": [
    "### MS Subclass"
   ]
  },
  {
   "cell_type": "code",
   "execution_count": 2,
   "metadata": {},
   "outputs": [],
   "source": [
    "train = pd.get_dummies(train, columns = ['MS SubClass'], drop_first = True)"
   ]
  },
  {
   "cell_type": "code",
   "execution_count": 10,
   "metadata": {},
   "outputs": [
    {
     "data": {
      "text/plain": [
       "['Id',\n",
       " 'PID',\n",
       " 'Lot Frontage',\n",
       " 'Lot Area',\n",
       " 'Street',\n",
       " 'Alley',\n",
       " 'Lot Shape',\n",
       " 'Land Contour',\n",
       " 'Utilities',\n",
       " 'Lot Config',\n",
       " 'Land Slope',\n",
       " 'Neighborhood',\n",
       " 'Condition 1',\n",
       " 'Condition 2',\n",
       " 'Bldg Type',\n",
       " 'House Style',\n",
       " 'Overall Qual',\n",
       " 'Overall Cond',\n",
       " 'Year Built',\n",
       " 'Year Remod/Add',\n",
       " 'Roof Style',\n",
       " 'Roof Matl',\n",
       " 'Exterior 1st',\n",
       " 'Exterior 2nd',\n",
       " 'Mas Vnr Type',\n",
       " 'Mas Vnr Area',\n",
       " 'Exter Qual',\n",
       " 'Exter Cond',\n",
       " 'Foundation',\n",
       " 'Bsmt Qual',\n",
       " 'Bsmt Cond',\n",
       " 'Bsmt Exposure',\n",
       " 'BsmtFin Type 1',\n",
       " 'BsmtFin SF 1',\n",
       " 'BsmtFin Type 2',\n",
       " 'BsmtFin SF 2',\n",
       " 'Bsmt Unf SF',\n",
       " 'Total Bsmt SF',\n",
       " 'Heating',\n",
       " 'Heating QC',\n",
       " 'Central Air',\n",
       " 'Electrical',\n",
       " '1st Flr SF',\n",
       " '2nd Flr SF',\n",
       " 'Low Qual Fin SF',\n",
       " 'Gr Liv Area',\n",
       " 'Bsmt Full Bath',\n",
       " 'Bsmt Half Bath',\n",
       " 'Full Bath',\n",
       " 'Half Bath',\n",
       " 'Bedroom AbvGr',\n",
       " 'Kitchen AbvGr',\n",
       " 'Kitchen Qual',\n",
       " 'TotRms AbvGrd',\n",
       " 'Functional',\n",
       " 'Fireplaces',\n",
       " 'Fireplace Qu',\n",
       " 'Garage Type',\n",
       " 'Garage Yr Blt',\n",
       " 'Garage Finish',\n",
       " 'Garage Cars',\n",
       " 'Garage Area',\n",
       " 'Garage Qual',\n",
       " 'Garage Cond',\n",
       " 'Paved Drive',\n",
       " 'Wood Deck SF',\n",
       " 'Open Porch SF',\n",
       " 'Enclosed Porch',\n",
       " '3Ssn Porch',\n",
       " 'Screen Porch',\n",
       " 'Pool Area',\n",
       " 'Pool QC',\n",
       " 'Fence',\n",
       " 'Misc Feature',\n",
       " 'Misc Val',\n",
       " 'Mo Sold',\n",
       " 'Yr Sold',\n",
       " 'Sale Type',\n",
       " 'SalePrice',\n",
       " 'MS Zoning_C (all)',\n",
       " 'MS Zoning_FV',\n",
       " 'MS Zoning_I (all)',\n",
       " 'MS Zoning_RH',\n",
       " 'MS Zoning_RL',\n",
       " 'MS Zoning_RM',\n",
       " 'MS SubClass_30',\n",
       " 'MS SubClass_40',\n",
       " 'MS SubClass_45',\n",
       " 'MS SubClass_50',\n",
       " 'MS SubClass_60',\n",
       " 'MS SubClass_70',\n",
       " 'MS SubClass_75',\n",
       " 'MS SubClass_80',\n",
       " 'MS SubClass_85',\n",
       " 'MS SubClass_90',\n",
       " 'MS SubClass_120',\n",
       " 'MS SubClass_150',\n",
       " 'MS SubClass_160',\n",
       " 'MS SubClass_180',\n",
       " 'MS SubClass_190']"
      ]
     },
     "execution_count": 10,
     "metadata": {},
     "output_type": "execute_result"
    }
   ],
   "source": [
    "list(train.columns)"
   ]
  },
  {
   "cell_type": "code",
   "execution_count": 3,
   "metadata": {},
   "outputs": [],
   "source": [
    "X = train[['MS SubClass_30', 'MS SubClass_40', 'MS SubClass_45',\n",
    "          'MS SubClass_50', 'MS SubClass_60', 'MS SubClass_70',\n",
    "          'MS SubClass_75', 'MS SubClass_80', 'MS SubClass_85', \n",
    "          'MS SubClass_90', 'MS SubClass_120', 'MS SubClass_150',\n",
    "          'MS SubClass_160', 'MS SubClass_180', 'MS SubClass_190']]\n",
    "y = train['SalePrice']\n",
    "\n",
    "X_train, X_test, y_train, y_test = train_test_split(X, y, random_state = 42)\n",
    "\n",
    "ols = LinearRegression()\n",
    "ols.fit(X_train, y_train)\n",
    "\n",
    "def evaluate_model(model, X, y): \n",
    "    \n",
    "    y_train_hat = ols.predict(X)\n",
    "\n",
    "    mse = mean_squared_error(y, y_train_hat)\n",
    "    rmse = mse ** .5\n",
    "    r2 = r2_score(y, y_train_hat)\n",
    "\n",
    "    print(f'R^2: {r2}')\n",
    "    print(f'MSE: {mse}')\n",
    "    print(f'RMSE: {rmse}')"
   ]
  },
  {
   "cell_type": "code",
   "execution_count": 4,
   "metadata": {},
   "outputs": [
    {
     "name": "stdout",
     "output_type": "stream",
     "text": [
      "R^2: 0.24833784625510247\n",
      "MSE: 4753902495.03642\n",
      "RMSE: 68948.54962242802\n"
     ]
    }
   ],
   "source": [
    "evaluate_model(ols, X_train, y_train)"
   ]
  },
  {
   "cell_type": "code",
   "execution_count": 5,
   "metadata": {},
   "outputs": [
    {
     "name": "stdout",
     "output_type": "stream",
     "text": [
      "R^2: 0.2788985579688543\n",
      "MSE: 4427580687.134099\n",
      "RMSE: 66540.06828320886\n"
     ]
    }
   ],
   "source": [
    "evaluate_model(ols, X_test, y_test)"
   ]
  },
  {
   "cell_type": "code",
   "execution_count": 6,
   "metadata": {},
   "outputs": [
    {
     "data": {
      "text/plain": [
       "0.23940077500910872"
      ]
     },
     "execution_count": 6,
     "metadata": {},
     "output_type": "execute_result"
    }
   ],
   "source": [
    "cross_val_score(ols, X_train, y_train).mean()"
   ]
  },
  {
   "cell_type": "code",
   "execution_count": null,
   "metadata": {},
   "outputs": [],
   "source": []
  },
  {
   "cell_type": "markdown",
   "metadata": {},
   "source": [
    "### MS Zoning"
   ]
  },
  {
   "cell_type": "code",
   "execution_count": 2,
   "metadata": {},
   "outputs": [],
   "source": [
    "train = pd.get_dummies(train, columns = ['MS Zoning'], drop_first = True)"
   ]
  },
  {
   "cell_type": "code",
   "execution_count": 3,
   "metadata": {},
   "outputs": [
    {
     "data": {
      "text/plain": [
       "['Id',\n",
       " 'PID',\n",
       " 'MS SubClass',\n",
       " 'Lot Frontage',\n",
       " 'Lot Area',\n",
       " 'Street',\n",
       " 'Alley',\n",
       " 'Lot Shape',\n",
       " 'Land Contour',\n",
       " 'Utilities',\n",
       " 'Lot Config',\n",
       " 'Land Slope',\n",
       " 'Neighborhood',\n",
       " 'Condition 1',\n",
       " 'Condition 2',\n",
       " 'Bldg Type',\n",
       " 'House Style',\n",
       " 'Overall Qual',\n",
       " 'Overall Cond',\n",
       " 'Year Built',\n",
       " 'Year Remod/Add',\n",
       " 'Roof Style',\n",
       " 'Roof Matl',\n",
       " 'Exterior 1st',\n",
       " 'Exterior 2nd',\n",
       " 'Mas Vnr Type',\n",
       " 'Mas Vnr Area',\n",
       " 'Exter Qual',\n",
       " 'Exter Cond',\n",
       " 'Foundation',\n",
       " 'Bsmt Qual',\n",
       " 'Bsmt Cond',\n",
       " 'Bsmt Exposure',\n",
       " 'BsmtFin Type 1',\n",
       " 'BsmtFin SF 1',\n",
       " 'BsmtFin Type 2',\n",
       " 'BsmtFin SF 2',\n",
       " 'Bsmt Unf SF',\n",
       " 'Total Bsmt SF',\n",
       " 'Heating',\n",
       " 'Heating QC',\n",
       " 'Central Air',\n",
       " 'Electrical',\n",
       " '1st Flr SF',\n",
       " '2nd Flr SF',\n",
       " 'Low Qual Fin SF',\n",
       " 'Gr Liv Area',\n",
       " 'Bsmt Full Bath',\n",
       " 'Bsmt Half Bath',\n",
       " 'Full Bath',\n",
       " 'Half Bath',\n",
       " 'Bedroom AbvGr',\n",
       " 'Kitchen AbvGr',\n",
       " 'Kitchen Qual',\n",
       " 'TotRms AbvGrd',\n",
       " 'Functional',\n",
       " 'Fireplaces',\n",
       " 'Fireplace Qu',\n",
       " 'Garage Type',\n",
       " 'Garage Yr Blt',\n",
       " 'Garage Finish',\n",
       " 'Garage Cars',\n",
       " 'Garage Area',\n",
       " 'Garage Qual',\n",
       " 'Garage Cond',\n",
       " 'Paved Drive',\n",
       " 'Wood Deck SF',\n",
       " 'Open Porch SF',\n",
       " 'Enclosed Porch',\n",
       " '3Ssn Porch',\n",
       " 'Screen Porch',\n",
       " 'Pool Area',\n",
       " 'Pool QC',\n",
       " 'Fence',\n",
       " 'Misc Feature',\n",
       " 'Misc Val',\n",
       " 'Mo Sold',\n",
       " 'Yr Sold',\n",
       " 'Sale Type',\n",
       " 'SalePrice',\n",
       " 'MS Zoning_C (all)',\n",
       " 'MS Zoning_FV',\n",
       " 'MS Zoning_I (all)',\n",
       " 'MS Zoning_RH',\n",
       " 'MS Zoning_RL',\n",
       " 'MS Zoning_RM']"
      ]
     },
     "execution_count": 3,
     "metadata": {},
     "output_type": "execute_result"
    }
   ],
   "source": [
    "list(train.columns)"
   ]
  },
  {
   "cell_type": "code",
   "execution_count": 4,
   "metadata": {},
   "outputs": [],
   "source": [
    "X = train[['MS Zoning_C (all)', 'MS Zoning_FV',\n",
    " 'MS Zoning_I (all)',\n",
    " 'MS Zoning_RH',\n",
    " 'MS Zoning_RL',\n",
    " 'MS Zoning_RM']]\n",
    "y = train['SalePrice']\n",
    "\n",
    "X_train, X_test, y_train, y_test = train_test_split(X, y, random_state = 42)\n",
    "\n",
    "ols = LinearRegression()\n",
    "ols.fit(X_train, y_train)\n",
    "\n",
    "def evaluate_model(model, X, y): \n",
    "    \n",
    "    y_train_hat = ols.predict(X)\n",
    "\n",
    "    mse = mean_squared_error(y, y_train_hat)\n",
    "    rmse = mse ** .5\n",
    "    r2 = r2_score(y, y_train_hat)\n",
    "\n",
    "    print(f'R^2: {r2}')\n",
    "    print(f'MSE: {mse}')\n",
    "    print(f'RMSE: {rmse}')"
   ]
  },
  {
   "cell_type": "code",
   "execution_count": 5,
   "metadata": {},
   "outputs": [
    {
     "name": "stdout",
     "output_type": "stream",
     "text": [
      "R^2: 0.10146970607562056\n",
      "MSE: 5682773018.265603\n",
      "RMSE: 75384.16954683259\n"
     ]
    }
   ],
   "source": [
    "evaluate_model(ols, X_train, y_train)"
   ]
  },
  {
   "cell_type": "code",
   "execution_count": 6,
   "metadata": {},
   "outputs": [
    {
     "name": "stdout",
     "output_type": "stream",
     "text": [
      "R^2: 0.13809491718551714\n",
      "MSE: 5292118523.661605\n",
      "RMSE: 72746.94855223554\n"
     ]
    }
   ],
   "source": [
    "evaluate_model(ols, X_test, y_test)"
   ]
  },
  {
   "cell_type": "code",
   "execution_count": 7,
   "metadata": {},
   "outputs": [
    {
     "data": {
      "text/plain": [
       "0.10062094338544662"
      ]
     },
     "execution_count": 7,
     "metadata": {},
     "output_type": "execute_result"
    }
   ],
   "source": [
    "cross_val_score(ols, X_train, y_train).mean()"
   ]
  },
  {
   "cell_type": "code",
   "execution_count": null,
   "metadata": {},
   "outputs": [],
   "source": []
  },
  {
   "cell_type": "markdown",
   "metadata": {},
   "source": [
    "### Lot Frontage"
   ]
  },
  {
   "cell_type": "code",
   "execution_count": 3,
   "metadata": {},
   "outputs": [],
   "source": [
    "train = train[train['Lot Frontage'].notna()]"
   ]
  },
  {
   "cell_type": "code",
   "execution_count": 4,
   "metadata": {},
   "outputs": [],
   "source": [
    "X = train[['Lot Frontage']]\n",
    "y = train['SalePrice']\n",
    "\n",
    "X_train, X_test, y_train, y_test = train_test_split(X, y, random_state = 42)\n",
    "\n",
    "ols = LinearRegression()\n",
    "ols.fit(X_train, y_train)\n",
    "\n",
    "def evaluate_model(model, X, y): \n",
    "    \n",
    "    y_train_hat = ols.predict(X)\n",
    "\n",
    "    mse = mean_squared_error(y, y_train_hat)\n",
    "    rmse = mse ** .5\n",
    "    r2 = r2_score(y, y_train_hat)\n",
    "\n",
    "    print(f'R^2: {r2}')\n",
    "    print(f'MSE: {mse}')\n",
    "    print(f'RMSE: {rmse}')"
   ]
  },
  {
   "cell_type": "code",
   "execution_count": 5,
   "metadata": {},
   "outputs": [
    {
     "name": "stdout",
     "output_type": "stream",
     "text": [
      "R^2: 0.10057986452247158\n",
      "MSE: 6250883337.04236\n",
      "RMSE: 79062.52802081629\n"
     ]
    }
   ],
   "source": [
    "evaluate_model(ols, X_train, y_train)"
   ]
  },
  {
   "cell_type": "code",
   "execution_count": 6,
   "metadata": {},
   "outputs": [
    {
     "name": "stdout",
     "output_type": "stream",
     "text": [
      "R^2: 0.16495876327302406\n",
      "MSE: 5296830300.348216\n",
      "RMSE: 72779.32605038477\n"
     ]
    }
   ],
   "source": [
    "evaluate_model(ols, X_test, y_test)"
   ]
  },
  {
   "cell_type": "code",
   "execution_count": 7,
   "metadata": {},
   "outputs": [
    {
     "data": {
      "text/plain": [
       "0.09415876529128375"
      ]
     },
     "execution_count": 7,
     "metadata": {},
     "output_type": "execute_result"
    }
   ],
   "source": [
    "cross_val_score(ols, X_train, y_train).mean()"
   ]
  },
  {
   "cell_type": "code",
   "execution_count": null,
   "metadata": {},
   "outputs": [],
   "source": []
  },
  {
   "cell_type": "markdown",
   "metadata": {},
   "source": [
    "### Lot Area"
   ]
  },
  {
   "cell_type": "code",
   "execution_count": 2,
   "metadata": {},
   "outputs": [],
   "source": [
    "X = train[['Lot Area']]\n",
    "y = train['SalePrice']\n",
    "\n",
    "X_train, X_test, y_train, y_test = train_test_split(X, y, random_state = 42)\n",
    "\n",
    "ols = LinearRegression()\n",
    "ols.fit(X_train, y_train)\n",
    "\n",
    "def evaluate_model(model, X, y): \n",
    "    \n",
    "    y_train_hat = ols.predict(X)\n",
    "\n",
    "    mse = mean_squared_error(y, y_train_hat)\n",
    "    rmse = mse ** .5\n",
    "    r2 = r2_score(y, y_train_hat)\n",
    "\n",
    "    print(f'R^2: {r2}')\n",
    "    print(f'MSE: {mse}')\n",
    "    print(f'RMSE: {rmse}')"
   ]
  },
  {
   "cell_type": "code",
   "execution_count": 3,
   "metadata": {},
   "outputs": [
    {
     "name": "stdout",
     "output_type": "stream",
     "text": [
      "R^2: 0.11496317195876171\n",
      "MSE: 5597433320.358817\n",
      "RMSE: 74815.99642027644\n"
     ]
    }
   ],
   "source": [
    "evaluate_model(ols, X_train, y_train)"
   ]
  },
  {
   "cell_type": "code",
   "execution_count": 4,
   "metadata": {},
   "outputs": [
    {
     "name": "stdout",
     "output_type": "stream",
     "text": [
      "R^2: -0.060897868609354644\n",
      "MSE: 6513939149.59558\n",
      "RMSE: 80708.97812260778\n"
     ]
    }
   ],
   "source": [
    "evaluate_model(ols, X_test, y_test)"
   ]
  },
  {
   "cell_type": "code",
   "execution_count": 5,
   "metadata": {},
   "outputs": [
    {
     "data": {
      "text/plain": [
       "0.10803472982502119"
      ]
     },
     "execution_count": 5,
     "metadata": {},
     "output_type": "execute_result"
    }
   ],
   "source": [
    "cross_val_score(ols, X_train, y_train).mean()"
   ]
  },
  {
   "cell_type": "code",
   "execution_count": null,
   "metadata": {},
   "outputs": [],
   "source": []
  },
  {
   "cell_type": "markdown",
   "metadata": {},
   "source": [
    "### Street"
   ]
  },
  {
   "cell_type": "code",
   "execution_count": 2,
   "metadata": {},
   "outputs": [],
   "source": [
    "train = pd.get_dummies(train, columns = ['Street'], drop_first = True)"
   ]
  },
  {
   "cell_type": "code",
   "execution_count": 3,
   "metadata": {},
   "outputs": [
    {
     "data": {
      "text/plain": [
       "['Id',\n",
       " 'PID',\n",
       " 'MS SubClass',\n",
       " 'MS Zoning',\n",
       " 'Lot Frontage',\n",
       " 'Lot Area',\n",
       " 'Alley',\n",
       " 'Lot Shape',\n",
       " 'Land Contour',\n",
       " 'Utilities',\n",
       " 'Lot Config',\n",
       " 'Land Slope',\n",
       " 'Neighborhood',\n",
       " 'Condition 1',\n",
       " 'Condition 2',\n",
       " 'Bldg Type',\n",
       " 'House Style',\n",
       " 'Overall Qual',\n",
       " 'Overall Cond',\n",
       " 'Year Built',\n",
       " 'Year Remod/Add',\n",
       " 'Roof Style',\n",
       " 'Roof Matl',\n",
       " 'Exterior 1st',\n",
       " 'Exterior 2nd',\n",
       " 'Mas Vnr Type',\n",
       " 'Mas Vnr Area',\n",
       " 'Exter Qual',\n",
       " 'Exter Cond',\n",
       " 'Foundation',\n",
       " 'Bsmt Qual',\n",
       " 'Bsmt Cond',\n",
       " 'Bsmt Exposure',\n",
       " 'BsmtFin Type 1',\n",
       " 'BsmtFin SF 1',\n",
       " 'BsmtFin Type 2',\n",
       " 'BsmtFin SF 2',\n",
       " 'Bsmt Unf SF',\n",
       " 'Total Bsmt SF',\n",
       " 'Heating',\n",
       " 'Heating QC',\n",
       " 'Central Air',\n",
       " 'Electrical',\n",
       " '1st Flr SF',\n",
       " '2nd Flr SF',\n",
       " 'Low Qual Fin SF',\n",
       " 'Gr Liv Area',\n",
       " 'Bsmt Full Bath',\n",
       " 'Bsmt Half Bath',\n",
       " 'Full Bath',\n",
       " 'Half Bath',\n",
       " 'Bedroom AbvGr',\n",
       " 'Kitchen AbvGr',\n",
       " 'Kitchen Qual',\n",
       " 'TotRms AbvGrd',\n",
       " 'Functional',\n",
       " 'Fireplaces',\n",
       " 'Fireplace Qu',\n",
       " 'Garage Type',\n",
       " 'Garage Yr Blt',\n",
       " 'Garage Finish',\n",
       " 'Garage Cars',\n",
       " 'Garage Area',\n",
       " 'Garage Qual',\n",
       " 'Garage Cond',\n",
       " 'Paved Drive',\n",
       " 'Wood Deck SF',\n",
       " 'Open Porch SF',\n",
       " 'Enclosed Porch',\n",
       " '3Ssn Porch',\n",
       " 'Screen Porch',\n",
       " 'Pool Area',\n",
       " 'Pool QC',\n",
       " 'Fence',\n",
       " 'Misc Feature',\n",
       " 'Misc Val',\n",
       " 'Mo Sold',\n",
       " 'Yr Sold',\n",
       " 'Sale Type',\n",
       " 'SalePrice',\n",
       " 'Street_Pave']"
      ]
     },
     "execution_count": 3,
     "metadata": {},
     "output_type": "execute_result"
    }
   ],
   "source": [
    "list(train.columns)"
   ]
  },
  {
   "cell_type": "code",
   "execution_count": 4,
   "metadata": {},
   "outputs": [],
   "source": [
    "X = train[['Street_Pave']]\n",
    "y = train['SalePrice']\n",
    "\n",
    "X_train, X_test, y_train, y_test = train_test_split(X, y, random_state = 42)\n",
    "\n",
    "ols = LinearRegression()\n",
    "ols.fit(X_train, y_train)\n",
    "\n",
    "def evaluate_model(model, X, y): \n",
    "    \n",
    "    y_train_hat = ols.predict(X)\n",
    "\n",
    "    mse = mean_squared_error(y, y_train_hat)\n",
    "    rmse = mse ** .5\n",
    "    r2 = r2_score(y, y_train_hat)\n",
    "\n",
    "    print(f'R^2: {r2}')\n",
    "    print(f'MSE: {mse}')\n",
    "    print(f'RMSE: {rmse}')"
   ]
  },
  {
   "cell_type": "code",
   "execution_count": 5,
   "metadata": {},
   "outputs": [
    {
     "name": "stdout",
     "output_type": "stream",
     "text": [
      "R^2: 0.003860854314767681\n",
      "MSE: 6300102175.536225\n",
      "RMSE: 79373.18297470642\n"
     ]
    }
   ],
   "source": [
    "evaluate_model(ols, X_train, y_train)"
   ]
  },
  {
   "cell_type": "code",
   "execution_count": 6,
   "metadata": {},
   "outputs": [
    {
     "name": "stdout",
     "output_type": "stream",
     "text": [
      "R^2: 0.007434857759731517\n",
      "MSE: 6094374519.799823\n",
      "RMSE: 78066.47500559906\n"
     ]
    }
   ],
   "source": [
    "evaluate_model(ols, X_test, y_test)"
   ]
  },
  {
   "cell_type": "code",
   "execution_count": 7,
   "metadata": {},
   "outputs": [
    {
     "data": {
      "text/plain": [
       "0.0026289421271116"
      ]
     },
     "execution_count": 7,
     "metadata": {},
     "output_type": "execute_result"
    }
   ],
   "source": [
    "cross_val_score(ols, X_train, y_train).mean()"
   ]
  },
  {
   "cell_type": "code",
   "execution_count": null,
   "metadata": {},
   "outputs": [],
   "source": []
  },
  {
   "cell_type": "markdown",
   "metadata": {},
   "source": [
    "### Lot Shape "
   ]
  },
  {
   "cell_type": "code",
   "execution_count": 2,
   "metadata": {},
   "outputs": [],
   "source": [
    "train = pd.get_dummies(train, columns = ['Lot Shape'], drop_first = True)"
   ]
  },
  {
   "cell_type": "code",
   "execution_count": 3,
   "metadata": {},
   "outputs": [
    {
     "data": {
      "text/plain": [
       "['Id',\n",
       " 'PID',\n",
       " 'MS SubClass',\n",
       " 'MS Zoning',\n",
       " 'Lot Frontage',\n",
       " 'Lot Area',\n",
       " 'Street',\n",
       " 'Alley',\n",
       " 'Land Contour',\n",
       " 'Utilities',\n",
       " 'Lot Config',\n",
       " 'Land Slope',\n",
       " 'Neighborhood',\n",
       " 'Condition 1',\n",
       " 'Condition 2',\n",
       " 'Bldg Type',\n",
       " 'House Style',\n",
       " 'Overall Qual',\n",
       " 'Overall Cond',\n",
       " 'Year Built',\n",
       " 'Year Remod/Add',\n",
       " 'Roof Style',\n",
       " 'Roof Matl',\n",
       " 'Exterior 1st',\n",
       " 'Exterior 2nd',\n",
       " 'Mas Vnr Type',\n",
       " 'Mas Vnr Area',\n",
       " 'Exter Qual',\n",
       " 'Exter Cond',\n",
       " 'Foundation',\n",
       " 'Bsmt Qual',\n",
       " 'Bsmt Cond',\n",
       " 'Bsmt Exposure',\n",
       " 'BsmtFin Type 1',\n",
       " 'BsmtFin SF 1',\n",
       " 'BsmtFin Type 2',\n",
       " 'BsmtFin SF 2',\n",
       " 'Bsmt Unf SF',\n",
       " 'Total Bsmt SF',\n",
       " 'Heating',\n",
       " 'Heating QC',\n",
       " 'Central Air',\n",
       " 'Electrical',\n",
       " '1st Flr SF',\n",
       " '2nd Flr SF',\n",
       " 'Low Qual Fin SF',\n",
       " 'Gr Liv Area',\n",
       " 'Bsmt Full Bath',\n",
       " 'Bsmt Half Bath',\n",
       " 'Full Bath',\n",
       " 'Half Bath',\n",
       " 'Bedroom AbvGr',\n",
       " 'Kitchen AbvGr',\n",
       " 'Kitchen Qual',\n",
       " 'TotRms AbvGrd',\n",
       " 'Functional',\n",
       " 'Fireplaces',\n",
       " 'Fireplace Qu',\n",
       " 'Garage Type',\n",
       " 'Garage Yr Blt',\n",
       " 'Garage Finish',\n",
       " 'Garage Cars',\n",
       " 'Garage Area',\n",
       " 'Garage Qual',\n",
       " 'Garage Cond',\n",
       " 'Paved Drive',\n",
       " 'Wood Deck SF',\n",
       " 'Open Porch SF',\n",
       " 'Enclosed Porch',\n",
       " '3Ssn Porch',\n",
       " 'Screen Porch',\n",
       " 'Pool Area',\n",
       " 'Pool QC',\n",
       " 'Fence',\n",
       " 'Misc Feature',\n",
       " 'Misc Val',\n",
       " 'Mo Sold',\n",
       " 'Yr Sold',\n",
       " 'Sale Type',\n",
       " 'SalePrice',\n",
       " 'Lot Shape_IR2',\n",
       " 'Lot Shape_IR3',\n",
       " 'Lot Shape_Reg']"
      ]
     },
     "execution_count": 3,
     "metadata": {},
     "output_type": "execute_result"
    }
   ],
   "source": [
    "list(train.columns)"
   ]
  },
  {
   "cell_type": "code",
   "execution_count": 5,
   "metadata": {},
   "outputs": [],
   "source": [
    "X = train[['Lot Shape_IR2', 'Lot Shape_IR3', 'Lot Shape_Reg']]\n",
    "y = train['SalePrice']\n",
    "\n",
    "X_train, X_test, y_train, y_test = train_test_split(X, y, random_state = 42)\n",
    "\n",
    "ols = LinearRegression()\n",
    "ols.fit(X_train, y_train)\n",
    "\n",
    "def evaluate_model(model, X, y): \n",
    "    \n",
    "    y_train_hat = ols.predict(X)\n",
    "\n",
    "    mse = mean_squared_error(y, y_train_hat)\n",
    "    rmse = mse ** .5\n",
    "    r2 = r2_score(y, y_train_hat)\n",
    "\n",
    "    print(f'R^2: {r2}')\n",
    "    print(f'MSE: {mse}')\n",
    "    print(f'RMSE: {rmse}')"
   ]
  },
  {
   "cell_type": "code",
   "execution_count": 6,
   "metadata": {},
   "outputs": [
    {
     "name": "stdout",
     "output_type": "stream",
     "text": [
      "R^2: 0.09100137237795325\n",
      "MSE: 5748980206.476789\n",
      "RMSE: 75822.02982297947\n"
     ]
    }
   ],
   "source": [
    "evaluate_model(ols, X_train, y_train)"
   ]
  },
  {
   "cell_type": "code",
   "execution_count": 7,
   "metadata": {},
   "outputs": [
    {
     "name": "stdout",
     "output_type": "stream",
     "text": [
      "R^2: 0.11087574657036836\n",
      "MSE: 5459244904.377171\n",
      "RMSE: 73886.70316354067\n"
     ]
    }
   ],
   "source": [
    "evaluate_model(ols, X_test, y_test)"
   ]
  },
  {
   "cell_type": "code",
   "execution_count": 8,
   "metadata": {},
   "outputs": [
    {
     "data": {
      "text/plain": [
       "0.08171786586964128"
      ]
     },
     "execution_count": 8,
     "metadata": {},
     "output_type": "execute_result"
    }
   ],
   "source": [
    "cross_val_score(ols, X_train, y_train).mean()"
   ]
  },
  {
   "cell_type": "code",
   "execution_count": null,
   "metadata": {},
   "outputs": [],
   "source": []
  },
  {
   "cell_type": "markdown",
   "metadata": {},
   "source": [
    "### Land Contour "
   ]
  },
  {
   "cell_type": "code",
   "execution_count": 1,
   "metadata": {},
   "outputs": [],
   "source": [
    "import numpy as np\n",
    "import pandas as pd\n",
    "import matplotlib.pyplot as plt\n",
    "import seaborn as sns\n",
    "\n",
    "from sklearn.model_selection import train_test_split, cross_val_score\n",
    "from sklearn.linear_model import LinearRegression\n",
    "from sklearn.preprocessing import StandardScaler, PolynomialFeatures\n",
    "from sklearn.metrics import r2_score, mean_squared_error\n",
    "train = pd.read_csv('../datasets/train.csv')\n",
    "test = pd.read_csv('../datasets/test.csv')"
   ]
  },
  {
   "cell_type": "code",
   "execution_count": 2,
   "metadata": {},
   "outputs": [],
   "source": [
    "train = pd.get_dummies(train, columns = ['Land Contour'], drop_first = True)"
   ]
  },
  {
   "cell_type": "code",
   "execution_count": 3,
   "metadata": {},
   "outputs": [
    {
     "data": {
      "text/plain": [
       "['Id',\n",
       " 'PID',\n",
       " 'MS SubClass',\n",
       " 'MS Zoning',\n",
       " 'Lot Frontage',\n",
       " 'Lot Area',\n",
       " 'Street',\n",
       " 'Alley',\n",
       " 'Lot Shape',\n",
       " 'Utilities',\n",
       " 'Lot Config',\n",
       " 'Land Slope',\n",
       " 'Neighborhood',\n",
       " 'Condition 1',\n",
       " 'Condition 2',\n",
       " 'Bldg Type',\n",
       " 'House Style',\n",
       " 'Overall Qual',\n",
       " 'Overall Cond',\n",
       " 'Year Built',\n",
       " 'Year Remod/Add',\n",
       " 'Roof Style',\n",
       " 'Roof Matl',\n",
       " 'Exterior 1st',\n",
       " 'Exterior 2nd',\n",
       " 'Mas Vnr Type',\n",
       " 'Mas Vnr Area',\n",
       " 'Exter Qual',\n",
       " 'Exter Cond',\n",
       " 'Foundation',\n",
       " 'Bsmt Qual',\n",
       " 'Bsmt Cond',\n",
       " 'Bsmt Exposure',\n",
       " 'BsmtFin Type 1',\n",
       " 'BsmtFin SF 1',\n",
       " 'BsmtFin Type 2',\n",
       " 'BsmtFin SF 2',\n",
       " 'Bsmt Unf SF',\n",
       " 'Total Bsmt SF',\n",
       " 'Heating',\n",
       " 'Heating QC',\n",
       " 'Central Air',\n",
       " 'Electrical',\n",
       " '1st Flr SF',\n",
       " '2nd Flr SF',\n",
       " 'Low Qual Fin SF',\n",
       " 'Gr Liv Area',\n",
       " 'Bsmt Full Bath',\n",
       " 'Bsmt Half Bath',\n",
       " 'Full Bath',\n",
       " 'Half Bath',\n",
       " 'Bedroom AbvGr',\n",
       " 'Kitchen AbvGr',\n",
       " 'Kitchen Qual',\n",
       " 'TotRms AbvGrd',\n",
       " 'Functional',\n",
       " 'Fireplaces',\n",
       " 'Fireplace Qu',\n",
       " 'Garage Type',\n",
       " 'Garage Yr Blt',\n",
       " 'Garage Finish',\n",
       " 'Garage Cars',\n",
       " 'Garage Area',\n",
       " 'Garage Qual',\n",
       " 'Garage Cond',\n",
       " 'Paved Drive',\n",
       " 'Wood Deck SF',\n",
       " 'Open Porch SF',\n",
       " 'Enclosed Porch',\n",
       " '3Ssn Porch',\n",
       " 'Screen Porch',\n",
       " 'Pool Area',\n",
       " 'Pool QC',\n",
       " 'Fence',\n",
       " 'Misc Feature',\n",
       " 'Misc Val',\n",
       " 'Mo Sold',\n",
       " 'Yr Sold',\n",
       " 'Sale Type',\n",
       " 'SalePrice',\n",
       " 'Land Contour_HLS',\n",
       " 'Land Contour_Low',\n",
       " 'Land Contour_Lvl']"
      ]
     },
     "execution_count": 3,
     "metadata": {},
     "output_type": "execute_result"
    }
   ],
   "source": [
    "list(train.columns)"
   ]
  },
  {
   "cell_type": "code",
   "execution_count": 4,
   "metadata": {},
   "outputs": [],
   "source": [
    "X = train[['Land Contour_HLS',\n",
    " 'Land Contour_Low',\n",
    " 'Land Contour_Lvl']]\n",
    "y = train['SalePrice']\n",
    "\n",
    "X_train, X_test, y_train, y_test = train_test_split(X, y, random_state = 42)\n",
    "\n",
    "ols = LinearRegression()\n",
    "ols.fit(X_train, y_train)\n",
    "\n",
    "def evaluate_model(model, X, y): \n",
    "    \n",
    "    y_train_hat = ols.predict(X)\n",
    "\n",
    "    mse = mean_squared_error(y, y_train_hat)\n",
    "    rmse = mse ** .5\n",
    "    r2 = r2_score(y, y_train_hat)\n",
    "\n",
    "    print(f'R^2: {r2}')\n",
    "    print(f'MSE: {mse}')\n",
    "    print(f'RMSE: {rmse}')"
   ]
  },
  {
   "cell_type": "code",
   "execution_count": 5,
   "metadata": {},
   "outputs": [
    {
     "name": "stdout",
     "output_type": "stream",
     "text": [
      "R^2: 0.052687764199457754\n",
      "MSE: 5991295396.361171\n",
      "RMSE: 77403.45855555274\n"
     ]
    }
   ],
   "source": [
    "evaluate_model(ols, X_train, y_train)"
   ]
  },
  {
   "cell_type": "code",
   "execution_count": 6,
   "metadata": {},
   "outputs": [
    {
     "name": "stdout",
     "output_type": "stream",
     "text": [
      "R^2: 0.0568303639648976\n",
      "MSE: 5791084890.133877\n",
      "RMSE: 76099.17798592753\n"
     ]
    }
   ],
   "source": [
    "evaluate_model(ols, X_test, y_test)"
   ]
  },
  {
   "cell_type": "code",
   "execution_count": 7,
   "metadata": {},
   "outputs": [
    {
     "data": {
      "text/plain": [
       "0.04767231183336242"
      ]
     },
     "execution_count": 7,
     "metadata": {},
     "output_type": "execute_result"
    }
   ],
   "source": [
    "cross_val_score(ols, X_train, y_train).mean()"
   ]
  },
  {
   "cell_type": "code",
   "execution_count": null,
   "metadata": {},
   "outputs": [],
   "source": []
  },
  {
   "cell_type": "markdown",
   "metadata": {},
   "source": [
    "### Lot Config "
   ]
  },
  {
   "cell_type": "code",
   "execution_count": 1,
   "metadata": {},
   "outputs": [],
   "source": [
    "import numpy as np\n",
    "import pandas as pd\n",
    "import matplotlib.pyplot as plt\n",
    "import seaborn as sns\n",
    "\n",
    "from sklearn.model_selection import train_test_split, cross_val_score\n",
    "from sklearn.linear_model import LinearRegression\n",
    "from sklearn.preprocessing import StandardScaler, PolynomialFeatures\n",
    "from sklearn.metrics import r2_score, mean_squared_error\n",
    "train = pd.read_csv('../datasets/train.csv')\n",
    "test = pd.read_csv('../datasets/test.csv')"
   ]
  },
  {
   "cell_type": "code",
   "execution_count": 2,
   "metadata": {},
   "outputs": [],
   "source": [
    "train = pd.get_dummies(train, columns = ['Lot Config'], drop_first = True)"
   ]
  },
  {
   "cell_type": "code",
   "execution_count": 3,
   "metadata": {},
   "outputs": [
    {
     "data": {
      "text/plain": [
       "['Id',\n",
       " 'PID',\n",
       " 'MS SubClass',\n",
       " 'MS Zoning',\n",
       " 'Lot Frontage',\n",
       " 'Lot Area',\n",
       " 'Street',\n",
       " 'Alley',\n",
       " 'Lot Shape',\n",
       " 'Land Contour',\n",
       " 'Utilities',\n",
       " 'Land Slope',\n",
       " 'Neighborhood',\n",
       " 'Condition 1',\n",
       " 'Condition 2',\n",
       " 'Bldg Type',\n",
       " 'House Style',\n",
       " 'Overall Qual',\n",
       " 'Overall Cond',\n",
       " 'Year Built',\n",
       " 'Year Remod/Add',\n",
       " 'Roof Style',\n",
       " 'Roof Matl',\n",
       " 'Exterior 1st',\n",
       " 'Exterior 2nd',\n",
       " 'Mas Vnr Type',\n",
       " 'Mas Vnr Area',\n",
       " 'Exter Qual',\n",
       " 'Exter Cond',\n",
       " 'Foundation',\n",
       " 'Bsmt Qual',\n",
       " 'Bsmt Cond',\n",
       " 'Bsmt Exposure',\n",
       " 'BsmtFin Type 1',\n",
       " 'BsmtFin SF 1',\n",
       " 'BsmtFin Type 2',\n",
       " 'BsmtFin SF 2',\n",
       " 'Bsmt Unf SF',\n",
       " 'Total Bsmt SF',\n",
       " 'Heating',\n",
       " 'Heating QC',\n",
       " 'Central Air',\n",
       " 'Electrical',\n",
       " '1st Flr SF',\n",
       " '2nd Flr SF',\n",
       " 'Low Qual Fin SF',\n",
       " 'Gr Liv Area',\n",
       " 'Bsmt Full Bath',\n",
       " 'Bsmt Half Bath',\n",
       " 'Full Bath',\n",
       " 'Half Bath',\n",
       " 'Bedroom AbvGr',\n",
       " 'Kitchen AbvGr',\n",
       " 'Kitchen Qual',\n",
       " 'TotRms AbvGrd',\n",
       " 'Functional',\n",
       " 'Fireplaces',\n",
       " 'Fireplace Qu',\n",
       " 'Garage Type',\n",
       " 'Garage Yr Blt',\n",
       " 'Garage Finish',\n",
       " 'Garage Cars',\n",
       " 'Garage Area',\n",
       " 'Garage Qual',\n",
       " 'Garage Cond',\n",
       " 'Paved Drive',\n",
       " 'Wood Deck SF',\n",
       " 'Open Porch SF',\n",
       " 'Enclosed Porch',\n",
       " '3Ssn Porch',\n",
       " 'Screen Porch',\n",
       " 'Pool Area',\n",
       " 'Pool QC',\n",
       " 'Fence',\n",
       " 'Misc Feature',\n",
       " 'Misc Val',\n",
       " 'Mo Sold',\n",
       " 'Yr Sold',\n",
       " 'Sale Type',\n",
       " 'SalePrice',\n",
       " 'Lot Config_CulDSac',\n",
       " 'Lot Config_FR2',\n",
       " 'Lot Config_FR3',\n",
       " 'Lot Config_Inside']"
      ]
     },
     "execution_count": 3,
     "metadata": {},
     "output_type": "execute_result"
    }
   ],
   "source": [
    "list(train.columns)"
   ]
  },
  {
   "cell_type": "code",
   "execution_count": 4,
   "metadata": {},
   "outputs": [],
   "source": [
    "X = train[['Lot Config_CulDSac',\n",
    " 'Lot Config_FR2',\n",
    " 'Lot Config_FR3',\n",
    " 'Lot Config_Inside']]\n",
    "y = train['SalePrice']\n",
    "\n",
    "X_train, X_test, y_train, y_test = train_test_split(X, y, random_state = 42)\n",
    "\n",
    "ols = LinearRegression()\n",
    "ols.fit(X_train, y_train)\n",
    "\n",
    "def evaluate_model(model, X, y): \n",
    "    \n",
    "    y_train_hat = ols.predict(X)\n",
    "\n",
    "    mse = mean_squared_error(y, y_train_hat)\n",
    "    rmse = mse ** .5\n",
    "    r2 = r2_score(y, y_train_hat)\n",
    "\n",
    "    print(f'R^2: {r2}')\n",
    "    print(f'MSE: {mse}')\n",
    "    print(f'RMSE: {rmse}')"
   ]
  },
  {
   "cell_type": "code",
   "execution_count": 5,
   "metadata": {},
   "outputs": [
    {
     "name": "stdout",
     "output_type": "stream",
     "text": [
      "R^2: 0.026135863535955983\n",
      "MSE: 6159223429.165944\n",
      "RMSE: 78480.72011115815\n"
     ]
    }
   ],
   "source": [
    "evaluate_model(ols, X_train, y_train)"
   ]
  },
  {
   "cell_type": "code",
   "execution_count": 6,
   "metadata": {},
   "outputs": [
    {
     "name": "stdout",
     "output_type": "stream",
     "text": [
      "R^2: 0.02653491675020947\n",
      "MSE: 5977099685.24789\n",
      "RMSE: 77311.70471052808\n"
     ]
    }
   ],
   "source": [
    "evaluate_model(ols, X_test, y_test)"
   ]
  },
  {
   "cell_type": "code",
   "execution_count": 7,
   "metadata": {},
   "outputs": [
    {
     "data": {
      "text/plain": [
       "0.016409068449522966"
      ]
     },
     "execution_count": 7,
     "metadata": {},
     "output_type": "execute_result"
    }
   ],
   "source": [
    "cross_val_score(ols, X_train, y_train).mean()"
   ]
  },
  {
   "cell_type": "code",
   "execution_count": null,
   "metadata": {},
   "outputs": [],
   "source": []
  },
  {
   "cell_type": "markdown",
   "metadata": {},
   "source": [
    "### Land Slope"
   ]
  },
  {
   "cell_type": "code",
   "execution_count": 1,
   "metadata": {},
   "outputs": [],
   "source": [
    "import numpy as np\n",
    "import pandas as pd\n",
    "import matplotlib.pyplot as plt\n",
    "import seaborn as sns\n",
    "\n",
    "from sklearn.model_selection import train_test_split, cross_val_score\n",
    "from sklearn.linear_model import LinearRegression\n",
    "from sklearn.preprocessing import StandardScaler, PolynomialFeatures\n",
    "from sklearn.metrics import r2_score, mean_squared_error\n",
    "train = pd.read_csv('../datasets/train.csv')\n",
    "test = pd.read_csv('../datasets/test.csv')"
   ]
  },
  {
   "cell_type": "code",
   "execution_count": 2,
   "metadata": {},
   "outputs": [],
   "source": [
    "train = pd.get_dummies(train, columns = ['Land Slope'], drop_first = True)"
   ]
  },
  {
   "cell_type": "code",
   "execution_count": 3,
   "metadata": {},
   "outputs": [
    {
     "data": {
      "text/plain": [
       "['Id',\n",
       " 'PID',\n",
       " 'MS SubClass',\n",
       " 'MS Zoning',\n",
       " 'Lot Frontage',\n",
       " 'Lot Area',\n",
       " 'Street',\n",
       " 'Alley',\n",
       " 'Lot Shape',\n",
       " 'Land Contour',\n",
       " 'Utilities',\n",
       " 'Lot Config',\n",
       " 'Neighborhood',\n",
       " 'Condition 1',\n",
       " 'Condition 2',\n",
       " 'Bldg Type',\n",
       " 'House Style',\n",
       " 'Overall Qual',\n",
       " 'Overall Cond',\n",
       " 'Year Built',\n",
       " 'Year Remod/Add',\n",
       " 'Roof Style',\n",
       " 'Roof Matl',\n",
       " 'Exterior 1st',\n",
       " 'Exterior 2nd',\n",
       " 'Mas Vnr Type',\n",
       " 'Mas Vnr Area',\n",
       " 'Exter Qual',\n",
       " 'Exter Cond',\n",
       " 'Foundation',\n",
       " 'Bsmt Qual',\n",
       " 'Bsmt Cond',\n",
       " 'Bsmt Exposure',\n",
       " 'BsmtFin Type 1',\n",
       " 'BsmtFin SF 1',\n",
       " 'BsmtFin Type 2',\n",
       " 'BsmtFin SF 2',\n",
       " 'Bsmt Unf SF',\n",
       " 'Total Bsmt SF',\n",
       " 'Heating',\n",
       " 'Heating QC',\n",
       " 'Central Air',\n",
       " 'Electrical',\n",
       " '1st Flr SF',\n",
       " '2nd Flr SF',\n",
       " 'Low Qual Fin SF',\n",
       " 'Gr Liv Area',\n",
       " 'Bsmt Full Bath',\n",
       " 'Bsmt Half Bath',\n",
       " 'Full Bath',\n",
       " 'Half Bath',\n",
       " 'Bedroom AbvGr',\n",
       " 'Kitchen AbvGr',\n",
       " 'Kitchen Qual',\n",
       " 'TotRms AbvGrd',\n",
       " 'Functional',\n",
       " 'Fireplaces',\n",
       " 'Fireplace Qu',\n",
       " 'Garage Type',\n",
       " 'Garage Yr Blt',\n",
       " 'Garage Finish',\n",
       " 'Garage Cars',\n",
       " 'Garage Area',\n",
       " 'Garage Qual',\n",
       " 'Garage Cond',\n",
       " 'Paved Drive',\n",
       " 'Wood Deck SF',\n",
       " 'Open Porch SF',\n",
       " 'Enclosed Porch',\n",
       " '3Ssn Porch',\n",
       " 'Screen Porch',\n",
       " 'Pool Area',\n",
       " 'Pool QC',\n",
       " 'Fence',\n",
       " 'Misc Feature',\n",
       " 'Misc Val',\n",
       " 'Mo Sold',\n",
       " 'Yr Sold',\n",
       " 'Sale Type',\n",
       " 'SalePrice',\n",
       " 'Land Slope_Mod',\n",
       " 'Land Slope_Sev']"
      ]
     },
     "execution_count": 3,
     "metadata": {},
     "output_type": "execute_result"
    }
   ],
   "source": [
    "list(train.columns)"
   ]
  },
  {
   "cell_type": "code",
   "execution_count": 4,
   "metadata": {},
   "outputs": [],
   "source": [
    "X = train[['Land Slope_Mod',\n",
    " 'Land Slope_Sev']]\n",
    "y = train['SalePrice']\n",
    "\n",
    "X_train, X_test, y_train, y_test = train_test_split(X, y, random_state = 42)\n",
    "\n",
    "ols = LinearRegression()\n",
    "ols.fit(X_train, y_train)\n",
    "\n",
    "def evaluate_model(model, X, y): \n",
    "    \n",
    "    y_train_hat = ols.predict(X)\n",
    "\n",
    "    mse = mean_squared_error(y, y_train_hat)\n",
    "    rmse = mse ** .5\n",
    "    r2 = r2_score(y, y_train_hat)\n",
    "\n",
    "    print(f'R^2: {r2}')\n",
    "    print(f'MSE: {mse}')\n",
    "    print(f'RMSE: {rmse}')"
   ]
  },
  {
   "cell_type": "code",
   "execution_count": 5,
   "metadata": {},
   "outputs": [
    {
     "name": "stdout",
     "output_type": "stream",
     "text": [
      "R^2: 0.005131528314945788\n",
      "MSE: 6292065772.120503\n",
      "RMSE: 79322.54264785329\n"
     ]
    }
   ],
   "source": [
    "evaluate_model(ols, X_train, y_train)"
   ]
  },
  {
   "cell_type": "code",
   "execution_count": 6,
   "metadata": {},
   "outputs": [
    {
     "name": "stdout",
     "output_type": "stream",
     "text": [
      "R^2: -0.0010580308592600396\n",
      "MSE: 6146521065.952207\n",
      "RMSE: 78399.75169573056\n"
     ]
    }
   ],
   "source": [
    "evaluate_model(ols, X_test, y_test)"
   ]
  },
  {
   "cell_type": "code",
   "execution_count": 7,
   "metadata": {},
   "outputs": [
    {
     "data": {
      "text/plain": [
       "-4.369618975592626e-05"
      ]
     },
     "execution_count": 7,
     "metadata": {},
     "output_type": "execute_result"
    }
   ],
   "source": [
    "cross_val_score(ols, X_train, y_train).mean()"
   ]
  },
  {
   "cell_type": "code",
   "execution_count": null,
   "metadata": {},
   "outputs": [],
   "source": []
  },
  {
   "cell_type": "markdown",
   "metadata": {},
   "source": [
    "### Neighborhood"
   ]
  },
  {
   "cell_type": "code",
   "execution_count": 8,
   "metadata": {},
   "outputs": [],
   "source": [
    "import numpy as np\n",
    "import pandas as pd\n",
    "import matplotlib.pyplot as plt\n",
    "import seaborn as sns\n",
    "\n",
    "from sklearn.model_selection import train_test_split, cross_val_score\n",
    "from sklearn.linear_model import LinearRegression\n",
    "from sklearn.preprocessing import StandardScaler, PolynomialFeatures\n",
    "from sklearn.metrics import r2_score, mean_squared_error\n",
    "train = pd.read_csv('../datasets/train.csv')\n",
    "test = pd.read_csv('../datasets/test.csv')"
   ]
  },
  {
   "cell_type": "code",
   "execution_count": 9,
   "metadata": {},
   "outputs": [],
   "source": [
    "train = pd.get_dummies(train, columns = ['Neighborhood'], drop_first = True)"
   ]
  },
  {
   "cell_type": "code",
   "execution_count": 10,
   "metadata": {},
   "outputs": [
    {
     "data": {
      "text/plain": [
       "['Id',\n",
       " 'PID',\n",
       " 'MS SubClass',\n",
       " 'MS Zoning',\n",
       " 'Lot Frontage',\n",
       " 'Lot Area',\n",
       " 'Street',\n",
       " 'Alley',\n",
       " 'Lot Shape',\n",
       " 'Land Contour',\n",
       " 'Utilities',\n",
       " 'Lot Config',\n",
       " 'Land Slope',\n",
       " 'Condition 1',\n",
       " 'Condition 2',\n",
       " 'Bldg Type',\n",
       " 'House Style',\n",
       " 'Overall Qual',\n",
       " 'Overall Cond',\n",
       " 'Year Built',\n",
       " 'Year Remod/Add',\n",
       " 'Roof Style',\n",
       " 'Roof Matl',\n",
       " 'Exterior 1st',\n",
       " 'Exterior 2nd',\n",
       " 'Mas Vnr Type',\n",
       " 'Mas Vnr Area',\n",
       " 'Exter Qual',\n",
       " 'Exter Cond',\n",
       " 'Foundation',\n",
       " 'Bsmt Qual',\n",
       " 'Bsmt Cond',\n",
       " 'Bsmt Exposure',\n",
       " 'BsmtFin Type 1',\n",
       " 'BsmtFin SF 1',\n",
       " 'BsmtFin Type 2',\n",
       " 'BsmtFin SF 2',\n",
       " 'Bsmt Unf SF',\n",
       " 'Total Bsmt SF',\n",
       " 'Heating',\n",
       " 'Heating QC',\n",
       " 'Central Air',\n",
       " 'Electrical',\n",
       " '1st Flr SF',\n",
       " '2nd Flr SF',\n",
       " 'Low Qual Fin SF',\n",
       " 'Gr Liv Area',\n",
       " 'Bsmt Full Bath',\n",
       " 'Bsmt Half Bath',\n",
       " 'Full Bath',\n",
       " 'Half Bath',\n",
       " 'Bedroom AbvGr',\n",
       " 'Kitchen AbvGr',\n",
       " 'Kitchen Qual',\n",
       " 'TotRms AbvGrd',\n",
       " 'Functional',\n",
       " 'Fireplaces',\n",
       " 'Fireplace Qu',\n",
       " 'Garage Type',\n",
       " 'Garage Yr Blt',\n",
       " 'Garage Finish',\n",
       " 'Garage Cars',\n",
       " 'Garage Area',\n",
       " 'Garage Qual',\n",
       " 'Garage Cond',\n",
       " 'Paved Drive',\n",
       " 'Wood Deck SF',\n",
       " 'Open Porch SF',\n",
       " 'Enclosed Porch',\n",
       " '3Ssn Porch',\n",
       " 'Screen Porch',\n",
       " 'Pool Area',\n",
       " 'Pool QC',\n",
       " 'Fence',\n",
       " 'Misc Feature',\n",
       " 'Misc Val',\n",
       " 'Mo Sold',\n",
       " 'Yr Sold',\n",
       " 'Sale Type',\n",
       " 'SalePrice',\n",
       " 'Neighborhood_Blueste',\n",
       " 'Neighborhood_BrDale',\n",
       " 'Neighborhood_BrkSide',\n",
       " 'Neighborhood_ClearCr',\n",
       " 'Neighborhood_CollgCr',\n",
       " 'Neighborhood_Crawfor',\n",
       " 'Neighborhood_Edwards',\n",
       " 'Neighborhood_Gilbert',\n",
       " 'Neighborhood_Greens',\n",
       " 'Neighborhood_GrnHill',\n",
       " 'Neighborhood_IDOTRR',\n",
       " 'Neighborhood_Landmrk',\n",
       " 'Neighborhood_MeadowV',\n",
       " 'Neighborhood_Mitchel',\n",
       " 'Neighborhood_NAmes',\n",
       " 'Neighborhood_NPkVill',\n",
       " 'Neighborhood_NWAmes',\n",
       " 'Neighborhood_NoRidge',\n",
       " 'Neighborhood_NridgHt',\n",
       " 'Neighborhood_OldTown',\n",
       " 'Neighborhood_SWISU',\n",
       " 'Neighborhood_Sawyer',\n",
       " 'Neighborhood_SawyerW',\n",
       " 'Neighborhood_Somerst',\n",
       " 'Neighborhood_StoneBr',\n",
       " 'Neighborhood_Timber',\n",
       " 'Neighborhood_Veenker']"
      ]
     },
     "execution_count": 10,
     "metadata": {},
     "output_type": "execute_result"
    }
   ],
   "source": [
    "list(train.columns)"
   ]
  },
  {
   "cell_type": "code",
   "execution_count": 11,
   "metadata": {},
   "outputs": [],
   "source": [
    "X = train[['Neighborhood_Blueste',\n",
    " 'Neighborhood_BrDale',\n",
    " 'Neighborhood_BrkSide',\n",
    " 'Neighborhood_ClearCr',\n",
    " 'Neighborhood_CollgCr',\n",
    " 'Neighborhood_Crawfor',\n",
    " 'Neighborhood_Edwards',\n",
    " 'Neighborhood_Gilbert',\n",
    " 'Neighborhood_Greens',\n",
    " 'Neighborhood_GrnHill',\n",
    " 'Neighborhood_IDOTRR',\n",
    " 'Neighborhood_Landmrk',\n",
    " 'Neighborhood_MeadowV',\n",
    " 'Neighborhood_Mitchel',\n",
    " 'Neighborhood_NAmes',\n",
    " 'Neighborhood_NPkVill',\n",
    " 'Neighborhood_NWAmes',\n",
    " 'Neighborhood_NoRidge',\n",
    " 'Neighborhood_NridgHt',\n",
    " 'Neighborhood_OldTown',\n",
    " 'Neighborhood_SWISU',\n",
    " 'Neighborhood_Sawyer',\n",
    " 'Neighborhood_SawyerW',\n",
    " 'Neighborhood_Somerst',\n",
    " 'Neighborhood_StoneBr',\n",
    " 'Neighborhood_Timber',\n",
    " 'Neighborhood_Veenker']]\n",
    "y = train['SalePrice']\n",
    "\n",
    "X_train, X_test, y_train, y_test = train_test_split(X, y, random_state = 42)\n",
    "\n",
    "ols = LinearRegression()\n",
    "ols.fit(X_train, y_train)\n",
    "\n",
    "def evaluate_model(model, X, y): \n",
    "    \n",
    "    y_train_hat = ols.predict(X)\n",
    "\n",
    "    mse = mean_squared_error(y, y_train_hat)\n",
    "    rmse = mse ** .5\n",
    "    r2 = r2_score(y, y_train_hat)\n",
    "\n",
    "    print(f'R^2: {r2}')\n",
    "    print(f'MSE: {mse}')\n",
    "    print(f'RMSE: {rmse}')"
   ]
  },
  {
   "cell_type": "code",
   "execution_count": 12,
   "metadata": {},
   "outputs": [
    {
     "name": "stdout",
     "output_type": "stream",
     "text": [
      "R^2: 0.5886474831375528\n",
      "MSE: 2601607313.2179747\n",
      "RMSE: 51005.953703641055\n"
     ]
    }
   ],
   "source": [
    "evaluate_model(ols, X_train, y_train)"
   ]
  },
  {
   "cell_type": "code",
   "execution_count": 13,
   "metadata": {},
   "outputs": [
    {
     "name": "stdout",
     "output_type": "stream",
     "text": [
      "R^2: 0.5397237045383865\n",
      "MSE: 2826107836.9102025\n",
      "RMSE: 53161.149695150525\n"
     ]
    }
   ],
   "source": [
    "evaluate_model(ols, X_test, y_test)"
   ]
  },
  {
   "cell_type": "code",
   "execution_count": 14,
   "metadata": {},
   "outputs": [
    {
     "data": {
      "text/plain": [
       "0.5687165712301557"
      ]
     },
     "execution_count": 14,
     "metadata": {},
     "output_type": "execute_result"
    }
   ],
   "source": [
    "cross_val_score(ols, X_train, y_train).mean()"
   ]
  },
  {
   "cell_type": "code",
   "execution_count": null,
   "metadata": {},
   "outputs": [],
   "source": []
  },
  {
   "cell_type": "markdown",
   "metadata": {},
   "source": [
    "### Condition 1"
   ]
  },
  {
   "cell_type": "code",
   "execution_count": 1,
   "metadata": {},
   "outputs": [],
   "source": [
    "import numpy as np\n",
    "import pandas as pd\n",
    "import matplotlib.pyplot as plt\n",
    "import seaborn as sns\n",
    "\n",
    "from sklearn.model_selection import train_test_split, cross_val_score\n",
    "from sklearn.linear_model import LinearRegression\n",
    "from sklearn.preprocessing import StandardScaler, PolynomialFeatures\n",
    "from sklearn.metrics import r2_score, mean_squared_error\n",
    "train = pd.read_csv('../datasets/train.csv')\n",
    "test = pd.read_csv('../datasets/test.csv')"
   ]
  },
  {
   "cell_type": "code",
   "execution_count": 2,
   "metadata": {},
   "outputs": [],
   "source": [
    "train = pd.get_dummies(train, columns = ['Condition 1'], drop_first = True)"
   ]
  },
  {
   "cell_type": "code",
   "execution_count": 3,
   "metadata": {},
   "outputs": [
    {
     "data": {
      "text/plain": [
       "['Id',\n",
       " 'PID',\n",
       " 'MS SubClass',\n",
       " 'MS Zoning',\n",
       " 'Lot Frontage',\n",
       " 'Lot Area',\n",
       " 'Street',\n",
       " 'Alley',\n",
       " 'Lot Shape',\n",
       " 'Land Contour',\n",
       " 'Utilities',\n",
       " 'Lot Config',\n",
       " 'Land Slope',\n",
       " 'Neighborhood',\n",
       " 'Condition 2',\n",
       " 'Bldg Type',\n",
       " 'House Style',\n",
       " 'Overall Qual',\n",
       " 'Overall Cond',\n",
       " 'Year Built',\n",
       " 'Year Remod/Add',\n",
       " 'Roof Style',\n",
       " 'Roof Matl',\n",
       " 'Exterior 1st',\n",
       " 'Exterior 2nd',\n",
       " 'Mas Vnr Type',\n",
       " 'Mas Vnr Area',\n",
       " 'Exter Qual',\n",
       " 'Exter Cond',\n",
       " 'Foundation',\n",
       " 'Bsmt Qual',\n",
       " 'Bsmt Cond',\n",
       " 'Bsmt Exposure',\n",
       " 'BsmtFin Type 1',\n",
       " 'BsmtFin SF 1',\n",
       " 'BsmtFin Type 2',\n",
       " 'BsmtFin SF 2',\n",
       " 'Bsmt Unf SF',\n",
       " 'Total Bsmt SF',\n",
       " 'Heating',\n",
       " 'Heating QC',\n",
       " 'Central Air',\n",
       " 'Electrical',\n",
       " '1st Flr SF',\n",
       " '2nd Flr SF',\n",
       " 'Low Qual Fin SF',\n",
       " 'Gr Liv Area',\n",
       " 'Bsmt Full Bath',\n",
       " 'Bsmt Half Bath',\n",
       " 'Full Bath',\n",
       " 'Half Bath',\n",
       " 'Bedroom AbvGr',\n",
       " 'Kitchen AbvGr',\n",
       " 'Kitchen Qual',\n",
       " 'TotRms AbvGrd',\n",
       " 'Functional',\n",
       " 'Fireplaces',\n",
       " 'Fireplace Qu',\n",
       " 'Garage Type',\n",
       " 'Garage Yr Blt',\n",
       " 'Garage Finish',\n",
       " 'Garage Cars',\n",
       " 'Garage Area',\n",
       " 'Garage Qual',\n",
       " 'Garage Cond',\n",
       " 'Paved Drive',\n",
       " 'Wood Deck SF',\n",
       " 'Open Porch SF',\n",
       " 'Enclosed Porch',\n",
       " '3Ssn Porch',\n",
       " 'Screen Porch',\n",
       " 'Pool Area',\n",
       " 'Pool QC',\n",
       " 'Fence',\n",
       " 'Misc Feature',\n",
       " 'Misc Val',\n",
       " 'Mo Sold',\n",
       " 'Yr Sold',\n",
       " 'Sale Type',\n",
       " 'SalePrice',\n",
       " 'Condition 1_Feedr',\n",
       " 'Condition 1_Norm',\n",
       " 'Condition 1_PosA',\n",
       " 'Condition 1_PosN',\n",
       " 'Condition 1_RRAe',\n",
       " 'Condition 1_RRAn',\n",
       " 'Condition 1_RRNe',\n",
       " 'Condition 1_RRNn']"
      ]
     },
     "execution_count": 3,
     "metadata": {},
     "output_type": "execute_result"
    }
   ],
   "source": [
    "list(train.columns)"
   ]
  },
  {
   "cell_type": "code",
   "execution_count": 4,
   "metadata": {},
   "outputs": [],
   "source": [
    "X = train[['Condition 1_Feedr',\n",
    " 'Condition 1_Norm',\n",
    " 'Condition 1_PosA',\n",
    " 'Condition 1_PosN',\n",
    " 'Condition 1_RRAe',\n",
    " 'Condition 1_RRAn',\n",
    " 'Condition 1_RRNe',\n",
    " 'Condition 1_RRNn']]\n",
    "y = train['SalePrice']\n",
    "\n",
    "X_train, X_test, y_train, y_test = train_test_split(X, y, random_state = 42)\n",
    "\n",
    "ols = LinearRegression()\n",
    "ols.fit(X_train, y_train)\n",
    "\n",
    "def evaluate_model(model, X, y): \n",
    "    \n",
    "    y_train_hat = ols.predict(X)\n",
    "\n",
    "    mse = mean_squared_error(y, y_train_hat)\n",
    "    rmse = mse ** .5\n",
    "    r2 = r2_score(y, y_train_hat)\n",
    "\n",
    "    print(f'R^2: {r2}')\n",
    "    print(f'MSE: {mse}')\n",
    "    print(f'RMSE: {rmse}')"
   ]
  },
  {
   "cell_type": "code",
   "execution_count": 5,
   "metadata": {},
   "outputs": [
    {
     "name": "stdout",
     "output_type": "stream",
     "text": [
      "R^2: 0.04781076799413031\n",
      "MSE: 6022140057.50751\n",
      "RMSE: 77602.44878550876\n"
     ]
    }
   ],
   "source": [
    "evaluate_model(ols, X_train, y_train)"
   ]
  },
  {
   "cell_type": "code",
   "execution_count": 6,
   "metadata": {},
   "outputs": [
    {
     "name": "stdout",
     "output_type": "stream",
     "text": [
      "R^2: 0.05301878933279802\n",
      "MSE: 5814488052.636394\n",
      "RMSE: 76252.79045803107\n"
     ]
    }
   ],
   "source": [
    "evaluate_model(ols, X_test, y_test)"
   ]
  },
  {
   "cell_type": "code",
   "execution_count": 7,
   "metadata": {},
   "outputs": [
    {
     "data": {
      "text/plain": [
       "0.037086024614266355"
      ]
     },
     "execution_count": 7,
     "metadata": {},
     "output_type": "execute_result"
    }
   ],
   "source": [
    "cross_val_score(ols, X_train, y_train).mean()"
   ]
  },
  {
   "cell_type": "code",
   "execution_count": null,
   "metadata": {},
   "outputs": [],
   "source": []
  },
  {
   "cell_type": "markdown",
   "metadata": {},
   "source": [
    "### Bldg Type"
   ]
  },
  {
   "cell_type": "code",
   "execution_count": 1,
   "metadata": {},
   "outputs": [],
   "source": [
    "import numpy as np\n",
    "import pandas as pd\n",
    "import matplotlib.pyplot as plt\n",
    "import seaborn as sns\n",
    "\n",
    "from sklearn.model_selection import train_test_split, cross_val_score\n",
    "from sklearn.linear_model import LinearRegression\n",
    "from sklearn.preprocessing import StandardScaler, PolynomialFeatures\n",
    "from sklearn.metrics import r2_score, mean_squared_error\n",
    "train = pd.read_csv('../datasets/train.csv')\n",
    "test = pd.read_csv('../datasets/test.csv')"
   ]
  },
  {
   "cell_type": "code",
   "execution_count": 2,
   "metadata": {},
   "outputs": [],
   "source": [
    "train = pd.get_dummies(train, columns = ['Bldg Type'], drop_first = True)"
   ]
  },
  {
   "cell_type": "code",
   "execution_count": 3,
   "metadata": {},
   "outputs": [
    {
     "data": {
      "text/plain": [
       "['Id',\n",
       " 'PID',\n",
       " 'MS SubClass',\n",
       " 'MS Zoning',\n",
       " 'Lot Frontage',\n",
       " 'Lot Area',\n",
       " 'Street',\n",
       " 'Alley',\n",
       " 'Lot Shape',\n",
       " 'Land Contour',\n",
       " 'Utilities',\n",
       " 'Lot Config',\n",
       " 'Land Slope',\n",
       " 'Neighborhood',\n",
       " 'Condition 1',\n",
       " 'Condition 2',\n",
       " 'House Style',\n",
       " 'Overall Qual',\n",
       " 'Overall Cond',\n",
       " 'Year Built',\n",
       " 'Year Remod/Add',\n",
       " 'Roof Style',\n",
       " 'Roof Matl',\n",
       " 'Exterior 1st',\n",
       " 'Exterior 2nd',\n",
       " 'Mas Vnr Type',\n",
       " 'Mas Vnr Area',\n",
       " 'Exter Qual',\n",
       " 'Exter Cond',\n",
       " 'Foundation',\n",
       " 'Bsmt Qual',\n",
       " 'Bsmt Cond',\n",
       " 'Bsmt Exposure',\n",
       " 'BsmtFin Type 1',\n",
       " 'BsmtFin SF 1',\n",
       " 'BsmtFin Type 2',\n",
       " 'BsmtFin SF 2',\n",
       " 'Bsmt Unf SF',\n",
       " 'Total Bsmt SF',\n",
       " 'Heating',\n",
       " 'Heating QC',\n",
       " 'Central Air',\n",
       " 'Electrical',\n",
       " '1st Flr SF',\n",
       " '2nd Flr SF',\n",
       " 'Low Qual Fin SF',\n",
       " 'Gr Liv Area',\n",
       " 'Bsmt Full Bath',\n",
       " 'Bsmt Half Bath',\n",
       " 'Full Bath',\n",
       " 'Half Bath',\n",
       " 'Bedroom AbvGr',\n",
       " 'Kitchen AbvGr',\n",
       " 'Kitchen Qual',\n",
       " 'TotRms AbvGrd',\n",
       " 'Functional',\n",
       " 'Fireplaces',\n",
       " 'Fireplace Qu',\n",
       " 'Garage Type',\n",
       " 'Garage Yr Blt',\n",
       " 'Garage Finish',\n",
       " 'Garage Cars',\n",
       " 'Garage Area',\n",
       " 'Garage Qual',\n",
       " 'Garage Cond',\n",
       " 'Paved Drive',\n",
       " 'Wood Deck SF',\n",
       " 'Open Porch SF',\n",
       " 'Enclosed Porch',\n",
       " '3Ssn Porch',\n",
       " 'Screen Porch',\n",
       " 'Pool Area',\n",
       " 'Pool QC',\n",
       " 'Fence',\n",
       " 'Misc Feature',\n",
       " 'Misc Val',\n",
       " 'Mo Sold',\n",
       " 'Yr Sold',\n",
       " 'Sale Type',\n",
       " 'SalePrice',\n",
       " 'Bldg Type_2fmCon',\n",
       " 'Bldg Type_Duplex',\n",
       " 'Bldg Type_Twnhs',\n",
       " 'Bldg Type_TwnhsE']"
      ]
     },
     "execution_count": 3,
     "metadata": {},
     "output_type": "execute_result"
    }
   ],
   "source": [
    "list(train.columns)"
   ]
  },
  {
   "cell_type": "code",
   "execution_count": 4,
   "metadata": {},
   "outputs": [],
   "source": [
    "X = train[['Bldg Type_2fmCon',\n",
    " 'Bldg Type_Duplex',\n",
    " 'Bldg Type_Twnhs',\n",
    " 'Bldg Type_TwnhsE']]\n",
    "y = train['SalePrice']\n",
    "\n",
    "X_train, X_test, y_train, y_test = train_test_split(X, y, random_state = 42)\n",
    "\n",
    "ols = LinearRegression()\n",
    "ols.fit(X_train, y_train)\n",
    "\n",
    "def evaluate_model(model, X, y): \n",
    "    \n",
    "    y_train_hat = ols.predict(X)\n",
    "\n",
    "    mse = mean_squared_error(y, y_train_hat)\n",
    "    rmse = mse ** .5\n",
    "    r2 = r2_score(y, y_train_hat)\n",
    "\n",
    "    print(f'R^2: {r2}')\n",
    "    print(f'MSE: {mse}')\n",
    "    print(f'RMSE: {rmse}')"
   ]
  },
  {
   "cell_type": "code",
   "execution_count": 5,
   "metadata": {},
   "outputs": [
    {
     "name": "stdout",
     "output_type": "stream",
     "text": [
      "R^2: 0.037885070384837016\n",
      "MSE: 6084915332.802015\n",
      "RMSE: 78005.86729728742\n"
     ]
    }
   ],
   "source": [
    "evaluate_model(ols, X_train, y_train)"
   ]
  },
  {
   "cell_type": "code",
   "execution_count": 6,
   "metadata": {},
   "outputs": [
    {
     "name": "stdout",
     "output_type": "stream",
     "text": [
      "R^2: 0.0475306495311999\n",
      "MSE: 5848185366.74161\n",
      "RMSE: 76473.42915510987\n"
     ]
    }
   ],
   "source": [
    "evaluate_model(ols, X_test, y_test)"
   ]
  },
  {
   "cell_type": "code",
   "execution_count": 7,
   "metadata": {},
   "outputs": [
    {
     "data": {
      "text/plain": [
       "0.03584456574263091"
      ]
     },
     "execution_count": 7,
     "metadata": {},
     "output_type": "execute_result"
    }
   ],
   "source": [
    "cross_val_score(ols, X_train, y_train).mean()"
   ]
  },
  {
   "cell_type": "code",
   "execution_count": null,
   "metadata": {},
   "outputs": [],
   "source": []
  },
  {
   "cell_type": "markdown",
   "metadata": {},
   "source": [
    "### House Style"
   ]
  },
  {
   "cell_type": "code",
   "execution_count": 1,
   "metadata": {},
   "outputs": [],
   "source": [
    "import numpy as np\n",
    "import pandas as pd\n",
    "import matplotlib.pyplot as plt\n",
    "import seaborn as sns\n",
    "\n",
    "from sklearn.model_selection import train_test_split, cross_val_score\n",
    "from sklearn.linear_model import LinearRegression\n",
    "from sklearn.preprocessing import StandardScaler, PolynomialFeatures\n",
    "from sklearn.metrics import r2_score, mean_squared_error\n",
    "train = pd.read_csv('../datasets/train.csv')\n",
    "test = pd.read_csv('../datasets/test.csv')"
   ]
  },
  {
   "cell_type": "code",
   "execution_count": 2,
   "metadata": {},
   "outputs": [],
   "source": [
    "train = pd.get_dummies(train, columns = ['House Style'], drop_first = True)"
   ]
  },
  {
   "cell_type": "code",
   "execution_count": 3,
   "metadata": {},
   "outputs": [
    {
     "data": {
      "text/plain": [
       "['Id',\n",
       " 'PID',\n",
       " 'MS SubClass',\n",
       " 'MS Zoning',\n",
       " 'Lot Frontage',\n",
       " 'Lot Area',\n",
       " 'Street',\n",
       " 'Alley',\n",
       " 'Lot Shape',\n",
       " 'Land Contour',\n",
       " 'Utilities',\n",
       " 'Lot Config',\n",
       " 'Land Slope',\n",
       " 'Neighborhood',\n",
       " 'Condition 1',\n",
       " 'Condition 2',\n",
       " 'Bldg Type',\n",
       " 'Overall Qual',\n",
       " 'Overall Cond',\n",
       " 'Year Built',\n",
       " 'Year Remod/Add',\n",
       " 'Roof Style',\n",
       " 'Roof Matl',\n",
       " 'Exterior 1st',\n",
       " 'Exterior 2nd',\n",
       " 'Mas Vnr Type',\n",
       " 'Mas Vnr Area',\n",
       " 'Exter Qual',\n",
       " 'Exter Cond',\n",
       " 'Foundation',\n",
       " 'Bsmt Qual',\n",
       " 'Bsmt Cond',\n",
       " 'Bsmt Exposure',\n",
       " 'BsmtFin Type 1',\n",
       " 'BsmtFin SF 1',\n",
       " 'BsmtFin Type 2',\n",
       " 'BsmtFin SF 2',\n",
       " 'Bsmt Unf SF',\n",
       " 'Total Bsmt SF',\n",
       " 'Heating',\n",
       " 'Heating QC',\n",
       " 'Central Air',\n",
       " 'Electrical',\n",
       " '1st Flr SF',\n",
       " '2nd Flr SF',\n",
       " 'Low Qual Fin SF',\n",
       " 'Gr Liv Area',\n",
       " 'Bsmt Full Bath',\n",
       " 'Bsmt Half Bath',\n",
       " 'Full Bath',\n",
       " 'Half Bath',\n",
       " 'Bedroom AbvGr',\n",
       " 'Kitchen AbvGr',\n",
       " 'Kitchen Qual',\n",
       " 'TotRms AbvGrd',\n",
       " 'Functional',\n",
       " 'Fireplaces',\n",
       " 'Fireplace Qu',\n",
       " 'Garage Type',\n",
       " 'Garage Yr Blt',\n",
       " 'Garage Finish',\n",
       " 'Garage Cars',\n",
       " 'Garage Area',\n",
       " 'Garage Qual',\n",
       " 'Garage Cond',\n",
       " 'Paved Drive',\n",
       " 'Wood Deck SF',\n",
       " 'Open Porch SF',\n",
       " 'Enclosed Porch',\n",
       " '3Ssn Porch',\n",
       " 'Screen Porch',\n",
       " 'Pool Area',\n",
       " 'Pool QC',\n",
       " 'Fence',\n",
       " 'Misc Feature',\n",
       " 'Misc Val',\n",
       " 'Mo Sold',\n",
       " 'Yr Sold',\n",
       " 'Sale Type',\n",
       " 'SalePrice',\n",
       " 'House Style_1.5Unf',\n",
       " 'House Style_1Story',\n",
       " 'House Style_2.5Fin',\n",
       " 'House Style_2.5Unf',\n",
       " 'House Style_2Story',\n",
       " 'House Style_SFoyer',\n",
       " 'House Style_SLvl']"
      ]
     },
     "execution_count": 3,
     "metadata": {},
     "output_type": "execute_result"
    }
   ],
   "source": [
    "list(train.columns)"
   ]
  },
  {
   "cell_type": "code",
   "execution_count": 4,
   "metadata": {},
   "outputs": [],
   "source": [
    "X = train[['House Style_1.5Unf',\n",
    " 'House Style_1Story',\n",
    " 'House Style_2.5Fin',\n",
    " 'House Style_2.5Unf',\n",
    " 'House Style_2Story',\n",
    " 'House Style_SFoyer',\n",
    " 'House Style_SLvl']]\n",
    "y = train['SalePrice']\n",
    "\n",
    "X_train, X_test, y_train, y_test = train_test_split(X, y, random_state = 42)\n",
    "\n",
    "ols = LinearRegression()\n",
    "ols.fit(X_train, y_train)\n",
    "\n",
    "def evaluate_model(model, X, y): \n",
    "    \n",
    "    y_train_hat = ols.predict(X)\n",
    "\n",
    "    mse = mean_squared_error(y, y_train_hat)\n",
    "    rmse = mse ** .5\n",
    "    r2 = r2_score(y, y_train_hat)\n",
    "\n",
    "    print(f'R^2: {r2}')\n",
    "    print(f'MSE: {mse}')\n",
    "    print(f'RMSE: {rmse}')"
   ]
  },
  {
   "cell_type": "code",
   "execution_count": 5,
   "metadata": {},
   "outputs": [
    {
     "name": "stdout",
     "output_type": "stream",
     "text": [
      "R^2: 0.07933021708077992\n",
      "MSE: 5822794664.223215\n",
      "RMSE: 76307.23860960515\n"
     ]
    }
   ],
   "source": [
    "evaluate_model(ols, X_train, y_train)"
   ]
  },
  {
   "cell_type": "code",
   "execution_count": 6,
   "metadata": {},
   "outputs": [
    {
     "name": "stdout",
     "output_type": "stream",
     "text": [
      "R^2: 0.04940166384903655\n",
      "MSE: 5836697292.559326\n",
      "RMSE: 76398.2806911211\n"
     ]
    }
   ],
   "source": [
    "evaluate_model(ols, X_test, y_test)"
   ]
  },
  {
   "cell_type": "code",
   "execution_count": 7,
   "metadata": {},
   "outputs": [
    {
     "data": {
      "text/plain": [
       "0.07094971066580016"
      ]
     },
     "execution_count": 7,
     "metadata": {},
     "output_type": "execute_result"
    }
   ],
   "source": [
    "cross_val_score(ols, X_train, y_train).mean()"
   ]
  },
  {
   "cell_type": "code",
   "execution_count": null,
   "metadata": {},
   "outputs": [],
   "source": []
  },
  {
   "cell_type": "markdown",
   "metadata": {},
   "source": [
    "### Overall Qual"
   ]
  },
  {
   "cell_type": "code",
   "execution_count": 1,
   "metadata": {},
   "outputs": [],
   "source": [
    "import numpy as np\n",
    "import pandas as pd\n",
    "import matplotlib.pyplot as plt\n",
    "import seaborn as sns\n",
    "\n",
    "from sklearn.model_selection import train_test_split, cross_val_score\n",
    "from sklearn.linear_model import LinearRegression\n",
    "from sklearn.preprocessing import StandardScaler, PolynomialFeatures\n",
    "from sklearn.metrics import r2_score, mean_squared_error\n",
    "train = pd.read_csv('../datasets/train.csv')\n",
    "test = pd.read_csv('../datasets/test.csv')"
   ]
  },
  {
   "cell_type": "code",
   "execution_count": 2,
   "metadata": {},
   "outputs": [],
   "source": [
    "train = pd.get_dummies(train, columns = ['Overall Qual'], drop_first = True)"
   ]
  },
  {
   "cell_type": "code",
   "execution_count": 3,
   "metadata": {},
   "outputs": [
    {
     "data": {
      "text/plain": [
       "['Id',\n",
       " 'PID',\n",
       " 'MS SubClass',\n",
       " 'MS Zoning',\n",
       " 'Lot Frontage',\n",
       " 'Lot Area',\n",
       " 'Street',\n",
       " 'Alley',\n",
       " 'Lot Shape',\n",
       " 'Land Contour',\n",
       " 'Utilities',\n",
       " 'Lot Config',\n",
       " 'Land Slope',\n",
       " 'Neighborhood',\n",
       " 'Condition 1',\n",
       " 'Condition 2',\n",
       " 'Bldg Type',\n",
       " 'House Style',\n",
       " 'Overall Cond',\n",
       " 'Year Built',\n",
       " 'Year Remod/Add',\n",
       " 'Roof Style',\n",
       " 'Roof Matl',\n",
       " 'Exterior 1st',\n",
       " 'Exterior 2nd',\n",
       " 'Mas Vnr Type',\n",
       " 'Mas Vnr Area',\n",
       " 'Exter Qual',\n",
       " 'Exter Cond',\n",
       " 'Foundation',\n",
       " 'Bsmt Qual',\n",
       " 'Bsmt Cond',\n",
       " 'Bsmt Exposure',\n",
       " 'BsmtFin Type 1',\n",
       " 'BsmtFin SF 1',\n",
       " 'BsmtFin Type 2',\n",
       " 'BsmtFin SF 2',\n",
       " 'Bsmt Unf SF',\n",
       " 'Total Bsmt SF',\n",
       " 'Heating',\n",
       " 'Heating QC',\n",
       " 'Central Air',\n",
       " 'Electrical',\n",
       " '1st Flr SF',\n",
       " '2nd Flr SF',\n",
       " 'Low Qual Fin SF',\n",
       " 'Gr Liv Area',\n",
       " 'Bsmt Full Bath',\n",
       " 'Bsmt Half Bath',\n",
       " 'Full Bath',\n",
       " 'Half Bath',\n",
       " 'Bedroom AbvGr',\n",
       " 'Kitchen AbvGr',\n",
       " 'Kitchen Qual',\n",
       " 'TotRms AbvGrd',\n",
       " 'Functional',\n",
       " 'Fireplaces',\n",
       " 'Fireplace Qu',\n",
       " 'Garage Type',\n",
       " 'Garage Yr Blt',\n",
       " 'Garage Finish',\n",
       " 'Garage Cars',\n",
       " 'Garage Area',\n",
       " 'Garage Qual',\n",
       " 'Garage Cond',\n",
       " 'Paved Drive',\n",
       " 'Wood Deck SF',\n",
       " 'Open Porch SF',\n",
       " 'Enclosed Porch',\n",
       " '3Ssn Porch',\n",
       " 'Screen Porch',\n",
       " 'Pool Area',\n",
       " 'Pool QC',\n",
       " 'Fence',\n",
       " 'Misc Feature',\n",
       " 'Misc Val',\n",
       " 'Mo Sold',\n",
       " 'Yr Sold',\n",
       " 'Sale Type',\n",
       " 'SalePrice',\n",
       " 'Overall Qual_2',\n",
       " 'Overall Qual_3',\n",
       " 'Overall Qual_4',\n",
       " 'Overall Qual_5',\n",
       " 'Overall Qual_6',\n",
       " 'Overall Qual_7',\n",
       " 'Overall Qual_8',\n",
       " 'Overall Qual_9',\n",
       " 'Overall Qual_10']"
      ]
     },
     "execution_count": 3,
     "metadata": {},
     "output_type": "execute_result"
    }
   ],
   "source": [
    "list(train.columns)"
   ]
  },
  {
   "cell_type": "code",
   "execution_count": 4,
   "metadata": {},
   "outputs": [],
   "source": [
    "X = train[['Overall Qual_2',\n",
    " 'Overall Qual_3',\n",
    " 'Overall Qual_4',\n",
    " 'Overall Qual_5',\n",
    " 'Overall Qual_6',\n",
    " 'Overall Qual_7',\n",
    " 'Overall Qual_8',\n",
    " 'Overall Qual_9',\n",
    " 'Overall Qual_10']]\n",
    "y = train['SalePrice']\n",
    "\n",
    "X_train, X_test, y_train, y_test = train_test_split(X, y, random_state = 42)\n",
    "\n",
    "ols = LinearRegression()\n",
    "ols.fit(X_train, y_train)\n",
    "\n",
    "def evaluate_model(model, X, y): \n",
    "    \n",
    "    y_train_hat = ols.predict(X)\n",
    "\n",
    "    mse = mean_squared_error(y, y_train_hat)\n",
    "    rmse = mse ** .5\n",
    "    r2 = r2_score(y, y_train_hat)\n",
    "\n",
    "    print(f'R^2: {r2}')\n",
    "    print(f'MSE: {mse}')\n",
    "    print(f'RMSE: {rmse}')"
   ]
  },
  {
   "cell_type": "code",
   "execution_count": 5,
   "metadata": {},
   "outputs": [
    {
     "name": "stdout",
     "output_type": "stream",
     "text": [
      "R^2: 0.6977180641097444\n",
      "MSE: 1911788217.7167952\n",
      "RMSE: 43724.00047704687\n"
     ]
    }
   ],
   "source": [
    "evaluate_model(ols, X_train, y_train)"
   ]
  },
  {
   "cell_type": "code",
   "execution_count": 6,
   "metadata": {},
   "outputs": [
    {
     "name": "stdout",
     "output_type": "stream",
     "text": [
      "R^2: 0.7087342873774438\n",
      "MSE: 1788378678.5941274\n",
      "RMSE: 42289.22650739935\n"
     ]
    }
   ],
   "source": [
    "evaluate_model(ols, X_test, y_test)"
   ]
  },
  {
   "cell_type": "code",
   "execution_count": 7,
   "metadata": {},
   "outputs": [
    {
     "data": {
      "text/plain": [
       "0.6782772793236307"
      ]
     },
     "execution_count": 7,
     "metadata": {},
     "output_type": "execute_result"
    }
   ],
   "source": [
    "cross_val_score(ols, X_train, y_train).mean()"
   ]
  },
  {
   "cell_type": "code",
   "execution_count": null,
   "metadata": {},
   "outputs": [],
   "source": []
  },
  {
   "cell_type": "markdown",
   "metadata": {},
   "source": [
    "### Overall Cond"
   ]
  },
  {
   "cell_type": "code",
   "execution_count": 1,
   "metadata": {},
   "outputs": [],
   "source": [
    "import numpy as np\n",
    "import pandas as pd\n",
    "import matplotlib.pyplot as plt\n",
    "import seaborn as sns\n",
    "\n",
    "from sklearn.model_selection import train_test_split, cross_val_score\n",
    "from sklearn.linear_model import LinearRegression\n",
    "from sklearn.preprocessing import StandardScaler, PolynomialFeatures\n",
    "from sklearn.metrics import r2_score, mean_squared_error\n",
    "train = pd.read_csv('../datasets/train.csv')\n",
    "test = pd.read_csv('../datasets/test.csv')"
   ]
  },
  {
   "cell_type": "code",
   "execution_count": 2,
   "metadata": {},
   "outputs": [],
   "source": [
    "train = pd.get_dummies(train, columns = ['Overall Cond'], drop_first = True)"
   ]
  },
  {
   "cell_type": "code",
   "execution_count": 3,
   "metadata": {},
   "outputs": [
    {
     "data": {
      "text/plain": [
       "['Id',\n",
       " 'PID',\n",
       " 'MS SubClass',\n",
       " 'MS Zoning',\n",
       " 'Lot Frontage',\n",
       " 'Lot Area',\n",
       " 'Street',\n",
       " 'Alley',\n",
       " 'Lot Shape',\n",
       " 'Land Contour',\n",
       " 'Utilities',\n",
       " 'Lot Config',\n",
       " 'Land Slope',\n",
       " 'Neighborhood',\n",
       " 'Condition 1',\n",
       " 'Condition 2',\n",
       " 'Bldg Type',\n",
       " 'House Style',\n",
       " 'Overall Qual',\n",
       " 'Year Built',\n",
       " 'Year Remod/Add',\n",
       " 'Roof Style',\n",
       " 'Roof Matl',\n",
       " 'Exterior 1st',\n",
       " 'Exterior 2nd',\n",
       " 'Mas Vnr Type',\n",
       " 'Mas Vnr Area',\n",
       " 'Exter Qual',\n",
       " 'Exter Cond',\n",
       " 'Foundation',\n",
       " 'Bsmt Qual',\n",
       " 'Bsmt Cond',\n",
       " 'Bsmt Exposure',\n",
       " 'BsmtFin Type 1',\n",
       " 'BsmtFin SF 1',\n",
       " 'BsmtFin Type 2',\n",
       " 'BsmtFin SF 2',\n",
       " 'Bsmt Unf SF',\n",
       " 'Total Bsmt SF',\n",
       " 'Heating',\n",
       " 'Heating QC',\n",
       " 'Central Air',\n",
       " 'Electrical',\n",
       " '1st Flr SF',\n",
       " '2nd Flr SF',\n",
       " 'Low Qual Fin SF',\n",
       " 'Gr Liv Area',\n",
       " 'Bsmt Full Bath',\n",
       " 'Bsmt Half Bath',\n",
       " 'Full Bath',\n",
       " 'Half Bath',\n",
       " 'Bedroom AbvGr',\n",
       " 'Kitchen AbvGr',\n",
       " 'Kitchen Qual',\n",
       " 'TotRms AbvGrd',\n",
       " 'Functional',\n",
       " 'Fireplaces',\n",
       " 'Fireplace Qu',\n",
       " 'Garage Type',\n",
       " 'Garage Yr Blt',\n",
       " 'Garage Finish',\n",
       " 'Garage Cars',\n",
       " 'Garage Area',\n",
       " 'Garage Qual',\n",
       " 'Garage Cond',\n",
       " 'Paved Drive',\n",
       " 'Wood Deck SF',\n",
       " 'Open Porch SF',\n",
       " 'Enclosed Porch',\n",
       " '3Ssn Porch',\n",
       " 'Screen Porch',\n",
       " 'Pool Area',\n",
       " 'Pool QC',\n",
       " 'Fence',\n",
       " 'Misc Feature',\n",
       " 'Misc Val',\n",
       " 'Mo Sold',\n",
       " 'Yr Sold',\n",
       " 'Sale Type',\n",
       " 'SalePrice',\n",
       " 'Overall Cond_2',\n",
       " 'Overall Cond_3',\n",
       " 'Overall Cond_4',\n",
       " 'Overall Cond_5',\n",
       " 'Overall Cond_6',\n",
       " 'Overall Cond_7',\n",
       " 'Overall Cond_8',\n",
       " 'Overall Cond_9']"
      ]
     },
     "execution_count": 3,
     "metadata": {},
     "output_type": "execute_result"
    }
   ],
   "source": [
    "list(train.columns)"
   ]
  },
  {
   "cell_type": "code",
   "execution_count": 4,
   "metadata": {},
   "outputs": [],
   "source": [
    "X = train[['Overall Cond_2',\n",
    " 'Overall Cond_3',\n",
    " 'Overall Cond_4',\n",
    " 'Overall Cond_5',\n",
    " 'Overall Cond_6',\n",
    " 'Overall Cond_7',\n",
    " 'Overall Cond_8',\n",
    " 'Overall Cond_9']]\n",
    "y = train['SalePrice']\n",
    "\n",
    "X_train, X_test, y_train, y_test = train_test_split(X, y, random_state = 42)\n",
    "\n",
    "ols = LinearRegression()\n",
    "ols.fit(X_train, y_train)\n",
    "\n",
    "def evaluate_model(model, X, y): \n",
    "    \n",
    "    y_train_hat = ols.predict(X)\n",
    "\n",
    "    mse = mean_squared_error(y, y_train_hat)\n",
    "    rmse = mse ** .5\n",
    "    r2 = r2_score(y, y_train_hat)\n",
    "\n",
    "    print(f'R^2: {r2}')\n",
    "    print(f'MSE: {mse}')\n",
    "    print(f'RMSE: {rmse}')"
   ]
  },
  {
   "cell_type": "code",
   "execution_count": 5,
   "metadata": {},
   "outputs": [
    {
     "name": "stdout",
     "output_type": "stream",
     "text": [
      "R^2: 0.15768502183659827\n",
      "MSE: 5327238116.682584\n",
      "RMSE: 72987.93130841963\n"
     ]
    }
   ],
   "source": [
    "evaluate_model(ols, X_train, y_train)"
   ]
  },
  {
   "cell_type": "code",
   "execution_count": 6,
   "metadata": {},
   "outputs": [
    {
     "name": "stdout",
     "output_type": "stream",
     "text": [
      "R^2: 0.17869689084001672\n",
      "MSE: 5042821401.3235445\n",
      "RMSE: 71012.8256114594\n"
     ]
    }
   ],
   "source": [
    "evaluate_model(ols, X_test, y_test)"
   ]
  },
  {
   "cell_type": "code",
   "execution_count": 7,
   "metadata": {},
   "outputs": [
    {
     "data": {
      "text/plain": [
       "0.1501522582949181"
      ]
     },
     "execution_count": 7,
     "metadata": {},
     "output_type": "execute_result"
    }
   ],
   "source": [
    "cross_val_score(ols, X_train, y_train).mean()"
   ]
  },
  {
   "cell_type": "code",
   "execution_count": null,
   "metadata": {},
   "outputs": [],
   "source": []
  },
  {
   "cell_type": "markdown",
   "metadata": {},
   "source": [
    "### Year Built"
   ]
  },
  {
   "cell_type": "code",
   "execution_count": 1,
   "metadata": {},
   "outputs": [],
   "source": [
    "import numpy as np\n",
    "import pandas as pd\n",
    "import matplotlib.pyplot as plt\n",
    "import seaborn as sns\n",
    "\n",
    "from sklearn.model_selection import train_test_split, cross_val_score\n",
    "from sklearn.linear_model import LinearRegression\n",
    "from sklearn.preprocessing import StandardScaler, PolynomialFeatures\n",
    "from sklearn.metrics import r2_score, mean_squared_error\n",
    "train = pd.read_csv('../datasets/train.csv')\n",
    "test = pd.read_csv('../datasets/test.csv')"
   ]
  },
  {
   "cell_type": "code",
   "execution_count": 2,
   "metadata": {},
   "outputs": [],
   "source": [
    "X = train[['Year Built']]\n",
    "y = train['SalePrice']\n",
    "\n",
    "X_train, X_test, y_train, y_test = train_test_split(X, y, random_state = 42)\n",
    "\n",
    "ols = LinearRegression()\n",
    "ols.fit(X_train, y_train)\n",
    "\n",
    "def evaluate_model(model, X, y): \n",
    "    \n",
    "    y_train_hat = ols.predict(X)\n",
    "\n",
    "    mse = mean_squared_error(y, y_train_hat)\n",
    "    rmse = mse ** .5\n",
    "    r2 = r2_score(y, y_train_hat)\n",
    "\n",
    "    print(f'R^2: {r2}')\n",
    "    print(f'MSE: {mse}')\n",
    "    print(f'RMSE: {rmse}')"
   ]
  },
  {
   "cell_type": "code",
   "execution_count": 3,
   "metadata": {},
   "outputs": [
    {
     "name": "stdout",
     "output_type": "stream",
     "text": [
      "R^2: 0.3148510491048646\n",
      "MSE: 4333238398.2676735\n",
      "RMSE: 65827.33777290156\n"
     ]
    }
   ],
   "source": [
    "evaluate_model(ols, X_train, y_train)"
   ]
  },
  {
   "cell_type": "code",
   "execution_count": 4,
   "metadata": {},
   "outputs": [
    {
     "name": "stdout",
     "output_type": "stream",
     "text": [
      "R^2: 0.3637837013597114\n",
      "MSE: 3906383807.4782486\n",
      "RMSE: 62501.07045065907\n"
     ]
    }
   ],
   "source": [
    "evaluate_model(ols, X_test, y_test)"
   ]
  },
  {
   "cell_type": "code",
   "execution_count": 5,
   "metadata": {},
   "outputs": [
    {
     "data": {
      "text/plain": [
       "0.3126090467497383"
      ]
     },
     "execution_count": 5,
     "metadata": {},
     "output_type": "execute_result"
    }
   ],
   "source": [
    "cross_val_score(ols, X_train, y_train).mean()"
   ]
  },
  {
   "cell_type": "code",
   "execution_count": null,
   "metadata": {},
   "outputs": [],
   "source": []
  },
  {
   "cell_type": "markdown",
   "metadata": {},
   "source": [
    "### Year Remod/Add"
   ]
  },
  {
   "cell_type": "code",
   "execution_count": 1,
   "metadata": {},
   "outputs": [],
   "source": [
    "import numpy as np\n",
    "import pandas as pd\n",
    "import matplotlib.pyplot as plt\n",
    "import seaborn as sns\n",
    "\n",
    "from sklearn.model_selection import train_test_split, cross_val_score\n",
    "from sklearn.linear_model import LinearRegression\n",
    "from sklearn.preprocessing import StandardScaler, PolynomialFeatures\n",
    "from sklearn.metrics import r2_score, mean_squared_error\n",
    "train = pd.read_csv('../datasets/train.csv')\n",
    "test = pd.read_csv('../datasets/test.csv')"
   ]
  },
  {
   "cell_type": "code",
   "execution_count": 2,
   "metadata": {},
   "outputs": [],
   "source": [
    "X = train[['Year Remod/Add']]\n",
    "y = train['SalePrice']\n",
    "\n",
    "X_train, X_test, y_train, y_test = train_test_split(X, y, random_state = 42)\n",
    "\n",
    "ols = LinearRegression()\n",
    "ols.fit(X_train, y_train)\n",
    "\n",
    "def evaluate_model(model, X, y): \n",
    "    \n",
    "    y_train_hat = ols.predict(X)\n",
    "\n",
    "    mse = mean_squared_error(y, y_train_hat)\n",
    "    rmse = mse ** .5\n",
    "    r2 = r2_score(y, y_train_hat)\n",
    "\n",
    "    print(f'R^2: {r2}')\n",
    "    print(f'MSE: {mse}')\n",
    "    print(f'RMSE: {rmse}')"
   ]
  },
  {
   "cell_type": "code",
   "execution_count": 3,
   "metadata": {},
   "outputs": [
    {
     "name": "stdout",
     "output_type": "stream",
     "text": [
      "R^2: 0.29856595229744776\n",
      "MSE: 4436233822.420641\n",
      "RMSE: 66605.05853477378\n"
     ]
    }
   ],
   "source": [
    "evaluate_model(ols, X_train, y_train)"
   ]
  },
  {
   "cell_type": "code",
   "execution_count": 4,
   "metadata": {},
   "outputs": [
    {
     "name": "stdout",
     "output_type": "stream",
     "text": [
      "R^2: 0.31599625408568877\n",
      "MSE: 4199799915.539177\n",
      "RMSE: 64805.86328056418\n"
     ]
    }
   ],
   "source": [
    "evaluate_model(ols, X_test, y_test)"
   ]
  },
  {
   "cell_type": "code",
   "execution_count": 5,
   "metadata": {},
   "outputs": [
    {
     "data": {
      "text/plain": [
       "0.29565596109299686"
      ]
     },
     "execution_count": 5,
     "metadata": {},
     "output_type": "execute_result"
    }
   ],
   "source": [
    "cross_val_score(ols, X_train, y_train).mean()"
   ]
  },
  {
   "cell_type": "code",
   "execution_count": null,
   "metadata": {},
   "outputs": [],
   "source": []
  },
  {
   "cell_type": "markdown",
   "metadata": {},
   "source": [
    "### Roof Style"
   ]
  },
  {
   "cell_type": "code",
   "execution_count": 1,
   "metadata": {},
   "outputs": [],
   "source": [
    "import numpy as np\n",
    "import pandas as pd\n",
    "import matplotlib.pyplot as plt\n",
    "import seaborn as sns\n",
    "\n",
    "from sklearn.model_selection import train_test_split, cross_val_score\n",
    "from sklearn.linear_model import LinearRegression\n",
    "from sklearn.preprocessing import StandardScaler, PolynomialFeatures\n",
    "from sklearn.metrics import r2_score, mean_squared_error\n",
    "train = pd.read_csv('../datasets/train.csv')\n",
    "test = pd.read_csv('../datasets/test.csv')"
   ]
  },
  {
   "cell_type": "code",
   "execution_count": 2,
   "metadata": {},
   "outputs": [],
   "source": [
    "train = pd.get_dummies(train, columns = ['Roof Style'], drop_first = True)"
   ]
  },
  {
   "cell_type": "code",
   "execution_count": 3,
   "metadata": {},
   "outputs": [
    {
     "data": {
      "text/plain": [
       "['Id',\n",
       " 'PID',\n",
       " 'MS SubClass',\n",
       " 'MS Zoning',\n",
       " 'Lot Frontage',\n",
       " 'Lot Area',\n",
       " 'Street',\n",
       " 'Alley',\n",
       " 'Lot Shape',\n",
       " 'Land Contour',\n",
       " 'Utilities',\n",
       " 'Lot Config',\n",
       " 'Land Slope',\n",
       " 'Neighborhood',\n",
       " 'Condition 1',\n",
       " 'Condition 2',\n",
       " 'Bldg Type',\n",
       " 'House Style',\n",
       " 'Overall Qual',\n",
       " 'Overall Cond',\n",
       " 'Year Built',\n",
       " 'Year Remod/Add',\n",
       " 'Roof Matl',\n",
       " 'Exterior 1st',\n",
       " 'Exterior 2nd',\n",
       " 'Mas Vnr Type',\n",
       " 'Mas Vnr Area',\n",
       " 'Exter Qual',\n",
       " 'Exter Cond',\n",
       " 'Foundation',\n",
       " 'Bsmt Qual',\n",
       " 'Bsmt Cond',\n",
       " 'Bsmt Exposure',\n",
       " 'BsmtFin Type 1',\n",
       " 'BsmtFin SF 1',\n",
       " 'BsmtFin Type 2',\n",
       " 'BsmtFin SF 2',\n",
       " 'Bsmt Unf SF',\n",
       " 'Total Bsmt SF',\n",
       " 'Heating',\n",
       " 'Heating QC',\n",
       " 'Central Air',\n",
       " 'Electrical',\n",
       " '1st Flr SF',\n",
       " '2nd Flr SF',\n",
       " 'Low Qual Fin SF',\n",
       " 'Gr Liv Area',\n",
       " 'Bsmt Full Bath',\n",
       " 'Bsmt Half Bath',\n",
       " 'Full Bath',\n",
       " 'Half Bath',\n",
       " 'Bedroom AbvGr',\n",
       " 'Kitchen AbvGr',\n",
       " 'Kitchen Qual',\n",
       " 'TotRms AbvGrd',\n",
       " 'Functional',\n",
       " 'Fireplaces',\n",
       " 'Fireplace Qu',\n",
       " 'Garage Type',\n",
       " 'Garage Yr Blt',\n",
       " 'Garage Finish',\n",
       " 'Garage Cars',\n",
       " 'Garage Area',\n",
       " 'Garage Qual',\n",
       " 'Garage Cond',\n",
       " 'Paved Drive',\n",
       " 'Wood Deck SF',\n",
       " 'Open Porch SF',\n",
       " 'Enclosed Porch',\n",
       " '3Ssn Porch',\n",
       " 'Screen Porch',\n",
       " 'Pool Area',\n",
       " 'Pool QC',\n",
       " 'Fence',\n",
       " 'Misc Feature',\n",
       " 'Misc Val',\n",
       " 'Mo Sold',\n",
       " 'Yr Sold',\n",
       " 'Sale Type',\n",
       " 'SalePrice',\n",
       " 'Roof Style_Gable',\n",
       " 'Roof Style_Gambrel',\n",
       " 'Roof Style_Hip',\n",
       " 'Roof Style_Mansard',\n",
       " 'Roof Style_Shed']"
      ]
     },
     "execution_count": 3,
     "metadata": {},
     "output_type": "execute_result"
    }
   ],
   "source": [
    "list(train.columns)"
   ]
  },
  {
   "cell_type": "code",
   "execution_count": 4,
   "metadata": {},
   "outputs": [],
   "source": [
    "X = train[['Roof Style_Gable',\n",
    " 'Roof Style_Gambrel',\n",
    " 'Roof Style_Hip',\n",
    " 'Roof Style_Mansard',\n",
    " 'Roof Style_Shed']]\n",
    "y = train['SalePrice']\n",
    "\n",
    "X_train, X_test, y_train, y_test = train_test_split(X, y, random_state = 42)\n",
    "\n",
    "ols = LinearRegression()\n",
    "ols.fit(X_train, y_train)\n",
    "\n",
    "def evaluate_model(model, X, y): \n",
    "    \n",
    "    y_train_hat = ols.predict(X)\n",
    "\n",
    "    mse = mean_squared_error(y, y_train_hat)\n",
    "    rmse = mse ** .5\n",
    "    r2 = r2_score(y, y_train_hat)\n",
    "\n",
    "    print(f'R^2: {r2}')\n",
    "    print(f'MSE: {mse}')\n",
    "    print(f'RMSE: {rmse}')"
   ]
  },
  {
   "cell_type": "code",
   "execution_count": 5,
   "metadata": {},
   "outputs": [
    {
     "name": "stdout",
     "output_type": "stream",
     "text": [
      "R^2: 0.0831132240737048\n",
      "MSE: 5798868959.978554\n",
      "RMSE: 76150.30505505906\n"
     ]
    }
   ],
   "source": [
    "evaluate_model(ols, X_train, y_train)"
   ]
  },
  {
   "cell_type": "code",
   "execution_count": 6,
   "metadata": {},
   "outputs": [
    {
     "name": "stdout",
     "output_type": "stream",
     "text": [
      "R^2: 0.033979728123577524\n",
      "MSE: 5931388359.302911\n",
      "RMSE: 77015.50726511455\n"
     ]
    }
   ],
   "source": [
    "evaluate_model(ols, X_test, y_test)"
   ]
  },
  {
   "cell_type": "code",
   "execution_count": 7,
   "metadata": {},
   "outputs": [
    {
     "data": {
      "text/plain": [
       "0.07418814325493142"
      ]
     },
     "execution_count": 7,
     "metadata": {},
     "output_type": "execute_result"
    }
   ],
   "source": [
    "cross_val_score(ols, X_train, y_train).mean()"
   ]
  },
  {
   "cell_type": "code",
   "execution_count": null,
   "metadata": {},
   "outputs": [],
   "source": []
  },
  {
   "cell_type": "markdown",
   "metadata": {},
   "source": [
    "### Roof Material"
   ]
  },
  {
   "cell_type": "code",
   "execution_count": 1,
   "metadata": {},
   "outputs": [],
   "source": [
    "import numpy as np\n",
    "import pandas as pd\n",
    "import matplotlib.pyplot as plt\n",
    "import seaborn as sns\n",
    "\n",
    "from sklearn.model_selection import train_test_split, cross_val_score\n",
    "from sklearn.linear_model import LinearRegression\n",
    "from sklearn.preprocessing import StandardScaler, PolynomialFeatures\n",
    "from sklearn.metrics import r2_score, mean_squared_error\n",
    "train = pd.read_csv('../datasets/train.csv')\n",
    "test = pd.read_csv('../datasets/test.csv')"
   ]
  },
  {
   "cell_type": "code",
   "execution_count": 2,
   "metadata": {},
   "outputs": [],
   "source": [
    "train = pd.get_dummies(train, columns = ['Roof Matl'], drop_first = True)"
   ]
  },
  {
   "cell_type": "code",
   "execution_count": 3,
   "metadata": {},
   "outputs": [
    {
     "data": {
      "text/plain": [
       "['Id',\n",
       " 'PID',\n",
       " 'MS SubClass',\n",
       " 'MS Zoning',\n",
       " 'Lot Frontage',\n",
       " 'Lot Area',\n",
       " 'Street',\n",
       " 'Alley',\n",
       " 'Lot Shape',\n",
       " 'Land Contour',\n",
       " 'Utilities',\n",
       " 'Lot Config',\n",
       " 'Land Slope',\n",
       " 'Neighborhood',\n",
       " 'Condition 1',\n",
       " 'Condition 2',\n",
       " 'Bldg Type',\n",
       " 'House Style',\n",
       " 'Overall Qual',\n",
       " 'Overall Cond',\n",
       " 'Year Built',\n",
       " 'Year Remod/Add',\n",
       " 'Roof Style',\n",
       " 'Exterior 1st',\n",
       " 'Exterior 2nd',\n",
       " 'Mas Vnr Type',\n",
       " 'Mas Vnr Area',\n",
       " 'Exter Qual',\n",
       " 'Exter Cond',\n",
       " 'Foundation',\n",
       " 'Bsmt Qual',\n",
       " 'Bsmt Cond',\n",
       " 'Bsmt Exposure',\n",
       " 'BsmtFin Type 1',\n",
       " 'BsmtFin SF 1',\n",
       " 'BsmtFin Type 2',\n",
       " 'BsmtFin SF 2',\n",
       " 'Bsmt Unf SF',\n",
       " 'Total Bsmt SF',\n",
       " 'Heating',\n",
       " 'Heating QC',\n",
       " 'Central Air',\n",
       " 'Electrical',\n",
       " '1st Flr SF',\n",
       " '2nd Flr SF',\n",
       " 'Low Qual Fin SF',\n",
       " 'Gr Liv Area',\n",
       " 'Bsmt Full Bath',\n",
       " 'Bsmt Half Bath',\n",
       " 'Full Bath',\n",
       " 'Half Bath',\n",
       " 'Bedroom AbvGr',\n",
       " 'Kitchen AbvGr',\n",
       " 'Kitchen Qual',\n",
       " 'TotRms AbvGrd',\n",
       " 'Functional',\n",
       " 'Fireplaces',\n",
       " 'Fireplace Qu',\n",
       " 'Garage Type',\n",
       " 'Garage Yr Blt',\n",
       " 'Garage Finish',\n",
       " 'Garage Cars',\n",
       " 'Garage Area',\n",
       " 'Garage Qual',\n",
       " 'Garage Cond',\n",
       " 'Paved Drive',\n",
       " 'Wood Deck SF',\n",
       " 'Open Porch SF',\n",
       " 'Enclosed Porch',\n",
       " '3Ssn Porch',\n",
       " 'Screen Porch',\n",
       " 'Pool Area',\n",
       " 'Pool QC',\n",
       " 'Fence',\n",
       " 'Misc Feature',\n",
       " 'Misc Val',\n",
       " 'Mo Sold',\n",
       " 'Yr Sold',\n",
       " 'Sale Type',\n",
       " 'SalePrice',\n",
       " 'Roof Matl_CompShg',\n",
       " 'Roof Matl_Membran',\n",
       " 'Roof Matl_Tar&Grv',\n",
       " 'Roof Matl_WdShake',\n",
       " 'Roof Matl_WdShngl']"
      ]
     },
     "execution_count": 3,
     "metadata": {},
     "output_type": "execute_result"
    }
   ],
   "source": [
    "list(train.columns)"
   ]
  },
  {
   "cell_type": "code",
   "execution_count": 4,
   "metadata": {},
   "outputs": [],
   "source": [
    "X = train[['Roof Matl_CompShg',\n",
    " 'Roof Matl_Membran',\n",
    " 'Roof Matl_Tar&Grv',\n",
    " 'Roof Matl_WdShake',\n",
    " 'Roof Matl_WdShngl']]\n",
    "y = train['SalePrice']\n",
    "\n",
    "X_train, X_test, y_train, y_test = train_test_split(X, y, random_state = 42)\n",
    "\n",
    "ols = LinearRegression()\n",
    "ols.fit(X_train, y_train)\n",
    "\n",
    "def evaluate_model(model, X, y): \n",
    "    \n",
    "    y_train_hat = ols.predict(X)\n",
    "\n",
    "    mse = mean_squared_error(y, y_train_hat)\n",
    "    rmse = mse ** .5\n",
    "    r2 = r2_score(y, y_train_hat)\n",
    "\n",
    "    print(f'R^2: {r2}')\n",
    "    print(f'MSE: {mse}')\n",
    "    print(f'RMSE: {rmse}')"
   ]
  },
  {
   "cell_type": "code",
   "execution_count": 5,
   "metadata": {},
   "outputs": [
    {
     "name": "stdout",
     "output_type": "stream",
     "text": [
      "R^2: 0.015511622953876092\n",
      "MSE: 6226416653.621087\n",
      "RMSE: 78907.6463571249\n"
     ]
    }
   ],
   "source": [
    "evaluate_model(ols, X_train, y_train)"
   ]
  },
  {
   "cell_type": "code",
   "execution_count": 6,
   "metadata": {},
   "outputs": [
    {
     "name": "stdout",
     "output_type": "stream",
     "text": [
      "R^2: -0.001461103627598881\n",
      "MSE: 6148995942.717922\n",
      "RMSE: 78415.53381006802\n"
     ]
    }
   ],
   "source": [
    "evaluate_model(ols, X_test, y_test)"
   ]
  },
  {
   "cell_type": "code",
   "execution_count": 7,
   "metadata": {
    "scrolled": true
   },
   "outputs": [
    {
     "data": {
      "text/plain": [
       "-0.0022935958137647373"
      ]
     },
     "execution_count": 7,
     "metadata": {},
     "output_type": "execute_result"
    }
   ],
   "source": [
    "cross_val_score(ols, X_train, y_train).mean()"
   ]
  },
  {
   "cell_type": "code",
   "execution_count": null,
   "metadata": {},
   "outputs": [],
   "source": []
  },
  {
   "cell_type": "markdown",
   "metadata": {},
   "source": [
    "### Exterior 1st"
   ]
  },
  {
   "cell_type": "code",
   "execution_count": 1,
   "metadata": {},
   "outputs": [],
   "source": [
    "import numpy as np\n",
    "import pandas as pd\n",
    "import matplotlib.pyplot as plt\n",
    "import seaborn as sns\n",
    "\n",
    "from sklearn.model_selection import train_test_split, cross_val_score\n",
    "from sklearn.linear_model import LinearRegression\n",
    "from sklearn.preprocessing import StandardScaler, PolynomialFeatures\n",
    "from sklearn.metrics import r2_score, mean_squared_error\n",
    "train = pd.read_csv('../datasets/train.csv')\n",
    "test = pd.read_csv('../datasets/test.csv')"
   ]
  },
  {
   "cell_type": "code",
   "execution_count": 2,
   "metadata": {},
   "outputs": [],
   "source": [
    "train = pd.get_dummies(train, columns = ['Exterior 1st'], drop_first = True)"
   ]
  },
  {
   "cell_type": "code",
   "execution_count": 3,
   "metadata": {},
   "outputs": [
    {
     "data": {
      "text/plain": [
       "['Id',\n",
       " 'PID',\n",
       " 'MS SubClass',\n",
       " 'MS Zoning',\n",
       " 'Lot Frontage',\n",
       " 'Lot Area',\n",
       " 'Street',\n",
       " 'Alley',\n",
       " 'Lot Shape',\n",
       " 'Land Contour',\n",
       " 'Utilities',\n",
       " 'Lot Config',\n",
       " 'Land Slope',\n",
       " 'Neighborhood',\n",
       " 'Condition 1',\n",
       " 'Condition 2',\n",
       " 'Bldg Type',\n",
       " 'House Style',\n",
       " 'Overall Qual',\n",
       " 'Overall Cond',\n",
       " 'Year Built',\n",
       " 'Year Remod/Add',\n",
       " 'Roof Style',\n",
       " 'Roof Matl',\n",
       " 'Exterior 2nd',\n",
       " 'Mas Vnr Type',\n",
       " 'Mas Vnr Area',\n",
       " 'Exter Qual',\n",
       " 'Exter Cond',\n",
       " 'Foundation',\n",
       " 'Bsmt Qual',\n",
       " 'Bsmt Cond',\n",
       " 'Bsmt Exposure',\n",
       " 'BsmtFin Type 1',\n",
       " 'BsmtFin SF 1',\n",
       " 'BsmtFin Type 2',\n",
       " 'BsmtFin SF 2',\n",
       " 'Bsmt Unf SF',\n",
       " 'Total Bsmt SF',\n",
       " 'Heating',\n",
       " 'Heating QC',\n",
       " 'Central Air',\n",
       " 'Electrical',\n",
       " '1st Flr SF',\n",
       " '2nd Flr SF',\n",
       " 'Low Qual Fin SF',\n",
       " 'Gr Liv Area',\n",
       " 'Bsmt Full Bath',\n",
       " 'Bsmt Half Bath',\n",
       " 'Full Bath',\n",
       " 'Half Bath',\n",
       " 'Bedroom AbvGr',\n",
       " 'Kitchen AbvGr',\n",
       " 'Kitchen Qual',\n",
       " 'TotRms AbvGrd',\n",
       " 'Functional',\n",
       " 'Fireplaces',\n",
       " 'Fireplace Qu',\n",
       " 'Garage Type',\n",
       " 'Garage Yr Blt',\n",
       " 'Garage Finish',\n",
       " 'Garage Cars',\n",
       " 'Garage Area',\n",
       " 'Garage Qual',\n",
       " 'Garage Cond',\n",
       " 'Paved Drive',\n",
       " 'Wood Deck SF',\n",
       " 'Open Porch SF',\n",
       " 'Enclosed Porch',\n",
       " '3Ssn Porch',\n",
       " 'Screen Porch',\n",
       " 'Pool Area',\n",
       " 'Pool QC',\n",
       " 'Fence',\n",
       " 'Misc Feature',\n",
       " 'Misc Val',\n",
       " 'Mo Sold',\n",
       " 'Yr Sold',\n",
       " 'Sale Type',\n",
       " 'SalePrice',\n",
       " 'Exterior 1st_AsphShn',\n",
       " 'Exterior 1st_BrkComm',\n",
       " 'Exterior 1st_BrkFace',\n",
       " 'Exterior 1st_CBlock',\n",
       " 'Exterior 1st_CemntBd',\n",
       " 'Exterior 1st_HdBoard',\n",
       " 'Exterior 1st_ImStucc',\n",
       " 'Exterior 1st_MetalSd',\n",
       " 'Exterior 1st_Plywood',\n",
       " 'Exterior 1st_Stone',\n",
       " 'Exterior 1st_Stucco',\n",
       " 'Exterior 1st_VinylSd',\n",
       " 'Exterior 1st_Wd Sdng',\n",
       " 'Exterior 1st_WdShing']"
      ]
     },
     "execution_count": 3,
     "metadata": {},
     "output_type": "execute_result"
    }
   ],
   "source": [
    "list(train.columns)"
   ]
  },
  {
   "cell_type": "code",
   "execution_count": 4,
   "metadata": {},
   "outputs": [],
   "source": [
    "X = train[['Exterior 1st_AsphShn',\n",
    " 'Exterior 1st_BrkComm',\n",
    " 'Exterior 1st_BrkFace',\n",
    " 'Exterior 1st_CBlock',\n",
    " 'Exterior 1st_CemntBd',\n",
    " 'Exterior 1st_HdBoard',\n",
    " 'Exterior 1st_ImStucc',\n",
    " 'Exterior 1st_MetalSd',\n",
    " 'Exterior 1st_Plywood',\n",
    " 'Exterior 1st_Stone',\n",
    " 'Exterior 1st_Stucco',\n",
    " 'Exterior 1st_VinylSd',\n",
    " 'Exterior 1st_Wd Sdng',\n",
    " 'Exterior 1st_WdShing']]\n",
    "y = train['SalePrice']\n",
    "\n",
    "X_train, X_test, y_train, y_test = train_test_split(X, y, random_state = 42)\n",
    "\n",
    "ols = LinearRegression()\n",
    "ols.fit(X_train, y_train)\n",
    "\n",
    "def evaluate_model(model, X, y): \n",
    "    \n",
    "    y_train_hat = ols.predict(X)\n",
    "\n",
    "    mse = mean_squared_error(y, y_train_hat)\n",
    "    rmse = mse ** .5\n",
    "    r2 = r2_score(y, y_train_hat)\n",
    "\n",
    "    print(f'R^2: {r2}')\n",
    "    print(f'MSE: {mse}')\n",
    "    print(f'RMSE: {rmse}')"
   ]
  },
  {
   "cell_type": "code",
   "execution_count": 5,
   "metadata": {},
   "outputs": [
    {
     "name": "stdout",
     "output_type": "stream",
     "text": [
      "R^2: 0.18618130881844985\n",
      "MSE: 5147012773.278806\n",
      "RMSE: 71742.68445826937\n"
     ]
    }
   ],
   "source": [
    "evaluate_model(ols, X_train, y_train)"
   ]
  },
  {
   "cell_type": "code",
   "execution_count": 6,
   "metadata": {},
   "outputs": [
    {
     "name": "stdout",
     "output_type": "stream",
     "text": [
      "R^2: 0.2083114312576264\n",
      "MSE: 4860987390.782629\n",
      "RMSE: 69720.78162773729\n"
     ]
    }
   ],
   "source": [
    "evaluate_model(ols, X_test, y_test)"
   ]
  },
  {
   "cell_type": "code",
   "execution_count": 7,
   "metadata": {},
   "outputs": [
    {
     "data": {
      "text/plain": [
       "0.15819865821887286"
      ]
     },
     "execution_count": 7,
     "metadata": {},
     "output_type": "execute_result"
    }
   ],
   "source": [
    "cross_val_score(ols, X_train, y_train).mean()"
   ]
  },
  {
   "cell_type": "code",
   "execution_count": null,
   "metadata": {},
   "outputs": [],
   "source": []
  },
  {
   "cell_type": "markdown",
   "metadata": {},
   "source": [
    "### Exterior 2nd"
   ]
  },
  {
   "cell_type": "code",
   "execution_count": 1,
   "metadata": {},
   "outputs": [],
   "source": [
    "import numpy as np\n",
    "import pandas as pd\n",
    "import matplotlib.pyplot as plt\n",
    "import seaborn as sns\n",
    "\n",
    "from sklearn.model_selection import train_test_split, cross_val_score\n",
    "from sklearn.linear_model import LinearRegression\n",
    "from sklearn.preprocessing import StandardScaler, PolynomialFeatures\n",
    "from sklearn.metrics import r2_score, mean_squared_error\n",
    "train = pd.read_csv('../datasets/train.csv')\n",
    "test = pd.read_csv('../datasets/test.csv')"
   ]
  },
  {
   "cell_type": "code",
   "execution_count": 2,
   "metadata": {},
   "outputs": [],
   "source": [
    "train = pd.get_dummies(train, columns = ['Exterior 2nd'], drop_first = True)"
   ]
  },
  {
   "cell_type": "code",
   "execution_count": 3,
   "metadata": {},
   "outputs": [
    {
     "data": {
      "text/plain": [
       "['Id',\n",
       " 'PID',\n",
       " 'MS SubClass',\n",
       " 'MS Zoning',\n",
       " 'Lot Frontage',\n",
       " 'Lot Area',\n",
       " 'Street',\n",
       " 'Alley',\n",
       " 'Lot Shape',\n",
       " 'Land Contour',\n",
       " 'Utilities',\n",
       " 'Lot Config',\n",
       " 'Land Slope',\n",
       " 'Neighborhood',\n",
       " 'Condition 1',\n",
       " 'Condition 2',\n",
       " 'Bldg Type',\n",
       " 'House Style',\n",
       " 'Overall Qual',\n",
       " 'Overall Cond',\n",
       " 'Year Built',\n",
       " 'Year Remod/Add',\n",
       " 'Roof Style',\n",
       " 'Roof Matl',\n",
       " 'Exterior 1st',\n",
       " 'Mas Vnr Type',\n",
       " 'Mas Vnr Area',\n",
       " 'Exter Qual',\n",
       " 'Exter Cond',\n",
       " 'Foundation',\n",
       " 'Bsmt Qual',\n",
       " 'Bsmt Cond',\n",
       " 'Bsmt Exposure',\n",
       " 'BsmtFin Type 1',\n",
       " 'BsmtFin SF 1',\n",
       " 'BsmtFin Type 2',\n",
       " 'BsmtFin SF 2',\n",
       " 'Bsmt Unf SF',\n",
       " 'Total Bsmt SF',\n",
       " 'Heating',\n",
       " 'Heating QC',\n",
       " 'Central Air',\n",
       " 'Electrical',\n",
       " '1st Flr SF',\n",
       " '2nd Flr SF',\n",
       " 'Low Qual Fin SF',\n",
       " 'Gr Liv Area',\n",
       " 'Bsmt Full Bath',\n",
       " 'Bsmt Half Bath',\n",
       " 'Full Bath',\n",
       " 'Half Bath',\n",
       " 'Bedroom AbvGr',\n",
       " 'Kitchen AbvGr',\n",
       " 'Kitchen Qual',\n",
       " 'TotRms AbvGrd',\n",
       " 'Functional',\n",
       " 'Fireplaces',\n",
       " 'Fireplace Qu',\n",
       " 'Garage Type',\n",
       " 'Garage Yr Blt',\n",
       " 'Garage Finish',\n",
       " 'Garage Cars',\n",
       " 'Garage Area',\n",
       " 'Garage Qual',\n",
       " 'Garage Cond',\n",
       " 'Paved Drive',\n",
       " 'Wood Deck SF',\n",
       " 'Open Porch SF',\n",
       " 'Enclosed Porch',\n",
       " '3Ssn Porch',\n",
       " 'Screen Porch',\n",
       " 'Pool Area',\n",
       " 'Pool QC',\n",
       " 'Fence',\n",
       " 'Misc Feature',\n",
       " 'Misc Val',\n",
       " 'Mo Sold',\n",
       " 'Yr Sold',\n",
       " 'Sale Type',\n",
       " 'SalePrice',\n",
       " 'Exterior 2nd_AsphShn',\n",
       " 'Exterior 2nd_Brk Cmn',\n",
       " 'Exterior 2nd_BrkFace',\n",
       " 'Exterior 2nd_CBlock',\n",
       " 'Exterior 2nd_CmentBd',\n",
       " 'Exterior 2nd_HdBoard',\n",
       " 'Exterior 2nd_ImStucc',\n",
       " 'Exterior 2nd_MetalSd',\n",
       " 'Exterior 2nd_Plywood',\n",
       " 'Exterior 2nd_Stone',\n",
       " 'Exterior 2nd_Stucco',\n",
       " 'Exterior 2nd_VinylSd',\n",
       " 'Exterior 2nd_Wd Sdng',\n",
       " 'Exterior 2nd_Wd Shng']"
      ]
     },
     "execution_count": 3,
     "metadata": {},
     "output_type": "execute_result"
    }
   ],
   "source": [
    "list(train.columns)"
   ]
  },
  {
   "cell_type": "code",
   "execution_count": 4,
   "metadata": {},
   "outputs": [],
   "source": [
    "X = train[['Exterior 2nd_AsphShn',\n",
    " 'Exterior 2nd_Brk Cmn',\n",
    " 'Exterior 2nd_BrkFace',\n",
    " 'Exterior 2nd_CBlock',\n",
    " 'Exterior 2nd_CmentBd',\n",
    " 'Exterior 2nd_HdBoard',\n",
    " 'Exterior 2nd_ImStucc',\n",
    " 'Exterior 2nd_MetalSd',\n",
    " 'Exterior 2nd_Plywood',\n",
    " 'Exterior 2nd_Stone',\n",
    " 'Exterior 2nd_Stucco',\n",
    " 'Exterior 2nd_VinylSd',\n",
    " 'Exterior 2nd_Wd Sdng',\n",
    " 'Exterior 2nd_Wd Shng']]\n",
    "y = train['SalePrice']\n",
    "\n",
    "X_train, X_test, y_train, y_test = train_test_split(X, y, random_state = 42)\n",
    "\n",
    "ols = LinearRegression()\n",
    "ols.fit(X_train, y_train)\n",
    "\n",
    "def evaluate_model(model, X, y): \n",
    "    \n",
    "    y_train_hat = ols.predict(X)\n",
    "\n",
    "    mse = mean_squared_error(y, y_train_hat)\n",
    "    rmse = mse ** .5\n",
    "    r2 = r2_score(y, y_train_hat)\n",
    "\n",
    "    print(f'R^2: {r2}')\n",
    "    print(f'MSE: {mse}')\n",
    "    print(f'RMSE: {rmse}')"
   ]
  },
  {
   "cell_type": "code",
   "execution_count": 5,
   "metadata": {},
   "outputs": [
    {
     "name": "stdout",
     "output_type": "stream",
     "text": [
      "R^2: 0.17227239670416195\n",
      "MSE: 5234979969.277603\n",
      "RMSE: 72353.16143250137\n"
     ]
    }
   ],
   "source": [
    "evaluate_model(ols, X_train, y_train)"
   ]
  },
  {
   "cell_type": "code",
   "execution_count": 6,
   "metadata": {},
   "outputs": [
    {
     "name": "stdout",
     "output_type": "stream",
     "text": [
      "R^2: 0.18750767687646586\n",
      "MSE: 4988722957.166268\n",
      "RMSE: 70630.89237130074\n"
     ]
    }
   ],
   "source": [
    "evaluate_model(ols, X_test, y_test)"
   ]
  },
  {
   "cell_type": "code",
   "execution_count": 7,
   "metadata": {},
   "outputs": [
    {
     "data": {
      "text/plain": [
       "0.1438569744820822"
      ]
     },
     "execution_count": 7,
     "metadata": {},
     "output_type": "execute_result"
    }
   ],
   "source": [
    "cross_val_score(ols, X_train, y_train).mean()"
   ]
  },
  {
   "cell_type": "code",
   "execution_count": null,
   "metadata": {},
   "outputs": [],
   "source": []
  },
  {
   "cell_type": "markdown",
   "metadata": {},
   "source": [
    "### Mas Vnr Type"
   ]
  },
  {
   "cell_type": "code",
   "execution_count": 1,
   "metadata": {},
   "outputs": [],
   "source": [
    "import numpy as np\n",
    "import pandas as pd\n",
    "import matplotlib.pyplot as plt\n",
    "import seaborn as sns\n",
    "\n",
    "from sklearn.model_selection import train_test_split, cross_val_score\n",
    "from sklearn.linear_model import LinearRegression\n",
    "from sklearn.preprocessing import StandardScaler, PolynomialFeatures\n",
    "from sklearn.metrics import r2_score, mean_squared_error\n",
    "train = pd.read_csv('../datasets/train.csv')\n",
    "test = pd.read_csv('../datasets/test.csv')"
   ]
  },
  {
   "cell_type": "code",
   "execution_count": 2,
   "metadata": {},
   "outputs": [],
   "source": [
    "train = pd.get_dummies(train, columns = ['Mas Vnr Type'], drop_first = True)"
   ]
  },
  {
   "cell_type": "code",
   "execution_count": 3,
   "metadata": {},
   "outputs": [
    {
     "data": {
      "text/plain": [
       "['Id',\n",
       " 'PID',\n",
       " 'MS SubClass',\n",
       " 'MS Zoning',\n",
       " 'Lot Frontage',\n",
       " 'Lot Area',\n",
       " 'Street',\n",
       " 'Alley',\n",
       " 'Lot Shape',\n",
       " 'Land Contour',\n",
       " 'Utilities',\n",
       " 'Lot Config',\n",
       " 'Land Slope',\n",
       " 'Neighborhood',\n",
       " 'Condition 1',\n",
       " 'Condition 2',\n",
       " 'Bldg Type',\n",
       " 'House Style',\n",
       " 'Overall Qual',\n",
       " 'Overall Cond',\n",
       " 'Year Built',\n",
       " 'Year Remod/Add',\n",
       " 'Roof Style',\n",
       " 'Roof Matl',\n",
       " 'Exterior 1st',\n",
       " 'Exterior 2nd',\n",
       " 'Mas Vnr Area',\n",
       " 'Exter Qual',\n",
       " 'Exter Cond',\n",
       " 'Foundation',\n",
       " 'Bsmt Qual',\n",
       " 'Bsmt Cond',\n",
       " 'Bsmt Exposure',\n",
       " 'BsmtFin Type 1',\n",
       " 'BsmtFin SF 1',\n",
       " 'BsmtFin Type 2',\n",
       " 'BsmtFin SF 2',\n",
       " 'Bsmt Unf SF',\n",
       " 'Total Bsmt SF',\n",
       " 'Heating',\n",
       " 'Heating QC',\n",
       " 'Central Air',\n",
       " 'Electrical',\n",
       " '1st Flr SF',\n",
       " '2nd Flr SF',\n",
       " 'Low Qual Fin SF',\n",
       " 'Gr Liv Area',\n",
       " 'Bsmt Full Bath',\n",
       " 'Bsmt Half Bath',\n",
       " 'Full Bath',\n",
       " 'Half Bath',\n",
       " 'Bedroom AbvGr',\n",
       " 'Kitchen AbvGr',\n",
       " 'Kitchen Qual',\n",
       " 'TotRms AbvGrd',\n",
       " 'Functional',\n",
       " 'Fireplaces',\n",
       " 'Fireplace Qu',\n",
       " 'Garage Type',\n",
       " 'Garage Yr Blt',\n",
       " 'Garage Finish',\n",
       " 'Garage Cars',\n",
       " 'Garage Area',\n",
       " 'Garage Qual',\n",
       " 'Garage Cond',\n",
       " 'Paved Drive',\n",
       " 'Wood Deck SF',\n",
       " 'Open Porch SF',\n",
       " 'Enclosed Porch',\n",
       " '3Ssn Porch',\n",
       " 'Screen Porch',\n",
       " 'Pool Area',\n",
       " 'Pool QC',\n",
       " 'Fence',\n",
       " 'Misc Feature',\n",
       " 'Misc Val',\n",
       " 'Mo Sold',\n",
       " 'Yr Sold',\n",
       " 'Sale Type',\n",
       " 'SalePrice',\n",
       " 'Mas Vnr Type_BrkFace',\n",
       " 'Mas Vnr Type_None',\n",
       " 'Mas Vnr Type_Stone']"
      ]
     },
     "execution_count": 3,
     "metadata": {},
     "output_type": "execute_result"
    }
   ],
   "source": [
    "list(train.columns)"
   ]
  },
  {
   "cell_type": "code",
   "execution_count": 4,
   "metadata": {},
   "outputs": [],
   "source": [
    "X = train[['Mas Vnr Type_BrkFace',\n",
    " 'Mas Vnr Type_None',\n",
    " 'Mas Vnr Type_Stone']]\n",
    "y = train['SalePrice']\n",
    "\n",
    "X_train, X_test, y_train, y_test = train_test_split(X, y, random_state = 42)\n",
    "\n",
    "ols = LinearRegression()\n",
    "ols.fit(X_train, y_train)\n",
    "\n",
    "def evaluate_model(model, X, y): \n",
    "    \n",
    "    y_train_hat = ols.predict(X)\n",
    "\n",
    "    mse = mean_squared_error(y, y_train_hat)\n",
    "    rmse = mse ** .5\n",
    "    r2 = r2_score(y, y_train_hat)\n",
    "\n",
    "    print(f'R^2: {r2}')\n",
    "    print(f'MSE: {mse}')\n",
    "    print(f'RMSE: {rmse}')"
   ]
  },
  {
   "cell_type": "code",
   "execution_count": 5,
   "metadata": {},
   "outputs": [
    {
     "name": "stdout",
     "output_type": "stream",
     "text": [
      "R^2: 0.2091143191319228\n",
      "MSE: 5001972485.691153\n",
      "RMSE: 70724.62432343599\n"
     ]
    }
   ],
   "source": [
    "evaluate_model(ols, X_train, y_train)"
   ]
  },
  {
   "cell_type": "code",
   "execution_count": 6,
   "metadata": {},
   "outputs": [
    {
     "name": "stdout",
     "output_type": "stream",
     "text": [
      "R^2: 0.204533166683447\n",
      "MSE: 4884186028.705749\n",
      "RMSE: 69886.95177717904\n"
     ]
    }
   ],
   "source": [
    "evaluate_model(ols, X_test, y_test)"
   ]
  },
  {
   "cell_type": "code",
   "execution_count": 7,
   "metadata": {},
   "outputs": [
    {
     "data": {
      "text/plain": [
       "0.19170063189006578"
      ]
     },
     "execution_count": 7,
     "metadata": {},
     "output_type": "execute_result"
    }
   ],
   "source": [
    "cross_val_score(ols, X_train, y_train).mean()"
   ]
  },
  {
   "cell_type": "code",
   "execution_count": null,
   "metadata": {},
   "outputs": [],
   "source": []
  },
  {
   "cell_type": "markdown",
   "metadata": {},
   "source": [
    "### Msn Vnr Area"
   ]
  },
  {
   "cell_type": "code",
   "execution_count": 1,
   "metadata": {},
   "outputs": [],
   "source": [
    "import numpy as np\n",
    "import pandas as pd\n",
    "import matplotlib.pyplot as plt\n",
    "import seaborn as sns\n",
    "\n",
    "from sklearn.model_selection import train_test_split, cross_val_score\n",
    "from sklearn.linear_model import LinearRegression\n",
    "from sklearn.preprocessing import StandardScaler, PolynomialFeatures\n",
    "from sklearn.metrics import r2_score, mean_squared_error\n",
    "train = pd.read_csv('../datasets/train.csv')\n",
    "test = pd.read_csv('../datasets/test.csv')"
   ]
  },
  {
   "cell_type": "code",
   "execution_count": 3,
   "metadata": {},
   "outputs": [],
   "source": [
    "train = train[train['Mas Vnr Area'].notna()]"
   ]
  },
  {
   "cell_type": "code",
   "execution_count": 4,
   "metadata": {},
   "outputs": [],
   "source": [
    "X = train[['Mas Vnr Area']]\n",
    "y = train['SalePrice']\n",
    "\n",
    "X_train, X_test, y_train, y_test = train_test_split(X, y, random_state = 42)\n",
    "\n",
    "ols = LinearRegression()\n",
    "ols.fit(X_train, y_train)\n",
    "\n",
    "def evaluate_model(model, X, y): \n",
    "    \n",
    "    y_train_hat = ols.predict(X)\n",
    "\n",
    "    mse = mean_squared_error(y, y_train_hat)\n",
    "    rmse = mse ** .5\n",
    "    r2 = r2_score(y, y_train_hat)\n",
    "\n",
    "    print(f'R^2: {r2}')\n",
    "    print(f'MSE: {mse}')\n",
    "    print(f'RMSE: {rmse}')"
   ]
  },
  {
   "cell_type": "code",
   "execution_count": 5,
   "metadata": {},
   "outputs": [
    {
     "name": "stdout",
     "output_type": "stream",
     "text": [
      "R^2: 0.2726607095257736\n",
      "MSE: 4608880191.632938\n",
      "RMSE: 67888.7339080126\n"
     ]
    }
   ],
   "source": [
    "evaluate_model(ols, X_train, y_train)"
   ]
  },
  {
   "cell_type": "code",
   "execution_count": 6,
   "metadata": {},
   "outputs": [
    {
     "name": "stdout",
     "output_type": "stream",
     "text": [
      "R^2: 0.229682778944569\n",
      "MSE: 4636669360.262207\n",
      "RMSE: 68093.09333744654\n"
     ]
    }
   ],
   "source": [
    "evaluate_model(ols, X_test, y_test)"
   ]
  },
  {
   "cell_type": "code",
   "execution_count": 7,
   "metadata": {},
   "outputs": [
    {
     "data": {
      "text/plain": [
       "0.2640115163905553"
      ]
     },
     "execution_count": 7,
     "metadata": {},
     "output_type": "execute_result"
    }
   ],
   "source": [
    "cross_val_score(ols, X_train, y_train).mean()"
   ]
  },
  {
   "cell_type": "code",
   "execution_count": null,
   "metadata": {},
   "outputs": [],
   "source": []
  },
  {
   "cell_type": "markdown",
   "metadata": {},
   "source": [
    "### Exter Qual"
   ]
  },
  {
   "cell_type": "code",
   "execution_count": 1,
   "metadata": {},
   "outputs": [],
   "source": [
    "import numpy as np\n",
    "import pandas as pd\n",
    "import matplotlib.pyplot as plt\n",
    "import seaborn as sns\n",
    "\n",
    "from sklearn.model_selection import train_test_split, cross_val_score\n",
    "from sklearn.linear_model import LinearRegression\n",
    "from sklearn.preprocessing import StandardScaler, PolynomialFeatures\n",
    "from sklearn.metrics import r2_score, mean_squared_error\n",
    "train = pd.read_csv('../datasets/train.csv')\n",
    "test = pd.read_csv('../datasets/test.csv')"
   ]
  },
  {
   "cell_type": "code",
   "execution_count": 2,
   "metadata": {},
   "outputs": [],
   "source": [
    "train = pd.get_dummies(train, columns = ['Exter Qual'], drop_first = True)"
   ]
  },
  {
   "cell_type": "code",
   "execution_count": 3,
   "metadata": {},
   "outputs": [
    {
     "data": {
      "text/plain": [
       "['Id',\n",
       " 'PID',\n",
       " 'MS SubClass',\n",
       " 'MS Zoning',\n",
       " 'Lot Frontage',\n",
       " 'Lot Area',\n",
       " 'Street',\n",
       " 'Alley',\n",
       " 'Lot Shape',\n",
       " 'Land Contour',\n",
       " 'Utilities',\n",
       " 'Lot Config',\n",
       " 'Land Slope',\n",
       " 'Neighborhood',\n",
       " 'Condition 1',\n",
       " 'Condition 2',\n",
       " 'Bldg Type',\n",
       " 'House Style',\n",
       " 'Overall Qual',\n",
       " 'Overall Cond',\n",
       " 'Year Built',\n",
       " 'Year Remod/Add',\n",
       " 'Roof Style',\n",
       " 'Roof Matl',\n",
       " 'Exterior 1st',\n",
       " 'Exterior 2nd',\n",
       " 'Mas Vnr Type',\n",
       " 'Mas Vnr Area',\n",
       " 'Exter Cond',\n",
       " 'Foundation',\n",
       " 'Bsmt Qual',\n",
       " 'Bsmt Cond',\n",
       " 'Bsmt Exposure',\n",
       " 'BsmtFin Type 1',\n",
       " 'BsmtFin SF 1',\n",
       " 'BsmtFin Type 2',\n",
       " 'BsmtFin SF 2',\n",
       " 'Bsmt Unf SF',\n",
       " 'Total Bsmt SF',\n",
       " 'Heating',\n",
       " 'Heating QC',\n",
       " 'Central Air',\n",
       " 'Electrical',\n",
       " '1st Flr SF',\n",
       " '2nd Flr SF',\n",
       " 'Low Qual Fin SF',\n",
       " 'Gr Liv Area',\n",
       " 'Bsmt Full Bath',\n",
       " 'Bsmt Half Bath',\n",
       " 'Full Bath',\n",
       " 'Half Bath',\n",
       " 'Bedroom AbvGr',\n",
       " 'Kitchen AbvGr',\n",
       " 'Kitchen Qual',\n",
       " 'TotRms AbvGrd',\n",
       " 'Functional',\n",
       " 'Fireplaces',\n",
       " 'Fireplace Qu',\n",
       " 'Garage Type',\n",
       " 'Garage Yr Blt',\n",
       " 'Garage Finish',\n",
       " 'Garage Cars',\n",
       " 'Garage Area',\n",
       " 'Garage Qual',\n",
       " 'Garage Cond',\n",
       " 'Paved Drive',\n",
       " 'Wood Deck SF',\n",
       " 'Open Porch SF',\n",
       " 'Enclosed Porch',\n",
       " '3Ssn Porch',\n",
       " 'Screen Porch',\n",
       " 'Pool Area',\n",
       " 'Pool QC',\n",
       " 'Fence',\n",
       " 'Misc Feature',\n",
       " 'Misc Val',\n",
       " 'Mo Sold',\n",
       " 'Yr Sold',\n",
       " 'Sale Type',\n",
       " 'SalePrice',\n",
       " 'Exter Qual_Fa',\n",
       " 'Exter Qual_Gd',\n",
       " 'Exter Qual_TA']"
      ]
     },
     "execution_count": 3,
     "metadata": {},
     "output_type": "execute_result"
    }
   ],
   "source": [
    "list(train.columns)"
   ]
  },
  {
   "cell_type": "code",
   "execution_count": 4,
   "metadata": {},
   "outputs": [],
   "source": [
    "X = train[['Exter Qual_Fa',\n",
    " 'Exter Qual_Gd',\n",
    " 'Exter Qual_TA']]\n",
    "y = train['SalePrice']\n",
    "\n",
    "X_train, X_test, y_train, y_test = train_test_split(X, y, random_state = 42)\n",
    "\n",
    "ols = LinearRegression()\n",
    "ols.fit(X_train, y_train)\n",
    "\n",
    "def evaluate_model(model, X, y): \n",
    "    \n",
    "    y_train_hat = ols.predict(X)\n",
    "\n",
    "    mse = mean_squared_error(y, y_train_hat)\n",
    "    rmse = mse ** .5\n",
    "    r2 = r2_score(y, y_train_hat)\n",
    "\n",
    "    print(f'R^2: {r2}')\n",
    "    print(f'MSE: {mse}')\n",
    "    print(f'RMSE: {rmse}')"
   ]
  },
  {
   "cell_type": "code",
   "execution_count": 5,
   "metadata": {},
   "outputs": [
    {
     "name": "stdout",
     "output_type": "stream",
     "text": [
      "R^2: 0.5300328620089694\n",
      "MSE: 2972316670.1285477\n",
      "RMSE: 54518.956979463095\n"
     ]
    }
   ],
   "source": [
    "evaluate_model(ols, X_train, y_train)"
   ]
  },
  {
   "cell_type": "code",
   "execution_count": 6,
   "metadata": {},
   "outputs": [
    {
     "name": "stdout",
     "output_type": "stream",
     "text": [
      "R^2: 0.5035582272406038\n",
      "MSE: 3048164761.902086\n",
      "RMSE: 55210.18712069436\n"
     ]
    }
   ],
   "source": [
    "evaluate_model(ols, X_test, y_test)"
   ]
  },
  {
   "cell_type": "code",
   "execution_count": 7,
   "metadata": {},
   "outputs": [
    {
     "data": {
      "text/plain": [
       "0.5237333224564642"
      ]
     },
     "execution_count": 7,
     "metadata": {},
     "output_type": "execute_result"
    }
   ],
   "source": [
    "cross_val_score(ols, X_train, y_train).mean()"
   ]
  },
  {
   "cell_type": "code",
   "execution_count": null,
   "metadata": {},
   "outputs": [],
   "source": []
  },
  {
   "cell_type": "markdown",
   "metadata": {},
   "source": [
    "### Exter Cond"
   ]
  },
  {
   "cell_type": "code",
   "execution_count": 1,
   "metadata": {},
   "outputs": [],
   "source": [
    "import numpy as np\n",
    "import pandas as pd\n",
    "import matplotlib.pyplot as plt\n",
    "import seaborn as sns\n",
    "\n",
    "from sklearn.model_selection import train_test_split, cross_val_score\n",
    "from sklearn.linear_model import LinearRegression\n",
    "from sklearn.preprocessing import StandardScaler, PolynomialFeatures\n",
    "from sklearn.metrics import r2_score, mean_squared_error\n",
    "train = pd.read_csv('../datasets/train.csv')\n",
    "test = pd.read_csv('../datasets/test.csv')"
   ]
  },
  {
   "cell_type": "code",
   "execution_count": 2,
   "metadata": {},
   "outputs": [],
   "source": [
    "train = pd.get_dummies(train, columns = ['Exter Cond'], drop_first = True)"
   ]
  },
  {
   "cell_type": "code",
   "execution_count": 3,
   "metadata": {},
   "outputs": [
    {
     "data": {
      "text/plain": [
       "['Id',\n",
       " 'PID',\n",
       " 'MS SubClass',\n",
       " 'MS Zoning',\n",
       " 'Lot Frontage',\n",
       " 'Lot Area',\n",
       " 'Street',\n",
       " 'Alley',\n",
       " 'Lot Shape',\n",
       " 'Land Contour',\n",
       " 'Utilities',\n",
       " 'Lot Config',\n",
       " 'Land Slope',\n",
       " 'Neighborhood',\n",
       " 'Condition 1',\n",
       " 'Condition 2',\n",
       " 'Bldg Type',\n",
       " 'House Style',\n",
       " 'Overall Qual',\n",
       " 'Overall Cond',\n",
       " 'Year Built',\n",
       " 'Year Remod/Add',\n",
       " 'Roof Style',\n",
       " 'Roof Matl',\n",
       " 'Exterior 1st',\n",
       " 'Exterior 2nd',\n",
       " 'Mas Vnr Type',\n",
       " 'Mas Vnr Area',\n",
       " 'Exter Qual',\n",
       " 'Foundation',\n",
       " 'Bsmt Qual',\n",
       " 'Bsmt Cond',\n",
       " 'Bsmt Exposure',\n",
       " 'BsmtFin Type 1',\n",
       " 'BsmtFin SF 1',\n",
       " 'BsmtFin Type 2',\n",
       " 'BsmtFin SF 2',\n",
       " 'Bsmt Unf SF',\n",
       " 'Total Bsmt SF',\n",
       " 'Heating',\n",
       " 'Heating QC',\n",
       " 'Central Air',\n",
       " 'Electrical',\n",
       " '1st Flr SF',\n",
       " '2nd Flr SF',\n",
       " 'Low Qual Fin SF',\n",
       " 'Gr Liv Area',\n",
       " 'Bsmt Full Bath',\n",
       " 'Bsmt Half Bath',\n",
       " 'Full Bath',\n",
       " 'Half Bath',\n",
       " 'Bedroom AbvGr',\n",
       " 'Kitchen AbvGr',\n",
       " 'Kitchen Qual',\n",
       " 'TotRms AbvGrd',\n",
       " 'Functional',\n",
       " 'Fireplaces',\n",
       " 'Fireplace Qu',\n",
       " 'Garage Type',\n",
       " 'Garage Yr Blt',\n",
       " 'Garage Finish',\n",
       " 'Garage Cars',\n",
       " 'Garage Area',\n",
       " 'Garage Qual',\n",
       " 'Garage Cond',\n",
       " 'Paved Drive',\n",
       " 'Wood Deck SF',\n",
       " 'Open Porch SF',\n",
       " 'Enclosed Porch',\n",
       " '3Ssn Porch',\n",
       " 'Screen Porch',\n",
       " 'Pool Area',\n",
       " 'Pool QC',\n",
       " 'Fence',\n",
       " 'Misc Feature',\n",
       " 'Misc Val',\n",
       " 'Mo Sold',\n",
       " 'Yr Sold',\n",
       " 'Sale Type',\n",
       " 'SalePrice',\n",
       " 'Exter Cond_Fa',\n",
       " 'Exter Cond_Gd',\n",
       " 'Exter Cond_Po',\n",
       " 'Exter Cond_TA']"
      ]
     },
     "execution_count": 3,
     "metadata": {},
     "output_type": "execute_result"
    }
   ],
   "source": [
    "list(train.columns)"
   ]
  },
  {
   "cell_type": "code",
   "execution_count": 4,
   "metadata": {},
   "outputs": [],
   "source": [
    "X = train[['Exter Cond_Fa',\n",
    " 'Exter Cond_Gd',\n",
    " 'Exter Cond_Po',\n",
    " 'Exter Cond_TA']]\n",
    "y = train['SalePrice']\n",
    "\n",
    "X_train, X_test, y_train, y_test = train_test_split(X, y, random_state = 42)\n",
    "\n",
    "ols = LinearRegression()\n",
    "ols.fit(X_train, y_train)\n",
    "\n",
    "def evaluate_model(model, X, y): \n",
    "    \n",
    "    y_train_hat = ols.predict(X)\n",
    "\n",
    "    mse = mean_squared_error(y, y_train_hat)\n",
    "    rmse = mse ** .5\n",
    "    r2 = r2_score(y, y_train_hat)\n",
    "\n",
    "    print(f'R^2: {r2}')\n",
    "    print(f'MSE: {mse}')\n",
    "    print(f'RMSE: {rmse}')"
   ]
  },
  {
   "cell_type": "code",
   "execution_count": 5,
   "metadata": {},
   "outputs": [
    {
     "name": "stdout",
     "output_type": "stream",
     "text": [
      "R^2: 0.03377264438638228\n",
      "MSE: 6110924454.210224\n",
      "RMSE: 78172.40212639129\n"
     ]
    }
   ],
   "source": [
    "evaluate_model(ols, X_train, y_train)"
   ]
  },
  {
   "cell_type": "code",
   "execution_count": 6,
   "metadata": {},
   "outputs": [
    {
     "name": "stdout",
     "output_type": "stream",
     "text": [
      "R^2: 0.02988182163750519\n",
      "MSE: 5956549606.469896\n",
      "RMSE: 77178.68621886418\n"
     ]
    }
   ],
   "source": [
    "evaluate_model(ols, X_test, y_test)"
   ]
  },
  {
   "cell_type": "code",
   "execution_count": 7,
   "metadata": {},
   "outputs": [
    {
     "data": {
      "text/plain": [
       "0.014579384079484248"
      ]
     },
     "execution_count": 7,
     "metadata": {},
     "output_type": "execute_result"
    }
   ],
   "source": [
    "cross_val_score(ols, X_train, y_train).mean()"
   ]
  },
  {
   "cell_type": "code",
   "execution_count": null,
   "metadata": {},
   "outputs": [],
   "source": []
  },
  {
   "cell_type": "markdown",
   "metadata": {},
   "source": [
    "### Foundation"
   ]
  },
  {
   "cell_type": "code",
   "execution_count": 1,
   "metadata": {},
   "outputs": [],
   "source": [
    "import numpy as np\n",
    "import pandas as pd\n",
    "import matplotlib.pyplot as plt\n",
    "import seaborn as sns\n",
    "\n",
    "from sklearn.model_selection import train_test_split, cross_val_score\n",
    "from sklearn.linear_model import LinearRegression\n",
    "from sklearn.preprocessing import StandardScaler, PolynomialFeatures\n",
    "from sklearn.metrics import r2_score, mean_squared_error\n",
    "train = pd.read_csv('../datasets/train.csv')\n",
    "test = pd.read_csv('../datasets/test.csv')"
   ]
  },
  {
   "cell_type": "code",
   "execution_count": 2,
   "metadata": {},
   "outputs": [],
   "source": [
    "train = pd.get_dummies(train, columns = ['Foundation'], drop_first = True)"
   ]
  },
  {
   "cell_type": "code",
   "execution_count": 3,
   "metadata": {},
   "outputs": [
    {
     "data": {
      "text/plain": [
       "['Id',\n",
       " 'PID',\n",
       " 'MS SubClass',\n",
       " 'MS Zoning',\n",
       " 'Lot Frontage',\n",
       " 'Lot Area',\n",
       " 'Street',\n",
       " 'Alley',\n",
       " 'Lot Shape',\n",
       " 'Land Contour',\n",
       " 'Utilities',\n",
       " 'Lot Config',\n",
       " 'Land Slope',\n",
       " 'Neighborhood',\n",
       " 'Condition 1',\n",
       " 'Condition 2',\n",
       " 'Bldg Type',\n",
       " 'House Style',\n",
       " 'Overall Qual',\n",
       " 'Overall Cond',\n",
       " 'Year Built',\n",
       " 'Year Remod/Add',\n",
       " 'Roof Style',\n",
       " 'Roof Matl',\n",
       " 'Exterior 1st',\n",
       " 'Exterior 2nd',\n",
       " 'Mas Vnr Type',\n",
       " 'Mas Vnr Area',\n",
       " 'Exter Qual',\n",
       " 'Exter Cond',\n",
       " 'Bsmt Qual',\n",
       " 'Bsmt Cond',\n",
       " 'Bsmt Exposure',\n",
       " 'BsmtFin Type 1',\n",
       " 'BsmtFin SF 1',\n",
       " 'BsmtFin Type 2',\n",
       " 'BsmtFin SF 2',\n",
       " 'Bsmt Unf SF',\n",
       " 'Total Bsmt SF',\n",
       " 'Heating',\n",
       " 'Heating QC',\n",
       " 'Central Air',\n",
       " 'Electrical',\n",
       " '1st Flr SF',\n",
       " '2nd Flr SF',\n",
       " 'Low Qual Fin SF',\n",
       " 'Gr Liv Area',\n",
       " 'Bsmt Full Bath',\n",
       " 'Bsmt Half Bath',\n",
       " 'Full Bath',\n",
       " 'Half Bath',\n",
       " 'Bedroom AbvGr',\n",
       " 'Kitchen AbvGr',\n",
       " 'Kitchen Qual',\n",
       " 'TotRms AbvGrd',\n",
       " 'Functional',\n",
       " 'Fireplaces',\n",
       " 'Fireplace Qu',\n",
       " 'Garage Type',\n",
       " 'Garage Yr Blt',\n",
       " 'Garage Finish',\n",
       " 'Garage Cars',\n",
       " 'Garage Area',\n",
       " 'Garage Qual',\n",
       " 'Garage Cond',\n",
       " 'Paved Drive',\n",
       " 'Wood Deck SF',\n",
       " 'Open Porch SF',\n",
       " 'Enclosed Porch',\n",
       " '3Ssn Porch',\n",
       " 'Screen Porch',\n",
       " 'Pool Area',\n",
       " 'Pool QC',\n",
       " 'Fence',\n",
       " 'Misc Feature',\n",
       " 'Misc Val',\n",
       " 'Mo Sold',\n",
       " 'Yr Sold',\n",
       " 'Sale Type',\n",
       " 'SalePrice',\n",
       " 'Foundation_CBlock',\n",
       " 'Foundation_PConc',\n",
       " 'Foundation_Slab',\n",
       " 'Foundation_Stone',\n",
       " 'Foundation_Wood']"
      ]
     },
     "execution_count": 3,
     "metadata": {},
     "output_type": "execute_result"
    }
   ],
   "source": [
    "list(train.columns)"
   ]
  },
  {
   "cell_type": "code",
   "execution_count": 4,
   "metadata": {},
   "outputs": [],
   "source": [
    "X = train[['Foundation_CBlock',\n",
    " 'Foundation_PConc',\n",
    " 'Foundation_Slab',\n",
    " 'Foundation_Stone',\n",
    " 'Foundation_Wood']]\n",
    "y = train['SalePrice']\n",
    "\n",
    "X_train, X_test, y_train, y_test = train_test_split(X, y, random_state = 42)\n",
    "\n",
    "ols = LinearRegression()\n",
    "ols.fit(X_train, y_train)\n",
    "\n",
    "def evaluate_model(model, X, y): \n",
    "    \n",
    "    y_train_hat = ols.predict(X)\n",
    "\n",
    "    mse = mean_squared_error(y, y_train_hat)\n",
    "    rmse = mse ** .5\n",
    "    r2 = r2_score(y, y_train_hat)\n",
    "\n",
    "    print(f'R^2: {r2}')\n",
    "    print(f'MSE: {mse}')\n",
    "    print(f'RMSE: {rmse}')"
   ]
  },
  {
   "cell_type": "code",
   "execution_count": 5,
   "metadata": {},
   "outputs": [
    {
     "name": "stdout",
     "output_type": "stream",
     "text": [
      "R^2: 0.28178283144814564\n",
      "MSE: 4542379009.699916\n",
      "RMSE: 67397.17360320028\n"
     ]
    }
   ],
   "source": [
    "evaluate_model(ols, X_train, y_train)"
   ]
  },
  {
   "cell_type": "code",
   "execution_count": 6,
   "metadata": {},
   "outputs": [
    {
     "name": "stdout",
     "output_type": "stream",
     "text": [
      "R^2: 0.3073361568638133\n",
      "MSE: 4252973126.648389\n",
      "RMSE: 65214.822905903755\n"
     ]
    }
   ],
   "source": [
    "evaluate_model(ols, X_test, y_test)"
   ]
  },
  {
   "cell_type": "code",
   "execution_count": 7,
   "metadata": {},
   "outputs": [
    {
     "data": {
      "text/plain": [
       "0.27151708043930356"
      ]
     },
     "execution_count": 7,
     "metadata": {},
     "output_type": "execute_result"
    }
   ],
   "source": [
    "cross_val_score(ols, X_train, y_train).mean()"
   ]
  },
  {
   "cell_type": "code",
   "execution_count": null,
   "metadata": {},
   "outputs": [],
   "source": []
  },
  {
   "cell_type": "markdown",
   "metadata": {},
   "source": [
    "### Bsmt Qual"
   ]
  },
  {
   "cell_type": "code",
   "execution_count": 1,
   "metadata": {},
   "outputs": [],
   "source": [
    "import numpy as np\n",
    "import pandas as pd\n",
    "import matplotlib.pyplot as plt\n",
    "import seaborn as sns\n",
    "\n",
    "from sklearn.model_selection import train_test_split, cross_val_score\n",
    "from sklearn.linear_model import LinearRegression\n",
    "from sklearn.preprocessing import StandardScaler, PolynomialFeatures\n",
    "from sklearn.metrics import r2_score, mean_squared_error\n",
    "train = pd.read_csv('../datasets/train.csv')\n",
    "test = pd.read_csv('../datasets/test.csv')"
   ]
  },
  {
   "cell_type": "code",
   "execution_count": 2,
   "metadata": {},
   "outputs": [],
   "source": [
    "train = pd.get_dummies(train, columns = ['Bsmt Qual'], drop_first = True)"
   ]
  },
  {
   "cell_type": "code",
   "execution_count": 3,
   "metadata": {},
   "outputs": [
    {
     "data": {
      "text/plain": [
       "['Id',\n",
       " 'PID',\n",
       " 'MS SubClass',\n",
       " 'MS Zoning',\n",
       " 'Lot Frontage',\n",
       " 'Lot Area',\n",
       " 'Street',\n",
       " 'Alley',\n",
       " 'Lot Shape',\n",
       " 'Land Contour',\n",
       " 'Utilities',\n",
       " 'Lot Config',\n",
       " 'Land Slope',\n",
       " 'Neighborhood',\n",
       " 'Condition 1',\n",
       " 'Condition 2',\n",
       " 'Bldg Type',\n",
       " 'House Style',\n",
       " 'Overall Qual',\n",
       " 'Overall Cond',\n",
       " 'Year Built',\n",
       " 'Year Remod/Add',\n",
       " 'Roof Style',\n",
       " 'Roof Matl',\n",
       " 'Exterior 1st',\n",
       " 'Exterior 2nd',\n",
       " 'Mas Vnr Type',\n",
       " 'Mas Vnr Area',\n",
       " 'Exter Qual',\n",
       " 'Exter Cond',\n",
       " 'Foundation',\n",
       " 'Bsmt Cond',\n",
       " 'Bsmt Exposure',\n",
       " 'BsmtFin Type 1',\n",
       " 'BsmtFin SF 1',\n",
       " 'BsmtFin Type 2',\n",
       " 'BsmtFin SF 2',\n",
       " 'Bsmt Unf SF',\n",
       " 'Total Bsmt SF',\n",
       " 'Heating',\n",
       " 'Heating QC',\n",
       " 'Central Air',\n",
       " 'Electrical',\n",
       " '1st Flr SF',\n",
       " '2nd Flr SF',\n",
       " 'Low Qual Fin SF',\n",
       " 'Gr Liv Area',\n",
       " 'Bsmt Full Bath',\n",
       " 'Bsmt Half Bath',\n",
       " 'Full Bath',\n",
       " 'Half Bath',\n",
       " 'Bedroom AbvGr',\n",
       " 'Kitchen AbvGr',\n",
       " 'Kitchen Qual',\n",
       " 'TotRms AbvGrd',\n",
       " 'Functional',\n",
       " 'Fireplaces',\n",
       " 'Fireplace Qu',\n",
       " 'Garage Type',\n",
       " 'Garage Yr Blt',\n",
       " 'Garage Finish',\n",
       " 'Garage Cars',\n",
       " 'Garage Area',\n",
       " 'Garage Qual',\n",
       " 'Garage Cond',\n",
       " 'Paved Drive',\n",
       " 'Wood Deck SF',\n",
       " 'Open Porch SF',\n",
       " 'Enclosed Porch',\n",
       " '3Ssn Porch',\n",
       " 'Screen Porch',\n",
       " 'Pool Area',\n",
       " 'Pool QC',\n",
       " 'Fence',\n",
       " 'Misc Feature',\n",
       " 'Misc Val',\n",
       " 'Mo Sold',\n",
       " 'Yr Sold',\n",
       " 'Sale Type',\n",
       " 'SalePrice',\n",
       " 'Bsmt Qual_Fa',\n",
       " 'Bsmt Qual_Gd',\n",
       " 'Bsmt Qual_Po',\n",
       " 'Bsmt Qual_TA']"
      ]
     },
     "execution_count": 3,
     "metadata": {},
     "output_type": "execute_result"
    }
   ],
   "source": [
    "list(train.columns)"
   ]
  },
  {
   "cell_type": "code",
   "execution_count": 4,
   "metadata": {},
   "outputs": [],
   "source": [
    "X = train[['Bsmt Qual_Fa',\n",
    " 'Bsmt Qual_Gd',\n",
    " 'Bsmt Qual_Po',\n",
    " 'Bsmt Qual_TA']]\n",
    "y = train['SalePrice']\n",
    "\n",
    "X_train, X_test, y_train, y_test = train_test_split(X, y, random_state = 42)\n",
    "\n",
    "ols = LinearRegression()\n",
    "ols.fit(X_train, y_train)\n",
    "\n",
    "def evaluate_model(model, X, y): \n",
    "    \n",
    "    y_train_hat = ols.predict(X)\n",
    "\n",
    "    mse = mean_squared_error(y, y_train_hat)\n",
    "    rmse = mse ** .5\n",
    "    r2 = r2_score(y, y_train_hat)\n",
    "\n",
    "    print(f'R^2: {r2}')\n",
    "    print(f'MSE: {mse}')\n",
    "    print(f'RMSE: {rmse}')"
   ]
  },
  {
   "cell_type": "code",
   "execution_count": 5,
   "metadata": {},
   "outputs": [
    {
     "name": "stdout",
     "output_type": "stream",
     "text": [
      "R^2: 0.346716319914398\n",
      "MSE: 4131705848.502153\n",
      "RMSE: 64278.34665345829\n"
     ]
    }
   ],
   "source": [
    "evaluate_model(ols, X_train, y_train)"
   ]
  },
  {
   "cell_type": "code",
   "execution_count": 6,
   "metadata": {},
   "outputs": [
    {
     "name": "stdout",
     "output_type": "stream",
     "text": [
      "R^2: 0.34957805644051876\n",
      "MSE: 3993606818.5921073\n",
      "RMSE: 63194.99045487789\n"
     ]
    }
   ],
   "source": [
    "evaluate_model(ols, X_test, y_test)"
   ]
  },
  {
   "cell_type": "code",
   "execution_count": 7,
   "metadata": {},
   "outputs": [
    {
     "data": {
      "text/plain": [
       "0.34136461845274735"
      ]
     },
     "execution_count": 7,
     "metadata": {},
     "output_type": "execute_result"
    }
   ],
   "source": [
    "cross_val_score(ols, X_train, y_train).mean()"
   ]
  },
  {
   "cell_type": "code",
   "execution_count": null,
   "metadata": {},
   "outputs": [],
   "source": []
  },
  {
   "cell_type": "markdown",
   "metadata": {},
   "source": [
    "### Bsmt Cond"
   ]
  },
  {
   "cell_type": "code",
   "execution_count": 1,
   "metadata": {},
   "outputs": [],
   "source": [
    "import numpy as np\n",
    "import pandas as pd\n",
    "import matplotlib.pyplot as plt\n",
    "import seaborn as sns\n",
    "\n",
    "from sklearn.model_selection import train_test_split, cross_val_score\n",
    "from sklearn.linear_model import LinearRegression\n",
    "from sklearn.preprocessing import StandardScaler, PolynomialFeatures\n",
    "from sklearn.metrics import r2_score, mean_squared_error\n",
    "train = pd.read_csv('../datasets/train.csv')\n",
    "test = pd.read_csv('../datasets/test.csv')"
   ]
  },
  {
   "cell_type": "code",
   "execution_count": 2,
   "metadata": {},
   "outputs": [],
   "source": [
    "train = pd.get_dummies(train, columns = ['Bsmt Cond'], drop_first = True)"
   ]
  },
  {
   "cell_type": "code",
   "execution_count": 3,
   "metadata": {},
   "outputs": [
    {
     "data": {
      "text/plain": [
       "['Id',\n",
       " 'PID',\n",
       " 'MS SubClass',\n",
       " 'MS Zoning',\n",
       " 'Lot Frontage',\n",
       " 'Lot Area',\n",
       " 'Street',\n",
       " 'Alley',\n",
       " 'Lot Shape',\n",
       " 'Land Contour',\n",
       " 'Utilities',\n",
       " 'Lot Config',\n",
       " 'Land Slope',\n",
       " 'Neighborhood',\n",
       " 'Condition 1',\n",
       " 'Condition 2',\n",
       " 'Bldg Type',\n",
       " 'House Style',\n",
       " 'Overall Qual',\n",
       " 'Overall Cond',\n",
       " 'Year Built',\n",
       " 'Year Remod/Add',\n",
       " 'Roof Style',\n",
       " 'Roof Matl',\n",
       " 'Exterior 1st',\n",
       " 'Exterior 2nd',\n",
       " 'Mas Vnr Type',\n",
       " 'Mas Vnr Area',\n",
       " 'Exter Qual',\n",
       " 'Exter Cond',\n",
       " 'Foundation',\n",
       " 'Bsmt Qual',\n",
       " 'Bsmt Exposure',\n",
       " 'BsmtFin Type 1',\n",
       " 'BsmtFin SF 1',\n",
       " 'BsmtFin Type 2',\n",
       " 'BsmtFin SF 2',\n",
       " 'Bsmt Unf SF',\n",
       " 'Total Bsmt SF',\n",
       " 'Heating',\n",
       " 'Heating QC',\n",
       " 'Central Air',\n",
       " 'Electrical',\n",
       " '1st Flr SF',\n",
       " '2nd Flr SF',\n",
       " 'Low Qual Fin SF',\n",
       " 'Gr Liv Area',\n",
       " 'Bsmt Full Bath',\n",
       " 'Bsmt Half Bath',\n",
       " 'Full Bath',\n",
       " 'Half Bath',\n",
       " 'Bedroom AbvGr',\n",
       " 'Kitchen AbvGr',\n",
       " 'Kitchen Qual',\n",
       " 'TotRms AbvGrd',\n",
       " 'Functional',\n",
       " 'Fireplaces',\n",
       " 'Fireplace Qu',\n",
       " 'Garage Type',\n",
       " 'Garage Yr Blt',\n",
       " 'Garage Finish',\n",
       " 'Garage Cars',\n",
       " 'Garage Area',\n",
       " 'Garage Qual',\n",
       " 'Garage Cond',\n",
       " 'Paved Drive',\n",
       " 'Wood Deck SF',\n",
       " 'Open Porch SF',\n",
       " 'Enclosed Porch',\n",
       " '3Ssn Porch',\n",
       " 'Screen Porch',\n",
       " 'Pool Area',\n",
       " 'Pool QC',\n",
       " 'Fence',\n",
       " 'Misc Feature',\n",
       " 'Misc Val',\n",
       " 'Mo Sold',\n",
       " 'Yr Sold',\n",
       " 'Sale Type',\n",
       " 'SalePrice',\n",
       " 'Bsmt Cond_Fa',\n",
       " 'Bsmt Cond_Gd',\n",
       " 'Bsmt Cond_Po',\n",
       " 'Bsmt Cond_TA']"
      ]
     },
     "execution_count": 3,
     "metadata": {},
     "output_type": "execute_result"
    }
   ],
   "source": [
    "list(train.columns)"
   ]
  },
  {
   "cell_type": "code",
   "execution_count": 4,
   "metadata": {},
   "outputs": [],
   "source": [
    "X = train[['Bsmt Cond_Fa',\n",
    " 'Bsmt Cond_Gd',\n",
    " 'Bsmt Cond_Po',\n",
    " 'Bsmt Cond_TA']]\n",
    "y = train['SalePrice']\n",
    "\n",
    "X_train, X_test, y_train, y_test = train_test_split(X, y, random_state = 42)\n",
    "\n",
    "ols = LinearRegression()\n",
    "ols.fit(X_train, y_train)\n",
    "\n",
    "def evaluate_model(model, X, y): \n",
    "    \n",
    "    y_train_hat = ols.predict(X)\n",
    "\n",
    "    mse = mean_squared_error(y, y_train_hat)\n",
    "    rmse = mse ** .5\n",
    "    r2 = r2_score(y, y_train_hat)\n",
    "\n",
    "    print(f'R^2: {r2}')\n",
    "    print(f'MSE: {mse}')\n",
    "    print(f'RMSE: {rmse}')"
   ]
  },
  {
   "cell_type": "code",
   "execution_count": 5,
   "metadata": {},
   "outputs": [
    {
     "name": "stdout",
     "output_type": "stream",
     "text": [
      "R^2: 0.053926902631343365\n",
      "MSE: 5983458440.284976\n",
      "RMSE: 77352.81792077763\n"
     ]
    }
   ],
   "source": [
    "evaluate_model(ols, X_train, y_train)"
   ]
  },
  {
   "cell_type": "code",
   "execution_count": 6,
   "metadata": {},
   "outputs": [
    {
     "name": "stdout",
     "output_type": "stream",
     "text": [
      "R^2: 0.06515190067595855\n",
      "MSE: 5739990448.933772\n",
      "RMSE: 75762.72466677641\n"
     ]
    }
   ],
   "source": [
    "evaluate_model(ols, X_test, y_test)"
   ]
  },
  {
   "cell_type": "code",
   "execution_count": 7,
   "metadata": {},
   "outputs": [
    {
     "data": {
      "text/plain": [
       "0.04803945835897305"
      ]
     },
     "execution_count": 7,
     "metadata": {},
     "output_type": "execute_result"
    }
   ],
   "source": [
    "cross_val_score(ols, X_train, y_train).mean()"
   ]
  },
  {
   "cell_type": "code",
   "execution_count": null,
   "metadata": {},
   "outputs": [],
   "source": []
  },
  {
   "cell_type": "markdown",
   "metadata": {},
   "source": [
    "### Bsmt Exposure"
   ]
  },
  {
   "cell_type": "code",
   "execution_count": 1,
   "metadata": {},
   "outputs": [],
   "source": [
    "import numpy as np\n",
    "import pandas as pd\n",
    "import matplotlib.pyplot as plt\n",
    "import seaborn as sns\n",
    "\n",
    "from sklearn.model_selection import train_test_split, cross_val_score\n",
    "from sklearn.linear_model import LinearRegression\n",
    "from sklearn.preprocessing import StandardScaler, PolynomialFeatures\n",
    "from sklearn.metrics import r2_score, mean_squared_error\n",
    "train = pd.read_csv('../datasets/train.csv')\n",
    "test = pd.read_csv('../datasets/test.csv')"
   ]
  },
  {
   "cell_type": "code",
   "execution_count": 2,
   "metadata": {},
   "outputs": [],
   "source": [
    "train = pd.get_dummies(train, columns = ['Bsmt Exposure'], drop_first = True)"
   ]
  },
  {
   "cell_type": "code",
   "execution_count": 3,
   "metadata": {},
   "outputs": [
    {
     "data": {
      "text/plain": [
       "['Id',\n",
       " 'PID',\n",
       " 'MS SubClass',\n",
       " 'MS Zoning',\n",
       " 'Lot Frontage',\n",
       " 'Lot Area',\n",
       " 'Street',\n",
       " 'Alley',\n",
       " 'Lot Shape',\n",
       " 'Land Contour',\n",
       " 'Utilities',\n",
       " 'Lot Config',\n",
       " 'Land Slope',\n",
       " 'Neighborhood',\n",
       " 'Condition 1',\n",
       " 'Condition 2',\n",
       " 'Bldg Type',\n",
       " 'House Style',\n",
       " 'Overall Qual',\n",
       " 'Overall Cond',\n",
       " 'Year Built',\n",
       " 'Year Remod/Add',\n",
       " 'Roof Style',\n",
       " 'Roof Matl',\n",
       " 'Exterior 1st',\n",
       " 'Exterior 2nd',\n",
       " 'Mas Vnr Type',\n",
       " 'Mas Vnr Area',\n",
       " 'Exter Qual',\n",
       " 'Exter Cond',\n",
       " 'Foundation',\n",
       " 'Bsmt Qual',\n",
       " 'Bsmt Cond',\n",
       " 'BsmtFin Type 1',\n",
       " 'BsmtFin SF 1',\n",
       " 'BsmtFin Type 2',\n",
       " 'BsmtFin SF 2',\n",
       " 'Bsmt Unf SF',\n",
       " 'Total Bsmt SF',\n",
       " 'Heating',\n",
       " 'Heating QC',\n",
       " 'Central Air',\n",
       " 'Electrical',\n",
       " '1st Flr SF',\n",
       " '2nd Flr SF',\n",
       " 'Low Qual Fin SF',\n",
       " 'Gr Liv Area',\n",
       " 'Bsmt Full Bath',\n",
       " 'Bsmt Half Bath',\n",
       " 'Full Bath',\n",
       " 'Half Bath',\n",
       " 'Bedroom AbvGr',\n",
       " 'Kitchen AbvGr',\n",
       " 'Kitchen Qual',\n",
       " 'TotRms AbvGrd',\n",
       " 'Functional',\n",
       " 'Fireplaces',\n",
       " 'Fireplace Qu',\n",
       " 'Garage Type',\n",
       " 'Garage Yr Blt',\n",
       " 'Garage Finish',\n",
       " 'Garage Cars',\n",
       " 'Garage Area',\n",
       " 'Garage Qual',\n",
       " 'Garage Cond',\n",
       " 'Paved Drive',\n",
       " 'Wood Deck SF',\n",
       " 'Open Porch SF',\n",
       " 'Enclosed Porch',\n",
       " '3Ssn Porch',\n",
       " 'Screen Porch',\n",
       " 'Pool Area',\n",
       " 'Pool QC',\n",
       " 'Fence',\n",
       " 'Misc Feature',\n",
       " 'Misc Val',\n",
       " 'Mo Sold',\n",
       " 'Yr Sold',\n",
       " 'Sale Type',\n",
       " 'SalePrice',\n",
       " 'Bsmt Exposure_Gd',\n",
       " 'Bsmt Exposure_Mn',\n",
       " 'Bsmt Exposure_No']"
      ]
     },
     "execution_count": 3,
     "metadata": {},
     "output_type": "execute_result"
    }
   ],
   "source": [
    "list(train.columns)"
   ]
  },
  {
   "cell_type": "code",
   "execution_count": 4,
   "metadata": {},
   "outputs": [],
   "source": [
    "X = train[['Bsmt Exposure_Gd',\n",
    " 'Bsmt Exposure_Mn',\n",
    " 'Bsmt Exposure_No']]\n",
    "y = train['SalePrice']\n",
    "\n",
    "X_train, X_test, y_train, y_test = train_test_split(X, y, random_state = 42)\n",
    "\n",
    "ols = LinearRegression()\n",
    "ols.fit(X_train, y_train)\n",
    "\n",
    "def evaluate_model(model, X, y): \n",
    "    \n",
    "    y_train_hat = ols.predict(X)\n",
    "\n",
    "    mse = mean_squared_error(y, y_train_hat)\n",
    "    rmse = mse ** .5\n",
    "    r2 = r2_score(y, y_train_hat)\n",
    "\n",
    "    print(f'R^2: {r2}')\n",
    "    print(f'MSE: {mse}')\n",
    "    print(f'RMSE: {rmse}')"
   ]
  },
  {
   "cell_type": "code",
   "execution_count": 5,
   "metadata": {},
   "outputs": [
    {
     "name": "stdout",
     "output_type": "stream",
     "text": [
      "R^2: 0.1496802697068773\n",
      "MSE: 5377864333.437064\n",
      "RMSE: 73333.92348318112\n"
     ]
    }
   ],
   "source": [
    "evaluate_model(ols, X_train, y_train)"
   ]
  },
  {
   "cell_type": "code",
   "execution_count": 6,
   "metadata": {},
   "outputs": [
    {
     "name": "stdout",
     "output_type": "stream",
     "text": [
      "R^2: 0.1944928480505569\n",
      "MSE: 4945833833.411895\n",
      "RMSE: 70326.62250820734\n"
     ]
    }
   ],
   "source": [
    "evaluate_model(ols, X_test, y_test)"
   ]
  },
  {
   "cell_type": "code",
   "execution_count": 7,
   "metadata": {},
   "outputs": [
    {
     "data": {
      "text/plain": [
       "0.13776814510841268"
      ]
     },
     "execution_count": 7,
     "metadata": {},
     "output_type": "execute_result"
    }
   ],
   "source": [
    "cross_val_score(ols, X_train, y_train).mean()"
   ]
  },
  {
   "cell_type": "code",
   "execution_count": null,
   "metadata": {},
   "outputs": [],
   "source": []
  },
  {
   "cell_type": "markdown",
   "metadata": {},
   "source": [
    "### Bsmt Fin Type 1"
   ]
  },
  {
   "cell_type": "code",
   "execution_count": 1,
   "metadata": {},
   "outputs": [],
   "source": [
    "import numpy as np\n",
    "import pandas as pd\n",
    "import matplotlib.pyplot as plt\n",
    "import seaborn as sns\n",
    "\n",
    "from sklearn.model_selection import train_test_split, cross_val_score\n",
    "from sklearn.linear_model import LinearRegression\n",
    "from sklearn.preprocessing import StandardScaler, PolynomialFeatures\n",
    "from sklearn.metrics import r2_score, mean_squared_error\n",
    "train = pd.read_csv('../datasets/train.csv')\n",
    "test = pd.read_csv('../datasets/test.csv')"
   ]
  },
  {
   "cell_type": "code",
   "execution_count": 4,
   "metadata": {},
   "outputs": [],
   "source": [
    "train = pd.get_dummies(train, columns = ['BsmtFin Type 1'], drop_first = True)"
   ]
  },
  {
   "cell_type": "code",
   "execution_count": 5,
   "metadata": {},
   "outputs": [
    {
     "data": {
      "text/plain": [
       "['Id',\n",
       " 'PID',\n",
       " 'MS SubClass',\n",
       " 'MS Zoning',\n",
       " 'Lot Frontage',\n",
       " 'Lot Area',\n",
       " 'Street',\n",
       " 'Alley',\n",
       " 'Lot Shape',\n",
       " 'Land Contour',\n",
       " 'Utilities',\n",
       " 'Lot Config',\n",
       " 'Land Slope',\n",
       " 'Neighborhood',\n",
       " 'Condition 1',\n",
       " 'Condition 2',\n",
       " 'Bldg Type',\n",
       " 'House Style',\n",
       " 'Overall Qual',\n",
       " 'Overall Cond',\n",
       " 'Year Built',\n",
       " 'Year Remod/Add',\n",
       " 'Roof Style',\n",
       " 'Roof Matl',\n",
       " 'Exterior 1st',\n",
       " 'Exterior 2nd',\n",
       " 'Mas Vnr Type',\n",
       " 'Mas Vnr Area',\n",
       " 'Exter Qual',\n",
       " 'Exter Cond',\n",
       " 'Foundation',\n",
       " 'Bsmt Qual',\n",
       " 'Bsmt Cond',\n",
       " 'Bsmt Exposure',\n",
       " 'BsmtFin SF 1',\n",
       " 'BsmtFin Type 2',\n",
       " 'BsmtFin SF 2',\n",
       " 'Bsmt Unf SF',\n",
       " 'Total Bsmt SF',\n",
       " 'Heating',\n",
       " 'Heating QC',\n",
       " 'Central Air',\n",
       " 'Electrical',\n",
       " '1st Flr SF',\n",
       " '2nd Flr SF',\n",
       " 'Low Qual Fin SF',\n",
       " 'Gr Liv Area',\n",
       " 'Bsmt Full Bath',\n",
       " 'Bsmt Half Bath',\n",
       " 'Full Bath',\n",
       " 'Half Bath',\n",
       " 'Bedroom AbvGr',\n",
       " 'Kitchen AbvGr',\n",
       " 'Kitchen Qual',\n",
       " 'TotRms AbvGrd',\n",
       " 'Functional',\n",
       " 'Fireplaces',\n",
       " 'Fireplace Qu',\n",
       " 'Garage Type',\n",
       " 'Garage Yr Blt',\n",
       " 'Garage Finish',\n",
       " 'Garage Cars',\n",
       " 'Garage Area',\n",
       " 'Garage Qual',\n",
       " 'Garage Cond',\n",
       " 'Paved Drive',\n",
       " 'Wood Deck SF',\n",
       " 'Open Porch SF',\n",
       " 'Enclosed Porch',\n",
       " '3Ssn Porch',\n",
       " 'Screen Porch',\n",
       " 'Pool Area',\n",
       " 'Pool QC',\n",
       " 'Fence',\n",
       " 'Misc Feature',\n",
       " 'Misc Val',\n",
       " 'Mo Sold',\n",
       " 'Yr Sold',\n",
       " 'Sale Type',\n",
       " 'SalePrice',\n",
       " 'BsmtFin Type 1_BLQ',\n",
       " 'BsmtFin Type 1_GLQ',\n",
       " 'BsmtFin Type 1_LwQ',\n",
       " 'BsmtFin Type 1_Rec',\n",
       " 'BsmtFin Type 1_Unf']"
      ]
     },
     "execution_count": 5,
     "metadata": {},
     "output_type": "execute_result"
    }
   ],
   "source": [
    "list(train.columns)"
   ]
  },
  {
   "cell_type": "code",
   "execution_count": 6,
   "metadata": {},
   "outputs": [],
   "source": [
    "X = train[['BsmtFin Type 1_BLQ',\n",
    " 'BsmtFin Type 1_GLQ',\n",
    " 'BsmtFin Type 1_LwQ',\n",
    " 'BsmtFin Type 1_Rec',\n",
    " 'BsmtFin Type 1_Unf']]\n",
    "y = train['SalePrice']\n",
    "\n",
    "X_train, X_test, y_train, y_test = train_test_split(X, y, random_state = 42)\n",
    "\n",
    "ols = LinearRegression()\n",
    "ols.fit(X_train, y_train)\n",
    "\n",
    "def evaluate_model(model, X, y): \n",
    "    \n",
    "    y_train_hat = ols.predict(X)\n",
    "\n",
    "    mse = mean_squared_error(y, y_train_hat)\n",
    "    rmse = mse ** .5\n",
    "    r2 = r2_score(y, y_train_hat)\n",
    "\n",
    "    print(f'R^2: {r2}')\n",
    "    print(f'MSE: {mse}')\n",
    "    print(f'RMSE: {rmse}')"
   ]
  },
  {
   "cell_type": "code",
   "execution_count": 7,
   "metadata": {},
   "outputs": [
    {
     "name": "stdout",
     "output_type": "stream",
     "text": [
      "R^2: 0.21958147343629053\n",
      "MSE: 4935772756.576743\n",
      "RMSE: 70255.05502507804\n"
     ]
    }
   ],
   "source": [
    "evaluate_model(ols, X_train, y_train)"
   ]
  },
  {
   "cell_type": "code",
   "execution_count": 8,
   "metadata": {},
   "outputs": [
    {
     "name": "stdout",
     "output_type": "stream",
     "text": [
      "R^2: 0.22892428117657992\n",
      "MSE: 4734423982.518067\n",
      "RMSE: 68807.15066414294\n"
     ]
    }
   ],
   "source": [
    "evaluate_model(ols, X_test, y_test)"
   ]
  },
  {
   "cell_type": "code",
   "execution_count": 9,
   "metadata": {},
   "outputs": [
    {
     "data": {
      "text/plain": [
       "0.20733332326367737"
      ]
     },
     "execution_count": 9,
     "metadata": {},
     "output_type": "execute_result"
    }
   ],
   "source": [
    "cross_val_score(ols, X_train, y_train).mean()"
   ]
  },
  {
   "cell_type": "code",
   "execution_count": null,
   "metadata": {},
   "outputs": [],
   "source": []
  },
  {
   "cell_type": "markdown",
   "metadata": {},
   "source": [
    "### BsmtFin SF 1"
   ]
  },
  {
   "cell_type": "code",
   "execution_count": 1,
   "metadata": {},
   "outputs": [],
   "source": [
    "import numpy as np\n",
    "import pandas as pd\n",
    "import matplotlib.pyplot as plt\n",
    "import seaborn as sns\n",
    "\n",
    "from sklearn.model_selection import train_test_split, cross_val_score\n",
    "from sklearn.linear_model import LinearRegression\n",
    "from sklearn.preprocessing import StandardScaler, PolynomialFeatures\n",
    "from sklearn.metrics import r2_score, mean_squared_error\n",
    "train = pd.read_csv('../datasets/train.csv')\n",
    "test = pd.read_csv('../datasets/test.csv')"
   ]
  },
  {
   "cell_type": "code",
   "execution_count": 3,
   "metadata": {},
   "outputs": [],
   "source": [
    "train = train[train['BsmtFin SF 1'].notna()]"
   ]
  },
  {
   "cell_type": "code",
   "execution_count": 4,
   "metadata": {},
   "outputs": [],
   "source": [
    "X = train[['BsmtFin SF 1']]\n",
    "y = train['SalePrice']\n",
    "\n",
    "X_train, X_test, y_train, y_test = train_test_split(X, y, random_state = 42)\n",
    "\n",
    "ols = LinearRegression()\n",
    "ols.fit(X_train, y_train)\n",
    "\n",
    "def evaluate_model(model, X, y): \n",
    "    \n",
    "    y_train_hat = ols.predict(X)\n",
    "\n",
    "    mse = mean_squared_error(y, y_train_hat)\n",
    "    rmse = mse ** .5\n",
    "    r2 = r2_score(y, y_train_hat)\n",
    "\n",
    "    print(f'R^2: {r2}')\n",
    "    print(f'MSE: {mse}')\n",
    "    print(f'RMSE: {rmse}')"
   ]
  },
  {
   "cell_type": "code",
   "execution_count": 5,
   "metadata": {},
   "outputs": [
    {
     "name": "stdout",
     "output_type": "stream",
     "text": [
      "R^2: 0.1722810404546854\n",
      "MSE: 5268288949.112951\n",
      "RMSE: 72582.97974809901\n"
     ]
    }
   ],
   "source": [
    "evaluate_model(ols, X_train, y_train)"
   ]
  },
  {
   "cell_type": "code",
   "execution_count": 6,
   "metadata": {},
   "outputs": [
    {
     "name": "stdout",
     "output_type": "stream",
     "text": [
      "R^2: 0.20125165212677\n",
      "MSE: 4802740504.899029\n",
      "RMSE: 69301.80737108542\n"
     ]
    }
   ],
   "source": [
    "evaluate_model(ols, X_test, y_test)"
   ]
  },
  {
   "cell_type": "code",
   "execution_count": 7,
   "metadata": {},
   "outputs": [
    {
     "data": {
      "text/plain": [
       "0.14951096291131794"
      ]
     },
     "execution_count": 7,
     "metadata": {},
     "output_type": "execute_result"
    }
   ],
   "source": [
    "cross_val_score(ols, X_train, y_train).mean()"
   ]
  },
  {
   "cell_type": "code",
   "execution_count": null,
   "metadata": {},
   "outputs": [],
   "source": []
  },
  {
   "cell_type": "markdown",
   "metadata": {},
   "source": [
    "### Bsmt Fin Type 2"
   ]
  },
  {
   "cell_type": "code",
   "execution_count": 1,
   "metadata": {},
   "outputs": [],
   "source": [
    "import numpy as np\n",
    "import pandas as pd\n",
    "import matplotlib.pyplot as plt\n",
    "import seaborn as sns\n",
    "\n",
    "from sklearn.model_selection import train_test_split, cross_val_score\n",
    "from sklearn.linear_model import LinearRegression\n",
    "from sklearn.preprocessing import StandardScaler, PolynomialFeatures\n",
    "from sklearn.metrics import r2_score, mean_squared_error\n",
    "train = pd.read_csv('../datasets/train.csv')\n",
    "test = pd.read_csv('../datasets/test.csv')"
   ]
  },
  {
   "cell_type": "code",
   "execution_count": 2,
   "metadata": {},
   "outputs": [],
   "source": [
    "train = pd.get_dummies(train, columns = ['BsmtFin Type 2'], drop_first = True)"
   ]
  },
  {
   "cell_type": "code",
   "execution_count": 3,
   "metadata": {},
   "outputs": [
    {
     "data": {
      "text/plain": [
       "['Id',\n",
       " 'PID',\n",
       " 'MS SubClass',\n",
       " 'MS Zoning',\n",
       " 'Lot Frontage',\n",
       " 'Lot Area',\n",
       " 'Street',\n",
       " 'Alley',\n",
       " 'Lot Shape',\n",
       " 'Land Contour',\n",
       " 'Utilities',\n",
       " 'Lot Config',\n",
       " 'Land Slope',\n",
       " 'Neighborhood',\n",
       " 'Condition 1',\n",
       " 'Condition 2',\n",
       " 'Bldg Type',\n",
       " 'House Style',\n",
       " 'Overall Qual',\n",
       " 'Overall Cond',\n",
       " 'Year Built',\n",
       " 'Year Remod/Add',\n",
       " 'Roof Style',\n",
       " 'Roof Matl',\n",
       " 'Exterior 1st',\n",
       " 'Exterior 2nd',\n",
       " 'Mas Vnr Type',\n",
       " 'Mas Vnr Area',\n",
       " 'Exter Qual',\n",
       " 'Exter Cond',\n",
       " 'Foundation',\n",
       " 'Bsmt Qual',\n",
       " 'Bsmt Cond',\n",
       " 'Bsmt Exposure',\n",
       " 'BsmtFin Type 1',\n",
       " 'BsmtFin SF 1',\n",
       " 'BsmtFin SF 2',\n",
       " 'Bsmt Unf SF',\n",
       " 'Total Bsmt SF',\n",
       " 'Heating',\n",
       " 'Heating QC',\n",
       " 'Central Air',\n",
       " 'Electrical',\n",
       " '1st Flr SF',\n",
       " '2nd Flr SF',\n",
       " 'Low Qual Fin SF',\n",
       " 'Gr Liv Area',\n",
       " 'Bsmt Full Bath',\n",
       " 'Bsmt Half Bath',\n",
       " 'Full Bath',\n",
       " 'Half Bath',\n",
       " 'Bedroom AbvGr',\n",
       " 'Kitchen AbvGr',\n",
       " 'Kitchen Qual',\n",
       " 'TotRms AbvGrd',\n",
       " 'Functional',\n",
       " 'Fireplaces',\n",
       " 'Fireplace Qu',\n",
       " 'Garage Type',\n",
       " 'Garage Yr Blt',\n",
       " 'Garage Finish',\n",
       " 'Garage Cars',\n",
       " 'Garage Area',\n",
       " 'Garage Qual',\n",
       " 'Garage Cond',\n",
       " 'Paved Drive',\n",
       " 'Wood Deck SF',\n",
       " 'Open Porch SF',\n",
       " 'Enclosed Porch',\n",
       " '3Ssn Porch',\n",
       " 'Screen Porch',\n",
       " 'Pool Area',\n",
       " 'Pool QC',\n",
       " 'Fence',\n",
       " 'Misc Feature',\n",
       " 'Misc Val',\n",
       " 'Mo Sold',\n",
       " 'Yr Sold',\n",
       " 'Sale Type',\n",
       " 'SalePrice',\n",
       " 'BsmtFin Type 2_BLQ',\n",
       " 'BsmtFin Type 2_GLQ',\n",
       " 'BsmtFin Type 2_LwQ',\n",
       " 'BsmtFin Type 2_Rec',\n",
       " 'BsmtFin Type 2_Unf']"
      ]
     },
     "execution_count": 3,
     "metadata": {},
     "output_type": "execute_result"
    }
   ],
   "source": [
    "list(train.columns)"
   ]
  },
  {
   "cell_type": "code",
   "execution_count": 4,
   "metadata": {},
   "outputs": [],
   "source": [
    "X = train[['BsmtFin Type 2_BLQ',\n",
    " 'BsmtFin Type 2_GLQ',\n",
    " 'BsmtFin Type 2_LwQ',\n",
    " 'BsmtFin Type 2_Rec',\n",
    " 'BsmtFin Type 2_Unf']]\n",
    "y = train['SalePrice']\n",
    "\n",
    "X_train, X_test, y_train, y_test = train_test_split(X, y, random_state = 42)\n",
    "\n",
    "ols = LinearRegression()\n",
    "ols.fit(X_train, y_train)\n",
    "\n",
    "def evaluate_model(model, X, y): \n",
    "    \n",
    "    y_train_hat = ols.predict(X)\n",
    "\n",
    "    mse = mean_squared_error(y, y_train_hat)\n",
    "    rmse = mse ** .5\n",
    "    r2 = r2_score(y, y_train_hat)\n",
    "\n",
    "    print(f'R^2: {r2}')\n",
    "    print(f'MSE: {mse}')\n",
    "    print(f'RMSE: {rmse}')"
   ]
  },
  {
   "cell_type": "code",
   "execution_count": 5,
   "metadata": {},
   "outputs": [
    {
     "name": "stdout",
     "output_type": "stream",
     "text": [
      "R^2: 0.020655898048492993\n",
      "MSE: 6193881581.733255\n",
      "RMSE: 78701.21715534809\n"
     ]
    }
   ],
   "source": [
    "evaluate_model(ols, X_train, y_train)"
   ]
  },
  {
   "cell_type": "code",
   "execution_count": 6,
   "metadata": {},
   "outputs": [
    {
     "name": "stdout",
     "output_type": "stream",
     "text": [
      "R^2: 0.02679755801960526\n",
      "MSE: 5975487061.358601\n",
      "RMSE: 77301.27464252191\n"
     ]
    }
   ],
   "source": [
    "evaluate_model(ols, X_test, y_test)"
   ]
  },
  {
   "cell_type": "code",
   "execution_count": 7,
   "metadata": {},
   "outputs": [
    {
     "data": {
      "text/plain": [
       "0.014183384035704693"
      ]
     },
     "execution_count": 7,
     "metadata": {},
     "output_type": "execute_result"
    }
   ],
   "source": [
    "cross_val_score(ols, X_train, y_train).mean()"
   ]
  },
  {
   "cell_type": "code",
   "execution_count": null,
   "metadata": {},
   "outputs": [],
   "source": []
  },
  {
   "cell_type": "markdown",
   "metadata": {},
   "source": [
    "### BsmtUnf SF"
   ]
  },
  {
   "cell_type": "code",
   "execution_count": 1,
   "metadata": {},
   "outputs": [],
   "source": [
    "import numpy as np\n",
    "import pandas as pd\n",
    "import matplotlib.pyplot as plt\n",
    "import seaborn as sns\n",
    "\n",
    "from sklearn.model_selection import train_test_split, cross_val_score\n",
    "from sklearn.linear_model import LinearRegression\n",
    "from sklearn.preprocessing import StandardScaler, PolynomialFeatures\n",
    "from sklearn.metrics import r2_score, mean_squared_error\n",
    "train = pd.read_csv('../datasets/train.csv')\n",
    "test = pd.read_csv('../datasets/test.csv')"
   ]
  },
  {
   "cell_type": "code",
   "execution_count": 3,
   "metadata": {},
   "outputs": [],
   "source": [
    "train = train[train['Bsmt Unf SF'].notna()]"
   ]
  },
  {
   "cell_type": "code",
   "execution_count": 4,
   "metadata": {},
   "outputs": [],
   "source": [
    "X = train[['Bsmt Unf SF']]\n",
    "y = train['SalePrice']\n",
    "\n",
    "X_train, X_test, y_train, y_test = train_test_split(X, y, random_state = 42)\n",
    "\n",
    "ols = LinearRegression()\n",
    "ols.fit(X_train, y_train)\n",
    "\n",
    "def evaluate_model(model, X, y): \n",
    "    \n",
    "    y_train_hat = ols.predict(X)\n",
    "\n",
    "    mse = mean_squared_error(y, y_train_hat)\n",
    "    rmse = mse ** .5\n",
    "    r2 = r2_score(y, y_train_hat)\n",
    "\n",
    "    print(f'R^2: {r2}')\n",
    "    print(f'MSE: {mse}')\n",
    "    print(f'RMSE: {rmse}')"
   ]
  },
  {
   "cell_type": "code",
   "execution_count": 5,
   "metadata": {},
   "outputs": [
    {
     "name": "stdout",
     "output_type": "stream",
     "text": [
      "R^2: 0.03480485883331497\n",
      "MSE: 6143301222.360825\n",
      "RMSE: 78379.21422393073\n"
     ]
    }
   ],
   "source": [
    "evaluate_model(ols, X_train, y_train)"
   ]
  },
  {
   "cell_type": "code",
   "execution_count": 6,
   "metadata": {},
   "outputs": [
    {
     "name": "stdout",
     "output_type": "stream",
     "text": [
      "R^2: 0.04045842582200199\n",
      "MSE: 5769563338.327749\n",
      "RMSE: 75957.6417375352\n"
     ]
    }
   ],
   "source": [
    "evaluate_model(ols, X_test, y_test)"
   ]
  },
  {
   "cell_type": "code",
   "execution_count": 7,
   "metadata": {},
   "outputs": [
    {
     "data": {
      "text/plain": [
       "0.029789843732596057"
      ]
     },
     "execution_count": 7,
     "metadata": {},
     "output_type": "execute_result"
    }
   ],
   "source": [
    "cross_val_score(ols, X_train, y_train).mean()"
   ]
  },
  {
   "cell_type": "code",
   "execution_count": null,
   "metadata": {},
   "outputs": [],
   "source": []
  },
  {
   "cell_type": "markdown",
   "metadata": {},
   "source": [
    "### Heating"
   ]
  },
  {
   "cell_type": "code",
   "execution_count": 1,
   "metadata": {},
   "outputs": [],
   "source": [
    "import numpy as np\n",
    "import pandas as pd\n",
    "import matplotlib.pyplot as plt\n",
    "import seaborn as sns\n",
    "\n",
    "from sklearn.model_selection import train_test_split, cross_val_score\n",
    "from sklearn.linear_model import LinearRegression\n",
    "from sklearn.preprocessing import StandardScaler, PolynomialFeatures\n",
    "from sklearn.metrics import r2_score, mean_squared_error\n",
    "train = pd.read_csv('../datasets/train.csv')\n",
    "test = pd.read_csv('../datasets/test.csv')"
   ]
  },
  {
   "cell_type": "code",
   "execution_count": 2,
   "metadata": {},
   "outputs": [],
   "source": [
    "train = pd.get_dummies(train, columns = ['Heating'], drop_first = True)"
   ]
  },
  {
   "cell_type": "code",
   "execution_count": 3,
   "metadata": {},
   "outputs": [
    {
     "data": {
      "text/plain": [
       "['Id',\n",
       " 'PID',\n",
       " 'MS SubClass',\n",
       " 'MS Zoning',\n",
       " 'Lot Frontage',\n",
       " 'Lot Area',\n",
       " 'Street',\n",
       " 'Alley',\n",
       " 'Lot Shape',\n",
       " 'Land Contour',\n",
       " 'Utilities',\n",
       " 'Lot Config',\n",
       " 'Land Slope',\n",
       " 'Neighborhood',\n",
       " 'Condition 1',\n",
       " 'Condition 2',\n",
       " 'Bldg Type',\n",
       " 'House Style',\n",
       " 'Overall Qual',\n",
       " 'Overall Cond',\n",
       " 'Year Built',\n",
       " 'Year Remod/Add',\n",
       " 'Roof Style',\n",
       " 'Roof Matl',\n",
       " 'Exterior 1st',\n",
       " 'Exterior 2nd',\n",
       " 'Mas Vnr Type',\n",
       " 'Mas Vnr Area',\n",
       " 'Exter Qual',\n",
       " 'Exter Cond',\n",
       " 'Foundation',\n",
       " 'Bsmt Qual',\n",
       " 'Bsmt Cond',\n",
       " 'Bsmt Exposure',\n",
       " 'BsmtFin Type 1',\n",
       " 'BsmtFin SF 1',\n",
       " 'BsmtFin Type 2',\n",
       " 'BsmtFin SF 2',\n",
       " 'Bsmt Unf SF',\n",
       " 'Total Bsmt SF',\n",
       " 'Heating QC',\n",
       " 'Central Air',\n",
       " 'Electrical',\n",
       " '1st Flr SF',\n",
       " '2nd Flr SF',\n",
       " 'Low Qual Fin SF',\n",
       " 'Gr Liv Area',\n",
       " 'Bsmt Full Bath',\n",
       " 'Bsmt Half Bath',\n",
       " 'Full Bath',\n",
       " 'Half Bath',\n",
       " 'Bedroom AbvGr',\n",
       " 'Kitchen AbvGr',\n",
       " 'Kitchen Qual',\n",
       " 'TotRms AbvGrd',\n",
       " 'Functional',\n",
       " 'Fireplaces',\n",
       " 'Fireplace Qu',\n",
       " 'Garage Type',\n",
       " 'Garage Yr Blt',\n",
       " 'Garage Finish',\n",
       " 'Garage Cars',\n",
       " 'Garage Area',\n",
       " 'Garage Qual',\n",
       " 'Garage Cond',\n",
       " 'Paved Drive',\n",
       " 'Wood Deck SF',\n",
       " 'Open Porch SF',\n",
       " 'Enclosed Porch',\n",
       " '3Ssn Porch',\n",
       " 'Screen Porch',\n",
       " 'Pool Area',\n",
       " 'Pool QC',\n",
       " 'Fence',\n",
       " 'Misc Feature',\n",
       " 'Misc Val',\n",
       " 'Mo Sold',\n",
       " 'Yr Sold',\n",
       " 'Sale Type',\n",
       " 'SalePrice',\n",
       " 'Heating_GasW',\n",
       " 'Heating_Grav',\n",
       " 'Heating_OthW',\n",
       " 'Heating_Wall']"
      ]
     },
     "execution_count": 3,
     "metadata": {},
     "output_type": "execute_result"
    }
   ],
   "source": [
    "list(train.columns)"
   ]
  },
  {
   "cell_type": "code",
   "execution_count": 4,
   "metadata": {},
   "outputs": [],
   "source": [
    "X = train[['Heating_GasW',\n",
    " 'Heating_Grav',\n",
    " 'Heating_OthW',\n",
    " 'Heating_Wall']]\n",
    "y = train['SalePrice']\n",
    "\n",
    "X_train, X_test, y_train, y_test = train_test_split(X, y, random_state = 42)\n",
    "\n",
    "ols = LinearRegression()\n",
    "ols.fit(X_train, y_train)\n",
    "\n",
    "def evaluate_model(model, X, y): \n",
    "    \n",
    "    y_train_hat = ols.predict(X)\n",
    "\n",
    "    mse = mean_squared_error(y, y_train_hat)\n",
    "    rmse = mse ** .5\n",
    "    r2 = r2_score(y, y_train_hat)\n",
    "\n",
    "    print(f'R^2: {r2}')\n",
    "    print(f'MSE: {mse}')\n",
    "    print(f'RMSE: {rmse}')"
   ]
  },
  {
   "cell_type": "code",
   "execution_count": 5,
   "metadata": {},
   "outputs": [
    {
     "name": "stdout",
     "output_type": "stream",
     "text": [
      "R^2: 0.011665274561025951\n",
      "MSE: 6250742961.830767\n",
      "RMSE: 79061.64026777314\n"
     ]
    }
   ],
   "source": [
    "evaluate_model(ols, X_train, y_train)"
   ]
  },
  {
   "cell_type": "code",
   "execution_count": 6,
   "metadata": {},
   "outputs": [
    {
     "name": "stdout",
     "output_type": "stream",
     "text": [
      "R^2: 0.01285237181487675\n",
      "MSE: 6061110849.524424\n",
      "RMSE: 77853.13641417681\n"
     ]
    }
   ],
   "source": [
    "evaluate_model(ols, X_test, y_test)"
   ]
  },
  {
   "cell_type": "code",
   "execution_count": 7,
   "metadata": {},
   "outputs": [
    {
     "data": {
      "text/plain": [
       "0.006514229203579714"
      ]
     },
     "execution_count": 7,
     "metadata": {},
     "output_type": "execute_result"
    }
   ],
   "source": [
    "cross_val_score(ols, X_train, y_train).mean()"
   ]
  },
  {
   "cell_type": "code",
   "execution_count": null,
   "metadata": {},
   "outputs": [],
   "source": []
  },
  {
   "cell_type": "markdown",
   "metadata": {},
   "source": [
    "### Heating QC"
   ]
  },
  {
   "cell_type": "code",
   "execution_count": 1,
   "metadata": {},
   "outputs": [],
   "source": [
    "import numpy as np\n",
    "import pandas as pd\n",
    "import matplotlib.pyplot as plt\n",
    "import seaborn as sns\n",
    "\n",
    "from sklearn.model_selection import train_test_split, cross_val_score\n",
    "from sklearn.linear_model import LinearRegression\n",
    "from sklearn.preprocessing import StandardScaler, PolynomialFeatures\n",
    "from sklearn.metrics import r2_score, mean_squared_error\n",
    "train = pd.read_csv('../datasets/train.csv')\n",
    "test = pd.read_csv('../datasets/test.csv')"
   ]
  },
  {
   "cell_type": "code",
   "execution_count": 2,
   "metadata": {},
   "outputs": [],
   "source": [
    "train = pd.get_dummies(train, columns = ['Heating QC'], drop_first = True)"
   ]
  },
  {
   "cell_type": "code",
   "execution_count": 3,
   "metadata": {},
   "outputs": [
    {
     "data": {
      "text/plain": [
       "['Id',\n",
       " 'PID',\n",
       " 'MS SubClass',\n",
       " 'MS Zoning',\n",
       " 'Lot Frontage',\n",
       " 'Lot Area',\n",
       " 'Street',\n",
       " 'Alley',\n",
       " 'Lot Shape',\n",
       " 'Land Contour',\n",
       " 'Utilities',\n",
       " 'Lot Config',\n",
       " 'Land Slope',\n",
       " 'Neighborhood',\n",
       " 'Condition 1',\n",
       " 'Condition 2',\n",
       " 'Bldg Type',\n",
       " 'House Style',\n",
       " 'Overall Qual',\n",
       " 'Overall Cond',\n",
       " 'Year Built',\n",
       " 'Year Remod/Add',\n",
       " 'Roof Style',\n",
       " 'Roof Matl',\n",
       " 'Exterior 1st',\n",
       " 'Exterior 2nd',\n",
       " 'Mas Vnr Type',\n",
       " 'Mas Vnr Area',\n",
       " 'Exter Qual',\n",
       " 'Exter Cond',\n",
       " 'Foundation',\n",
       " 'Bsmt Qual',\n",
       " 'Bsmt Cond',\n",
       " 'Bsmt Exposure',\n",
       " 'BsmtFin Type 1',\n",
       " 'BsmtFin SF 1',\n",
       " 'BsmtFin Type 2',\n",
       " 'BsmtFin SF 2',\n",
       " 'Bsmt Unf SF',\n",
       " 'Total Bsmt SF',\n",
       " 'Heating',\n",
       " 'Central Air',\n",
       " 'Electrical',\n",
       " '1st Flr SF',\n",
       " '2nd Flr SF',\n",
       " 'Low Qual Fin SF',\n",
       " 'Gr Liv Area',\n",
       " 'Bsmt Full Bath',\n",
       " 'Bsmt Half Bath',\n",
       " 'Full Bath',\n",
       " 'Half Bath',\n",
       " 'Bedroom AbvGr',\n",
       " 'Kitchen AbvGr',\n",
       " 'Kitchen Qual',\n",
       " 'TotRms AbvGrd',\n",
       " 'Functional',\n",
       " 'Fireplaces',\n",
       " 'Fireplace Qu',\n",
       " 'Garage Type',\n",
       " 'Garage Yr Blt',\n",
       " 'Garage Finish',\n",
       " 'Garage Cars',\n",
       " 'Garage Area',\n",
       " 'Garage Qual',\n",
       " 'Garage Cond',\n",
       " 'Paved Drive',\n",
       " 'Wood Deck SF',\n",
       " 'Open Porch SF',\n",
       " 'Enclosed Porch',\n",
       " '3Ssn Porch',\n",
       " 'Screen Porch',\n",
       " 'Pool Area',\n",
       " 'Pool QC',\n",
       " 'Fence',\n",
       " 'Misc Feature',\n",
       " 'Misc Val',\n",
       " 'Mo Sold',\n",
       " 'Yr Sold',\n",
       " 'Sale Type',\n",
       " 'SalePrice',\n",
       " 'Heating QC_Fa',\n",
       " 'Heating QC_Gd',\n",
       " 'Heating QC_Po',\n",
       " 'Heating QC_TA']"
      ]
     },
     "execution_count": 3,
     "metadata": {},
     "output_type": "execute_result"
    }
   ],
   "source": [
    "list(train.columns)"
   ]
  },
  {
   "cell_type": "code",
   "execution_count": 4,
   "metadata": {},
   "outputs": [],
   "source": [
    "X = train[['Heating QC_Fa',\n",
    " 'Heating QC_Gd',\n",
    " 'Heating QC_Po',\n",
    " 'Heating QC_TA']]\n",
    "y = train['SalePrice']\n",
    "\n",
    "X_train, X_test, y_train, y_test = train_test_split(X, y, random_state = 42)\n",
    "\n",
    "ols = LinearRegression()\n",
    "ols.fit(X_train, y_train)\n",
    "\n",
    "def evaluate_model(model, X, y): \n",
    "    \n",
    "    y_train_hat = ols.predict(X)\n",
    "\n",
    "    mse = mean_squared_error(y, y_train_hat)\n",
    "    rmse = mse ** .5\n",
    "    r2 = r2_score(y, y_train_hat)\n",
    "\n",
    "    print(f'R^2: {r2}')\n",
    "    print(f'MSE: {mse}')\n",
    "    print(f'RMSE: {rmse}')"
   ]
  },
  {
   "cell_type": "code",
   "execution_count": 5,
   "metadata": {},
   "outputs": [
    {
     "name": "stdout",
     "output_type": "stream",
     "text": [
      "R^2: 0.22752697067328265\n",
      "MSE: 4885521298.58986\n",
      "RMSE: 69896.50419434336\n"
     ]
    }
   ],
   "source": [
    "evaluate_model(ols, X_train, y_train)"
   ]
  },
  {
   "cell_type": "code",
   "execution_count": 6,
   "metadata": {},
   "outputs": [
    {
     "name": "stdout",
     "output_type": "stream",
     "text": [
      "R^2: 0.18792519295929577\n",
      "MSE: 4986159398.092391\n",
      "RMSE: 70612.74246262066\n"
     ]
    }
   ],
   "source": [
    "evaluate_model(ols, X_test, y_test)"
   ]
  },
  {
   "cell_type": "code",
   "execution_count": 7,
   "metadata": {},
   "outputs": [
    {
     "data": {
      "text/plain": [
       "0.22583109963646283"
      ]
     },
     "execution_count": 7,
     "metadata": {},
     "output_type": "execute_result"
    }
   ],
   "source": [
    "cross_val_score(ols, X_train, y_train).mean()"
   ]
  },
  {
   "cell_type": "code",
   "execution_count": null,
   "metadata": {},
   "outputs": [],
   "source": []
  },
  {
   "cell_type": "markdown",
   "metadata": {},
   "source": [
    "### Central Air"
   ]
  },
  {
   "cell_type": "code",
   "execution_count": 1,
   "metadata": {},
   "outputs": [],
   "source": [
    "import numpy as np\n",
    "import pandas as pd\n",
    "import matplotlib.pyplot as plt\n",
    "import seaborn as sns\n",
    "\n",
    "from sklearn.model_selection import train_test_split, cross_val_score\n",
    "from sklearn.linear_model import LinearRegression\n",
    "from sklearn.preprocessing import StandardScaler, PolynomialFeatures\n",
    "from sklearn.metrics import r2_score, mean_squared_error\n",
    "train = pd.read_csv('../datasets/train.csv')\n",
    "test = pd.read_csv('../datasets/test.csv')"
   ]
  },
  {
   "cell_type": "code",
   "execution_count": 2,
   "metadata": {},
   "outputs": [],
   "source": [
    "train = pd.get_dummies(train, columns = ['Central Air'], drop_first = True)"
   ]
  },
  {
   "cell_type": "code",
   "execution_count": 3,
   "metadata": {},
   "outputs": [
    {
     "data": {
      "text/plain": [
       "['Id',\n",
       " 'PID',\n",
       " 'MS SubClass',\n",
       " 'MS Zoning',\n",
       " 'Lot Frontage',\n",
       " 'Lot Area',\n",
       " 'Street',\n",
       " 'Alley',\n",
       " 'Lot Shape',\n",
       " 'Land Contour',\n",
       " 'Utilities',\n",
       " 'Lot Config',\n",
       " 'Land Slope',\n",
       " 'Neighborhood',\n",
       " 'Condition 1',\n",
       " 'Condition 2',\n",
       " 'Bldg Type',\n",
       " 'House Style',\n",
       " 'Overall Qual',\n",
       " 'Overall Cond',\n",
       " 'Year Built',\n",
       " 'Year Remod/Add',\n",
       " 'Roof Style',\n",
       " 'Roof Matl',\n",
       " 'Exterior 1st',\n",
       " 'Exterior 2nd',\n",
       " 'Mas Vnr Type',\n",
       " 'Mas Vnr Area',\n",
       " 'Exter Qual',\n",
       " 'Exter Cond',\n",
       " 'Foundation',\n",
       " 'Bsmt Qual',\n",
       " 'Bsmt Cond',\n",
       " 'Bsmt Exposure',\n",
       " 'BsmtFin Type 1',\n",
       " 'BsmtFin SF 1',\n",
       " 'BsmtFin Type 2',\n",
       " 'BsmtFin SF 2',\n",
       " 'Bsmt Unf SF',\n",
       " 'Total Bsmt SF',\n",
       " 'Heating',\n",
       " 'Heating QC',\n",
       " 'Electrical',\n",
       " '1st Flr SF',\n",
       " '2nd Flr SF',\n",
       " 'Low Qual Fin SF',\n",
       " 'Gr Liv Area',\n",
       " 'Bsmt Full Bath',\n",
       " 'Bsmt Half Bath',\n",
       " 'Full Bath',\n",
       " 'Half Bath',\n",
       " 'Bedroom AbvGr',\n",
       " 'Kitchen AbvGr',\n",
       " 'Kitchen Qual',\n",
       " 'TotRms AbvGrd',\n",
       " 'Functional',\n",
       " 'Fireplaces',\n",
       " 'Fireplace Qu',\n",
       " 'Garage Type',\n",
       " 'Garage Yr Blt',\n",
       " 'Garage Finish',\n",
       " 'Garage Cars',\n",
       " 'Garage Area',\n",
       " 'Garage Qual',\n",
       " 'Garage Cond',\n",
       " 'Paved Drive',\n",
       " 'Wood Deck SF',\n",
       " 'Open Porch SF',\n",
       " 'Enclosed Porch',\n",
       " '3Ssn Porch',\n",
       " 'Screen Porch',\n",
       " 'Pool Area',\n",
       " 'Pool QC',\n",
       " 'Fence',\n",
       " 'Misc Feature',\n",
       " 'Misc Val',\n",
       " 'Mo Sold',\n",
       " 'Yr Sold',\n",
       " 'Sale Type',\n",
       " 'SalePrice',\n",
       " 'Central Air_Y']"
      ]
     },
     "execution_count": 3,
     "metadata": {},
     "output_type": "execute_result"
    }
   ],
   "source": [
    "list(train.columns)"
   ]
  },
  {
   "cell_type": "code",
   "execution_count": 4,
   "metadata": {},
   "outputs": [],
   "source": [
    "X = train[['Central Air_Y']]\n",
    "y = train['SalePrice']\n",
    "\n",
    "X_train, X_test, y_train, y_test = train_test_split(X, y, random_state = 42)\n",
    "\n",
    "ols = LinearRegression()\n",
    "ols.fit(X_train, y_train)\n",
    "\n",
    "def evaluate_model(model, X, y): \n",
    "    \n",
    "    y_train_hat = ols.predict(X)\n",
    "\n",
    "    mse = mean_squared_error(y, y_train_hat)\n",
    "    rmse = mse ** .5\n",
    "    r2 = r2_score(y, y_train_hat)\n",
    "\n",
    "    print(f'R^2: {r2}')\n",
    "    print(f'MSE: {mse}')\n",
    "    print(f'RMSE: {rmse}')"
   ]
  },
  {
   "cell_type": "code",
   "execution_count": 5,
   "metadata": {},
   "outputs": [
    {
     "name": "stdout",
     "output_type": "stream",
     "text": [
      "R^2: 0.07183650718884171\n",
      "MSE: 5870188784.008119\n",
      "RMSE: 76617.1572430622\n"
     ]
    }
   ],
   "source": [
    "evaluate_model(ols, X_train, y_train)"
   ]
  },
  {
   "cell_type": "code",
   "execution_count": 6,
   "metadata": {},
   "outputs": [
    {
     "name": "stdout",
     "output_type": "stream",
     "text": [
      "R^2: 0.09198460327769087\n",
      "MSE: 5575236991.3780575\n",
      "RMSE: 74667.50961012466\n"
     ]
    }
   ],
   "source": [
    "evaluate_model(ols, X_test, y_test)"
   ]
  },
  {
   "cell_type": "code",
   "execution_count": 7,
   "metadata": {},
   "outputs": [
    {
     "data": {
      "text/plain": [
       "0.06822063397722855"
      ]
     },
     "execution_count": 7,
     "metadata": {},
     "output_type": "execute_result"
    }
   ],
   "source": [
    "cross_val_score(ols, X_train, y_train).mean()"
   ]
  },
  {
   "cell_type": "code",
   "execution_count": null,
   "metadata": {},
   "outputs": [],
   "source": []
  },
  {
   "cell_type": "markdown",
   "metadata": {},
   "source": [
    "### Electrical"
   ]
  },
  {
   "cell_type": "code",
   "execution_count": 1,
   "metadata": {},
   "outputs": [],
   "source": [
    "import numpy as np\n",
    "import pandas as pd\n",
    "import matplotlib.pyplot as plt\n",
    "import seaborn as sns\n",
    "\n",
    "from sklearn.model_selection import train_test_split, cross_val_score\n",
    "from sklearn.linear_model import LinearRegression\n",
    "from sklearn.preprocessing import StandardScaler, PolynomialFeatures\n",
    "from sklearn.metrics import r2_score, mean_squared_error\n",
    "train = pd.read_csv('../datasets/train.csv')\n",
    "test = pd.read_csv('../datasets/test.csv')"
   ]
  },
  {
   "cell_type": "code",
   "execution_count": 2,
   "metadata": {},
   "outputs": [],
   "source": [
    "train = pd.get_dummies(train, columns = ['Electrical'], drop_first = True)"
   ]
  },
  {
   "cell_type": "code",
   "execution_count": 3,
   "metadata": {},
   "outputs": [
    {
     "data": {
      "text/plain": [
       "['Id',\n",
       " 'PID',\n",
       " 'MS SubClass',\n",
       " 'MS Zoning',\n",
       " 'Lot Frontage',\n",
       " 'Lot Area',\n",
       " 'Street',\n",
       " 'Alley',\n",
       " 'Lot Shape',\n",
       " 'Land Contour',\n",
       " 'Utilities',\n",
       " 'Lot Config',\n",
       " 'Land Slope',\n",
       " 'Neighborhood',\n",
       " 'Condition 1',\n",
       " 'Condition 2',\n",
       " 'Bldg Type',\n",
       " 'House Style',\n",
       " 'Overall Qual',\n",
       " 'Overall Cond',\n",
       " 'Year Built',\n",
       " 'Year Remod/Add',\n",
       " 'Roof Style',\n",
       " 'Roof Matl',\n",
       " 'Exterior 1st',\n",
       " 'Exterior 2nd',\n",
       " 'Mas Vnr Type',\n",
       " 'Mas Vnr Area',\n",
       " 'Exter Qual',\n",
       " 'Exter Cond',\n",
       " 'Foundation',\n",
       " 'Bsmt Qual',\n",
       " 'Bsmt Cond',\n",
       " 'Bsmt Exposure',\n",
       " 'BsmtFin Type 1',\n",
       " 'BsmtFin SF 1',\n",
       " 'BsmtFin Type 2',\n",
       " 'BsmtFin SF 2',\n",
       " 'Bsmt Unf SF',\n",
       " 'Total Bsmt SF',\n",
       " 'Heating',\n",
       " 'Heating QC',\n",
       " 'Central Air',\n",
       " '1st Flr SF',\n",
       " '2nd Flr SF',\n",
       " 'Low Qual Fin SF',\n",
       " 'Gr Liv Area',\n",
       " 'Bsmt Full Bath',\n",
       " 'Bsmt Half Bath',\n",
       " 'Full Bath',\n",
       " 'Half Bath',\n",
       " 'Bedroom AbvGr',\n",
       " 'Kitchen AbvGr',\n",
       " 'Kitchen Qual',\n",
       " 'TotRms AbvGrd',\n",
       " 'Functional',\n",
       " 'Fireplaces',\n",
       " 'Fireplace Qu',\n",
       " 'Garage Type',\n",
       " 'Garage Yr Blt',\n",
       " 'Garage Finish',\n",
       " 'Garage Cars',\n",
       " 'Garage Area',\n",
       " 'Garage Qual',\n",
       " 'Garage Cond',\n",
       " 'Paved Drive',\n",
       " 'Wood Deck SF',\n",
       " 'Open Porch SF',\n",
       " 'Enclosed Porch',\n",
       " '3Ssn Porch',\n",
       " 'Screen Porch',\n",
       " 'Pool Area',\n",
       " 'Pool QC',\n",
       " 'Fence',\n",
       " 'Misc Feature',\n",
       " 'Misc Val',\n",
       " 'Mo Sold',\n",
       " 'Yr Sold',\n",
       " 'Sale Type',\n",
       " 'SalePrice',\n",
       " 'Electrical_FuseF',\n",
       " 'Electrical_FuseP',\n",
       " 'Electrical_Mix',\n",
       " 'Electrical_SBrkr']"
      ]
     },
     "execution_count": 3,
     "metadata": {},
     "output_type": "execute_result"
    }
   ],
   "source": [
    "list(train.columns)"
   ]
  },
  {
   "cell_type": "code",
   "execution_count": 4,
   "metadata": {},
   "outputs": [],
   "source": [
    "X = train[['Electrical_FuseF',\n",
    " 'Electrical_FuseP',\n",
    " 'Electrical_Mix',\n",
    " 'Electrical_SBrkr']]\n",
    "y = train['SalePrice']\n",
    "\n",
    "X_train, X_test, y_train, y_test = train_test_split(X, y, random_state = 42)\n",
    "\n",
    "ols = LinearRegression()\n",
    "ols.fit(X_train, y_train)\n",
    "\n",
    "def evaluate_model(model, X, y): \n",
    "    \n",
    "    y_train_hat = ols.predict(X)\n",
    "\n",
    "    mse = mean_squared_error(y, y_train_hat)\n",
    "    rmse = mse ** .5\n",
    "    r2 = r2_score(y, y_train_hat)\n",
    "\n",
    "    print(f'R^2: {r2}')\n",
    "    print(f'MSE: {mse}')\n",
    "    print(f'RMSE: {rmse}')"
   ]
  },
  {
   "cell_type": "code",
   "execution_count": 5,
   "metadata": {},
   "outputs": [
    {
     "name": "stdout",
     "output_type": "stream",
     "text": [
      "R^2: 0.0634138027055895\n",
      "MSE: 5923458348.876322\n",
      "RMSE: 76964.00684005687\n"
     ]
    }
   ],
   "source": [
    "evaluate_model(ols, X_train, y_train)"
   ]
  },
  {
   "cell_type": "code",
   "execution_count": 6,
   "metadata": {},
   "outputs": [
    {
     "name": "stdout",
     "output_type": "stream",
     "text": [
      "R^2: 0.07391370032474731\n",
      "MSE: 5686192782.408179\n",
      "RMSE: 75406.84837869952\n"
     ]
    }
   ],
   "source": [
    "evaluate_model(ols, X_test, y_test)"
   ]
  },
  {
   "cell_type": "code",
   "execution_count": 7,
   "metadata": {},
   "outputs": [
    {
     "data": {
      "text/plain": [
       "0.05836524722180101"
      ]
     },
     "execution_count": 7,
     "metadata": {},
     "output_type": "execute_result"
    }
   ],
   "source": [
    "cross_val_score(ols, X_train, y_train).mean()"
   ]
  },
  {
   "cell_type": "code",
   "execution_count": null,
   "metadata": {},
   "outputs": [],
   "source": []
  },
  {
   "cell_type": "markdown",
   "metadata": {},
   "source": [
    "### 1st Flr SF"
   ]
  },
  {
   "cell_type": "code",
   "execution_count": 1,
   "metadata": {},
   "outputs": [],
   "source": [
    "import numpy as np\n",
    "import pandas as pd\n",
    "import matplotlib.pyplot as plt\n",
    "import seaborn as sns\n",
    "\n",
    "from sklearn.model_selection import train_test_split, cross_val_score\n",
    "from sklearn.linear_model import LinearRegression\n",
    "from sklearn.preprocessing import StandardScaler, PolynomialFeatures\n",
    "from sklearn.metrics import r2_score, mean_squared_error\n",
    "train = pd.read_csv('../datasets/train.csv')\n",
    "test = pd.read_csv('../datasets/test.csv')"
   ]
  },
  {
   "cell_type": "code",
   "execution_count": 3,
   "metadata": {},
   "outputs": [],
   "source": [
    "X = train[['1st Flr SF']]\n",
    "y = train['SalePrice']\n",
    "\n",
    "X_train, X_test, y_train, y_test = train_test_split(X, y, random_state = 42)\n",
    "\n",
    "ols = LinearRegression()\n",
    "ols.fit(X_train, y_train)\n",
    "\n",
    "def evaluate_model(model, X, y): \n",
    "    \n",
    "    y_train_hat = ols.predict(X)\n",
    "\n",
    "    mse = mean_squared_error(y, y_train_hat)\n",
    "    rmse = mse ** .5\n",
    "    r2 = r2_score(y, y_train_hat)\n",
    "\n",
    "    print(f'R^2: {r2}')\n",
    "    print(f'MSE: {mse}')\n",
    "    print(f'RMSE: {rmse}')"
   ]
  },
  {
   "cell_type": "code",
   "execution_count": 4,
   "metadata": {},
   "outputs": [
    {
     "name": "stdout",
     "output_type": "stream",
     "text": [
      "R^2: 0.36010548420186017\n",
      "MSE: 4047025808.1469207\n",
      "RMSE: 63616.238557045486\n"
     ]
    }
   ],
   "source": [
    "evaluate_model(ols, X_train, y_train)"
   ]
  },
  {
   "cell_type": "code",
   "execution_count": 5,
   "metadata": {},
   "outputs": [
    {
     "name": "stdout",
     "output_type": "stream",
     "text": [
      "R^2: 0.44834690706776503\n",
      "MSE: 3387163633.15643\n",
      "RMSE: 58199.34392376283\n"
     ]
    }
   ],
   "source": [
    "evaluate_model(ols, X_test, y_test)"
   ]
  },
  {
   "cell_type": "code",
   "execution_count": 6,
   "metadata": {},
   "outputs": [
    {
     "data": {
      "text/plain": [
       "0.3530124344489639"
      ]
     },
     "execution_count": 6,
     "metadata": {},
     "output_type": "execute_result"
    }
   ],
   "source": [
    "cross_val_score(ols, X_train, y_train).mean()"
   ]
  },
  {
   "cell_type": "code",
   "execution_count": null,
   "metadata": {},
   "outputs": [],
   "source": []
  },
  {
   "cell_type": "markdown",
   "metadata": {},
   "source": [
    "### 2nd Flr SF"
   ]
  },
  {
   "cell_type": "code",
   "execution_count": 1,
   "metadata": {},
   "outputs": [],
   "source": [
    "import numpy as np\n",
    "import pandas as pd\n",
    "import matplotlib.pyplot as plt\n",
    "import seaborn as sns\n",
    "\n",
    "from sklearn.model_selection import train_test_split, cross_val_score\n",
    "from sklearn.linear_model import LinearRegression\n",
    "from sklearn.preprocessing import StandardScaler, PolynomialFeatures\n",
    "from sklearn.metrics import r2_score, mean_squared_error\n",
    "train = pd.read_csv('../datasets/train.csv')\n",
    "test = pd.read_csv('../datasets/test.csv')"
   ]
  },
  {
   "cell_type": "code",
   "execution_count": 2,
   "metadata": {},
   "outputs": [],
   "source": [
    "X = train[['2nd Flr SF']]\n",
    "y = train['SalePrice']\n",
    "\n",
    "X_train, X_test, y_train, y_test = train_test_split(X, y, random_state = 42)\n",
    "\n",
    "ols = LinearRegression()\n",
    "ols.fit(X_train, y_train)\n",
    "\n",
    "def evaluate_model(model, X, y): \n",
    "    \n",
    "    y_train_hat = ols.predict(X)\n",
    "\n",
    "    mse = mean_squared_error(y, y_train_hat)\n",
    "    rmse = mse ** .5\n",
    "    r2 = r2_score(y, y_train_hat)\n",
    "\n",
    "    print(f'R^2: {r2}')\n",
    "    print(f'MSE: {mse}')\n",
    "    print(f'RMSE: {rmse}')"
   ]
  },
  {
   "cell_type": "code",
   "execution_count": 3,
   "metadata": {},
   "outputs": [
    {
     "name": "stdout",
     "output_type": "stream",
     "text": [
      "R^2: 0.06688091071334579\n",
      "MSE: 5901530554.152966\n",
      "RMSE: 76821.41989154434\n"
     ]
    }
   ],
   "source": [
    "evaluate_model(ols, X_train, y_train)"
   ]
  },
  {
   "cell_type": "code",
   "execution_count": 4,
   "metadata": {},
   "outputs": [
    {
     "name": "stdout",
     "output_type": "stream",
     "text": [
      "R^2: 0.04489517057816805\n",
      "MSE: 5864367272.689439\n",
      "RMSE: 76579.15690766933\n"
     ]
    }
   ],
   "source": [
    "evaluate_model(ols, X_test, y_test)"
   ]
  },
  {
   "cell_type": "code",
   "execution_count": 5,
   "metadata": {},
   "outputs": [
    {
     "data": {
      "text/plain": [
       "0.06251624442981145"
      ]
     },
     "execution_count": 5,
     "metadata": {},
     "output_type": "execute_result"
    }
   ],
   "source": [
    "cross_val_score(ols, X_train, y_train).mean()"
   ]
  },
  {
   "cell_type": "code",
   "execution_count": null,
   "metadata": {},
   "outputs": [],
   "source": []
  },
  {
   "cell_type": "markdown",
   "metadata": {},
   "source": [
    "### Low Qual Fin SF"
   ]
  },
  {
   "cell_type": "code",
   "execution_count": 1,
   "metadata": {},
   "outputs": [],
   "source": [
    "import numpy as np\n",
    "import pandas as pd\n",
    "import matplotlib.pyplot as plt\n",
    "import seaborn as sns\n",
    "\n",
    "from sklearn.model_selection import train_test_split, cross_val_score\n",
    "from sklearn.linear_model import LinearRegression\n",
    "from sklearn.preprocessing import StandardScaler, PolynomialFeatures\n",
    "from sklearn.metrics import r2_score, mean_squared_error\n",
    "train = pd.read_csv('../datasets/train.csv')\n",
    "test = pd.read_csv('../datasets/test.csv')"
   ]
  },
  {
   "cell_type": "code",
   "execution_count": 2,
   "metadata": {},
   "outputs": [],
   "source": [
    "X = train[['Low Qual Fin SF']]\n",
    "y = train['SalePrice']\n",
    "\n",
    "X_train, X_test, y_train, y_test = train_test_split(X, y, random_state = 42)\n",
    "\n",
    "ols = LinearRegression()\n",
    "ols.fit(X_train, y_train)\n",
    "\n",
    "def evaluate_model(model, X, y): \n",
    "    \n",
    "    y_train_hat = ols.predict(X)\n",
    "\n",
    "    mse = mean_squared_error(y, y_train_hat)\n",
    "    rmse = mse ** .5\n",
    "    r2 = r2_score(y, y_train_hat)\n",
    "\n",
    "    print(f'R^2: {r2}')\n",
    "    print(f'MSE: {mse}')\n",
    "    print(f'RMSE: {rmse}')"
   ]
  },
  {
   "cell_type": "code",
   "execution_count": 3,
   "metadata": {},
   "outputs": [
    {
     "name": "stdout",
     "output_type": "stream",
     "text": [
      "R^2: 0.0012439293917401173\n",
      "MSE: 6316652970.14378\n",
      "RMSE: 79477.37395097915\n"
     ]
    }
   ],
   "source": [
    "evaluate_model(ols, X_train, y_train)"
   ]
  },
  {
   "cell_type": "code",
   "execution_count": 4,
   "metadata": {},
   "outputs": [
    {
     "name": "stdout",
     "output_type": "stream",
     "text": [
      "R^2: 0.00258032695011734\n",
      "MSE: 6124181459.02491\n",
      "RMSE: 78257.14957130057\n"
     ]
    }
   ],
   "source": [
    "evaluate_model(ols, X_test, y_test)"
   ]
  },
  {
   "cell_type": "code",
   "execution_count": 5,
   "metadata": {},
   "outputs": [
    {
     "data": {
      "text/plain": [
       "-0.005153548655832796"
      ]
     },
     "execution_count": 5,
     "metadata": {},
     "output_type": "execute_result"
    }
   ],
   "source": [
    "cross_val_score(ols, X_train, y_train).mean()"
   ]
  },
  {
   "cell_type": "code",
   "execution_count": null,
   "metadata": {},
   "outputs": [],
   "source": []
  },
  {
   "cell_type": "markdown",
   "metadata": {},
   "source": [
    "### Gr Liv Area"
   ]
  },
  {
   "cell_type": "code",
   "execution_count": 1,
   "metadata": {},
   "outputs": [],
   "source": [
    "import numpy as np\n",
    "import pandas as pd\n",
    "import matplotlib.pyplot as plt\n",
    "import seaborn as sns\n",
    "\n",
    "from sklearn.model_selection import train_test_split, cross_val_score\n",
    "from sklearn.linear_model import LinearRegression\n",
    "from sklearn.preprocessing import StandardScaler, PolynomialFeatures\n",
    "from sklearn.metrics import r2_score, mean_squared_error\n",
    "train = pd.read_csv('../datasets/train.csv')\n",
    "test = pd.read_csv('../datasets/test.csv')"
   ]
  },
  {
   "cell_type": "code",
   "execution_count": 3,
   "metadata": {},
   "outputs": [],
   "source": [
    "X = train[['Gr Liv Area']]\n",
    "y = train['SalePrice']\n",
    "\n",
    "X_train, X_test, y_train, y_test = train_test_split(X, y, random_state = 42)\n",
    "\n",
    "ols = LinearRegression()\n",
    "ols.fit(X_train, y_train)\n",
    "\n",
    "def evaluate_model(model, X, y): \n",
    "    \n",
    "    y_train_hat = ols.predict(X)\n",
    "\n",
    "    mse = mean_squared_error(y, y_train_hat)\n",
    "    rmse = mse ** .5\n",
    "    r2 = r2_score(y, y_train_hat)\n",
    "\n",
    "    print(f'R^2: {r2}')\n",
    "    print(f'MSE: {mse}')\n",
    "    print(f'RMSE: {rmse}')"
   ]
  },
  {
   "cell_type": "code",
   "execution_count": 4,
   "metadata": {},
   "outputs": [
    {
     "name": "stdout",
     "output_type": "stream",
     "text": [
      "R^2: 0.47830983142304184\n",
      "MSE: 3299440023.2576656\n",
      "RMSE: 57440.752286662\n"
     ]
    }
   ],
   "source": [
    "evaluate_model(ols, X_train, y_train)"
   ]
  },
  {
   "cell_type": "code",
   "execution_count": 5,
   "metadata": {},
   "outputs": [
    {
     "name": "stdout",
     "output_type": "stream",
     "text": [
      "R^2: 0.508364200578292\n",
      "MSE: 3018655966.755465\n",
      "RMSE: 54942.29670077021\n"
     ]
    }
   ],
   "source": [
    "evaluate_model(ols, X_test, y_test)"
   ]
  },
  {
   "cell_type": "code",
   "execution_count": 6,
   "metadata": {},
   "outputs": [
    {
     "data": {
      "text/plain": [
       "0.4687461240042808"
      ]
     },
     "execution_count": 6,
     "metadata": {},
     "output_type": "execute_result"
    }
   ],
   "source": [
    "cross_val_score(ols, X_train, y_train).mean()"
   ]
  },
  {
   "cell_type": "code",
   "execution_count": null,
   "metadata": {},
   "outputs": [],
   "source": []
  },
  {
   "cell_type": "markdown",
   "metadata": {},
   "source": [
    "### Bsmt Full Bath"
   ]
  },
  {
   "cell_type": "code",
   "execution_count": 1,
   "metadata": {},
   "outputs": [],
   "source": [
    "import numpy as np\n",
    "import pandas as pd\n",
    "import matplotlib.pyplot as plt\n",
    "import seaborn as sns\n",
    "\n",
    "from sklearn.model_selection import train_test_split, cross_val_score\n",
    "from sklearn.linear_model import LinearRegression\n",
    "from sklearn.preprocessing import StandardScaler, PolynomialFeatures\n",
    "from sklearn.metrics import r2_score, mean_squared_error\n",
    "train = pd.read_csv('../datasets/train.csv')\n",
    "test = pd.read_csv('../datasets/test.csv')"
   ]
  },
  {
   "cell_type": "code",
   "execution_count": 3,
   "metadata": {},
   "outputs": [],
   "source": [
    "train = train[train['Bsmt Full Bath'].notna()]"
   ]
  },
  {
   "cell_type": "code",
   "execution_count": 4,
   "metadata": {},
   "outputs": [],
   "source": [
    "X = train[['Bsmt Full Bath']]\n",
    "y = train['SalePrice']\n",
    "\n",
    "X_train, X_test, y_train, y_test = train_test_split(X, y, random_state = 42)\n",
    "\n",
    "ols = LinearRegression()\n",
    "ols.fit(X_train, y_train)\n",
    "\n",
    "def evaluate_model(model, X, y): \n",
    "    \n",
    "    y_train_hat = ols.predict(X)\n",
    "\n",
    "    mse = mean_squared_error(y, y_train_hat)\n",
    "    rmse = mse ** .5\n",
    "    r2 = r2_score(y, y_train_hat)\n",
    "\n",
    "    print(f'R^2: {r2}')\n",
    "    print(f'MSE: {mse}')\n",
    "    print(f'RMSE: {rmse}')"
   ]
  },
  {
   "cell_type": "code",
   "execution_count": 5,
   "metadata": {},
   "outputs": [
    {
     "name": "stdout",
     "output_type": "stream",
     "text": [
      "R^2: 0.08805444044228217\n",
      "MSE: 5767225010.520894\n",
      "RMSE: 75942.24786323417\n"
     ]
    }
   ],
   "source": [
    "evaluate_model(ols, X_train, y_train)"
   ]
  },
  {
   "cell_type": "code",
   "execution_count": 6,
   "metadata": {},
   "outputs": [
    {
     "name": "stdout",
     "output_type": "stream",
     "text": [
      "R^2: 0.0522297335018137\n",
      "MSE: 5786454355.147956\n",
      "RMSE: 76068.74755869164\n"
     ]
    }
   ],
   "source": [
    "evaluate_model(ols, X_test, y_test)"
   ]
  },
  {
   "cell_type": "code",
   "execution_count": 7,
   "metadata": {},
   "outputs": [
    {
     "data": {
      "text/plain": [
       "0.08021758501803397"
      ]
     },
     "execution_count": 7,
     "metadata": {},
     "output_type": "execute_result"
    }
   ],
   "source": [
    "cross_val_score(ols, X_train, y_train).mean()"
   ]
  },
  {
   "cell_type": "code",
   "execution_count": null,
   "metadata": {},
   "outputs": [],
   "source": []
  },
  {
   "cell_type": "markdown",
   "metadata": {},
   "source": [
    "### Bsmt Half Bath"
   ]
  },
  {
   "cell_type": "code",
   "execution_count": 1,
   "metadata": {},
   "outputs": [],
   "source": [
    "import numpy as np\n",
    "import pandas as pd\n",
    "import matplotlib.pyplot as plt\n",
    "import seaborn as sns\n",
    "\n",
    "from sklearn.model_selection import train_test_split, cross_val_score\n",
    "from sklearn.linear_model import LinearRegression\n",
    "from sklearn.preprocessing import StandardScaler, PolynomialFeatures\n",
    "from sklearn.metrics import r2_score, mean_squared_error\n",
    "train = pd.read_csv('../datasets/train.csv')\n",
    "test = pd.read_csv('../datasets/test.csv')"
   ]
  },
  {
   "cell_type": "code",
   "execution_count": 2,
   "metadata": {},
   "outputs": [],
   "source": [
    "train = train[train['Bsmt Half Bath'].notna()]"
   ]
  },
  {
   "cell_type": "code",
   "execution_count": 3,
   "metadata": {},
   "outputs": [],
   "source": [
    "X = train[['Bsmt Half Bath']]\n",
    "y = train['SalePrice']\n",
    "\n",
    "X_train, X_test, y_train, y_test = train_test_split(X, y, random_state = 42)\n",
    "\n",
    "ols = LinearRegression()\n",
    "ols.fit(X_train, y_train)\n",
    "\n",
    "def evaluate_model(model, X, y): \n",
    "    \n",
    "    y_train_hat = ols.predict(X)\n",
    "\n",
    "    mse = mean_squared_error(y, y_train_hat)\n",
    "    rmse = mse ** .5\n",
    "    r2 = r2_score(y, y_train_hat)\n",
    "\n",
    "    print(f'R^2: {r2}')\n",
    "    print(f'MSE: {mse}')\n",
    "    print(f'RMSE: {rmse}')"
   ]
  },
  {
   "cell_type": "code",
   "execution_count": 4,
   "metadata": {},
   "outputs": [
    {
     "name": "stdout",
     "output_type": "stream",
     "text": [
      "R^2: 0.0012246473797213886\n",
      "MSE: 6316344361.956325\n",
      "RMSE: 79475.43244271354\n"
     ]
    }
   ],
   "source": [
    "evaluate_model(ols, X_train, y_train)"
   ]
  },
  {
   "cell_type": "code",
   "execution_count": 5,
   "metadata": {},
   "outputs": [
    {
     "name": "stdout",
     "output_type": "stream",
     "text": [
      "R^2: -0.000505001080537415\n",
      "MSE: 6108417541.141405\n",
      "RMSE: 78156.36596683219\n"
     ]
    }
   ],
   "source": [
    "evaluate_model(ols, X_test, y_test)"
   ]
  },
  {
   "cell_type": "code",
   "execution_count": 6,
   "metadata": {},
   "outputs": [
    {
     "data": {
      "text/plain": [
       "-0.0071597692170989324"
      ]
     },
     "execution_count": 6,
     "metadata": {},
     "output_type": "execute_result"
    }
   ],
   "source": [
    "cross_val_score(ols, X_train, y_train).mean()"
   ]
  },
  {
   "cell_type": "code",
   "execution_count": null,
   "metadata": {},
   "outputs": [],
   "source": []
  },
  {
   "cell_type": "markdown",
   "metadata": {},
   "source": [
    "### Full Bath"
   ]
  },
  {
   "cell_type": "code",
   "execution_count": 1,
   "metadata": {},
   "outputs": [],
   "source": [
    "import numpy as np\n",
    "import pandas as pd\n",
    "import matplotlib.pyplot as plt\n",
    "import seaborn as sns\n",
    "\n",
    "from sklearn.model_selection import train_test_split, cross_val_score\n",
    "from sklearn.linear_model import LinearRegression\n",
    "from sklearn.preprocessing import StandardScaler, PolynomialFeatures\n",
    "from sklearn.metrics import r2_score, mean_squared_error\n",
    "train = pd.read_csv('../datasets/train.csv')\n",
    "test = pd.read_csv('../datasets/test.csv')"
   ]
  },
  {
   "cell_type": "code",
   "execution_count": null,
   "metadata": {},
   "outputs": [],
   "source": []
  },
  {
   "cell_type": "code",
   "execution_count": 3,
   "metadata": {},
   "outputs": [],
   "source": [
    "X = train[['Full Bath']]\n",
    "y = train['SalePrice']\n",
    "\n",
    "X_train, X_test, y_train, y_test = train_test_split(X, y, random_state = 42)\n",
    "\n",
    "ols = LinearRegression()\n",
    "ols.fit(X_train, y_train)\n",
    "\n",
    "def evaluate_model(model, X, y): \n",
    "    \n",
    "    y_train_hat = ols.predict(X)\n",
    "\n",
    "    mse = mean_squared_error(y, y_train_hat)\n",
    "    rmse = mse ** .5\n",
    "    r2 = r2_score(y, y_train_hat)\n",
    "\n",
    "    print(f'R^2: {r2}')\n",
    "    print(f'MSE: {mse}')\n",
    "    print(f'RMSE: {rmse}')"
   ]
  },
  {
   "cell_type": "code",
   "execution_count": 4,
   "metadata": {},
   "outputs": [
    {
     "name": "stdout",
     "output_type": "stream",
     "text": [
      "R^2: 0.2858286702045657\n",
      "MSE: 4516791020.650798\n",
      "RMSE: 67207.07567400027\n"
     ]
    }
   ],
   "source": [
    "evaluate_model(ols, X_train, y_train)"
   ]
  },
  {
   "cell_type": "code",
   "execution_count": 5,
   "metadata": {},
   "outputs": [
    {
     "name": "stdout",
     "output_type": "stream",
     "text": [
      "R^2: 0.30013026904277385\n",
      "MSE: 4297217456.073418\n",
      "RMSE: 65553.16511102585\n"
     ]
    }
   ],
   "source": [
    "evaluate_model(ols, X_test, y_test)"
   ]
  },
  {
   "cell_type": "code",
   "execution_count": 6,
   "metadata": {},
   "outputs": [
    {
     "data": {
      "text/plain": [
       "0.2887826789357992"
      ]
     },
     "execution_count": 6,
     "metadata": {},
     "output_type": "execute_result"
    }
   ],
   "source": [
    "cross_val_score(ols, X_train, y_train).mean()"
   ]
  },
  {
   "cell_type": "code",
   "execution_count": null,
   "metadata": {},
   "outputs": [],
   "source": []
  },
  {
   "cell_type": "markdown",
   "metadata": {},
   "source": [
    "### Half Bath"
   ]
  },
  {
   "cell_type": "code",
   "execution_count": 1,
   "metadata": {},
   "outputs": [],
   "source": [
    "import numpy as np\n",
    "import pandas as pd\n",
    "import matplotlib.pyplot as plt\n",
    "import seaborn as sns\n",
    "\n",
    "from sklearn.model_selection import train_test_split, cross_val_score\n",
    "from sklearn.linear_model import LinearRegression\n",
    "from sklearn.preprocessing import StandardScaler, PolynomialFeatures\n",
    "from sklearn.metrics import r2_score, mean_squared_error\n",
    "train = pd.read_csv('../datasets/train.csv')\n",
    "test = pd.read_csv('../datasets/test.csv')"
   ]
  },
  {
   "cell_type": "code",
   "execution_count": null,
   "metadata": {},
   "outputs": [],
   "source": []
  },
  {
   "cell_type": "code",
   "execution_count": 2,
   "metadata": {},
   "outputs": [],
   "source": [
    "X = train[['Half Bath']]\n",
    "y = train['SalePrice']\n",
    "\n",
    "X_train, X_test, y_train, y_test = train_test_split(X, y, random_state = 42)\n",
    "\n",
    "ols = LinearRegression()\n",
    "ols.fit(X_train, y_train)\n",
    "\n",
    "def evaluate_model(model, X, y): \n",
    "    \n",
    "    y_train_hat = ols.predict(X)\n",
    "\n",
    "    mse = mean_squared_error(y, y_train_hat)\n",
    "    rmse = mse ** .5\n",
    "    r2 = r2_score(y, y_train_hat)\n",
    "\n",
    "    print(f'R^2: {r2}')\n",
    "    print(f'MSE: {mse}')\n",
    "    print(f'RMSE: {rmse}')"
   ]
  },
  {
   "cell_type": "code",
   "execution_count": 3,
   "metadata": {},
   "outputs": [
    {
     "name": "stdout",
     "output_type": "stream",
     "text": [
      "R^2: 0.0804161217700966\n",
      "MSE: 5815926838.051317\n",
      "RMSE: 76262.22418767576\n"
     ]
    }
   ],
   "source": [
    "evaluate_model(ols, X_train, y_train)"
   ]
  },
  {
   "cell_type": "code",
   "execution_count": 4,
   "metadata": {},
   "outputs": [
    {
     "name": "stdout",
     "output_type": "stream",
     "text": [
      "R^2: 0.07846567077603717\n",
      "MSE: 5658243571.265615\n",
      "RMSE: 75221.29732506357\n"
     ]
    }
   ],
   "source": [
    "evaluate_model(ols, X_test, y_test)"
   ]
  },
  {
   "cell_type": "code",
   "execution_count": 5,
   "metadata": {},
   "outputs": [
    {
     "data": {
      "text/plain": [
       "0.06982819670890628"
      ]
     },
     "execution_count": 5,
     "metadata": {},
     "output_type": "execute_result"
    }
   ],
   "source": [
    "cross_val_score(ols, X_train, y_train).mean()"
   ]
  },
  {
   "cell_type": "code",
   "execution_count": null,
   "metadata": {},
   "outputs": [],
   "source": []
  },
  {
   "cell_type": "markdown",
   "metadata": {},
   "source": [
    "### Baths"
   ]
  },
  {
   "cell_type": "code",
   "execution_count": 1,
   "metadata": {},
   "outputs": [],
   "source": [
    "import numpy as np\n",
    "import pandas as pd\n",
    "import matplotlib.pyplot as plt\n",
    "import seaborn as sns\n",
    "\n",
    "from sklearn.model_selection import train_test_split, cross_val_score\n",
    "from sklearn.linear_model import LinearRegression\n",
    "from sklearn.preprocessing import StandardScaler, PolynomialFeatures\n",
    "from sklearn.metrics import r2_score, mean_squared_error\n",
    "train = pd.read_csv('../datasets/train.csv')\n",
    "test = pd.read_csv('../datasets/test.csv')"
   ]
  },
  {
   "cell_type": "code",
   "execution_count": 3,
   "metadata": {},
   "outputs": [],
   "source": [
    "train['tot baths'] = train['Full Bath'] + train['Half Bath']"
   ]
  },
  {
   "cell_type": "code",
   "execution_count": 5,
   "metadata": {},
   "outputs": [],
   "source": [
    "X = train[['tot baths']]\n",
    "y = train['SalePrice']\n",
    "\n",
    "X_train, X_test, y_train, y_test = train_test_split(X, y, random_state = 42)\n",
    "\n",
    "ols = LinearRegression()\n",
    "ols.fit(X_train, y_train)\n",
    "\n",
    "def evaluate_model(model, X, y): \n",
    "    \n",
    "    y_train_hat = ols.predict(X)\n",
    "\n",
    "    mse = mean_squared_error(y, y_train_hat)\n",
    "    rmse = mse ** .5\n",
    "    r2 = r2_score(y, y_train_hat)\n",
    "\n",
    "    print(f'R^2: {r2}')\n",
    "    print(f'MSE: {mse}')\n",
    "    print(f'RMSE: {rmse}')"
   ]
  },
  {
   "cell_type": "code",
   "execution_count": 6,
   "metadata": {},
   "outputs": [
    {
     "name": "stdout",
     "output_type": "stream",
     "text": [
      "R^2: 0.30554400634456014\n",
      "MSE: 4392100978.456377\n",
      "RMSE: 66272.92794540149\n"
     ]
    }
   ],
   "source": [
    "evaluate_model(ols, X_train, y_train)"
   ]
  },
  {
   "cell_type": "code",
   "execution_count": 7,
   "metadata": {},
   "outputs": [
    {
     "name": "stdout",
     "output_type": "stream",
     "text": [
      "R^2: 0.28213257318148977\n",
      "MSE: 4407723753.750316\n",
      "RMSE: 66390.69026415011\n"
     ]
    }
   ],
   "source": [
    "evaluate_model(ols, X_test, y_test)"
   ]
  },
  {
   "cell_type": "code",
   "execution_count": 8,
   "metadata": {},
   "outputs": [
    {
     "data": {
      "text/plain": [
       "0.3005727518298076"
      ]
     },
     "execution_count": 8,
     "metadata": {},
     "output_type": "execute_result"
    }
   ],
   "source": [
    "cross_val_score(ols, X_train, y_train).mean()"
   ]
  },
  {
   "cell_type": "code",
   "execution_count": null,
   "metadata": {},
   "outputs": [],
   "source": []
  },
  {
   "cell_type": "markdown",
   "metadata": {},
   "source": [
    "### Bedroom"
   ]
  },
  {
   "cell_type": "code",
   "execution_count": 1,
   "metadata": {},
   "outputs": [],
   "source": [
    "import numpy as np\n",
    "import pandas as pd\n",
    "import matplotlib.pyplot as plt\n",
    "import seaborn as sns\n",
    "\n",
    "from sklearn.model_selection import train_test_split, cross_val_score\n",
    "from sklearn.linear_model import LinearRegression\n",
    "from sklearn.preprocessing import StandardScaler, PolynomialFeatures\n",
    "from sklearn.metrics import r2_score, mean_squared_error\n",
    "train = pd.read_csv('../datasets/train.csv')\n",
    "test = pd.read_csv('../datasets/test.csv')"
   ]
  },
  {
   "cell_type": "code",
   "execution_count": 2,
   "metadata": {},
   "outputs": [],
   "source": [
    "X = train[['Bedroom AbvGr']]\n",
    "y = train['SalePrice']\n",
    "\n",
    "X_train, X_test, y_train, y_test = train_test_split(X, y, random_state = 42)\n",
    "\n",
    "ols = LinearRegression()\n",
    "ols.fit(X_train, y_train)\n",
    "\n",
    "def evaluate_model(model, X, y): \n",
    "    \n",
    "    y_train_hat = ols.predict(X)\n",
    "\n",
    "    mse = mean_squared_error(y, y_train_hat)\n",
    "    rmse = mse ** .5\n",
    "    r2 = r2_score(y, y_train_hat)\n",
    "\n",
    "    print(f'R^2: {r2}')\n",
    "    print(f'MSE: {mse}')\n",
    "    print(f'RMSE: {rmse}')"
   ]
  },
  {
   "cell_type": "code",
   "execution_count": 3,
   "metadata": {},
   "outputs": [
    {
     "name": "stdout",
     "output_type": "stream",
     "text": [
      "R^2: 0.018853910978389843\n",
      "MSE: 6205278285.40645\n",
      "RMSE: 78773.58875540996\n"
     ]
    }
   ],
   "source": [
    "evaluate_model(ols, X_train, y_train)"
   ]
  },
  {
   "cell_type": "code",
   "execution_count": 4,
   "metadata": {},
   "outputs": [
    {
     "name": "stdout",
     "output_type": "stream",
     "text": [
      "R^2: 0.018199715923705395\n",
      "MSE: 6028278024.454734\n",
      "RMSE: 77641.98622172629\n"
     ]
    }
   ],
   "source": [
    "evaluate_model(ols, X_test, y_test)"
   ]
  },
  {
   "cell_type": "code",
   "execution_count": 5,
   "metadata": {},
   "outputs": [
    {
     "data": {
      "text/plain": [
       "0.01722258692058749"
      ]
     },
     "execution_count": 5,
     "metadata": {},
     "output_type": "execute_result"
    }
   ],
   "source": [
    "cross_val_score(ols, X_train, y_train).mean()"
   ]
  },
  {
   "cell_type": "code",
   "execution_count": null,
   "metadata": {},
   "outputs": [],
   "source": []
  },
  {
   "cell_type": "markdown",
   "metadata": {},
   "source": [
    "### Kitchens AbvGrd"
   ]
  },
  {
   "cell_type": "code",
   "execution_count": 1,
   "metadata": {},
   "outputs": [],
   "source": [
    "import numpy as np\n",
    "import pandas as pd\n",
    "import matplotlib.pyplot as plt\n",
    "import seaborn as sns\n",
    "\n",
    "from sklearn.model_selection import train_test_split, cross_val_score\n",
    "from sklearn.linear_model import LinearRegression\n",
    "from sklearn.preprocessing import StandardScaler, PolynomialFeatures\n",
    "from sklearn.metrics import r2_score, mean_squared_error\n",
    "train = pd.read_csv('../datasets/train.csv')\n",
    "test = pd.read_csv('../datasets/test.csv')"
   ]
  },
  {
   "cell_type": "code",
   "execution_count": 2,
   "metadata": {},
   "outputs": [],
   "source": [
    "X = train[['Kitchen AbvGr']]\n",
    "y = train['SalePrice']\n",
    "\n",
    "X_train, X_test, y_train, y_test = train_test_split(X, y, random_state = 42)\n",
    "\n",
    "ols = LinearRegression()\n",
    "ols.fit(X_train, y_train)\n",
    "\n",
    "def evaluate_model(model, X, y): \n",
    "    \n",
    "    y_train_hat = ols.predict(X)\n",
    "\n",
    "    mse = mean_squared_error(y, y_train_hat)\n",
    "    rmse = mse ** .5\n",
    "    r2 = r2_score(y, y_train_hat)\n",
    "\n",
    "    print(f'R^2: {r2}')\n",
    "    print(f'MSE: {mse}')\n",
    "    print(f'RMSE: {rmse}')"
   ]
  },
  {
   "cell_type": "code",
   "execution_count": 3,
   "metadata": {},
   "outputs": [
    {
     "name": "stdout",
     "output_type": "stream",
     "text": [
      "R^2: 0.013844909911065018\n",
      "MSE: 6236957813.972522\n",
      "RMSE: 78974.41240029913\n"
     ]
    }
   ],
   "source": [
    "evaluate_model(ols, X_train, y_train)"
   ]
  },
  {
   "cell_type": "code",
   "execution_count": 4,
   "metadata": {},
   "outputs": [
    {
     "name": "stdout",
     "output_type": "stream",
     "text": [
      "R^2: 0.02097572111457613\n",
      "MSE: 6011233283.931316\n",
      "RMSE: 77532.14355305364\n"
     ]
    }
   ],
   "source": [
    "evaluate_model(ols, X_test, y_test)"
   ]
  },
  {
   "cell_type": "code",
   "execution_count": 5,
   "metadata": {},
   "outputs": [
    {
     "data": {
      "text/plain": [
       "0.011694376209967449"
      ]
     },
     "execution_count": 5,
     "metadata": {},
     "output_type": "execute_result"
    }
   ],
   "source": [
    "cross_val_score(ols, X_train, y_train).mean()"
   ]
  },
  {
   "cell_type": "code",
   "execution_count": null,
   "metadata": {},
   "outputs": [],
   "source": []
  },
  {
   "cell_type": "markdown",
   "metadata": {},
   "source": [
    "### TotRms AbvGrd"
   ]
  },
  {
   "cell_type": "code",
   "execution_count": 1,
   "metadata": {},
   "outputs": [],
   "source": [
    "import numpy as np\n",
    "import pandas as pd\n",
    "import matplotlib.pyplot as plt\n",
    "import seaborn as sns\n",
    "\n",
    "from sklearn.model_selection import train_test_split, cross_val_score\n",
    "from sklearn.linear_model import LinearRegression\n",
    "from sklearn.preprocessing import StandardScaler, PolynomialFeatures\n",
    "from sklearn.metrics import r2_score, mean_squared_error\n",
    "train = pd.read_csv('../datasets/train.csv')\n",
    "test = pd.read_csv('../datasets/test.csv')"
   ]
  },
  {
   "cell_type": "code",
   "execution_count": 3,
   "metadata": {},
   "outputs": [],
   "source": [
    "X = train[['TotRms AbvGrd']]\n",
    "y = train['SalePrice']\n",
    "\n",
    "X_train, X_test, y_train, y_test = train_test_split(X, y, random_state = 42)\n",
    "\n",
    "ols = LinearRegression()\n",
    "ols.fit(X_train, y_train)\n",
    "\n",
    "def evaluate_model(model, X, y): \n",
    "    \n",
    "    y_train_hat = ols.predict(X)\n",
    "\n",
    "    mse = mean_squared_error(y, y_train_hat)\n",
    "    rmse = mse ** .5\n",
    "    r2 = r2_score(y, y_train_hat)\n",
    "\n",
    "    print(f'R^2: {r2}')\n",
    "    print(f'MSE: {mse}')\n",
    "    print(f'RMSE: {rmse}')"
   ]
  },
  {
   "cell_type": "code",
   "execution_count": 4,
   "metadata": {},
   "outputs": [
    {
     "name": "stdout",
     "output_type": "stream",
     "text": [
      "R^2: 0.2735862967297831\n",
      "MSE: 4594218159.315396\n",
      "RMSE: 67780.66213394051\n"
     ]
    }
   ],
   "source": [
    "evaluate_model(ols, X_train, y_train)"
   ]
  },
  {
   "cell_type": "code",
   "execution_count": 5,
   "metadata": {},
   "outputs": [
    {
     "name": "stdout",
     "output_type": "stream",
     "text": [
      "R^2: 0.19171569449311798\n",
      "MSE: 4962885624.934441\n",
      "RMSE: 70447.75102822261\n"
     ]
    }
   ],
   "source": [
    "evaluate_model(ols, X_test, y_test)"
   ]
  },
  {
   "cell_type": "code",
   "execution_count": 6,
   "metadata": {},
   "outputs": [
    {
     "data": {
      "text/plain": [
       "0.2670797113341849"
      ]
     },
     "execution_count": 6,
     "metadata": {},
     "output_type": "execute_result"
    }
   ],
   "source": [
    "cross_val_score(ols, X_train, y_train).mean()"
   ]
  },
  {
   "cell_type": "code",
   "execution_count": null,
   "metadata": {},
   "outputs": [],
   "source": []
  },
  {
   "cell_type": "markdown",
   "metadata": {},
   "source": [
    "### Fireplaces"
   ]
  },
  {
   "cell_type": "code",
   "execution_count": 1,
   "metadata": {},
   "outputs": [],
   "source": [
    "import numpy as np\n",
    "import pandas as pd\n",
    "import matplotlib.pyplot as plt\n",
    "import seaborn as sns\n",
    "\n",
    "from sklearn.model_selection import train_test_split, cross_val_score\n",
    "from sklearn.linear_model import LinearRegression\n",
    "from sklearn.preprocessing import StandardScaler, PolynomialFeatures\n",
    "from sklearn.metrics import r2_score, mean_squared_error\n",
    "train = pd.read_csv('../datasets/train.csv')\n",
    "test = pd.read_csv('../datasets/test.csv')"
   ]
  },
  {
   "cell_type": "code",
   "execution_count": 2,
   "metadata": {},
   "outputs": [],
   "source": [
    "X = train[['Fireplaces']]\n",
    "y = train['SalePrice']\n",
    "\n",
    "X_train, X_test, y_train, y_test = train_test_split(X, y, random_state = 42)\n",
    "\n",
    "ols = LinearRegression()\n",
    "ols.fit(X_train, y_train)\n",
    "\n",
    "def evaluate_model(model, X, y): \n",
    "    \n",
    "    y_train_hat = ols.predict(X)\n",
    "\n",
    "    mse = mean_squared_error(y, y_train_hat)\n",
    "    rmse = mse ** .5\n",
    "    r2 = r2_score(y, y_train_hat)\n",
    "\n",
    "    print(f'R^2: {r2}')\n",
    "    print(f'MSE: {mse}')\n",
    "    print(f'RMSE: {rmse}')"
   ]
  },
  {
   "cell_type": "code",
   "execution_count": 3,
   "metadata": {},
   "outputs": [
    {
     "name": "stdout",
     "output_type": "stream",
     "text": [
      "R^2: 0.22888081376858094\n",
      "MSE: 4876958890.549811\n",
      "RMSE: 69835.22671653477\n"
     ]
    }
   ],
   "source": [
    "evaluate_model(ols, X_train, y_train)"
   ]
  },
  {
   "cell_type": "code",
   "execution_count": 4,
   "metadata": {},
   "outputs": [
    {
     "name": "stdout",
     "output_type": "stream",
     "text": [
      "R^2: 0.19968638623452006\n",
      "MSE: 4913945380.524548\n",
      "RMSE: 70099.53908924472\n"
     ]
    }
   ],
   "source": [
    "evaluate_model(ols, X_test, y_test)"
   ]
  },
  {
   "cell_type": "code",
   "execution_count": 5,
   "metadata": {},
   "outputs": [
    {
     "data": {
      "text/plain": [
       "0.22384777302088166"
      ]
     },
     "execution_count": 5,
     "metadata": {},
     "output_type": "execute_result"
    }
   ],
   "source": [
    "cross_val_score(ols, X_train, y_train).mean()"
   ]
  },
  {
   "cell_type": "code",
   "execution_count": null,
   "metadata": {},
   "outputs": [],
   "source": []
  },
  {
   "cell_type": "markdown",
   "metadata": {},
   "source": [
    "### Garage Yr Blt"
   ]
  },
  {
   "cell_type": "code",
   "execution_count": 1,
   "metadata": {},
   "outputs": [],
   "source": [
    "import numpy as np\n",
    "import pandas as pd\n",
    "import matplotlib.pyplot as plt\n",
    "import seaborn as sns\n",
    "\n",
    "from sklearn.model_selection import train_test_split, cross_val_score\n",
    "from sklearn.linear_model import LinearRegression\n",
    "from sklearn.preprocessing import StandardScaler, PolynomialFeatures\n",
    "from sklearn.metrics import r2_score, mean_squared_error\n",
    "train = pd.read_csv('../datasets/train.csv')\n",
    "test = pd.read_csv('../datasets/test.csv')"
   ]
  },
  {
   "cell_type": "code",
   "execution_count": 3,
   "metadata": {},
   "outputs": [],
   "source": [
    "train = train[train['Garage Yr Blt'].notna()]"
   ]
  },
  {
   "cell_type": "code",
   "execution_count": 4,
   "metadata": {},
   "outputs": [],
   "source": [
    "X = train[['Garage Yr Blt']]\n",
    "y = train['SalePrice']\n",
    "\n",
    "X_train, X_test, y_train, y_test = train_test_split(X, y, random_state = 42)\n",
    "\n",
    "ols = LinearRegression()\n",
    "ols.fit(X_train, y_train)\n",
    "\n",
    "def evaluate_model(model, X, y): \n",
    "    \n",
    "    y_train_hat = ols.predict(X)\n",
    "\n",
    "    mse = mean_squared_error(y, y_train_hat)\n",
    "    rmse = mse ** .5\n",
    "    r2 = r2_score(y, y_train_hat)\n",
    "\n",
    "    print(f'R^2: {r2}')\n",
    "    print(f'MSE: {mse}')\n",
    "    print(f'RMSE: {rmse}')"
   ]
  },
  {
   "cell_type": "code",
   "execution_count": 5,
   "metadata": {},
   "outputs": [
    {
     "name": "stdout",
     "output_type": "stream",
     "text": [
      "R^2: 0.2996132585105721\n",
      "MSE: 4293505580.448309\n",
      "RMSE: 65524.847046355695\n"
     ]
    }
   ],
   "source": [
    "evaluate_model(ols, X_train, y_train)"
   ]
  },
  {
   "cell_type": "code",
   "execution_count": 6,
   "metadata": {},
   "outputs": [
    {
     "name": "stdout",
     "output_type": "stream",
     "text": [
      "R^2: 0.24178463654628868\n",
      "MSE: 4939311095.358886\n",
      "RMSE: 70280.23260746144\n"
     ]
    }
   ],
   "source": [
    "evaluate_model(ols, X_test, y_test)"
   ]
  },
  {
   "cell_type": "code",
   "execution_count": 7,
   "metadata": {},
   "outputs": [
    {
     "data": {
      "text/plain": [
       "0.28647720137964405"
      ]
     },
     "execution_count": 7,
     "metadata": {},
     "output_type": "execute_result"
    }
   ],
   "source": [
    "cross_val_score(ols, X_train, y_train).mean()"
   ]
  },
  {
   "cell_type": "code",
   "execution_count": null,
   "metadata": {},
   "outputs": [],
   "source": []
  },
  {
   "cell_type": "markdown",
   "metadata": {},
   "source": [
    "### Garage Cars"
   ]
  },
  {
   "cell_type": "code",
   "execution_count": 1,
   "metadata": {},
   "outputs": [],
   "source": [
    "import numpy as np\n",
    "import pandas as pd\n",
    "import matplotlib.pyplot as plt\n",
    "import seaborn as sns\n",
    "\n",
    "from sklearn.model_selection import train_test_split, cross_val_score\n",
    "from sklearn.linear_model import LinearRegression\n",
    "from sklearn.preprocessing import StandardScaler, PolynomialFeatures\n",
    "from sklearn.metrics import r2_score, mean_squared_error\n",
    "train = pd.read_csv('../datasets/train.csv')\n",
    "test = pd.read_csv('../datasets/test.csv')"
   ]
  },
  {
   "cell_type": "code",
   "execution_count": 2,
   "metadata": {},
   "outputs": [],
   "source": [
    "train = train[train['Garage Cars'].notna()]"
   ]
  },
  {
   "cell_type": "code",
   "execution_count": 3,
   "metadata": {},
   "outputs": [],
   "source": [
    "X = train[['Garage Cars']]\n",
    "y = train['SalePrice']\n",
    "\n",
    "X_train, X_test, y_train, y_test = train_test_split(X, y, random_state = 42)\n",
    "\n",
    "ols = LinearRegression()\n",
    "ols.fit(X_train, y_train)\n",
    "\n",
    "def evaluate_model(model, X, y): \n",
    "    \n",
    "    y_train_hat = ols.predict(X)\n",
    "\n",
    "    mse = mean_squared_error(y, y_train_hat)\n",
    "    rmse = mse ** .5\n",
    "    r2 = r2_score(y, y_train_hat)\n",
    "\n",
    "    print(f'R^2: {r2}')\n",
    "    print(f'MSE: {mse}')\n",
    "    print(f'RMSE: {rmse}')"
   ]
  },
  {
   "cell_type": "code",
   "execution_count": 4,
   "metadata": {},
   "outputs": [
    {
     "name": "stdout",
     "output_type": "stream",
     "text": [
      "R^2: 0.42351639835258936\n",
      "MSE: 3627150061.2979703\n",
      "RMSE: 60225.82553438326\n"
     ]
    }
   ],
   "source": [
    "evaluate_model(ols, X_train, y_train)"
   ]
  },
  {
   "cell_type": "code",
   "execution_count": 5,
   "metadata": {},
   "outputs": [
    {
     "name": "stdout",
     "output_type": "stream",
     "text": [
      "R^2: 0.4098646919618104\n",
      "MSE: 3687922045.5564923\n",
      "RMSE: 60728.26397614617\n"
     ]
    }
   ],
   "source": [
    "evaluate_model(ols, X_test, y_test)"
   ]
  },
  {
   "cell_type": "code",
   "execution_count": 6,
   "metadata": {},
   "outputs": [
    {
     "data": {
      "text/plain": [
       "0.4132363600124799"
      ]
     },
     "execution_count": 6,
     "metadata": {},
     "output_type": "execute_result"
    }
   ],
   "source": [
    "cross_val_score(ols, X_train, y_train).mean()"
   ]
  },
  {
   "cell_type": "code",
   "execution_count": null,
   "metadata": {},
   "outputs": [],
   "source": []
  },
  {
   "cell_type": "code",
   "execution_count": null,
   "metadata": {},
   "outputs": [],
   "source": []
  },
  {
   "cell_type": "markdown",
   "metadata": {},
   "source": [
    "### Garage Area"
   ]
  },
  {
   "cell_type": "code",
   "execution_count": 1,
   "metadata": {},
   "outputs": [],
   "source": [
    "import numpy as np\n",
    "import pandas as pd\n",
    "import matplotlib.pyplot as plt\n",
    "import seaborn as sns\n",
    "\n",
    "from sklearn.model_selection import train_test_split, cross_val_score\n",
    "from sklearn.linear_model import LinearRegression\n",
    "from sklearn.preprocessing import StandardScaler, PolynomialFeatures\n",
    "from sklearn.metrics import r2_score, mean_squared_error\n",
    "train = pd.read_csv('../datasets/train.csv')\n",
    "test = pd.read_csv('../datasets/test.csv')"
   ]
  },
  {
   "cell_type": "code",
   "execution_count": 6,
   "metadata": {},
   "outputs": [],
   "source": [
    "train = train[train['Garage Area'].notna()]"
   ]
  },
  {
   "cell_type": "code",
   "execution_count": 7,
   "metadata": {},
   "outputs": [],
   "source": [
    "X = train[['Garage Area']]\n",
    "y = train['SalePrice']\n",
    "\n",
    "X_train, X_test, y_train, y_test = train_test_split(X, y, random_state = 42)\n",
    "\n",
    "ols = LinearRegression()\n",
    "ols.fit(X_train, y_train)\n",
    "\n",
    "def evaluate_model(model, X, y): \n",
    "    \n",
    "    y_train_hat = ols.predict(X)\n",
    "\n",
    "    mse = mean_squared_error(y, y_train_hat)\n",
    "    rmse = mse ** .5\n",
    "    r2 = r2_score(y, y_train_hat)\n",
    "\n",
    "    print(f'R^2: {r2}')\n",
    "    print(f'MSE: {mse}')\n",
    "    print(f'RMSE: {rmse}')"
   ]
  },
  {
   "cell_type": "code",
   "execution_count": 8,
   "metadata": {},
   "outputs": [
    {
     "name": "stdout",
     "output_type": "stream",
     "text": [
      "R^2: 0.41627245148214187\n",
      "MSE: 3672727909.9307804\n",
      "RMSE: 60603.03548446052\n"
     ]
    }
   ],
   "source": [
    "evaluate_model(ols, X_train, y_train)"
   ]
  },
  {
   "cell_type": "code",
   "execution_count": 9,
   "metadata": {},
   "outputs": [
    {
     "name": "stdout",
     "output_type": "stream",
     "text": [
      "R^2: 0.44213855174122463\n",
      "MSE: 3486233589.782891\n",
      "RMSE: 59044.335797626605\n"
     ]
    }
   ],
   "source": [
    "evaluate_model(ols, X_test, y_test)"
   ]
  },
  {
   "cell_type": "code",
   "execution_count": 10,
   "metadata": {},
   "outputs": [
    {
     "data": {
      "text/plain": [
       "0.40016719009783336"
      ]
     },
     "execution_count": 10,
     "metadata": {},
     "output_type": "execute_result"
    }
   ],
   "source": [
    "cross_val_score(ols, X_train, y_train).mean()"
   ]
  },
  {
   "cell_type": "code",
   "execution_count": null,
   "metadata": {},
   "outputs": [],
   "source": []
  },
  {
   "cell_type": "markdown",
   "metadata": {},
   "source": [
    "### Wood Deck SF"
   ]
  },
  {
   "cell_type": "code",
   "execution_count": 1,
   "metadata": {},
   "outputs": [],
   "source": [
    "import numpy as np\n",
    "import pandas as pd\n",
    "import matplotlib.pyplot as plt\n",
    "import seaborn as sns\n",
    "\n",
    "from sklearn.model_selection import train_test_split, cross_val_score\n",
    "from sklearn.linear_model import LinearRegression\n",
    "from sklearn.preprocessing import StandardScaler, PolynomialFeatures\n",
    "from sklearn.metrics import r2_score, mean_squared_error\n",
    "train = pd.read_csv('../datasets/train.csv')\n",
    "test = pd.read_csv('../datasets/test.csv')"
   ]
  },
  {
   "cell_type": "code",
   "execution_count": 2,
   "metadata": {},
   "outputs": [],
   "source": [
    "X = train[['Wood Deck SF']]\n",
    "y = train['SalePrice']\n",
    "\n",
    "X_train, X_test, y_train, y_test = train_test_split(X, y, random_state = 42)\n",
    "\n",
    "ols = LinearRegression()\n",
    "ols.fit(X_train, y_train)\n",
    "\n",
    "def evaluate_model(model, X, y): \n",
    "    \n",
    "    y_train_hat = ols.predict(X)\n",
    "\n",
    "    mse = mean_squared_error(y, y_train_hat)\n",
    "    rmse = mse ** .5\n",
    "    r2 = r2_score(y, y_train_hat)\n",
    "\n",
    "    print(f'R^2: {r2}')\n",
    "    print(f'MSE: {mse}')\n",
    "    print(f'RMSE: {rmse}')"
   ]
  },
  {
   "cell_type": "code",
   "execution_count": 3,
   "metadata": {},
   "outputs": [
    {
     "name": "stdout",
     "output_type": "stream",
     "text": [
      "R^2: 0.09975765612306298\n",
      "MSE: 5693600912.819747\n",
      "RMSE: 75455.95346173651\n"
     ]
    }
   ],
   "source": [
    "evaluate_model(ols, X_train, y_train)"
   ]
  },
  {
   "cell_type": "code",
   "execution_count": 4,
   "metadata": {},
   "outputs": [
    {
     "name": "stdout",
     "output_type": "stream",
     "text": [
      "R^2: 0.1272935761981735\n",
      "MSE: 5358439024.444416\n",
      "RMSE: 73201.35944396399\n"
     ]
    }
   ],
   "source": [
    "evaluate_model(ols, X_test, y_test)"
   ]
  },
  {
   "cell_type": "code",
   "execution_count": 5,
   "metadata": {},
   "outputs": [
    {
     "data": {
      "text/plain": [
       "0.09317343563164977"
      ]
     },
     "execution_count": 5,
     "metadata": {},
     "output_type": "execute_result"
    }
   ],
   "source": [
    "cross_val_score(ols, X_train, y_train).mean()"
   ]
  },
  {
   "cell_type": "code",
   "execution_count": null,
   "metadata": {},
   "outputs": [],
   "source": []
  },
  {
   "cell_type": "markdown",
   "metadata": {},
   "source": [
    "### Open Porch SF"
   ]
  },
  {
   "cell_type": "code",
   "execution_count": 1,
   "metadata": {},
   "outputs": [],
   "source": [
    "import numpy as np\n",
    "import pandas as pd\n",
    "import matplotlib.pyplot as plt\n",
    "import seaborn as sns\n",
    "\n",
    "from sklearn.model_selection import train_test_split, cross_val_score\n",
    "from sklearn.linear_model import LinearRegression\n",
    "from sklearn.preprocessing import StandardScaler, PolynomialFeatures\n",
    "from sklearn.metrics import r2_score, mean_squared_error\n",
    "train = pd.read_csv('../datasets/train.csv')\n",
    "test = pd.read_csv('../datasets/test.csv')"
   ]
  },
  {
   "cell_type": "code",
   "execution_count": 2,
   "metadata": {},
   "outputs": [],
   "source": [
    "X = train[['Open Porch SF']]\n",
    "y = train['SalePrice']\n",
    "\n",
    "X_train, X_test, y_train, y_test = train_test_split(X, y, random_state = 42)\n",
    "\n",
    "ols = LinearRegression()\n",
    "ols.fit(X_train, y_train)\n",
    "\n",
    "def evaluate_model(model, X, y): \n",
    "    \n",
    "    y_train_hat = ols.predict(X)\n",
    "\n",
    "    mse = mean_squared_error(y, y_train_hat)\n",
    "    rmse = mse ** .5\n",
    "    r2 = r2_score(y, y_train_hat)\n",
    "\n",
    "    print(f'R^2: {r2}')\n",
    "    print(f'MSE: {mse}')\n",
    "    print(f'RMSE: {rmse}')"
   ]
  },
  {
   "cell_type": "code",
   "execution_count": 3,
   "metadata": {},
   "outputs": [
    {
     "name": "stdout",
     "output_type": "stream",
     "text": [
      "R^2: 0.11110237659958544\n",
      "MSE: 5621850998.699241\n",
      "RMSE: 74979.00371903618\n"
     ]
    }
   ],
   "source": [
    "evaluate_model(ols, X_train, y_train)"
   ]
  },
  {
   "cell_type": "code",
   "execution_count": 4,
   "metadata": {},
   "outputs": [
    {
     "name": "stdout",
     "output_type": "stream",
     "text": [
      "R^2: 0.11113641060454704\n",
      "MSE: 5457644420.76101\n",
      "RMSE: 73875.87170897552\n"
     ]
    }
   ],
   "source": [
    "evaluate_model(ols, X_test, y_test)"
   ]
  },
  {
   "cell_type": "code",
   "execution_count": 5,
   "metadata": {},
   "outputs": [
    {
     "data": {
      "text/plain": [
       "0.1116098990505519"
      ]
     },
     "execution_count": 5,
     "metadata": {},
     "output_type": "execute_result"
    }
   ],
   "source": [
    "cross_val_score(ols, X_train, y_train).mean()"
   ]
  },
  {
   "cell_type": "code",
   "execution_count": null,
   "metadata": {},
   "outputs": [],
   "source": []
  },
  {
   "cell_type": "markdown",
   "metadata": {},
   "source": [
    "### Enclosed Porch"
   ]
  },
  {
   "cell_type": "code",
   "execution_count": 1,
   "metadata": {},
   "outputs": [],
   "source": [
    "import numpy as np\n",
    "import pandas as pd\n",
    "import matplotlib.pyplot as plt\n",
    "import seaborn as sns\n",
    "\n",
    "from sklearn.model_selection import train_test_split, cross_val_score\n",
    "from sklearn.linear_model import LinearRegression\n",
    "from sklearn.preprocessing import StandardScaler, PolynomialFeatures\n",
    "from sklearn.metrics import r2_score, mean_squared_error\n",
    "train = pd.read_csv('../datasets/train.csv')\n",
    "test = pd.read_csv('../datasets/test.csv')"
   ]
  },
  {
   "cell_type": "code",
   "execution_count": 3,
   "metadata": {},
   "outputs": [],
   "source": [
    "X = train[['Enclosed Porch']]\n",
    "y = train['SalePrice']\n",
    "\n",
    "X_train, X_test, y_train, y_test = train_test_split(X, y, random_state = 42)\n",
    "\n",
    "ols = LinearRegression()\n",
    "ols.fit(X_train, y_train)\n",
    "\n",
    "def evaluate_model(model, X, y): \n",
    "    \n",
    "    y_train_hat = ols.predict(X)\n",
    "\n",
    "    mse = mean_squared_error(y, y_train_hat)\n",
    "    rmse = mse ** .5\n",
    "    r2 = r2_score(y, y_train_hat)\n",
    "\n",
    "    print(f'R^2: {r2}')\n",
    "    print(f'MSE: {mse}')\n",
    "    print(f'RMSE: {rmse}')"
   ]
  },
  {
   "cell_type": "code",
   "execution_count": 4,
   "metadata": {},
   "outputs": [
    {
     "name": "stdout",
     "output_type": "stream",
     "text": [
      "R^2: 0.01653707757211542\n",
      "MSE: 6219931145.146426\n",
      "RMSE: 78866.54008606201\n"
     ]
    }
   ],
   "source": [
    "evaluate_model(ols, X_train, y_train)"
   ]
  },
  {
   "cell_type": "code",
   "execution_count": 5,
   "metadata": {},
   "outputs": [
    {
     "name": "stdout",
     "output_type": "stream",
     "text": [
      "R^2: 0.023490336947698642\n",
      "MSE: 5995793480.528712\n",
      "RMSE: 77432.50919690458\n"
     ]
    }
   ],
   "source": [
    "evaluate_model(ols, X_test, y_test)"
   ]
  },
  {
   "cell_type": "code",
   "execution_count": 6,
   "metadata": {},
   "outputs": [
    {
     "data": {
      "text/plain": [
       "0.012816126981046972"
      ]
     },
     "execution_count": 6,
     "metadata": {},
     "output_type": "execute_result"
    }
   ],
   "source": [
    "cross_val_score(ols, X_train, y_train).mean()"
   ]
  },
  {
   "cell_type": "code",
   "execution_count": null,
   "metadata": {},
   "outputs": [],
   "source": []
  },
  {
   "cell_type": "markdown",
   "metadata": {},
   "source": [
    "### Screen Porch"
   ]
  },
  {
   "cell_type": "code",
   "execution_count": 1,
   "metadata": {},
   "outputs": [],
   "source": [
    "import numpy as np\n",
    "import pandas as pd\n",
    "import matplotlib.pyplot as plt\n",
    "import seaborn as sns\n",
    "\n",
    "from sklearn.model_selection import train_test_split, cross_val_score\n",
    "from sklearn.linear_model import LinearRegression\n",
    "from sklearn.preprocessing import StandardScaler, PolynomialFeatures\n",
    "from sklearn.metrics import r2_score, mean_squared_error\n",
    "train = pd.read_csv('../datasets/train.csv')\n",
    "test = pd.read_csv('../datasets/test.csv')"
   ]
  },
  {
   "cell_type": "code",
   "execution_count": 2,
   "metadata": {},
   "outputs": [],
   "source": [
    "X = train[['Screen Porch']]\n",
    "y = train['SalePrice']\n",
    "\n",
    "X_train, X_test, y_train, y_test = train_test_split(X, y, random_state = 42)\n",
    "\n",
    "ols = LinearRegression()\n",
    "ols.fit(X_train, y_train)\n",
    "\n",
    "def evaluate_model(model, X, y): \n",
    "    \n",
    "    y_train_hat = ols.predict(X)\n",
    "\n",
    "    mse = mean_squared_error(y, y_train_hat)\n",
    "    rmse = mse ** .5\n",
    "    r2 = r2_score(y, y_train_hat)\n",
    "\n",
    "    print(f'R^2: {r2}')\n",
    "    print(f'MSE: {mse}')\n",
    "    print(f'RMSE: {rmse}')"
   ]
  },
  {
   "cell_type": "code",
   "execution_count": 3,
   "metadata": {},
   "outputs": [
    {
     "name": "stdout",
     "output_type": "stream",
     "text": [
      "R^2: 0.022054060517348706\n",
      "MSE: 6185038874.918705\n",
      "RMSE: 78645.01811887836\n"
     ]
    }
   ],
   "source": [
    "evaluate_model(ols, X_train, y_train)"
   ]
  },
  {
   "cell_type": "code",
   "execution_count": 4,
   "metadata": {},
   "outputs": [
    {
     "name": "stdout",
     "output_type": "stream",
     "text": [
      "R^2: 0.004565601771758354\n",
      "MSE: 6111991822.523571\n",
      "RMSE: 78179.22884323924\n"
     ]
    }
   ],
   "source": [
    "evaluate_model(ols, X_test, y_test)"
   ]
  },
  {
   "cell_type": "code",
   "execution_count": 5,
   "metadata": {},
   "outputs": [
    {
     "data": {
      "text/plain": [
       "0.018655806420251553"
      ]
     },
     "execution_count": 5,
     "metadata": {},
     "output_type": "execute_result"
    }
   ],
   "source": [
    "cross_val_score(ols, X_train, y_train).mean()"
   ]
  },
  {
   "cell_type": "code",
   "execution_count": null,
   "metadata": {},
   "outputs": [],
   "source": []
  },
  {
   "cell_type": "markdown",
   "metadata": {},
   "source": [
    "### Yr Sold"
   ]
  },
  {
   "cell_type": "code",
   "execution_count": 1,
   "metadata": {},
   "outputs": [],
   "source": [
    "import numpy as np\n",
    "import pandas as pd\n",
    "import matplotlib.pyplot as plt\n",
    "import seaborn as sns\n",
    "\n",
    "from sklearn.model_selection import train_test_split, cross_val_score\n",
    "from sklearn.linear_model import LinearRegression\n",
    "from sklearn.preprocessing import StandardScaler, PolynomialFeatures\n",
    "from sklearn.metrics import r2_score, mean_squared_error\n",
    "train = pd.read_csv('../datasets/train.csv')\n",
    "test = pd.read_csv('../datasets/test.csv')"
   ]
  },
  {
   "cell_type": "code",
   "execution_count": 6,
   "metadata": {},
   "outputs": [],
   "source": [
    "X = train[['Yr Sold']]\n",
    "y = train['SalePrice']\n",
    "\n",
    "X_train, X_test, y_train, y_test = train_test_split(X, y, random_state = 42)\n",
    "\n",
    "ols = LinearRegression()\n",
    "ols.fit(X_train, y_train)\n",
    "\n",
    "def evaluate_model(model, X, y): \n",
    "    \n",
    "    y_train_hat = ols.predict(X)\n",
    "\n",
    "    mse = mean_squared_error(y, y_train_hat)\n",
    "    rmse = mse ** .5\n",
    "    r2 = r2_score(y, y_train_hat)\n",
    "\n",
    "    print(f'R^2: {r2}')\n",
    "    print(f'MSE: {mse}')\n",
    "    print(f'RMSE: {rmse}')"
   ]
  },
  {
   "cell_type": "code",
   "execution_count": 7,
   "metadata": {},
   "outputs": [
    {
     "name": "stdout",
     "output_type": "stream",
     "text": [
      "R^2: 3.770900970301305e-05\n",
      "MSE: 6324281735.347882\n",
      "RMSE: 79525.35278354873\n"
     ]
    }
   ],
   "source": [
    "evaluate_model(ols, X_train, y_train)"
   ]
  },
  {
   "cell_type": "code",
   "execution_count": 8,
   "metadata": {},
   "outputs": [
    {
     "name": "stdout",
     "output_type": "stream",
     "text": [
      "R^2: 6.433043715359243e-05\n",
      "MSE: 6139629739.835883\n",
      "RMSE: 78355.78944682954\n"
     ]
    }
   ],
   "source": [
    "evaluate_model(ols, X_test, y_test)"
   ]
  },
  {
   "cell_type": "code",
   "execution_count": 9,
   "metadata": {},
   "outputs": [
    {
     "data": {
      "text/plain": [
       "-0.001593500967851691"
      ]
     },
     "execution_count": 9,
     "metadata": {},
     "output_type": "execute_result"
    }
   ],
   "source": [
    "cross_val_score(ols, X_train, y_train).mean()"
   ]
  },
  {
   "cell_type": "code",
   "execution_count": null,
   "metadata": {},
   "outputs": [],
   "source": []
  },
  {
   "cell_type": "markdown",
   "metadata": {},
   "source": [
    "### Kitchen Qual"
   ]
  },
  {
   "cell_type": "code",
   "execution_count": 1,
   "metadata": {},
   "outputs": [],
   "source": [
    "import numpy as np\n",
    "import pandas as pd\n",
    "import matplotlib.pyplot as plt\n",
    "import seaborn as sns\n",
    "\n",
    "from sklearn.model_selection import train_test_split, cross_val_score\n",
    "from sklearn.linear_model import LinearRegression\n",
    "from sklearn.preprocessing import StandardScaler, PolynomialFeatures\n",
    "from sklearn.metrics import r2_score, mean_squared_error\n",
    "train = pd.read_csv('../datasets/train.csv')\n",
    "test = pd.read_csv('../datasets/test.csv')"
   ]
  },
  {
   "cell_type": "code",
   "execution_count": 2,
   "metadata": {},
   "outputs": [],
   "source": [
    "train = pd.get_dummies(train, columns = ['Kitchen Qual'], drop_first = True)"
   ]
  },
  {
   "cell_type": "code",
   "execution_count": 3,
   "metadata": {},
   "outputs": [
    {
     "data": {
      "text/plain": [
       "['Id',\n",
       " 'PID',\n",
       " 'MS SubClass',\n",
       " 'MS Zoning',\n",
       " 'Lot Frontage',\n",
       " 'Lot Area',\n",
       " 'Street',\n",
       " 'Alley',\n",
       " 'Lot Shape',\n",
       " 'Land Contour',\n",
       " 'Utilities',\n",
       " 'Lot Config',\n",
       " 'Land Slope',\n",
       " 'Neighborhood',\n",
       " 'Condition 1',\n",
       " 'Condition 2',\n",
       " 'Bldg Type',\n",
       " 'House Style',\n",
       " 'Overall Qual',\n",
       " 'Overall Cond',\n",
       " 'Year Built',\n",
       " 'Year Remod/Add',\n",
       " 'Roof Style',\n",
       " 'Roof Matl',\n",
       " 'Exterior 1st',\n",
       " 'Exterior 2nd',\n",
       " 'Mas Vnr Type',\n",
       " 'Mas Vnr Area',\n",
       " 'Exter Qual',\n",
       " 'Exter Cond',\n",
       " 'Foundation',\n",
       " 'Bsmt Qual',\n",
       " 'Bsmt Cond',\n",
       " 'Bsmt Exposure',\n",
       " 'BsmtFin Type 1',\n",
       " 'BsmtFin SF 1',\n",
       " 'BsmtFin Type 2',\n",
       " 'BsmtFin SF 2',\n",
       " 'Bsmt Unf SF',\n",
       " 'Total Bsmt SF',\n",
       " 'Heating',\n",
       " 'Heating QC',\n",
       " 'Central Air',\n",
       " 'Electrical',\n",
       " '1st Flr SF',\n",
       " '2nd Flr SF',\n",
       " 'Low Qual Fin SF',\n",
       " 'Gr Liv Area',\n",
       " 'Bsmt Full Bath',\n",
       " 'Bsmt Half Bath',\n",
       " 'Full Bath',\n",
       " 'Half Bath',\n",
       " 'Bedroom AbvGr',\n",
       " 'Kitchen AbvGr',\n",
       " 'TotRms AbvGrd',\n",
       " 'Functional',\n",
       " 'Fireplaces',\n",
       " 'Fireplace Qu',\n",
       " 'Garage Type',\n",
       " 'Garage Yr Blt',\n",
       " 'Garage Finish',\n",
       " 'Garage Cars',\n",
       " 'Garage Area',\n",
       " 'Garage Qual',\n",
       " 'Garage Cond',\n",
       " 'Paved Drive',\n",
       " 'Wood Deck SF',\n",
       " 'Open Porch SF',\n",
       " 'Enclosed Porch',\n",
       " '3Ssn Porch',\n",
       " 'Screen Porch',\n",
       " 'Pool Area',\n",
       " 'Pool QC',\n",
       " 'Fence',\n",
       " 'Misc Feature',\n",
       " 'Misc Val',\n",
       " 'Mo Sold',\n",
       " 'Yr Sold',\n",
       " 'Sale Type',\n",
       " 'SalePrice',\n",
       " 'Kitchen Qual_Fa',\n",
       " 'Kitchen Qual_Gd',\n",
       " 'Kitchen Qual_TA']"
      ]
     },
     "execution_count": 3,
     "metadata": {},
     "output_type": "execute_result"
    }
   ],
   "source": [
    "list(train.columns)"
   ]
  },
  {
   "cell_type": "code",
   "execution_count": 4,
   "metadata": {},
   "outputs": [],
   "source": [
    "X = train[['Kitchen Qual_Fa',\n",
    " 'Kitchen Qual_Gd',\n",
    " 'Kitchen Qual_TA']]\n",
    "y = train['SalePrice']\n",
    "\n",
    "X_train, X_test, y_train, y_test = train_test_split(X, y, random_state = 42)\n",
    "\n",
    "ols = LinearRegression()\n",
    "ols.fit(X_train, y_train)\n",
    "\n",
    "def evaluate_model(model, X, y): \n",
    "    \n",
    "    y_train_hat = ols.predict(X)\n",
    "\n",
    "    mse = mean_squared_error(y, y_train_hat)\n",
    "    rmse = mse ** .5\n",
    "    r2 = r2_score(y, y_train_hat)\n",
    "\n",
    "    print(f'R^2: {r2}')\n",
    "    print(f'MSE: {mse}')\n",
    "    print(f'RMSE: {rmse}')"
   ]
  },
  {
   "cell_type": "code",
   "execution_count": 5,
   "metadata": {},
   "outputs": [
    {
     "name": "stdout",
     "output_type": "stream",
     "text": [
      "R^2: 0.5058320743111715\n",
      "MSE: 3125375041.4263706\n",
      "RMSE: 55905.053809350466\n"
     ]
    }
   ],
   "source": [
    "evaluate_model(ols, X_train, y_train)"
   ]
  },
  {
   "cell_type": "code",
   "execution_count": 6,
   "metadata": {},
   "outputs": [
    {
     "name": "stdout",
     "output_type": "stream",
     "text": [
      "R^2: 0.5015206395618028\n",
      "MSE: 3060675600.6401005\n",
      "RMSE: 55323.373004907255\n"
     ]
    }
   ],
   "source": [
    "evaluate_model(ols, X_test, y_test)"
   ]
  },
  {
   "cell_type": "code",
   "execution_count": 7,
   "metadata": {},
   "outputs": [
    {
     "data": {
      "text/plain": [
       "0.4950960475894296"
      ]
     },
     "execution_count": 7,
     "metadata": {},
     "output_type": "execute_result"
    }
   ],
   "source": [
    "cross_val_score(ols, X_train, y_train).mean()"
   ]
  },
  {
   "cell_type": "code",
   "execution_count": null,
   "metadata": {},
   "outputs": [],
   "source": []
  },
  {
   "cell_type": "markdown",
   "metadata": {},
   "source": [
    "### Functional"
   ]
  },
  {
   "cell_type": "code",
   "execution_count": 1,
   "metadata": {},
   "outputs": [],
   "source": [
    "import numpy as np\n",
    "import pandas as pd\n",
    "import matplotlib.pyplot as plt\n",
    "import seaborn as sns\n",
    "\n",
    "from sklearn.model_selection import train_test_split, cross_val_score\n",
    "from sklearn.linear_model import LinearRegression\n",
    "from sklearn.preprocessing import StandardScaler, PolynomialFeatures\n",
    "from sklearn.metrics import r2_score, mean_squared_error\n",
    "train = pd.read_csv('../datasets/train.csv')\n",
    "test = pd.read_csv('../datasets/test.csv')"
   ]
  },
  {
   "cell_type": "code",
   "execution_count": 2,
   "metadata": {},
   "outputs": [],
   "source": [
    "train = pd.get_dummies(train, columns = ['Functional'], drop_first = True)"
   ]
  },
  {
   "cell_type": "code",
   "execution_count": 3,
   "metadata": {},
   "outputs": [
    {
     "data": {
      "text/plain": [
       "['Id',\n",
       " 'PID',\n",
       " 'MS SubClass',\n",
       " 'MS Zoning',\n",
       " 'Lot Frontage',\n",
       " 'Lot Area',\n",
       " 'Street',\n",
       " 'Alley',\n",
       " 'Lot Shape',\n",
       " 'Land Contour',\n",
       " 'Utilities',\n",
       " 'Lot Config',\n",
       " 'Land Slope',\n",
       " 'Neighborhood',\n",
       " 'Condition 1',\n",
       " 'Condition 2',\n",
       " 'Bldg Type',\n",
       " 'House Style',\n",
       " 'Overall Qual',\n",
       " 'Overall Cond',\n",
       " 'Year Built',\n",
       " 'Year Remod/Add',\n",
       " 'Roof Style',\n",
       " 'Roof Matl',\n",
       " 'Exterior 1st',\n",
       " 'Exterior 2nd',\n",
       " 'Mas Vnr Type',\n",
       " 'Mas Vnr Area',\n",
       " 'Exter Qual',\n",
       " 'Exter Cond',\n",
       " 'Foundation',\n",
       " 'Bsmt Qual',\n",
       " 'Bsmt Cond',\n",
       " 'Bsmt Exposure',\n",
       " 'BsmtFin Type 1',\n",
       " 'BsmtFin SF 1',\n",
       " 'BsmtFin Type 2',\n",
       " 'BsmtFin SF 2',\n",
       " 'Bsmt Unf SF',\n",
       " 'Total Bsmt SF',\n",
       " 'Heating',\n",
       " 'Heating QC',\n",
       " 'Central Air',\n",
       " 'Electrical',\n",
       " '1st Flr SF',\n",
       " '2nd Flr SF',\n",
       " 'Low Qual Fin SF',\n",
       " 'Gr Liv Area',\n",
       " 'Bsmt Full Bath',\n",
       " 'Bsmt Half Bath',\n",
       " 'Full Bath',\n",
       " 'Half Bath',\n",
       " 'Bedroom AbvGr',\n",
       " 'Kitchen AbvGr',\n",
       " 'Kitchen Qual',\n",
       " 'TotRms AbvGrd',\n",
       " 'Fireplaces',\n",
       " 'Fireplace Qu',\n",
       " 'Garage Type',\n",
       " 'Garage Yr Blt',\n",
       " 'Garage Finish',\n",
       " 'Garage Cars',\n",
       " 'Garage Area',\n",
       " 'Garage Qual',\n",
       " 'Garage Cond',\n",
       " 'Paved Drive',\n",
       " 'Wood Deck SF',\n",
       " 'Open Porch SF',\n",
       " 'Enclosed Porch',\n",
       " '3Ssn Porch',\n",
       " 'Screen Porch',\n",
       " 'Pool Area',\n",
       " 'Pool QC',\n",
       " 'Fence',\n",
       " 'Misc Feature',\n",
       " 'Misc Val',\n",
       " 'Mo Sold',\n",
       " 'Yr Sold',\n",
       " 'Sale Type',\n",
       " 'SalePrice',\n",
       " 'Functional_Maj2',\n",
       " 'Functional_Min1',\n",
       " 'Functional_Min2',\n",
       " 'Functional_Mod',\n",
       " 'Functional_Sal',\n",
       " 'Functional_Sev',\n",
       " 'Functional_Typ']"
      ]
     },
     "execution_count": 3,
     "metadata": {},
     "output_type": "execute_result"
    }
   ],
   "source": [
    "list(train.columns)"
   ]
  },
  {
   "cell_type": "code",
   "execution_count": 4,
   "metadata": {},
   "outputs": [],
   "source": [
    "X = train[['Functional_Maj2',\n",
    " 'Functional_Min1',\n",
    " 'Functional_Min2',\n",
    " 'Functional_Mod',\n",
    " 'Functional_Sal',\n",
    " 'Functional_Sev',\n",
    " 'Functional_Typ']]\n",
    "y = train['SalePrice']\n",
    "\n",
    "X_train, X_test, y_train, y_test = train_test_split(X, y, random_state = 42)\n",
    "\n",
    "ols = LinearRegression()\n",
    "ols.fit(X_train, y_train)\n",
    "\n",
    "def evaluate_model(model, X, y): \n",
    "    \n",
    "    y_train_hat = ols.predict(X)\n",
    "\n",
    "    mse = mean_squared_error(y, y_train_hat)\n",
    "    rmse = mse ** .5\n",
    "    r2 = r2_score(y, y_train_hat)\n",
    "\n",
    "    print(f'R^2: {r2}')\n",
    "    print(f'MSE: {mse}')\n",
    "    print(f'RMSE: {rmse}')"
   ]
  },
  {
   "cell_type": "code",
   "execution_count": 5,
   "metadata": {},
   "outputs": [
    {
     "name": "stdout",
     "output_type": "stream",
     "text": [
      "R^2: 0.01835363711421467\n",
      "MSE: 6208442277.579338\n",
      "RMSE: 78793.66901965752\n"
     ]
    }
   ],
   "source": [
    "evaluate_model(ols, X_train, y_train)"
   ]
  },
  {
   "cell_type": "code",
   "execution_count": 6,
   "metadata": {},
   "outputs": [
    {
     "name": "stdout",
     "output_type": "stream",
     "text": [
      "R^2: 0.016709630195663516\n",
      "MSE: 6037427187.675194\n",
      "RMSE: 77700.88279855766\n"
     ]
    }
   ],
   "source": [
    "evaluate_model(ols, X_test, y_test)"
   ]
  },
  {
   "cell_type": "code",
   "execution_count": 7,
   "metadata": {},
   "outputs": [
    {
     "data": {
      "text/plain": [
       "0.010440661273957996"
      ]
     },
     "execution_count": 7,
     "metadata": {},
     "output_type": "execute_result"
    }
   ],
   "source": [
    "cross_val_score(ols, X_train, y_train).mean()"
   ]
  },
  {
   "cell_type": "code",
   "execution_count": null,
   "metadata": {},
   "outputs": [],
   "source": []
  },
  {
   "cell_type": "markdown",
   "metadata": {},
   "source": [
    "### Fireplace Qu"
   ]
  },
  {
   "cell_type": "code",
   "execution_count": 1,
   "metadata": {},
   "outputs": [],
   "source": [
    "import numpy as np\n",
    "import pandas as pd\n",
    "import matplotlib.pyplot as plt\n",
    "import seaborn as sns\n",
    "\n",
    "from sklearn.model_selection import train_test_split, cross_val_score\n",
    "from sklearn.linear_model import LinearRegression\n",
    "from sklearn.preprocessing import StandardScaler, PolynomialFeatures\n",
    "from sklearn.metrics import r2_score, mean_squared_error\n",
    "train = pd.read_csv('../datasets/train.csv')\n",
    "test = pd.read_csv('../datasets/test.csv')"
   ]
  },
  {
   "cell_type": "code",
   "execution_count": 2,
   "metadata": {},
   "outputs": [],
   "source": [
    "train = pd.get_dummies(train, columns = ['Fireplace Qu'], drop_first = True)"
   ]
  },
  {
   "cell_type": "code",
   "execution_count": 3,
   "metadata": {},
   "outputs": [
    {
     "data": {
      "text/plain": [
       "['Id',\n",
       " 'PID',\n",
       " 'MS SubClass',\n",
       " 'MS Zoning',\n",
       " 'Lot Frontage',\n",
       " 'Lot Area',\n",
       " 'Street',\n",
       " 'Alley',\n",
       " 'Lot Shape',\n",
       " 'Land Contour',\n",
       " 'Utilities',\n",
       " 'Lot Config',\n",
       " 'Land Slope',\n",
       " 'Neighborhood',\n",
       " 'Condition 1',\n",
       " 'Condition 2',\n",
       " 'Bldg Type',\n",
       " 'House Style',\n",
       " 'Overall Qual',\n",
       " 'Overall Cond',\n",
       " 'Year Built',\n",
       " 'Year Remod/Add',\n",
       " 'Roof Style',\n",
       " 'Roof Matl',\n",
       " 'Exterior 1st',\n",
       " 'Exterior 2nd',\n",
       " 'Mas Vnr Type',\n",
       " 'Mas Vnr Area',\n",
       " 'Exter Qual',\n",
       " 'Exter Cond',\n",
       " 'Foundation',\n",
       " 'Bsmt Qual',\n",
       " 'Bsmt Cond',\n",
       " 'Bsmt Exposure',\n",
       " 'BsmtFin Type 1',\n",
       " 'BsmtFin SF 1',\n",
       " 'BsmtFin Type 2',\n",
       " 'BsmtFin SF 2',\n",
       " 'Bsmt Unf SF',\n",
       " 'Total Bsmt SF',\n",
       " 'Heating',\n",
       " 'Heating QC',\n",
       " 'Central Air',\n",
       " 'Electrical',\n",
       " '1st Flr SF',\n",
       " '2nd Flr SF',\n",
       " 'Low Qual Fin SF',\n",
       " 'Gr Liv Area',\n",
       " 'Bsmt Full Bath',\n",
       " 'Bsmt Half Bath',\n",
       " 'Full Bath',\n",
       " 'Half Bath',\n",
       " 'Bedroom AbvGr',\n",
       " 'Kitchen AbvGr',\n",
       " 'Kitchen Qual',\n",
       " 'TotRms AbvGrd',\n",
       " 'Functional',\n",
       " 'Fireplaces',\n",
       " 'Garage Type',\n",
       " 'Garage Yr Blt',\n",
       " 'Garage Finish',\n",
       " 'Garage Cars',\n",
       " 'Garage Area',\n",
       " 'Garage Qual',\n",
       " 'Garage Cond',\n",
       " 'Paved Drive',\n",
       " 'Wood Deck SF',\n",
       " 'Open Porch SF',\n",
       " 'Enclosed Porch',\n",
       " '3Ssn Porch',\n",
       " 'Screen Porch',\n",
       " 'Pool Area',\n",
       " 'Pool QC',\n",
       " 'Fence',\n",
       " 'Misc Feature',\n",
       " 'Misc Val',\n",
       " 'Mo Sold',\n",
       " 'Yr Sold',\n",
       " 'Sale Type',\n",
       " 'SalePrice',\n",
       " 'Fireplace Qu_Fa',\n",
       " 'Fireplace Qu_Gd',\n",
       " 'Fireplace Qu_Po',\n",
       " 'Fireplace Qu_TA']"
      ]
     },
     "execution_count": 3,
     "metadata": {},
     "output_type": "execute_result"
    }
   ],
   "source": [
    "list(train.columns)"
   ]
  },
  {
   "cell_type": "code",
   "execution_count": 4,
   "metadata": {},
   "outputs": [],
   "source": [
    "X = train[['Fireplace Qu_Fa',\n",
    " 'Fireplace Qu_Gd',\n",
    " 'Fireplace Qu_Po',\n",
    " 'Fireplace Qu_TA']]\n",
    "y = train['SalePrice']\n",
    "\n",
    "X_train, X_test, y_train, y_test = train_test_split(X, y, random_state = 42)\n",
    "\n",
    "ols = LinearRegression()\n",
    "ols.fit(X_train, y_train)\n",
    "\n",
    "def evaluate_model(model, X, y): \n",
    "    \n",
    "    y_train_hat = ols.predict(X)\n",
    "\n",
    "    mse = mean_squared_error(y, y_train_hat)\n",
    "    rmse = mse ** .5\n",
    "    r2 = r2_score(y, y_train_hat)\n",
    "\n",
    "    print(f'R^2: {r2}')\n",
    "    print(f'MSE: {mse}')\n",
    "    print(f'RMSE: {rmse}')"
   ]
  },
  {
   "cell_type": "code",
   "execution_count": 5,
   "metadata": {},
   "outputs": [
    {
     "name": "stdout",
     "output_type": "stream",
     "text": [
      "R^2: 0.23803074165524396\n",
      "MSE: 4819089986.557375\n",
      "RMSE: 69419.66570473654\n"
     ]
    }
   ],
   "source": [
    "evaluate_model(ols, X_train, y_train)"
   ]
  },
  {
   "cell_type": "code",
   "execution_count": 6,
   "metadata": {},
   "outputs": [
    {
     "name": "stdout",
     "output_type": "stream",
     "text": [
      "R^2: 0.17787668790930367\n",
      "MSE: 5047857467.601996\n",
      "RMSE: 71048.27561314909\n"
     ]
    }
   ],
   "source": [
    "evaluate_model(ols, X_test, y_test)"
   ]
  },
  {
   "cell_type": "code",
   "execution_count": 7,
   "metadata": {},
   "outputs": [
    {
     "data": {
      "text/plain": [
       "0.23399117606042238"
      ]
     },
     "execution_count": 7,
     "metadata": {},
     "output_type": "execute_result"
    }
   ],
   "source": [
    "cross_val_score(ols, X_train, y_train).mean()"
   ]
  },
  {
   "cell_type": "markdown",
   "metadata": {},
   "source": [
    "### Garage Type"
   ]
  },
  {
   "cell_type": "code",
   "execution_count": 1,
   "metadata": {},
   "outputs": [],
   "source": [
    "import numpy as np\n",
    "import pandas as pd\n",
    "import matplotlib.pyplot as plt\n",
    "import seaborn as sns\n",
    "\n",
    "from sklearn.model_selection import train_test_split, cross_val_score\n",
    "from sklearn.linear_model import LinearRegression\n",
    "from sklearn.preprocessing import StandardScaler, PolynomialFeatures\n",
    "from sklearn.metrics import r2_score, mean_squared_error\n",
    "train = pd.read_csv('../datasets/train.csv')\n",
    "test = pd.read_csv('../datasets/test.csv')"
   ]
  },
  {
   "cell_type": "code",
   "execution_count": 2,
   "metadata": {},
   "outputs": [],
   "source": [
    "train = pd.get_dummies(train, columns = ['Garage Type'], drop_first = True)"
   ]
  },
  {
   "cell_type": "code",
   "execution_count": 3,
   "metadata": {},
   "outputs": [
    {
     "data": {
      "text/plain": [
       "['Id',\n",
       " 'PID',\n",
       " 'MS SubClass',\n",
       " 'MS Zoning',\n",
       " 'Lot Frontage',\n",
       " 'Lot Area',\n",
       " 'Street',\n",
       " 'Alley',\n",
       " 'Lot Shape',\n",
       " 'Land Contour',\n",
       " 'Utilities',\n",
       " 'Lot Config',\n",
       " 'Land Slope',\n",
       " 'Neighborhood',\n",
       " 'Condition 1',\n",
       " 'Condition 2',\n",
       " 'Bldg Type',\n",
       " 'House Style',\n",
       " 'Overall Qual',\n",
       " 'Overall Cond',\n",
       " 'Year Built',\n",
       " 'Year Remod/Add',\n",
       " 'Roof Style',\n",
       " 'Roof Matl',\n",
       " 'Exterior 1st',\n",
       " 'Exterior 2nd',\n",
       " 'Mas Vnr Type',\n",
       " 'Mas Vnr Area',\n",
       " 'Exter Qual',\n",
       " 'Exter Cond',\n",
       " 'Foundation',\n",
       " 'Bsmt Qual',\n",
       " 'Bsmt Cond',\n",
       " 'Bsmt Exposure',\n",
       " 'BsmtFin Type 1',\n",
       " 'BsmtFin SF 1',\n",
       " 'BsmtFin Type 2',\n",
       " 'BsmtFin SF 2',\n",
       " 'Bsmt Unf SF',\n",
       " 'Total Bsmt SF',\n",
       " 'Heating',\n",
       " 'Heating QC',\n",
       " 'Central Air',\n",
       " 'Electrical',\n",
       " '1st Flr SF',\n",
       " '2nd Flr SF',\n",
       " 'Low Qual Fin SF',\n",
       " 'Gr Liv Area',\n",
       " 'Bsmt Full Bath',\n",
       " 'Bsmt Half Bath',\n",
       " 'Full Bath',\n",
       " 'Half Bath',\n",
       " 'Bedroom AbvGr',\n",
       " 'Kitchen AbvGr',\n",
       " 'Kitchen Qual',\n",
       " 'TotRms AbvGrd',\n",
       " 'Functional',\n",
       " 'Fireplaces',\n",
       " 'Fireplace Qu',\n",
       " 'Garage Yr Blt',\n",
       " 'Garage Finish',\n",
       " 'Garage Cars',\n",
       " 'Garage Area',\n",
       " 'Garage Qual',\n",
       " 'Garage Cond',\n",
       " 'Paved Drive',\n",
       " 'Wood Deck SF',\n",
       " 'Open Porch SF',\n",
       " 'Enclosed Porch',\n",
       " '3Ssn Porch',\n",
       " 'Screen Porch',\n",
       " 'Pool Area',\n",
       " 'Pool QC',\n",
       " 'Fence',\n",
       " 'Misc Feature',\n",
       " 'Misc Val',\n",
       " 'Mo Sold',\n",
       " 'Yr Sold',\n",
       " 'Sale Type',\n",
       " 'SalePrice',\n",
       " 'Garage Type_Attchd',\n",
       " 'Garage Type_Basment',\n",
       " 'Garage Type_BuiltIn',\n",
       " 'Garage Type_CarPort',\n",
       " 'Garage Type_Detchd']"
      ]
     },
     "execution_count": 3,
     "metadata": {},
     "output_type": "execute_result"
    }
   ],
   "source": [
    "list(train.columns)"
   ]
  },
  {
   "cell_type": "code",
   "execution_count": 4,
   "metadata": {},
   "outputs": [],
   "source": [
    "X = train[['Garage Type_Attchd',\n",
    " 'Garage Type_Basment',\n",
    " 'Garage Type_BuiltIn',\n",
    " 'Garage Type_CarPort',\n",
    " 'Garage Type_Detchd']]\n",
    "y = train['SalePrice']\n",
    "\n",
    "X_train, X_test, y_train, y_test = train_test_split(X, y, random_state = 42)\n",
    "\n",
    "ols = LinearRegression()\n",
    "ols.fit(X_train, y_train)\n",
    "\n",
    "def evaluate_model(model, X, y): \n",
    "    \n",
    "    y_train_hat = ols.predict(X)\n",
    "\n",
    "    mse = mean_squared_error(y, y_train_hat)\n",
    "    rmse = mse ** .5\n",
    "    r2 = r2_score(y, y_train_hat)\n",
    "\n",
    "    print(f'R^2: {r2}')\n",
    "    print(f'MSE: {mse}')\n",
    "    print(f'RMSE: {rmse}')"
   ]
  },
  {
   "cell_type": "code",
   "execution_count": 5,
   "metadata": {},
   "outputs": [
    {
     "name": "stdout",
     "output_type": "stream",
     "text": [
      "R^2: 0.2431515358251175\n",
      "MSE: 4786703420.253026\n",
      "RMSE: 69186.00595679032\n"
     ]
    }
   ],
   "source": [
    "evaluate_model(ols, X_train, y_train)"
   ]
  },
  {
   "cell_type": "code",
   "execution_count": 6,
   "metadata": {},
   "outputs": [
    {
     "name": "stdout",
     "output_type": "stream",
     "text": [
      "R^2: 0.2901357441193141\n",
      "MSE: 4358584086.27117\n",
      "RMSE: 66019.573508704\n"
     ]
    }
   ],
   "source": [
    "evaluate_model(ols, X_test, y_test)"
   ]
  },
  {
   "cell_type": "code",
   "execution_count": 7,
   "metadata": {},
   "outputs": [
    {
     "data": {
      "text/plain": [
       "0.2392869800989314"
      ]
     },
     "execution_count": 7,
     "metadata": {},
     "output_type": "execute_result"
    }
   ],
   "source": [
    "cross_val_score(ols, X_train, y_train).mean()"
   ]
  },
  {
   "cell_type": "code",
   "execution_count": null,
   "metadata": {},
   "outputs": [],
   "source": []
  },
  {
   "cell_type": "markdown",
   "metadata": {},
   "source": [
    "### Garage Finish"
   ]
  },
  {
   "cell_type": "code",
   "execution_count": 1,
   "metadata": {},
   "outputs": [],
   "source": [
    "import numpy as np\n",
    "import pandas as pd\n",
    "import matplotlib.pyplot as plt\n",
    "import seaborn as sns\n",
    "\n",
    "from sklearn.model_selection import train_test_split, cross_val_score\n",
    "from sklearn.linear_model import LinearRegression\n",
    "from sklearn.preprocessing import StandardScaler, PolynomialFeatures\n",
    "from sklearn.metrics import r2_score, mean_squared_error\n",
    "train = pd.read_csv('../datasets/train.csv')\n",
    "test = pd.read_csv('../datasets/test.csv')"
   ]
  },
  {
   "cell_type": "code",
   "execution_count": 2,
   "metadata": {},
   "outputs": [],
   "source": [
    "train = pd.get_dummies(train, columns = ['Garage Finish'], drop_first = True)"
   ]
  },
  {
   "cell_type": "code",
   "execution_count": 3,
   "metadata": {},
   "outputs": [
    {
     "data": {
      "text/plain": [
       "['Id',\n",
       " 'PID',\n",
       " 'MS SubClass',\n",
       " 'MS Zoning',\n",
       " 'Lot Frontage',\n",
       " 'Lot Area',\n",
       " 'Street',\n",
       " 'Alley',\n",
       " 'Lot Shape',\n",
       " 'Land Contour',\n",
       " 'Utilities',\n",
       " 'Lot Config',\n",
       " 'Land Slope',\n",
       " 'Neighborhood',\n",
       " 'Condition 1',\n",
       " 'Condition 2',\n",
       " 'Bldg Type',\n",
       " 'House Style',\n",
       " 'Overall Qual',\n",
       " 'Overall Cond',\n",
       " 'Year Built',\n",
       " 'Year Remod/Add',\n",
       " 'Roof Style',\n",
       " 'Roof Matl',\n",
       " 'Exterior 1st',\n",
       " 'Exterior 2nd',\n",
       " 'Mas Vnr Type',\n",
       " 'Mas Vnr Area',\n",
       " 'Exter Qual',\n",
       " 'Exter Cond',\n",
       " 'Foundation',\n",
       " 'Bsmt Qual',\n",
       " 'Bsmt Cond',\n",
       " 'Bsmt Exposure',\n",
       " 'BsmtFin Type 1',\n",
       " 'BsmtFin SF 1',\n",
       " 'BsmtFin Type 2',\n",
       " 'BsmtFin SF 2',\n",
       " 'Bsmt Unf SF',\n",
       " 'Total Bsmt SF',\n",
       " 'Heating',\n",
       " 'Heating QC',\n",
       " 'Central Air',\n",
       " 'Electrical',\n",
       " '1st Flr SF',\n",
       " '2nd Flr SF',\n",
       " 'Low Qual Fin SF',\n",
       " 'Gr Liv Area',\n",
       " 'Bsmt Full Bath',\n",
       " 'Bsmt Half Bath',\n",
       " 'Full Bath',\n",
       " 'Half Bath',\n",
       " 'Bedroom AbvGr',\n",
       " 'Kitchen AbvGr',\n",
       " 'Kitchen Qual',\n",
       " 'TotRms AbvGrd',\n",
       " 'Functional',\n",
       " 'Fireplaces',\n",
       " 'Fireplace Qu',\n",
       " 'Garage Type',\n",
       " 'Garage Yr Blt',\n",
       " 'Garage Cars',\n",
       " 'Garage Area',\n",
       " 'Garage Qual',\n",
       " 'Garage Cond',\n",
       " 'Paved Drive',\n",
       " 'Wood Deck SF',\n",
       " 'Open Porch SF',\n",
       " 'Enclosed Porch',\n",
       " '3Ssn Porch',\n",
       " 'Screen Porch',\n",
       " 'Pool Area',\n",
       " 'Pool QC',\n",
       " 'Fence',\n",
       " 'Misc Feature',\n",
       " 'Misc Val',\n",
       " 'Mo Sold',\n",
       " 'Yr Sold',\n",
       " 'Sale Type',\n",
       " 'SalePrice',\n",
       " 'Garage Finish_RFn',\n",
       " 'Garage Finish_Unf']"
      ]
     },
     "execution_count": 3,
     "metadata": {},
     "output_type": "execute_result"
    }
   ],
   "source": [
    "list(train.columns)"
   ]
  },
  {
   "cell_type": "code",
   "execution_count": 4,
   "metadata": {},
   "outputs": [],
   "source": [
    "X = train[['Garage Finish_RFn',\n",
    " 'Garage Finish_Unf']]\n",
    "y = train['SalePrice']\n",
    "\n",
    "X_train, X_test, y_train, y_test = train_test_split(X, y, random_state = 42)\n",
    "\n",
    "ols = LinearRegression()\n",
    "ols.fit(X_train, y_train)\n",
    "\n",
    "def evaluate_model(model, X, y): \n",
    "    \n",
    "    y_train_hat = ols.predict(X)\n",
    "\n",
    "    mse = mean_squared_error(y, y_train_hat)\n",
    "    rmse = mse ** .5\n",
    "    r2 = r2_score(y, y_train_hat)\n",
    "\n",
    "    print(f'R^2: {r2}')\n",
    "    print(f'MSE: {mse}')\n",
    "    print(f'RMSE: {rmse}')"
   ]
  },
  {
   "cell_type": "code",
   "execution_count": 5,
   "metadata": {},
   "outputs": [
    {
     "name": "stdout",
     "output_type": "stream",
     "text": [
      "R^2: 0.17107122896008975\n",
      "MSE: 5242576778.970698\n",
      "RMSE: 72405.64051902792\n"
     ]
    }
   ],
   "source": [
    "evaluate_model(ols, X_train, y_train)"
   ]
  },
  {
   "cell_type": "code",
   "execution_count": 6,
   "metadata": {},
   "outputs": [
    {
     "name": "stdout",
     "output_type": "stream",
     "text": [
      "R^2: 0.24401238352223997\n",
      "MSE: 4641782660.982252\n",
      "RMSE: 68130.62938930075\n"
     ]
    }
   ],
   "source": [
    "evaluate_model(ols, X_test, y_test)"
   ]
  },
  {
   "cell_type": "code",
   "execution_count": 7,
   "metadata": {},
   "outputs": [
    {
     "data": {
      "text/plain": [
       "0.1686904251680012"
      ]
     },
     "execution_count": 7,
     "metadata": {},
     "output_type": "execute_result"
    }
   ],
   "source": [
    "cross_val_score(ols, X_train, y_train).mean()"
   ]
  },
  {
   "cell_type": "code",
   "execution_count": null,
   "metadata": {},
   "outputs": [],
   "source": []
  },
  {
   "cell_type": "markdown",
   "metadata": {},
   "source": [
    "### Garage Qual"
   ]
  },
  {
   "cell_type": "code",
   "execution_count": 1,
   "metadata": {},
   "outputs": [],
   "source": [
    "import numpy as np\n",
    "import pandas as pd\n",
    "import matplotlib.pyplot as plt\n",
    "import seaborn as sns\n",
    "\n",
    "from sklearn.model_selection import train_test_split, cross_val_score\n",
    "from sklearn.linear_model import LinearRegression\n",
    "from sklearn.preprocessing import StandardScaler, PolynomialFeatures\n",
    "from sklearn.metrics import r2_score, mean_squared_error\n",
    "train = pd.read_csv('../datasets/train.csv')\n",
    "test = pd.read_csv('../datasets/test.csv')"
   ]
  },
  {
   "cell_type": "code",
   "execution_count": 2,
   "metadata": {},
   "outputs": [],
   "source": [
    "train = pd.get_dummies(train, columns = ['Garage Qual'], drop_first = True)"
   ]
  },
  {
   "cell_type": "code",
   "execution_count": 3,
   "metadata": {},
   "outputs": [
    {
     "data": {
      "text/plain": [
       "['Id',\n",
       " 'PID',\n",
       " 'MS SubClass',\n",
       " 'MS Zoning',\n",
       " 'Lot Frontage',\n",
       " 'Lot Area',\n",
       " 'Street',\n",
       " 'Alley',\n",
       " 'Lot Shape',\n",
       " 'Land Contour',\n",
       " 'Utilities',\n",
       " 'Lot Config',\n",
       " 'Land Slope',\n",
       " 'Neighborhood',\n",
       " 'Condition 1',\n",
       " 'Condition 2',\n",
       " 'Bldg Type',\n",
       " 'House Style',\n",
       " 'Overall Qual',\n",
       " 'Overall Cond',\n",
       " 'Year Built',\n",
       " 'Year Remod/Add',\n",
       " 'Roof Style',\n",
       " 'Roof Matl',\n",
       " 'Exterior 1st',\n",
       " 'Exterior 2nd',\n",
       " 'Mas Vnr Type',\n",
       " 'Mas Vnr Area',\n",
       " 'Exter Qual',\n",
       " 'Exter Cond',\n",
       " 'Foundation',\n",
       " 'Bsmt Qual',\n",
       " 'Bsmt Cond',\n",
       " 'Bsmt Exposure',\n",
       " 'BsmtFin Type 1',\n",
       " 'BsmtFin SF 1',\n",
       " 'BsmtFin Type 2',\n",
       " 'BsmtFin SF 2',\n",
       " 'Bsmt Unf SF',\n",
       " 'Total Bsmt SF',\n",
       " 'Heating',\n",
       " 'Heating QC',\n",
       " 'Central Air',\n",
       " 'Electrical',\n",
       " '1st Flr SF',\n",
       " '2nd Flr SF',\n",
       " 'Low Qual Fin SF',\n",
       " 'Gr Liv Area',\n",
       " 'Bsmt Full Bath',\n",
       " 'Bsmt Half Bath',\n",
       " 'Full Bath',\n",
       " 'Half Bath',\n",
       " 'Bedroom AbvGr',\n",
       " 'Kitchen AbvGr',\n",
       " 'Kitchen Qual',\n",
       " 'TotRms AbvGrd',\n",
       " 'Functional',\n",
       " 'Fireplaces',\n",
       " 'Fireplace Qu',\n",
       " 'Garage Type',\n",
       " 'Garage Yr Blt',\n",
       " 'Garage Finish',\n",
       " 'Garage Cars',\n",
       " 'Garage Area',\n",
       " 'Garage Cond',\n",
       " 'Paved Drive',\n",
       " 'Wood Deck SF',\n",
       " 'Open Porch SF',\n",
       " 'Enclosed Porch',\n",
       " '3Ssn Porch',\n",
       " 'Screen Porch',\n",
       " 'Pool Area',\n",
       " 'Pool QC',\n",
       " 'Fence',\n",
       " 'Misc Feature',\n",
       " 'Misc Val',\n",
       " 'Mo Sold',\n",
       " 'Yr Sold',\n",
       " 'Sale Type',\n",
       " 'SalePrice',\n",
       " 'Garage Qual_Fa',\n",
       " 'Garage Qual_Gd',\n",
       " 'Garage Qual_Po',\n",
       " 'Garage Qual_TA']"
      ]
     },
     "execution_count": 3,
     "metadata": {},
     "output_type": "execute_result"
    }
   ],
   "source": [
    "list(train.columns)"
   ]
  },
  {
   "cell_type": "code",
   "execution_count": 4,
   "metadata": {},
   "outputs": [],
   "source": [
    "X = train[['Garage Qual_Fa',\n",
    " 'Garage Qual_Gd',\n",
    " 'Garage Qual_Po',\n",
    " 'Garage Qual_TA']]\n",
    "y = train['SalePrice']\n",
    "\n",
    "X_train, X_test, y_train, y_test = train_test_split(X, y, random_state = 42)\n",
    "\n",
    "ols = LinearRegression()\n",
    "ols.fit(X_train, y_train)\n",
    "\n",
    "def evaluate_model(model, X, y): \n",
    "    \n",
    "    y_train_hat = ols.predict(X)\n",
    "\n",
    "    mse = mean_squared_error(y, y_train_hat)\n",
    "    rmse = mse ** .5\n",
    "    r2 = r2_score(y, y_train_hat)\n",
    "\n",
    "    print(f'R^2: {r2}')\n",
    "    print(f'MSE: {mse}')\n",
    "    print(f'RMSE: {rmse}')"
   ]
  },
  {
   "cell_type": "code",
   "execution_count": 5,
   "metadata": {},
   "outputs": [
    {
     "name": "stdout",
     "output_type": "stream",
     "text": [
      "R^2: 0.09583678347293578\n",
      "MSE: 5718398551.201958\n",
      "RMSE: 75620.09356779425\n"
     ]
    }
   ],
   "source": [
    "evaluate_model(ols, X_train, y_train)"
   ]
  },
  {
   "cell_type": "code",
   "execution_count": 6,
   "metadata": {},
   "outputs": [
    {
     "name": "stdout",
     "output_type": "stream",
     "text": [
      "R^2: 0.0806398196862802\n",
      "MSE: 5644894243.189344\n",
      "RMSE: 75132.5112264281\n"
     ]
    }
   ],
   "source": [
    "evaluate_model(ols, X_test, y_test)"
   ]
  },
  {
   "cell_type": "code",
   "execution_count": 7,
   "metadata": {},
   "outputs": [
    {
     "data": {
      "text/plain": [
       "0.08172548768606973"
      ]
     },
     "execution_count": 7,
     "metadata": {},
     "output_type": "execute_result"
    }
   ],
   "source": [
    "cross_val_score(ols, X_train, y_train).mean()"
   ]
  },
  {
   "cell_type": "code",
   "execution_count": null,
   "metadata": {},
   "outputs": [],
   "source": []
  },
  {
   "cell_type": "markdown",
   "metadata": {},
   "source": [
    "### Garage Cond"
   ]
  },
  {
   "cell_type": "code",
   "execution_count": 2,
   "metadata": {},
   "outputs": [],
   "source": [
    "import numpy as np\n",
    "import pandas as pd\n",
    "import matplotlib.pyplot as plt\n",
    "import seaborn as sns\n",
    "\n",
    "from sklearn.model_selection import train_test_split, cross_val_score\n",
    "from sklearn.linear_model import LinearRegression\n",
    "from sklearn.preprocessing import StandardScaler, PolynomialFeatures\n",
    "from sklearn.metrics import r2_score, mean_squared_error\n",
    "train = pd.read_csv('../datasets/train.csv')\n",
    "test = pd.read_csv('../datasets/test.csv')"
   ]
  },
  {
   "cell_type": "code",
   "execution_count": 3,
   "metadata": {},
   "outputs": [],
   "source": [
    "train = pd.get_dummies(train, columns = ['Garage Cond'], drop_first = True)"
   ]
  },
  {
   "cell_type": "code",
   "execution_count": 4,
   "metadata": {},
   "outputs": [
    {
     "data": {
      "text/plain": [
       "['Id',\n",
       " 'PID',\n",
       " 'MS SubClass',\n",
       " 'MS Zoning',\n",
       " 'Lot Frontage',\n",
       " 'Lot Area',\n",
       " 'Street',\n",
       " 'Alley',\n",
       " 'Lot Shape',\n",
       " 'Land Contour',\n",
       " 'Utilities',\n",
       " 'Lot Config',\n",
       " 'Land Slope',\n",
       " 'Neighborhood',\n",
       " 'Condition 1',\n",
       " 'Condition 2',\n",
       " 'Bldg Type',\n",
       " 'House Style',\n",
       " 'Overall Qual',\n",
       " 'Overall Cond',\n",
       " 'Year Built',\n",
       " 'Year Remod/Add',\n",
       " 'Roof Style',\n",
       " 'Roof Matl',\n",
       " 'Exterior 1st',\n",
       " 'Exterior 2nd',\n",
       " 'Mas Vnr Type',\n",
       " 'Mas Vnr Area',\n",
       " 'Exter Qual',\n",
       " 'Exter Cond',\n",
       " 'Foundation',\n",
       " 'Bsmt Qual',\n",
       " 'Bsmt Cond',\n",
       " 'Bsmt Exposure',\n",
       " 'BsmtFin Type 1',\n",
       " 'BsmtFin SF 1',\n",
       " 'BsmtFin Type 2',\n",
       " 'BsmtFin SF 2',\n",
       " 'Bsmt Unf SF',\n",
       " 'Total Bsmt SF',\n",
       " 'Heating',\n",
       " 'Heating QC',\n",
       " 'Central Air',\n",
       " 'Electrical',\n",
       " '1st Flr SF',\n",
       " '2nd Flr SF',\n",
       " 'Low Qual Fin SF',\n",
       " 'Gr Liv Area',\n",
       " 'Bsmt Full Bath',\n",
       " 'Bsmt Half Bath',\n",
       " 'Full Bath',\n",
       " 'Half Bath',\n",
       " 'Bedroom AbvGr',\n",
       " 'Kitchen AbvGr',\n",
       " 'Kitchen Qual',\n",
       " 'TotRms AbvGrd',\n",
       " 'Functional',\n",
       " 'Fireplaces',\n",
       " 'Fireplace Qu',\n",
       " 'Garage Type',\n",
       " 'Garage Yr Blt',\n",
       " 'Garage Finish',\n",
       " 'Garage Cars',\n",
       " 'Garage Area',\n",
       " 'Garage Qual',\n",
       " 'Paved Drive',\n",
       " 'Wood Deck SF',\n",
       " 'Open Porch SF',\n",
       " 'Enclosed Porch',\n",
       " '3Ssn Porch',\n",
       " 'Screen Porch',\n",
       " 'Pool Area',\n",
       " 'Pool QC',\n",
       " 'Fence',\n",
       " 'Misc Feature',\n",
       " 'Misc Val',\n",
       " 'Mo Sold',\n",
       " 'Yr Sold',\n",
       " 'Sale Type',\n",
       " 'SalePrice',\n",
       " 'Garage Cond_Fa',\n",
       " 'Garage Cond_Gd',\n",
       " 'Garage Cond_Po',\n",
       " 'Garage Cond_TA']"
      ]
     },
     "execution_count": 4,
     "metadata": {},
     "output_type": "execute_result"
    }
   ],
   "source": [
    "list(train.columns)"
   ]
  },
  {
   "cell_type": "code",
   "execution_count": 5,
   "metadata": {},
   "outputs": [],
   "source": [
    "X = train[['Garage Cond_Fa',\n",
    " 'Garage Cond_Gd',\n",
    " 'Garage Cond_Po',\n",
    " 'Garage Cond_TA']]\n",
    "y = train['SalePrice']\n",
    "\n",
    "X_train, X_test, y_train, y_test = train_test_split(X, y, random_state = 42)\n",
    "\n",
    "ols = LinearRegression()\n",
    "ols.fit(X_train, y_train)\n",
    "\n",
    "def evaluate_model(model, X, y): \n",
    "    \n",
    "    y_train_hat = ols.predict(X)\n",
    "\n",
    "    mse = mean_squared_error(y, y_train_hat)\n",
    "    rmse = mse ** .5\n",
    "    r2 = r2_score(y, y_train_hat)\n",
    "\n",
    "    print(f'R^2: {r2}')\n",
    "    print(f'MSE: {mse}')\n",
    "    print(f'RMSE: {rmse}')"
   ]
  },
  {
   "cell_type": "code",
   "execution_count": 6,
   "metadata": {},
   "outputs": [
    {
     "name": "stdout",
     "output_type": "stream",
     "text": [
      "R^2: 0.08250756774726431\n",
      "MSE: 5802699445.665582\n",
      "RMSE: 76175.45172603561\n"
     ]
    }
   ],
   "source": [
    "evaluate_model(ols, X_train, y_train)"
   ]
  },
  {
   "cell_type": "code",
   "execution_count": 7,
   "metadata": {},
   "outputs": [
    {
     "name": "stdout",
     "output_type": "stream",
     "text": [
      "R^2: 0.08300759573445293\n",
      "MSE: 5630356039.697726\n",
      "RMSE: 75035.69843546288\n"
     ]
    }
   ],
   "source": [
    "evaluate_model(ols, X_test, y_test)"
   ]
  },
  {
   "cell_type": "code",
   "execution_count": 8,
   "metadata": {},
   "outputs": [
    {
     "data": {
      "text/plain": [
       "0.07706400300546701"
      ]
     },
     "execution_count": 8,
     "metadata": {},
     "output_type": "execute_result"
    }
   ],
   "source": [
    "cross_val_score(ols, X_train, y_train).mean()"
   ]
  },
  {
   "cell_type": "code",
   "execution_count": null,
   "metadata": {},
   "outputs": [],
   "source": []
  },
  {
   "cell_type": "markdown",
   "metadata": {},
   "source": [
    "### Paved Drive"
   ]
  },
  {
   "cell_type": "code",
   "execution_count": 1,
   "metadata": {},
   "outputs": [],
   "source": [
    "import numpy as np\n",
    "import pandas as pd\n",
    "import matplotlib.pyplot as plt\n",
    "import seaborn as sns\n",
    "\n",
    "from sklearn.model_selection import train_test_split, cross_val_score\n",
    "from sklearn.linear_model import LinearRegression\n",
    "from sklearn.preprocessing import StandardScaler, PolynomialFeatures\n",
    "from sklearn.metrics import r2_score, mean_squared_error\n",
    "train = pd.read_csv('../datasets/train.csv')\n",
    "test = pd.read_csv('../datasets/test.csv')"
   ]
  },
  {
   "cell_type": "code",
   "execution_count": 2,
   "metadata": {},
   "outputs": [],
   "source": [
    "train = pd.get_dummies(train, columns = ['Paved Drive'], drop_first = True)"
   ]
  },
  {
   "cell_type": "code",
   "execution_count": 3,
   "metadata": {},
   "outputs": [
    {
     "data": {
      "text/plain": [
       "['Id',\n",
       " 'PID',\n",
       " 'MS SubClass',\n",
       " 'MS Zoning',\n",
       " 'Lot Frontage',\n",
       " 'Lot Area',\n",
       " 'Street',\n",
       " 'Alley',\n",
       " 'Lot Shape',\n",
       " 'Land Contour',\n",
       " 'Utilities',\n",
       " 'Lot Config',\n",
       " 'Land Slope',\n",
       " 'Neighborhood',\n",
       " 'Condition 1',\n",
       " 'Condition 2',\n",
       " 'Bldg Type',\n",
       " 'House Style',\n",
       " 'Overall Qual',\n",
       " 'Overall Cond',\n",
       " 'Year Built',\n",
       " 'Year Remod/Add',\n",
       " 'Roof Style',\n",
       " 'Roof Matl',\n",
       " 'Exterior 1st',\n",
       " 'Exterior 2nd',\n",
       " 'Mas Vnr Type',\n",
       " 'Mas Vnr Area',\n",
       " 'Exter Qual',\n",
       " 'Exter Cond',\n",
       " 'Foundation',\n",
       " 'Bsmt Qual',\n",
       " 'Bsmt Cond',\n",
       " 'Bsmt Exposure',\n",
       " 'BsmtFin Type 1',\n",
       " 'BsmtFin SF 1',\n",
       " 'BsmtFin Type 2',\n",
       " 'BsmtFin SF 2',\n",
       " 'Bsmt Unf SF',\n",
       " 'Total Bsmt SF',\n",
       " 'Heating',\n",
       " 'Heating QC',\n",
       " 'Central Air',\n",
       " 'Electrical',\n",
       " '1st Flr SF',\n",
       " '2nd Flr SF',\n",
       " 'Low Qual Fin SF',\n",
       " 'Gr Liv Area',\n",
       " 'Bsmt Full Bath',\n",
       " 'Bsmt Half Bath',\n",
       " 'Full Bath',\n",
       " 'Half Bath',\n",
       " 'Bedroom AbvGr',\n",
       " 'Kitchen AbvGr',\n",
       " 'Kitchen Qual',\n",
       " 'TotRms AbvGrd',\n",
       " 'Functional',\n",
       " 'Fireplaces',\n",
       " 'Fireplace Qu',\n",
       " 'Garage Type',\n",
       " 'Garage Yr Blt',\n",
       " 'Garage Finish',\n",
       " 'Garage Cars',\n",
       " 'Garage Area',\n",
       " 'Garage Qual',\n",
       " 'Garage Cond',\n",
       " 'Wood Deck SF',\n",
       " 'Open Porch SF',\n",
       " 'Enclosed Porch',\n",
       " '3Ssn Porch',\n",
       " 'Screen Porch',\n",
       " 'Pool Area',\n",
       " 'Pool QC',\n",
       " 'Fence',\n",
       " 'Misc Feature',\n",
       " 'Misc Val',\n",
       " 'Mo Sold',\n",
       " 'Yr Sold',\n",
       " 'Sale Type',\n",
       " 'SalePrice',\n",
       " 'Paved Drive_P',\n",
       " 'Paved Drive_Y']"
      ]
     },
     "execution_count": 3,
     "metadata": {},
     "output_type": "execute_result"
    }
   ],
   "source": [
    "list(train.columns)"
   ]
  },
  {
   "cell_type": "code",
   "execution_count": 4,
   "metadata": {},
   "outputs": [],
   "source": [
    "X = train[['Paved Drive_P',\n",
    " 'Paved Drive_Y']]\n",
    "y = train['SalePrice']\n",
    "\n",
    "X_train, X_test, y_train, y_test = train_test_split(X, y, random_state = 42)\n",
    "\n",
    "ols = LinearRegression()\n",
    "ols.fit(X_train, y_train)\n",
    "\n",
    "def evaluate_model(model, X, y): \n",
    "    \n",
    "    y_train_hat = ols.predict(X)\n",
    "\n",
    "    mse = mean_squared_error(y, y_train_hat)\n",
    "    rmse = mse ** .5\n",
    "    r2 = r2_score(y, y_train_hat)\n",
    "\n",
    "    print(f'R^2: {r2}')\n",
    "    print(f'MSE: {mse}')\n",
    "    print(f'RMSE: {rmse}')"
   ]
  },
  {
   "cell_type": "code",
   "execution_count": 5,
   "metadata": {},
   "outputs": [
    {
     "name": "stdout",
     "output_type": "stream",
     "text": [
      "R^2: 0.08425906010961604\n",
      "MSE: 5791622096.792903\n",
      "RMSE: 76102.70755231316\n"
     ]
    }
   ],
   "source": [
    "evaluate_model(ols, X_train, y_train)"
   ]
  },
  {
   "cell_type": "code",
   "execution_count": 6,
   "metadata": {},
   "outputs": [
    {
     "name": "stdout",
     "output_type": "stream",
     "text": [
      "R^2: 0.08739458524393762\n",
      "MSE: 5603419815.617876\n",
      "RMSE: 74855.99385231537\n"
     ]
    }
   ],
   "source": [
    "evaluate_model(ols, X_test, y_test)"
   ]
  },
  {
   "cell_type": "code",
   "execution_count": 7,
   "metadata": {},
   "outputs": [
    {
     "data": {
      "text/plain": [
       "0.0815692378960361"
      ]
     },
     "execution_count": 7,
     "metadata": {},
     "output_type": "execute_result"
    }
   ],
   "source": [
    "cross_val_score(ols, X_train, y_train).mean()"
   ]
  },
  {
   "cell_type": "code",
   "execution_count": null,
   "metadata": {},
   "outputs": [],
   "source": []
  },
  {
   "cell_type": "markdown",
   "metadata": {},
   "source": [
    "### Sale Type"
   ]
  },
  {
   "cell_type": "code",
   "execution_count": 1,
   "metadata": {},
   "outputs": [],
   "source": [
    "import numpy as np\n",
    "import pandas as pd\n",
    "import matplotlib.pyplot as plt\n",
    "import seaborn as sns\n",
    "\n",
    "from sklearn.model_selection import train_test_split, cross_val_score\n",
    "from sklearn.linear_model import LinearRegression\n",
    "from sklearn.preprocessing import StandardScaler, PolynomialFeatures\n",
    "from sklearn.metrics import r2_score, mean_squared_error\n",
    "train = pd.read_csv('../datasets/train.csv')\n",
    "test = pd.read_csv('../datasets/test.csv')"
   ]
  },
  {
   "cell_type": "code",
   "execution_count": 2,
   "metadata": {},
   "outputs": [],
   "source": [
    "train = pd.get_dummies(train, columns = ['Sale Type'], drop_first = True)"
   ]
  },
  {
   "cell_type": "code",
   "execution_count": 3,
   "metadata": {},
   "outputs": [
    {
     "data": {
      "text/plain": [
       "['Id',\n",
       " 'PID',\n",
       " 'MS SubClass',\n",
       " 'MS Zoning',\n",
       " 'Lot Frontage',\n",
       " 'Lot Area',\n",
       " 'Street',\n",
       " 'Alley',\n",
       " 'Lot Shape',\n",
       " 'Land Contour',\n",
       " 'Utilities',\n",
       " 'Lot Config',\n",
       " 'Land Slope',\n",
       " 'Neighborhood',\n",
       " 'Condition 1',\n",
       " 'Condition 2',\n",
       " 'Bldg Type',\n",
       " 'House Style',\n",
       " 'Overall Qual',\n",
       " 'Overall Cond',\n",
       " 'Year Built',\n",
       " 'Year Remod/Add',\n",
       " 'Roof Style',\n",
       " 'Roof Matl',\n",
       " 'Exterior 1st',\n",
       " 'Exterior 2nd',\n",
       " 'Mas Vnr Type',\n",
       " 'Mas Vnr Area',\n",
       " 'Exter Qual',\n",
       " 'Exter Cond',\n",
       " 'Foundation',\n",
       " 'Bsmt Qual',\n",
       " 'Bsmt Cond',\n",
       " 'Bsmt Exposure',\n",
       " 'BsmtFin Type 1',\n",
       " 'BsmtFin SF 1',\n",
       " 'BsmtFin Type 2',\n",
       " 'BsmtFin SF 2',\n",
       " 'Bsmt Unf SF',\n",
       " 'Total Bsmt SF',\n",
       " 'Heating',\n",
       " 'Heating QC',\n",
       " 'Central Air',\n",
       " 'Electrical',\n",
       " '1st Flr SF',\n",
       " '2nd Flr SF',\n",
       " 'Low Qual Fin SF',\n",
       " 'Gr Liv Area',\n",
       " 'Bsmt Full Bath',\n",
       " 'Bsmt Half Bath',\n",
       " 'Full Bath',\n",
       " 'Half Bath',\n",
       " 'Bedroom AbvGr',\n",
       " 'Kitchen AbvGr',\n",
       " 'Kitchen Qual',\n",
       " 'TotRms AbvGrd',\n",
       " 'Functional',\n",
       " 'Fireplaces',\n",
       " 'Fireplace Qu',\n",
       " 'Garage Type',\n",
       " 'Garage Yr Blt',\n",
       " 'Garage Finish',\n",
       " 'Garage Cars',\n",
       " 'Garage Area',\n",
       " 'Garage Qual',\n",
       " 'Garage Cond',\n",
       " 'Paved Drive',\n",
       " 'Wood Deck SF',\n",
       " 'Open Porch SF',\n",
       " 'Enclosed Porch',\n",
       " '3Ssn Porch',\n",
       " 'Screen Porch',\n",
       " 'Pool Area',\n",
       " 'Pool QC',\n",
       " 'Fence',\n",
       " 'Misc Feature',\n",
       " 'Misc Val',\n",
       " 'Mo Sold',\n",
       " 'Yr Sold',\n",
       " 'SalePrice',\n",
       " 'Sale Type_CWD',\n",
       " 'Sale Type_Con',\n",
       " 'Sale Type_ConLD',\n",
       " 'Sale Type_ConLI',\n",
       " 'Sale Type_ConLw',\n",
       " 'Sale Type_New',\n",
       " 'Sale Type_Oth',\n",
       " 'Sale Type_WD ']"
      ]
     },
     "execution_count": 3,
     "metadata": {},
     "output_type": "execute_result"
    }
   ],
   "source": [
    "list(train.columns)"
   ]
  },
  {
   "cell_type": "code",
   "execution_count": 4,
   "metadata": {},
   "outputs": [],
   "source": [
    "X = train[['Sale Type_CWD',\n",
    " 'Sale Type_Con',\n",
    " 'Sale Type_ConLD',\n",
    " 'Sale Type_ConLI',\n",
    " 'Sale Type_ConLw',\n",
    " 'Sale Type_New',\n",
    " 'Sale Type_Oth',\n",
    " 'Sale Type_WD ']]\n",
    "y = train['SalePrice']\n",
    "\n",
    "X_train, X_test, y_train, y_test = train_test_split(X, y, random_state = 42)\n",
    "\n",
    "ols = LinearRegression()\n",
    "ols.fit(X_train, y_train)\n",
    "\n",
    "def evaluate_model(model, X, y): \n",
    "    \n",
    "    y_train_hat = ols.predict(X)\n",
    "\n",
    "    mse = mean_squared_error(y, y_train_hat)\n",
    "    rmse = mse ** .5\n",
    "    r2 = r2_score(y, y_train_hat)\n",
    "\n",
    "    print(f'R^2: {r2}')\n",
    "    print(f'MSE: {mse}')\n",
    "    print(f'RMSE: {rmse}')"
   ]
  },
  {
   "cell_type": "code",
   "execution_count": 5,
   "metadata": {},
   "outputs": [
    {
     "name": "stdout",
     "output_type": "stream",
     "text": [
      "R^2: 0.14759950289595414\n",
      "MSE: 5391024185.219883\n",
      "RMSE: 73423.59419982029\n"
     ]
    }
   ],
   "source": [
    "evaluate_model(ols, X_train, y_train)"
   ]
  },
  {
   "cell_type": "code",
   "execution_count": 6,
   "metadata": {},
   "outputs": [
    {
     "name": "stdout",
     "output_type": "stream",
     "text": [
      "R^2: 0.12439091815414405\n",
      "MSE: 5376261416.618393\n",
      "RMSE: 73322.99377833937\n"
     ]
    }
   ],
   "source": [
    "evaluate_model(ols, X_test, y_test)"
   ]
  },
  {
   "cell_type": "code",
   "execution_count": 7,
   "metadata": {},
   "outputs": [
    {
     "data": {
      "text/plain": [
       "0.13772901834236412"
      ]
     },
     "execution_count": 7,
     "metadata": {},
     "output_type": "execute_result"
    }
   ],
   "source": [
    "cross_val_score(ols, X_train, y_train).mean()"
   ]
  },
  {
   "cell_type": "code",
   "execution_count": null,
   "metadata": {},
   "outputs": [],
   "source": []
  }
 ],
 "metadata": {
  "kernelspec": {
   "display_name": "Python 3",
   "language": "python",
   "name": "python3"
  },
  "language_info": {
   "codemirror_mode": {
    "name": "ipython",
    "version": 3
   },
   "file_extension": ".py",
   "mimetype": "text/x-python",
   "name": "python",
   "nbconvert_exporter": "python",
   "pygments_lexer": "ipython3",
   "version": "3.7.6"
  }
 },
 "nbformat": 4,
 "nbformat_minor": 4
}

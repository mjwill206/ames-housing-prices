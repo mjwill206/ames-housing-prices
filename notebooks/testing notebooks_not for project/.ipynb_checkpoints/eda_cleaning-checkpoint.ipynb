{
 "cells": [
  {
   "cell_type": "code",
   "execution_count": 1,
   "metadata": {},
   "outputs": [],
   "source": [
    "import numpy as np\n",
    "import pandas as pd\n",
    "import matplotlib.pyplot as plt\n",
    "import seaborn as sns\n",
    "\n",
    "from sklearn.model_selection import train_test_split, cross_val_score\n",
    "from sklearn.linear_model import LinearRegression\n",
    "from sklearn.preprocessing import StandardScaler, PolynomialFeatures\n",
    "from sklearn.metrics import r2_score, mean_squared_error"
   ]
  },
  {
   "cell_type": "code",
   "execution_count": 2,
   "metadata": {},
   "outputs": [],
   "source": [
    "train = pd.read_csv('../datasets/train.csv')"
   ]
  },
  {
   "cell_type": "code",
   "execution_count": 3,
   "metadata": {},
   "outputs": [],
   "source": [
    "test = pd.read_csv('../datasets/test.csv')"
   ]
  },
  {
   "cell_type": "code",
   "execution_count": 4,
   "metadata": {
    "scrolled": true
   },
   "outputs": [
    {
     "data": {
      "text/html": [
       "<div>\n",
       "<style scoped>\n",
       "    .dataframe tbody tr th:only-of-type {\n",
       "        vertical-align: middle;\n",
       "    }\n",
       "\n",
       "    .dataframe tbody tr th {\n",
       "        vertical-align: top;\n",
       "    }\n",
       "\n",
       "    .dataframe thead th {\n",
       "        text-align: right;\n",
       "    }\n",
       "</style>\n",
       "<table border=\"1\" class=\"dataframe\">\n",
       "  <thead>\n",
       "    <tr style=\"text-align: right;\">\n",
       "      <th></th>\n",
       "      <th>Id</th>\n",
       "      <th>PID</th>\n",
       "      <th>MS SubClass</th>\n",
       "      <th>MS Zoning</th>\n",
       "      <th>Lot Frontage</th>\n",
       "      <th>Lot Area</th>\n",
       "      <th>Street</th>\n",
       "      <th>Alley</th>\n",
       "      <th>Lot Shape</th>\n",
       "      <th>Land Contour</th>\n",
       "      <th>Utilities</th>\n",
       "      <th>Lot Config</th>\n",
       "      <th>Land Slope</th>\n",
       "      <th>Neighborhood</th>\n",
       "      <th>Condition 1</th>\n",
       "      <th>Condition 2</th>\n",
       "      <th>Bldg Type</th>\n",
       "      <th>House Style</th>\n",
       "      <th>Overall Qual</th>\n",
       "      <th>Overall Cond</th>\n",
       "      <th>Year Built</th>\n",
       "      <th>Year Remod/Add</th>\n",
       "      <th>Roof Style</th>\n",
       "      <th>Roof Matl</th>\n",
       "      <th>Exterior 1st</th>\n",
       "      <th>Exterior 2nd</th>\n",
       "      <th>Mas Vnr Type</th>\n",
       "      <th>Mas Vnr Area</th>\n",
       "      <th>Exter Qual</th>\n",
       "      <th>Exter Cond</th>\n",
       "      <th>Foundation</th>\n",
       "      <th>Bsmt Qual</th>\n",
       "      <th>Bsmt Cond</th>\n",
       "      <th>Bsmt Exposure</th>\n",
       "      <th>BsmtFin Type 1</th>\n",
       "      <th>BsmtFin SF 1</th>\n",
       "      <th>BsmtFin Type 2</th>\n",
       "      <th>BsmtFin SF 2</th>\n",
       "      <th>Bsmt Unf SF</th>\n",
       "      <th>Total Bsmt SF</th>\n",
       "      <th>Heating</th>\n",
       "      <th>Heating QC</th>\n",
       "      <th>Central Air</th>\n",
       "      <th>Electrical</th>\n",
       "      <th>1st Flr SF</th>\n",
       "      <th>2nd Flr SF</th>\n",
       "      <th>Low Qual Fin SF</th>\n",
       "      <th>Gr Liv Area</th>\n",
       "      <th>Bsmt Full Bath</th>\n",
       "      <th>Bsmt Half Bath</th>\n",
       "      <th>Full Bath</th>\n",
       "      <th>Half Bath</th>\n",
       "      <th>Bedroom AbvGr</th>\n",
       "      <th>Kitchen AbvGr</th>\n",
       "      <th>Kitchen Qual</th>\n",
       "      <th>TotRms AbvGrd</th>\n",
       "      <th>Functional</th>\n",
       "      <th>Fireplaces</th>\n",
       "      <th>Fireplace Qu</th>\n",
       "      <th>Garage Type</th>\n",
       "      <th>Garage Yr Blt</th>\n",
       "      <th>Garage Finish</th>\n",
       "      <th>Garage Cars</th>\n",
       "      <th>Garage Area</th>\n",
       "      <th>Garage Qual</th>\n",
       "      <th>Garage Cond</th>\n",
       "      <th>Paved Drive</th>\n",
       "      <th>Wood Deck SF</th>\n",
       "      <th>Open Porch SF</th>\n",
       "      <th>Enclosed Porch</th>\n",
       "      <th>3Ssn Porch</th>\n",
       "      <th>Screen Porch</th>\n",
       "      <th>Pool Area</th>\n",
       "      <th>Pool QC</th>\n",
       "      <th>Fence</th>\n",
       "      <th>Misc Feature</th>\n",
       "      <th>Misc Val</th>\n",
       "      <th>Mo Sold</th>\n",
       "      <th>Yr Sold</th>\n",
       "      <th>Sale Type</th>\n",
       "      <th>SalePrice</th>\n",
       "    </tr>\n",
       "  </thead>\n",
       "  <tbody>\n",
       "    <tr>\n",
       "      <th>0</th>\n",
       "      <td>109</td>\n",
       "      <td>533352170</td>\n",
       "      <td>60</td>\n",
       "      <td>RL</td>\n",
       "      <td>NaN</td>\n",
       "      <td>13517</td>\n",
       "      <td>Pave</td>\n",
       "      <td>NaN</td>\n",
       "      <td>IR1</td>\n",
       "      <td>Lvl</td>\n",
       "      <td>AllPub</td>\n",
       "      <td>CulDSac</td>\n",
       "      <td>Gtl</td>\n",
       "      <td>Sawyer</td>\n",
       "      <td>RRAe</td>\n",
       "      <td>Norm</td>\n",
       "      <td>1Fam</td>\n",
       "      <td>2Story</td>\n",
       "      <td>6</td>\n",
       "      <td>8</td>\n",
       "      <td>1976</td>\n",
       "      <td>2005</td>\n",
       "      <td>Gable</td>\n",
       "      <td>CompShg</td>\n",
       "      <td>HdBoard</td>\n",
       "      <td>Plywood</td>\n",
       "      <td>BrkFace</td>\n",
       "      <td>289.0</td>\n",
       "      <td>Gd</td>\n",
       "      <td>TA</td>\n",
       "      <td>CBlock</td>\n",
       "      <td>TA</td>\n",
       "      <td>TA</td>\n",
       "      <td>No</td>\n",
       "      <td>GLQ</td>\n",
       "      <td>533.0</td>\n",
       "      <td>Unf</td>\n",
       "      <td>0.0</td>\n",
       "      <td>192.0</td>\n",
       "      <td>725.0</td>\n",
       "      <td>GasA</td>\n",
       "      <td>Ex</td>\n",
       "      <td>Y</td>\n",
       "      <td>SBrkr</td>\n",
       "      <td>725</td>\n",
       "      <td>754</td>\n",
       "      <td>0</td>\n",
       "      <td>1479</td>\n",
       "      <td>0.0</td>\n",
       "      <td>0.0</td>\n",
       "      <td>2</td>\n",
       "      <td>1</td>\n",
       "      <td>3</td>\n",
       "      <td>1</td>\n",
       "      <td>Gd</td>\n",
       "      <td>6</td>\n",
       "      <td>Typ</td>\n",
       "      <td>0</td>\n",
       "      <td>NaN</td>\n",
       "      <td>Attchd</td>\n",
       "      <td>1976.0</td>\n",
       "      <td>RFn</td>\n",
       "      <td>2.0</td>\n",
       "      <td>475.0</td>\n",
       "      <td>TA</td>\n",
       "      <td>TA</td>\n",
       "      <td>Y</td>\n",
       "      <td>0</td>\n",
       "      <td>44</td>\n",
       "      <td>0</td>\n",
       "      <td>0</td>\n",
       "      <td>0</td>\n",
       "      <td>0</td>\n",
       "      <td>NaN</td>\n",
       "      <td>NaN</td>\n",
       "      <td>NaN</td>\n",
       "      <td>0</td>\n",
       "      <td>3</td>\n",
       "      <td>2010</td>\n",
       "      <td>WD</td>\n",
       "      <td>130500</td>\n",
       "    </tr>\n",
       "    <tr>\n",
       "      <th>1</th>\n",
       "      <td>544</td>\n",
       "      <td>531379050</td>\n",
       "      <td>60</td>\n",
       "      <td>RL</td>\n",
       "      <td>43.0</td>\n",
       "      <td>11492</td>\n",
       "      <td>Pave</td>\n",
       "      <td>NaN</td>\n",
       "      <td>IR1</td>\n",
       "      <td>Lvl</td>\n",
       "      <td>AllPub</td>\n",
       "      <td>CulDSac</td>\n",
       "      <td>Gtl</td>\n",
       "      <td>SawyerW</td>\n",
       "      <td>Norm</td>\n",
       "      <td>Norm</td>\n",
       "      <td>1Fam</td>\n",
       "      <td>2Story</td>\n",
       "      <td>7</td>\n",
       "      <td>5</td>\n",
       "      <td>1996</td>\n",
       "      <td>1997</td>\n",
       "      <td>Gable</td>\n",
       "      <td>CompShg</td>\n",
       "      <td>VinylSd</td>\n",
       "      <td>VinylSd</td>\n",
       "      <td>BrkFace</td>\n",
       "      <td>132.0</td>\n",
       "      <td>Gd</td>\n",
       "      <td>TA</td>\n",
       "      <td>PConc</td>\n",
       "      <td>Gd</td>\n",
       "      <td>TA</td>\n",
       "      <td>No</td>\n",
       "      <td>GLQ</td>\n",
       "      <td>637.0</td>\n",
       "      <td>Unf</td>\n",
       "      <td>0.0</td>\n",
       "      <td>276.0</td>\n",
       "      <td>913.0</td>\n",
       "      <td>GasA</td>\n",
       "      <td>Ex</td>\n",
       "      <td>Y</td>\n",
       "      <td>SBrkr</td>\n",
       "      <td>913</td>\n",
       "      <td>1209</td>\n",
       "      <td>0</td>\n",
       "      <td>2122</td>\n",
       "      <td>1.0</td>\n",
       "      <td>0.0</td>\n",
       "      <td>2</td>\n",
       "      <td>1</td>\n",
       "      <td>4</td>\n",
       "      <td>1</td>\n",
       "      <td>Gd</td>\n",
       "      <td>8</td>\n",
       "      <td>Typ</td>\n",
       "      <td>1</td>\n",
       "      <td>TA</td>\n",
       "      <td>Attchd</td>\n",
       "      <td>1997.0</td>\n",
       "      <td>RFn</td>\n",
       "      <td>2.0</td>\n",
       "      <td>559.0</td>\n",
       "      <td>TA</td>\n",
       "      <td>TA</td>\n",
       "      <td>Y</td>\n",
       "      <td>0</td>\n",
       "      <td>74</td>\n",
       "      <td>0</td>\n",
       "      <td>0</td>\n",
       "      <td>0</td>\n",
       "      <td>0</td>\n",
       "      <td>NaN</td>\n",
       "      <td>NaN</td>\n",
       "      <td>NaN</td>\n",
       "      <td>0</td>\n",
       "      <td>4</td>\n",
       "      <td>2009</td>\n",
       "      <td>WD</td>\n",
       "      <td>220000</td>\n",
       "    </tr>\n",
       "    <tr>\n",
       "      <th>2</th>\n",
       "      <td>153</td>\n",
       "      <td>535304180</td>\n",
       "      <td>20</td>\n",
       "      <td>RL</td>\n",
       "      <td>68.0</td>\n",
       "      <td>7922</td>\n",
       "      <td>Pave</td>\n",
       "      <td>NaN</td>\n",
       "      <td>Reg</td>\n",
       "      <td>Lvl</td>\n",
       "      <td>AllPub</td>\n",
       "      <td>Inside</td>\n",
       "      <td>Gtl</td>\n",
       "      <td>NAmes</td>\n",
       "      <td>Norm</td>\n",
       "      <td>Norm</td>\n",
       "      <td>1Fam</td>\n",
       "      <td>1Story</td>\n",
       "      <td>5</td>\n",
       "      <td>7</td>\n",
       "      <td>1953</td>\n",
       "      <td>2007</td>\n",
       "      <td>Gable</td>\n",
       "      <td>CompShg</td>\n",
       "      <td>VinylSd</td>\n",
       "      <td>VinylSd</td>\n",
       "      <td>None</td>\n",
       "      <td>0.0</td>\n",
       "      <td>TA</td>\n",
       "      <td>Gd</td>\n",
       "      <td>CBlock</td>\n",
       "      <td>TA</td>\n",
       "      <td>TA</td>\n",
       "      <td>No</td>\n",
       "      <td>GLQ</td>\n",
       "      <td>731.0</td>\n",
       "      <td>Unf</td>\n",
       "      <td>0.0</td>\n",
       "      <td>326.0</td>\n",
       "      <td>1057.0</td>\n",
       "      <td>GasA</td>\n",
       "      <td>TA</td>\n",
       "      <td>Y</td>\n",
       "      <td>SBrkr</td>\n",
       "      <td>1057</td>\n",
       "      <td>0</td>\n",
       "      <td>0</td>\n",
       "      <td>1057</td>\n",
       "      <td>1.0</td>\n",
       "      <td>0.0</td>\n",
       "      <td>1</td>\n",
       "      <td>0</td>\n",
       "      <td>3</td>\n",
       "      <td>1</td>\n",
       "      <td>Gd</td>\n",
       "      <td>5</td>\n",
       "      <td>Typ</td>\n",
       "      <td>0</td>\n",
       "      <td>NaN</td>\n",
       "      <td>Detchd</td>\n",
       "      <td>1953.0</td>\n",
       "      <td>Unf</td>\n",
       "      <td>1.0</td>\n",
       "      <td>246.0</td>\n",
       "      <td>TA</td>\n",
       "      <td>TA</td>\n",
       "      <td>Y</td>\n",
       "      <td>0</td>\n",
       "      <td>52</td>\n",
       "      <td>0</td>\n",
       "      <td>0</td>\n",
       "      <td>0</td>\n",
       "      <td>0</td>\n",
       "      <td>NaN</td>\n",
       "      <td>NaN</td>\n",
       "      <td>NaN</td>\n",
       "      <td>0</td>\n",
       "      <td>1</td>\n",
       "      <td>2010</td>\n",
       "      <td>WD</td>\n",
       "      <td>109000</td>\n",
       "    </tr>\n",
       "    <tr>\n",
       "      <th>3</th>\n",
       "      <td>318</td>\n",
       "      <td>916386060</td>\n",
       "      <td>60</td>\n",
       "      <td>RL</td>\n",
       "      <td>73.0</td>\n",
       "      <td>9802</td>\n",
       "      <td>Pave</td>\n",
       "      <td>NaN</td>\n",
       "      <td>Reg</td>\n",
       "      <td>Lvl</td>\n",
       "      <td>AllPub</td>\n",
       "      <td>Inside</td>\n",
       "      <td>Gtl</td>\n",
       "      <td>Timber</td>\n",
       "      <td>Norm</td>\n",
       "      <td>Norm</td>\n",
       "      <td>1Fam</td>\n",
       "      <td>2Story</td>\n",
       "      <td>5</td>\n",
       "      <td>5</td>\n",
       "      <td>2006</td>\n",
       "      <td>2007</td>\n",
       "      <td>Gable</td>\n",
       "      <td>CompShg</td>\n",
       "      <td>VinylSd</td>\n",
       "      <td>VinylSd</td>\n",
       "      <td>None</td>\n",
       "      <td>0.0</td>\n",
       "      <td>TA</td>\n",
       "      <td>TA</td>\n",
       "      <td>PConc</td>\n",
       "      <td>Gd</td>\n",
       "      <td>TA</td>\n",
       "      <td>No</td>\n",
       "      <td>Unf</td>\n",
       "      <td>0.0</td>\n",
       "      <td>Unf</td>\n",
       "      <td>0.0</td>\n",
       "      <td>384.0</td>\n",
       "      <td>384.0</td>\n",
       "      <td>GasA</td>\n",
       "      <td>Gd</td>\n",
       "      <td>Y</td>\n",
       "      <td>SBrkr</td>\n",
       "      <td>744</td>\n",
       "      <td>700</td>\n",
       "      <td>0</td>\n",
       "      <td>1444</td>\n",
       "      <td>0.0</td>\n",
       "      <td>0.0</td>\n",
       "      <td>2</td>\n",
       "      <td>1</td>\n",
       "      <td>3</td>\n",
       "      <td>1</td>\n",
       "      <td>TA</td>\n",
       "      <td>7</td>\n",
       "      <td>Typ</td>\n",
       "      <td>0</td>\n",
       "      <td>NaN</td>\n",
       "      <td>BuiltIn</td>\n",
       "      <td>2007.0</td>\n",
       "      <td>Fin</td>\n",
       "      <td>2.0</td>\n",
       "      <td>400.0</td>\n",
       "      <td>TA</td>\n",
       "      <td>TA</td>\n",
       "      <td>Y</td>\n",
       "      <td>100</td>\n",
       "      <td>0</td>\n",
       "      <td>0</td>\n",
       "      <td>0</td>\n",
       "      <td>0</td>\n",
       "      <td>0</td>\n",
       "      <td>NaN</td>\n",
       "      <td>NaN</td>\n",
       "      <td>NaN</td>\n",
       "      <td>0</td>\n",
       "      <td>4</td>\n",
       "      <td>2010</td>\n",
       "      <td>WD</td>\n",
       "      <td>174000</td>\n",
       "    </tr>\n",
       "    <tr>\n",
       "      <th>4</th>\n",
       "      <td>255</td>\n",
       "      <td>906425045</td>\n",
       "      <td>50</td>\n",
       "      <td>RL</td>\n",
       "      <td>82.0</td>\n",
       "      <td>14235</td>\n",
       "      <td>Pave</td>\n",
       "      <td>NaN</td>\n",
       "      <td>IR1</td>\n",
       "      <td>Lvl</td>\n",
       "      <td>AllPub</td>\n",
       "      <td>Inside</td>\n",
       "      <td>Gtl</td>\n",
       "      <td>SawyerW</td>\n",
       "      <td>Norm</td>\n",
       "      <td>Norm</td>\n",
       "      <td>1Fam</td>\n",
       "      <td>1.5Fin</td>\n",
       "      <td>6</td>\n",
       "      <td>8</td>\n",
       "      <td>1900</td>\n",
       "      <td>1993</td>\n",
       "      <td>Gable</td>\n",
       "      <td>CompShg</td>\n",
       "      <td>Wd Sdng</td>\n",
       "      <td>Plywood</td>\n",
       "      <td>None</td>\n",
       "      <td>0.0</td>\n",
       "      <td>TA</td>\n",
       "      <td>TA</td>\n",
       "      <td>PConc</td>\n",
       "      <td>Fa</td>\n",
       "      <td>Gd</td>\n",
       "      <td>No</td>\n",
       "      <td>Unf</td>\n",
       "      <td>0.0</td>\n",
       "      <td>Unf</td>\n",
       "      <td>0.0</td>\n",
       "      <td>676.0</td>\n",
       "      <td>676.0</td>\n",
       "      <td>GasA</td>\n",
       "      <td>TA</td>\n",
       "      <td>Y</td>\n",
       "      <td>SBrkr</td>\n",
       "      <td>831</td>\n",
       "      <td>614</td>\n",
       "      <td>0</td>\n",
       "      <td>1445</td>\n",
       "      <td>0.0</td>\n",
       "      <td>0.0</td>\n",
       "      <td>2</td>\n",
       "      <td>0</td>\n",
       "      <td>3</td>\n",
       "      <td>1</td>\n",
       "      <td>TA</td>\n",
       "      <td>6</td>\n",
       "      <td>Typ</td>\n",
       "      <td>0</td>\n",
       "      <td>NaN</td>\n",
       "      <td>Detchd</td>\n",
       "      <td>1957.0</td>\n",
       "      <td>Unf</td>\n",
       "      <td>2.0</td>\n",
       "      <td>484.0</td>\n",
       "      <td>TA</td>\n",
       "      <td>TA</td>\n",
       "      <td>N</td>\n",
       "      <td>0</td>\n",
       "      <td>59</td>\n",
       "      <td>0</td>\n",
       "      <td>0</td>\n",
       "      <td>0</td>\n",
       "      <td>0</td>\n",
       "      <td>NaN</td>\n",
       "      <td>NaN</td>\n",
       "      <td>NaN</td>\n",
       "      <td>0</td>\n",
       "      <td>3</td>\n",
       "      <td>2010</td>\n",
       "      <td>WD</td>\n",
       "      <td>138500</td>\n",
       "    </tr>\n",
       "  </tbody>\n",
       "</table>\n",
       "</div>"
      ],
      "text/plain": [
       "    Id        PID  MS SubClass MS Zoning  Lot Frontage  Lot Area Street Alley  \\\n",
       "0  109  533352170           60        RL           NaN     13517   Pave   NaN   \n",
       "1  544  531379050           60        RL          43.0     11492   Pave   NaN   \n",
       "2  153  535304180           20        RL          68.0      7922   Pave   NaN   \n",
       "3  318  916386060           60        RL          73.0      9802   Pave   NaN   \n",
       "4  255  906425045           50        RL          82.0     14235   Pave   NaN   \n",
       "\n",
       "  Lot Shape Land Contour Utilities Lot Config Land Slope Neighborhood  \\\n",
       "0       IR1          Lvl    AllPub    CulDSac        Gtl       Sawyer   \n",
       "1       IR1          Lvl    AllPub    CulDSac        Gtl      SawyerW   \n",
       "2       Reg          Lvl    AllPub     Inside        Gtl        NAmes   \n",
       "3       Reg          Lvl    AllPub     Inside        Gtl       Timber   \n",
       "4       IR1          Lvl    AllPub     Inside        Gtl      SawyerW   \n",
       "\n",
       "  Condition 1 Condition 2 Bldg Type House Style  Overall Qual  Overall Cond  \\\n",
       "0        RRAe        Norm      1Fam      2Story             6             8   \n",
       "1        Norm        Norm      1Fam      2Story             7             5   \n",
       "2        Norm        Norm      1Fam      1Story             5             7   \n",
       "3        Norm        Norm      1Fam      2Story             5             5   \n",
       "4        Norm        Norm      1Fam      1.5Fin             6             8   \n",
       "\n",
       "   Year Built  Year Remod/Add Roof Style Roof Matl Exterior 1st Exterior 2nd  \\\n",
       "0        1976            2005      Gable   CompShg      HdBoard      Plywood   \n",
       "1        1996            1997      Gable   CompShg      VinylSd      VinylSd   \n",
       "2        1953            2007      Gable   CompShg      VinylSd      VinylSd   \n",
       "3        2006            2007      Gable   CompShg      VinylSd      VinylSd   \n",
       "4        1900            1993      Gable   CompShg      Wd Sdng      Plywood   \n",
       "\n",
       "  Mas Vnr Type  Mas Vnr Area Exter Qual Exter Cond Foundation Bsmt Qual  \\\n",
       "0      BrkFace         289.0         Gd         TA     CBlock        TA   \n",
       "1      BrkFace         132.0         Gd         TA      PConc        Gd   \n",
       "2         None           0.0         TA         Gd     CBlock        TA   \n",
       "3         None           0.0         TA         TA      PConc        Gd   \n",
       "4         None           0.0         TA         TA      PConc        Fa   \n",
       "\n",
       "  Bsmt Cond Bsmt Exposure BsmtFin Type 1  BsmtFin SF 1 BsmtFin Type 2  \\\n",
       "0        TA            No            GLQ         533.0            Unf   \n",
       "1        TA            No            GLQ         637.0            Unf   \n",
       "2        TA            No            GLQ         731.0            Unf   \n",
       "3        TA            No            Unf           0.0            Unf   \n",
       "4        Gd            No            Unf           0.0            Unf   \n",
       "\n",
       "   BsmtFin SF 2  Bsmt Unf SF  Total Bsmt SF Heating Heating QC Central Air  \\\n",
       "0           0.0        192.0          725.0    GasA         Ex           Y   \n",
       "1           0.0        276.0          913.0    GasA         Ex           Y   \n",
       "2           0.0        326.0         1057.0    GasA         TA           Y   \n",
       "3           0.0        384.0          384.0    GasA         Gd           Y   \n",
       "4           0.0        676.0          676.0    GasA         TA           Y   \n",
       "\n",
       "  Electrical  1st Flr SF  2nd Flr SF  Low Qual Fin SF  Gr Liv Area  \\\n",
       "0      SBrkr         725         754                0         1479   \n",
       "1      SBrkr         913        1209                0         2122   \n",
       "2      SBrkr        1057           0                0         1057   \n",
       "3      SBrkr         744         700                0         1444   \n",
       "4      SBrkr         831         614                0         1445   \n",
       "\n",
       "   Bsmt Full Bath  Bsmt Half Bath  Full Bath  Half Bath  Bedroom AbvGr  \\\n",
       "0             0.0             0.0          2          1              3   \n",
       "1             1.0             0.0          2          1              4   \n",
       "2             1.0             0.0          1          0              3   \n",
       "3             0.0             0.0          2          1              3   \n",
       "4             0.0             0.0          2          0              3   \n",
       "\n",
       "   Kitchen AbvGr Kitchen Qual  TotRms AbvGrd Functional  Fireplaces  \\\n",
       "0              1           Gd              6        Typ           0   \n",
       "1              1           Gd              8        Typ           1   \n",
       "2              1           Gd              5        Typ           0   \n",
       "3              1           TA              7        Typ           0   \n",
       "4              1           TA              6        Typ           0   \n",
       "\n",
       "  Fireplace Qu Garage Type  Garage Yr Blt Garage Finish  Garage Cars  \\\n",
       "0          NaN      Attchd         1976.0           RFn          2.0   \n",
       "1           TA      Attchd         1997.0           RFn          2.0   \n",
       "2          NaN      Detchd         1953.0           Unf          1.0   \n",
       "3          NaN     BuiltIn         2007.0           Fin          2.0   \n",
       "4          NaN      Detchd         1957.0           Unf          2.0   \n",
       "\n",
       "   Garage Area Garage Qual Garage Cond Paved Drive  Wood Deck SF  \\\n",
       "0        475.0          TA          TA           Y             0   \n",
       "1        559.0          TA          TA           Y             0   \n",
       "2        246.0          TA          TA           Y             0   \n",
       "3        400.0          TA          TA           Y           100   \n",
       "4        484.0          TA          TA           N             0   \n",
       "\n",
       "   Open Porch SF  Enclosed Porch  3Ssn Porch  Screen Porch  Pool Area Pool QC  \\\n",
       "0             44               0           0             0          0     NaN   \n",
       "1             74               0           0             0          0     NaN   \n",
       "2             52               0           0             0          0     NaN   \n",
       "3              0               0           0             0          0     NaN   \n",
       "4             59               0           0             0          0     NaN   \n",
       "\n",
       "  Fence Misc Feature  Misc Val  Mo Sold  Yr Sold Sale Type  SalePrice  \n",
       "0   NaN          NaN         0        3     2010       WD      130500  \n",
       "1   NaN          NaN         0        4     2009       WD      220000  \n",
       "2   NaN          NaN         0        1     2010       WD      109000  \n",
       "3   NaN          NaN         0        4     2010       WD      174000  \n",
       "4   NaN          NaN         0        3     2010       WD      138500  "
      ]
     },
     "execution_count": 4,
     "metadata": {},
     "output_type": "execute_result"
    }
   ],
   "source": [
    "pd.set_option('display.max_columns', None)\n",
    "train.head()"
   ]
  },
  {
   "cell_type": "markdown",
   "metadata": {},
   "source": [
    "### Check shape:"
   ]
  },
  {
   "cell_type": "code",
   "execution_count": 5,
   "metadata": {},
   "outputs": [
    {
     "data": {
      "text/plain": [
       "(2051, 81)"
      ]
     },
     "execution_count": 5,
     "metadata": {},
     "output_type": "execute_result"
    }
   ],
   "source": [
    "train.shape"
   ]
  },
  {
   "cell_type": "code",
   "execution_count": 6,
   "metadata": {},
   "outputs": [
    {
     "data": {
      "text/plain": [
       "(878, 80)"
      ]
     },
     "execution_count": 6,
     "metadata": {},
     "output_type": "execute_result"
    }
   ],
   "source": [
    "test.shape"
   ]
  },
  {
   "cell_type": "markdown",
   "metadata": {},
   "source": [
    "### Check for nulls in Train:"
   ]
  },
  {
   "cell_type": "code",
   "execution_count": 7,
   "metadata": {},
   "outputs": [
    {
     "data": {
      "text/plain": [
       "Id                 0\n",
       "PID                0\n",
       "MS SubClass        0\n",
       "MS Zoning          0\n",
       "Lot Area           0\n",
       "Street             0\n",
       "Lot Shape          0\n",
       "Land Contour       0\n",
       "Utilities          0\n",
       "Lot Config         0\n",
       "Land Slope         0\n",
       "Neighborhood       0\n",
       "Condition 1        0\n",
       "Condition 2        0\n",
       "Bldg Type          0\n",
       "House Style        0\n",
       "Overall Qual       0\n",
       "Overall Cond       0\n",
       "Year Built         0\n",
       "Year Remod/Add     0\n",
       "Roof Style         0\n",
       "Roof Matl          0\n",
       "Exterior 1st       0\n",
       "Exterior 2nd       0\n",
       "Exter Qual         0\n",
       "Exter Cond         0\n",
       "Foundation         0\n",
       "Heating            0\n",
       "Heating QC         0\n",
       "Central Air        0\n",
       "Electrical         0\n",
       "1st Flr SF         0\n",
       "2nd Flr SF         0\n",
       "Low Qual Fin SF    0\n",
       "Gr Liv Area        0\n",
       "Full Bath          0\n",
       "Half Bath          0\n",
       "Bedroom AbvGr      0\n",
       "Kitchen AbvGr      0\n",
       "Kitchen Qual       0\n",
       "TotRms AbvGrd      0\n",
       "Functional         0\n",
       "Fireplaces         0\n",
       "Paved Drive        0\n",
       "Wood Deck SF       0\n",
       "Open Porch SF      0\n",
       "Enclosed Porch     0\n",
       "3Ssn Porch         0\n",
       "Screen Porch       0\n",
       "Pool Area          0\n",
       "Misc Val           0\n",
       "Mo Sold            0\n",
       "Yr Sold            0\n",
       "Sale Type          0\n",
       "SalePrice          0\n",
       "dtype: int64"
      ]
     },
     "execution_count": 7,
     "metadata": {},
     "output_type": "execute_result"
    }
   ],
   "source": [
    "train.isna().sum()[train.isna().sum() == 0]"
   ]
  },
  {
   "cell_type": "code",
   "execution_count": 8,
   "metadata": {
    "scrolled": false
   },
   "outputs": [
    {
     "data": {
      "text/plain": [
       "Lot Frontage       330\n",
       "Alley             1911\n",
       "Mas Vnr Type        22\n",
       "Mas Vnr Area        22\n",
       "Bsmt Qual           55\n",
       "Bsmt Cond           55\n",
       "Bsmt Exposure       58\n",
       "BsmtFin Type 1      55\n",
       "BsmtFin SF 1         1\n",
       "BsmtFin Type 2      56\n",
       "BsmtFin SF 2         1\n",
       "Bsmt Unf SF          1\n",
       "Total Bsmt SF        1\n",
       "Bsmt Full Bath       2\n",
       "Bsmt Half Bath       2\n",
       "Fireplace Qu      1000\n",
       "Garage Type        113\n",
       "Garage Yr Blt      114\n",
       "Garage Finish      114\n",
       "Garage Cars          1\n",
       "Garage Area          1\n",
       "Garage Qual        114\n",
       "Garage Cond        114\n",
       "Pool QC           2042\n",
       "Fence             1651\n",
       "Misc Feature      1986\n",
       "dtype: int64"
      ]
     },
     "execution_count": 8,
     "metadata": {},
     "output_type": "execute_result"
    }
   ],
   "source": [
    "train.isna().sum()[train.isna().sum() != 0]"
   ]
  },
  {
   "cell_type": "code",
   "execution_count": 9,
   "metadata": {
    "scrolled": true
   },
   "outputs": [
    {
     "data": {
      "text/plain": [
       "Lot Frontage      160\n",
       "Alley             820\n",
       "Mas Vnr Type        1\n",
       "Mas Vnr Area        1\n",
       "Bsmt Qual          25\n",
       "Bsmt Cond          25\n",
       "Bsmt Exposure      25\n",
       "BsmtFin Type 1     25\n",
       "BsmtFin Type 2     25\n",
       "Electrical          1\n",
       "Fireplace Qu      422\n",
       "Garage Type        44\n",
       "Garage Yr Blt      45\n",
       "Garage Finish      45\n",
       "Garage Qual        45\n",
       "Garage Cond        45\n",
       "Pool QC           874\n",
       "Fence             706\n",
       "Misc Feature      837\n",
       "dtype: int64"
      ]
     },
     "execution_count": 9,
     "metadata": {},
     "output_type": "execute_result"
    }
   ],
   "source": [
    "test.isna().sum()[test.isna().sum() != 0]"
   ]
  },
  {
   "cell_type": "markdown",
   "metadata": {},
   "source": [
    "> 'Alley', 'Pool QC', 'Fence', and 'Misc Feature' columns all have greater than 50% of the values missing. These columns will not provide much value to a model so they should be dropped/not considered in our prediction. \n",
    ">\n",
    "> 'Fireplace QC' is on the cusp of having 50% of values missing, but I will keep this column in for now."
   ]
  },
  {
   "cell_type": "code",
   "execution_count": 10,
   "metadata": {},
   "outputs": [],
   "source": [
    "train = train.drop(columns = ['Alley', 'Pool QC', 'Fence', 'Misc Feature'])"
   ]
  },
  {
   "cell_type": "code",
   "execution_count": 11,
   "metadata": {},
   "outputs": [],
   "source": [
    "test = test.drop(columns = ['Alley', 'Pool QC', 'Fence', 'Misc Feature'])"
   ]
  },
  {
   "cell_type": "markdown",
   "metadata": {},
   "source": [
    "### Check data types:"
   ]
  },
  {
   "cell_type": "code",
   "execution_count": 12,
   "metadata": {
    "scrolled": true
   },
   "outputs": [
    {
     "data": {
      "text/plain": [
       "Id                int64\n",
       "PID               int64\n",
       "MS SubClass       int64\n",
       "MS Zoning        object\n",
       "Lot Frontage    float64\n",
       "                 ...   \n",
       "Misc Val          int64\n",
       "Mo Sold           int64\n",
       "Yr Sold           int64\n",
       "Sale Type        object\n",
       "SalePrice         int64\n",
       "Length: 77, dtype: object"
      ]
     },
     "execution_count": 12,
     "metadata": {},
     "output_type": "execute_result"
    }
   ],
   "source": [
    "train.dtypes"
   ]
  },
  {
   "cell_type": "code",
   "execution_count": 13,
   "metadata": {},
   "outputs": [
    {
     "data": {
      "text/plain": [
       "Id                int64\n",
       "PID               int64\n",
       "MS SubClass       int64\n",
       "MS Zoning        object\n",
       "Lot Frontage    float64\n",
       "                 ...   \n",
       "Pool Area         int64\n",
       "Misc Val          int64\n",
       "Mo Sold           int64\n",
       "Yr Sold           int64\n",
       "Sale Type        object\n",
       "Length: 76, dtype: object"
      ]
     },
     "execution_count": 13,
     "metadata": {},
     "output_type": "execute_result"
    }
   ],
   "source": [
    "test.dtypes"
   ]
  },
  {
   "cell_type": "markdown",
   "metadata": {},
   "source": []
  },
  {
   "cell_type": "markdown",
   "metadata": {},
   "source": [
    "### Heatmap:"
   ]
  },
  {
   "cell_type": "code",
   "execution_count": 14,
   "metadata": {
    "scrolled": false
   },
   "outputs": [
    {
     "data": {
      "text/plain": [
       "''"
      ]
     },
     "execution_count": 14,
     "metadata": {},
     "output_type": "execute_result"
    },
    {
     "data": {
      "image/png": "[encoded data removed]",
      "text/plain": [
       "<Figure size 576x864 with 2 Axes>"
      ]
     },
     "metadata": {
      "needs_background": "light"
     },
     "output_type": "display_data"
    }
   ],
   "source": [
    "plt.figure(figsize = (8, 12))\n",
    "sns.heatmap(train.corr()[['SalePrice']].sort_values('SalePrice'),\n",
    "            annot = True,\n",
    "            cmap = 'coolwarm',\n",
    "            vmin = -1,\n",
    "            vmax = 1)\n",
    ";"
   ]
  },
  {
   "cell_type": "markdown",
   "metadata": {},
   "source": [
    "# Testing below here"
   ]
  },
  {
   "cell_type": "markdown",
   "metadata": {},
   "source": [
    "## 7.4.2"
   ]
  },
  {
   "cell_type": "code",
   "execution_count": 15,
   "metadata": {},
   "outputs": [],
   "source": [
    "train = train[train['Garage Cars'].notna()]"
   ]
  },
  {
   "cell_type": "code",
   "execution_count": 16,
   "metadata": {},
   "outputs": [],
   "source": [
    "train = train[train['Garage Area'].notna()]"
   ]
  },
  {
   "cell_type": "code",
   "execution_count": 17,
   "metadata": {},
   "outputs": [],
   "source": [
    "train = train[train['Total Bsmt SF'].notna()]"
   ]
  },
  {
   "cell_type": "code",
   "execution_count": 18,
   "metadata": {},
   "outputs": [],
   "source": [
    "train = train[train['Mas Vnr Area'].notna()]"
   ]
  },
  {
   "cell_type": "code",
   "execution_count": 19,
   "metadata": {},
   "outputs": [],
   "source": [
    "test = test.fillna(0)"
   ]
  },
  {
   "cell_type": "code",
   "execution_count": 20,
   "metadata": {},
   "outputs": [
    {
     "data": {
      "text/plain": [
       "((2027, 11), (2027,))"
      ]
     },
     "execution_count": 20,
     "metadata": {},
     "output_type": "execute_result"
    }
   ],
   "source": [
    "X = train[['1st Flr SF', 'Year Built', 'Overall Qual', 'Gr Liv Area', \n",
    "          'Year Remod/Add', 'Full Bath', 'TotRms AbvGrd', 'Garage Cars',\n",
    "          'Garage Area', 'Total Bsmt SF', 'Mas Vnr Area']]\n",
    "y = train['SalePrice']\n",
    "\n",
    "X.shape, y.shape"
   ]
  },
  {
   "cell_type": "code",
   "execution_count": 21,
   "metadata": {},
   "outputs": [
    {
     "data": {
      "text/plain": [
       "((1520, 11), (1520,), (507, 11), (507,))"
      ]
     },
     "execution_count": 21,
     "metadata": {},
     "output_type": "execute_result"
    }
   ],
   "source": [
    "X_train, X_test, y_train, y_test = train_test_split(X, y, random_state = 42)\n",
    "\n",
    "X_train.shape, y_train.shape, X_test.shape, y_test.shape"
   ]
  },
  {
   "cell_type": "code",
   "execution_count": 22,
   "metadata": {},
   "outputs": [
    {
     "data": {
      "text/plain": [
       "LinearRegression(copy_X=True, fit_intercept=True, n_jobs=None, normalize=False)"
      ]
     },
     "execution_count": 22,
     "metadata": {},
     "output_type": "execute_result"
    }
   ],
   "source": [
    "ols = LinearRegression()\n",
    "ols.fit(X_train, y_train)"
   ]
  },
  {
   "cell_type": "code",
   "execution_count": 23,
   "metadata": {},
   "outputs": [],
   "source": [
    "def evaluate_model(model, X, y): \n",
    "    \n",
    "    y_train_hat = ols.predict(X)\n",
    "\n",
    "    mse = mean_squared_error(y, y_train_hat)\n",
    "    rmse = mse ** .5\n",
    "    r2 = r2_score(y, y_train_hat)\n",
    "\n",
    "    print(f'R^2: {r2}')\n",
    "    print(f'MSE: {mse}')\n",
    "    print(f'RMSE: {rmse}')"
   ]
  },
  {
   "cell_type": "code",
   "execution_count": 24,
   "metadata": {},
   "outputs": [
    {
     "name": "stdout",
     "output_type": "stream",
     "text": [
      "R^2: 0.7812959140861664\n",
      "MSE: 1357102547.0616446\n",
      "RMSE: 36838.872771321934\n"
     ]
    }
   ],
   "source": [
    "evaluate_model(ols, X_train, y_train)"
   ]
  },
  {
   "cell_type": "code",
   "execution_count": 25,
   "metadata": {},
   "outputs": [
    {
     "name": "stdout",
     "output_type": "stream",
     "text": [
      "R^2: 0.8410413163131881\n",
      "MSE: 1019420052.8140231\n",
      "RMSE: 31928.358129005366\n"
     ]
    }
   ],
   "source": [
    "evaluate_model(ols, X_test, y_test)"
   ]
  },
  {
   "cell_type": "code",
   "execution_count": 26,
   "metadata": {},
   "outputs": [],
   "source": [
    "X_kaggle = test[['1st Flr SF', 'Year Built', 'Overall Qual', 'Gr Liv Area', \n",
    "          'Year Remod/Add', 'Full Bath', 'TotRms AbvGrd', 'Garage Cars',\n",
    "          'Garage Area', 'Total Bsmt SF', 'Mas Vnr Area']]\n",
    "test['SalePrice'] = ols.predict(X_kaggle)"
   ]
  },
  {
   "cell_type": "code",
   "execution_count": 27,
   "metadata": {},
   "outputs": [],
   "source": [
    "test[['Id', 'SalePrice']].to_csv('../output_csvs/7_14_1_preds.csv', index = False)"
   ]
  },
  {
   "cell_type": "code",
   "execution_count": null,
   "metadata": {},
   "outputs": [],
   "source": []
  },
  {
   "cell_type": "markdown",
   "metadata": {},
   "source": [
    "## 7.4.3"
   ]
  },
  {
   "cell_type": "code",
   "execution_count": 15,
   "metadata": {},
   "outputs": [],
   "source": [
    "train = train[train['Garage Cars'].notna()]"
   ]
  },
  {
   "cell_type": "code",
   "execution_count": 16,
   "metadata": {},
   "outputs": [],
   "source": [
    "train = train[train['Garage Area'].notna()]"
   ]
  },
  {
   "cell_type": "code",
   "execution_count": 17,
   "metadata": {},
   "outputs": [],
   "source": [
    "train = train[train['Total Bsmt SF'].notna()]"
   ]
  },
  {
   "cell_type": "code",
   "execution_count": 18,
   "metadata": {},
   "outputs": [],
   "source": [
    "train = train[train['Mas Vnr Area'].notna()]"
   ]
  },
  {
   "cell_type": "code",
   "execution_count": 19,
   "metadata": {},
   "outputs": [],
   "source": [
    "test = test.fillna(0)"
   ]
  },
  {
   "cell_type": "code",
   "execution_count": 20,
   "metadata": {},
   "outputs": [],
   "source": [
    "X = train[['1st Flr SF', 'Year Built', 'Overall Qual', 'Gr Liv Area', \n",
    "          'Year Remod/Add', 'Full Bath', 'TotRms AbvGrd', 'Garage Cars',\n",
    "          'Garage Area', 'Total Bsmt SF', 'Mas Vnr Area', 'Fireplaces']]\n",
    "y = train['SalePrice']\n",
    "\n",
    "X_train, X_test, y_train, y_test = train_test_split(X, y, random_state = 42)\n",
    "\n",
    "ols = LinearRegression()\n",
    "ols.fit(X_train, y_train)\n",
    "\n",
    "def evaluate_model(model, X, y): \n",
    "    \n",
    "    y_train_hat = ols.predict(X)\n",
    "\n",
    "    mse = mean_squared_error(y, y_train_hat)\n",
    "    rmse = mse ** .5\n",
    "    r2 = r2_score(y, y_train_hat)\n",
    "\n",
    "    print(f'R^2: {r2}')\n",
    "    print(f'MSE: {mse}')\n",
    "    print(f'RMSE: {rmse}')\n",
    "    \n"
   ]
  },
  {
   "cell_type": "code",
   "execution_count": 21,
   "metadata": {},
   "outputs": [
    {
     "name": "stdout",
     "output_type": "stream",
     "text": [
      "R^2: 0.7874587238906953\n",
      "MSE: 1318861080.9827816\n",
      "RMSE: 36316.127009674114\n"
     ]
    }
   ],
   "source": [
    "evaluate_model(ols, X_train, y_train)\n"
   ]
  },
  {
   "cell_type": "code",
   "execution_count": 22,
   "metadata": {},
   "outputs": [
    {
     "name": "stdout",
     "output_type": "stream",
     "text": [
      "R^2: 0.8426826581480338\n",
      "MSE: 1008893941.6186074\n",
      "RMSE: 31763.090870042975\n"
     ]
    }
   ],
   "source": [
    "evaluate_model(ols, X_test, y_test)"
   ]
  },
  {
   "cell_type": "code",
   "execution_count": 23,
   "metadata": {},
   "outputs": [],
   "source": [
    "X_kaggle = test[['1st Flr SF', 'Year Built', 'Overall Qual', 'Gr Liv Area', \n",
    "          'Year Remod/Add', 'Full Bath', 'TotRms AbvGrd', 'Garage Cars',\n",
    "          'Garage Area', 'Total Bsmt SF', 'Mas Vnr Area', 'Fireplaces']]\n",
    "test['SalePrice'] = ols.predict(X_kaggle)"
   ]
  },
  {
   "cell_type": "code",
   "execution_count": 24,
   "metadata": {},
   "outputs": [],
   "source": [
    "test[['Id', 'SalePrice']].to_csv('../output_csvs/7_4_3_preds.csv', index = False)"
   ]
  },
  {
   "cell_type": "code",
   "execution_count": null,
   "metadata": {},
   "outputs": [],
   "source": []
  },
  {
   "cell_type": "markdown",
   "metadata": {},
   "source": [
    "## 7.4.4"
   ]
  },
  {
   "cell_type": "code",
   "execution_count": 15,
   "metadata": {},
   "outputs": [],
   "source": [
    "train = train[train['Garage Cars'].notna()]"
   ]
  },
  {
   "cell_type": "code",
   "execution_count": 16,
   "metadata": {},
   "outputs": [],
   "source": [
    "train = train[train['Garage Area'].notna()]"
   ]
  },
  {
   "cell_type": "code",
   "execution_count": 17,
   "metadata": {},
   "outputs": [],
   "source": [
    "train = train[train['Total Bsmt SF'].notna()]"
   ]
  },
  {
   "cell_type": "code",
   "execution_count": 18,
   "metadata": {},
   "outputs": [],
   "source": [
    "train = train[train['Mas Vnr Area'].notna()]"
   ]
  },
  {
   "cell_type": "code",
   "execution_count": 19,
   "metadata": {},
   "outputs": [],
   "source": [
    "train = train[train['BsmtFin SF 1'].notna()]"
   ]
  },
  {
   "cell_type": "code",
   "execution_count": 20,
   "metadata": {},
   "outputs": [],
   "source": [
    "test = test.fillna(0)"
   ]
  },
  {
   "cell_type": "code",
   "execution_count": 21,
   "metadata": {},
   "outputs": [],
   "source": [
    "X = train[['1st Flr SF', 'Year Built', 'Overall Qual', 'Gr Liv Area', \n",
    "          'Year Remod/Add', 'Full Bath', 'TotRms AbvGrd', 'Garage Cars',\n",
    "          'Garage Area', 'Total Bsmt SF', 'Mas Vnr Area', 'Fireplaces', \n",
    "          'BsmtFin SF 1']]\n",
    "y = train['SalePrice']\n",
    "\n",
    "X_train, X_test, y_train, y_test = train_test_split(X, y, random_state = 42)\n",
    "\n",
    "ols = LinearRegression()\n",
    "ols.fit(X_train, y_train)\n",
    "\n",
    "def evaluate_model(model, X, y): \n",
    "    \n",
    "    y_train_hat = ols.predict(X)\n",
    "\n",
    "    mse = mean_squared_error(y, y_train_hat)\n",
    "    rmse = mse ** .5\n",
    "    r2 = r2_score(y, y_train_hat)\n",
    "\n",
    "    print(f'R^2: {r2}')\n",
    "    print(f'MSE: {mse}')\n",
    "    print(f'RMSE: {rmse}')"
   ]
  },
  {
   "cell_type": "code",
   "execution_count": 22,
   "metadata": {},
   "outputs": [
    {
     "name": "stdout",
     "output_type": "stream",
     "text": [
      "R^2: 0.7920755145391329\n",
      "MSE: 1290212972.6401072\n",
      "RMSE: 35919.53469409239\n"
     ]
    }
   ],
   "source": [
    "evaluate_model(ols, X_train, y_train)\n"
   ]
  },
  {
   "cell_type": "code",
   "execution_count": 23,
   "metadata": {
    "scrolled": true
   },
   "outputs": [
    {
     "name": "stdout",
     "output_type": "stream",
     "text": [
      "R^2: 0.852322610238937\n",
      "MSE: 947071836.3915975\n",
      "RMSE: 30774.53226925793\n"
     ]
    }
   ],
   "source": [
    "evaluate_model(ols, X_test, y_test)"
   ]
  },
  {
   "cell_type": "code",
   "execution_count": 24,
   "metadata": {},
   "outputs": [],
   "source": [
    "X_kaggle = test[['1st Flr SF', 'Year Built', 'Overall Qual', 'Gr Liv Area', \n",
    "          'Year Remod/Add', 'Full Bath', 'TotRms AbvGrd', 'Garage Cars',\n",
    "          'Garage Area', 'Total Bsmt SF', 'Mas Vnr Area', 'Fireplaces',\n",
    "          'BsmtFin SF 1']]\n",
    "test['SalePrice'] = ols.predict(X_kaggle)"
   ]
  },
  {
   "cell_type": "code",
   "execution_count": 25,
   "metadata": {},
   "outputs": [],
   "source": [
    "test[['Id', 'SalePrice']].to_csv('../output_csvs/7_4_4_preds.csv', index = False)"
   ]
  },
  {
   "cell_type": "code",
   "execution_count": null,
   "metadata": {},
   "outputs": [],
   "source": []
  },
  {
   "cell_type": "markdown",
   "metadata": {},
   "source": [
    "## 7.4.5"
   ]
  },
  {
   "cell_type": "code",
   "execution_count": 15,
   "metadata": {},
   "outputs": [],
   "source": [
    "train = train[train['Garage Cars'].notna()]"
   ]
  },
  {
   "cell_type": "code",
   "execution_count": 16,
   "metadata": {},
   "outputs": [],
   "source": [
    "train = train[train['Garage Area'].notna()]"
   ]
  },
  {
   "cell_type": "code",
   "execution_count": 17,
   "metadata": {},
   "outputs": [],
   "source": [
    "train = train[train['Total Bsmt SF'].notna()]"
   ]
  },
  {
   "cell_type": "code",
   "execution_count": 18,
   "metadata": {},
   "outputs": [],
   "source": [
    "train = train[train['Mas Vnr Area'].notna()]"
   ]
  },
  {
   "cell_type": "code",
   "execution_count": 19,
   "metadata": {},
   "outputs": [],
   "source": [
    "train = train[train['BsmtFin SF 1'].notna()]"
   ]
  },
  {
   "cell_type": "code",
   "execution_count": 20,
   "metadata": {},
   "outputs": [],
   "source": [
    "test = test.fillna(0)"
   ]
  },
  {
   "cell_type": "code",
   "execution_count": 21,
   "metadata": {},
   "outputs": [],
   "source": [
    "X = train[['1st Flr SF', 'Year Built', 'Overall Qual', 'Gr Liv Area', \n",
    "          'Year Remod/Add', 'Full Bath', 'TotRms AbvGrd', 'Garage Cars',\n",
    "          'Garage Area', 'Total Bsmt SF', 'Mas Vnr Area', 'Fireplaces', \n",
    "          'BsmtFin SF 1', 'Open Porch SF', 'Wood Deck SF', 'Lot Area']]\n",
    "y = train['SalePrice']\n",
    "\n",
    "X_train, X_test, y_train, y_test = train_test_split(X, y, random_state = 42)\n",
    "\n",
    "ols = LinearRegression()\n",
    "ols.fit(X_train, y_train)\n",
    "\n",
    "def evaluate_model(model, X, y): \n",
    "    \n",
    "    y_train_hat = ols.predict(X)\n",
    "\n",
    "    mse = mean_squared_error(y, y_train_hat)\n",
    "    rmse = mse ** .5\n",
    "    r2 = r2_score(y, y_train_hat)\n",
    "\n",
    "    print(f'R^2: {r2}')\n",
    "    print(f'MSE: {mse}')\n",
    "    print(f'RMSE: {rmse}')"
   ]
  },
  {
   "cell_type": "code",
   "execution_count": 22,
   "metadata": {},
   "outputs": [
    {
     "name": "stdout",
     "output_type": "stream",
     "text": [
      "R^2: 0.7959686355215205\n",
      "MSE: 1266055379.1541815\n",
      "RMSE: 35581.67195557541\n"
     ]
    }
   ],
   "source": [
    "evaluate_model(ols, X_train, y_train)\n"
   ]
  },
  {
   "cell_type": "code",
   "execution_count": 23,
   "metadata": {
    "scrolled": true
   },
   "outputs": [
    {
     "name": "stdout",
     "output_type": "stream",
     "text": [
      "R^2: 0.8548881082050712\n",
      "MSE: 930619007.1942713\n",
      "RMSE: 30506.0486984839\n"
     ]
    }
   ],
   "source": [
    "evaluate_model(ols, X_test, y_test)"
   ]
  },
  {
   "cell_type": "code",
   "execution_count": 24,
   "metadata": {},
   "outputs": [],
   "source": [
    "X_kaggle = test[['1st Flr SF', 'Year Built', 'Overall Qual', 'Gr Liv Area', \n",
    "          'Year Remod/Add', 'Full Bath', 'TotRms AbvGrd', 'Garage Cars',\n",
    "          'Garage Area', 'Total Bsmt SF', 'Mas Vnr Area', 'Fireplaces',\n",
    "          'BsmtFin SF 1', 'Open Porch SF', 'Wood Deck SF', 'Lot Area']]\n",
    "test['SalePrice'] = ols.predict(X_kaggle)"
   ]
  },
  {
   "cell_type": "code",
   "execution_count": 25,
   "metadata": {},
   "outputs": [],
   "source": [
    "test[['Id', 'SalePrice']].to_csv('../output_csvs/7_4_5_preds.csv', index = False)"
   ]
  },
  {
   "cell_type": "code",
   "execution_count": null,
   "metadata": {},
   "outputs": [],
   "source": []
  }
 ],
 "metadata": {
  "kernelspec": {
   "display_name": "Python 3",
   "language": "python",
   "name": "python3"
  },
  "language_info": {
   "codemirror_mode": {
    "name": "ipython",
    "version": 3
   },
   "file_extension": ".py",
   "mimetype": "text/x-python",
   "name": "python",
   "nbconvert_exporter": "python",
   "pygments_lexer": "ipython3",
   "version": "3.7.6"
  }
 },
 "nbformat": 4,
 "nbformat_minor": 4
}
